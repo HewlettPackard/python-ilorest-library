{
 "cells": [
  {
   "cell_type": "markdown",
   "id": "7d91ced6",
   "metadata": {},
   "source": [
    "<h1 style=\"text-align:center;\">Setting license key</h1>"
   ]
  },
  {
   "cell_type": "markdown",
   "id": "11b0fe9d",
   "metadata": {},
   "source": [
    "<div class=\"alert alert-block alert-info\"  style=\"border-radius: 20px;\">\n",
    " Welcome to <b>python-iLOrest-library</b> <br> This is an example of <b>setting license key.</b> <br> As you are here let's get it done easily.<br>\n",
    "    To perform this you need to have <a href = \"https://github.com/HewlettPackard/python-ilorest-library\">python-ilorest-library</a> installed in your machine.<br>\n",
    "    And please keep your username and password handy!\n",
    "    <br>\n",
    "    <b>Also do execute each successive cell once to avoid any errors!</b>\n",
    "    \n",
    "</div>"
   ]
  },
  {
   "cell_type": "markdown",
   "id": "6cbd5f7c",
   "metadata": {},
   "source": [
    " <div class=\"alert alert-block alert-success\"  style=\"border-radius: 20px;\">\n",
    "    <h3> 1. Below we are importing all the necessary modules from the ilorest library. </h3><br>\n",
    "    <li><a href = \"https://www.tutorialspoint.com/what-is-python-s-sys-module#:~:text=%20What%20is%20Python%27s%20Sys%20Module%20%201,%5B0%5D%20prints%20the...%205%20Output.%20%20More%20\">sys </a>\n",
    "    </li>\n",
    "    <li>json </li>\n",
    "    <li> redfish </li>\n",
    "    \n",
    "</div>"
   ]
  },
  {
   "cell_type": "code",
   "execution_count": null,
   "id": "f0fa1574",
   "metadata": {},
   "outputs": [],
   "source": [
    "import sys\n",
    "import json\n",
    "from redfish import RedfishClient\n",
    "from redfish.rest.v1 import ServerDownOrUnreachableError\n",
    "\n",
    "from get_resource_directory import get_resource_directory"
   ]
  },
  {
   "cell_type": "markdown",
   "id": "7daccb24",
   "metadata": {},
   "source": [
    "<div class = \"alert alert-block alert-success\"  style=\"border-radius: 20px;\"><h3>2. This is our set_license_key function overview.</h3>\n",
    "    <br>\n",
    "  There is a hierarchy involved in iLO Rest Api. So we are simply following the hierarchy present to change the settings.\n",
    "\n",
    "1. In the <b>set_license_key</b> function we are taking two parameters i.e. <b>_redfishobj</b> and <b>ilo_key</b>. In the <b>set_license_key</b> function we are first using <b>resource_instances</b> variable to obtain information about the resource directory by using get_resource_directory module.\n",
    "<br>\n",
    "    \n",
    "2. In the iLO rest api the information about license key is stored inside the <b>managers json object</b>.\n",
    "    Through managers_response variable  we are making a http <a href = \"https://developer.mozilla.org/en-US/docs/Web/HTTP/Methods\" style=\"background-color:powderblue;\">GET operation</a> to and trying to obtain the license service about iLO system.\n",
    "    <br>\n",
    "\n",
    "3. In the managers response object we are iterating on all the members with different <b>odata_id</b> .\n",
    "    Then again an http GET request is made and response is stored in <b>managers_members_response</b>.\n",
    "    The license service information is ultimately present in the <b>managers_members_response</b>.\n",
    "    <br>\n",
    "\n",
    "4. Else if resource directory is enabled then we will simply iterate through all instances inside resources \n",
    "    and if HpeiLOLicense type is present in <b>@odata.type</b> attribute then we will store information about license key in ilo_lic_uri and break out of iteration.\n",
    "    <br>\n",
    "5. <b>If ilo_lic_uri is not null</b> after making above operations, we can perform the required actions to set license key. \n",
    "    <ul>\n",
    "    <li>The function sends a GET request to the iLO license service to retrieve the current license data. If the ConfirmationRequest field exists, it is printed to the console; otherwise, the LicenseKey field is printed.</li>\n",
    "<li>The function sends a POST request to the iLO license service with the new license key provided in the ilo_key argument.</li>\n",
    "    <li>The job of post request here is to set the license key at the provided location and send a response whether the job was done properly or not.</li>\n",
    "    <li>If the response status is 400, the function attempts to print the extended error message provided by iLO. If the status is not 200 or 201, the function prints an error message to the console.</li>\n",
    "<li>If the response status is 200, the function prints a success message to the console along with the response JSON.</li>\n",
    "    </ul>\n",
    "\n",
    " </div>"
   ]
  },
  {
   "cell_type": "code",
   "execution_count": null,
   "id": "bacca62e",
   "metadata": {},
   "outputs": [],
   "source": [
    "def set_license_key(_redfishobj, ilo_key):\n",
    "\n",
    "    ilo_lic_uri = None\n",
    "\n",
    "    resource_instances = get_resource_directory(_redfishobj)\n",
    "    if DISABLE_RESOURCE_DIR or not resource_instances:\n",
    "        #if we do not have a resource directory or want to force it's non use to find the\n",
    "        #relevant URI\n",
    "        managers_uri = _redfishobj.root.obj['Managers']['@odata.id']\n",
    "        managers_response = _redfishobj.get(managers_uri)\n",
    "        managers_members_uri = next(iter(managers_response.obj['Members']))['@odata.id']\n",
    "        managers_members_response = _redfishobj.get(managers_members_uri)\n",
    "        ilo_lic_uri = managers_members_response.obj.Oem.Hpe.Links['LicenseService']['@odata.id']\n",
    "    else:\n",
    "        #Use Resource directory to find the relevant URI\n",
    "        for instance in resource_instances:\n",
    "            if '#HpeiLOLicense.' in instance['@odata.type']:\n",
    "                ilo_lic_uri = instance['@odata.id']\n",
    "\n",
    "    if ilo_lic_uri:\n",
    "        ilo_license_collection = _redfishobj.get(ilo_lic_uri)\n",
    "        ilo_license_member_uri = next(iter(ilo_license_collection.obj['Members']))['@odata.id']\n",
    "        try:\n",
    "            ilo_license_data = _redfishobj.get(ilo_license_member_uri).obj['ConfirmationRequest']\\\n",
    "                                                                                            ['EON']\n",
    "        except KeyError:\n",
    "            sys.stdout.write(\"This machine will not show the full License Key.\\n\")\n",
    "            ilo_license_data = _redfishobj.get(ilo_license_member_uri).obj['LicenseKey']\n",
    "\n",
    "        sys.stdout.write(\"Current iLO License Data:\\n\")\n",
    "        print(json.dumps(ilo_license_data, indent=4, sort_keys=True))\n",
    "        resp = _redfishobj.post(ilo_lic_uri, {'LicenseKey' : ilo_key})\n",
    "        #If iLO responds with soemthing outside of 200 or 201 then lets check the iLO extended info\n",
    "        #error message to see what went wrong\n",
    "        if resp.status == 400:\n",
    "            try:\n",
    "                print(json.dumps(resp.obj['error']['@Message.ExtendedInfo'], indent=4, \\\n",
    "                                                                                sort_keys=True))\n",
    "                sys.stderr.write(\"Check the validity of your license key...\\n\")\n",
    "            except Exception as excp:\n",
    "                sys.stderr.write(\"A response error occurred, unable to access iLO \" \\\n",
    "                                 \"Extended Message Info...\")\n",
    "        elif resp.status != 200:\n",
    "            sys.stderr.write(\"An http response of \\'%s\\' was returned.\\n\" % resp.status)\n",
    "        else:\n",
    "            print(\"Success!\\n\")\n",
    "            print(json.dumps(resp.dict, indent=4, sort_keys=True))\n"
   ]
  },
  {
   "cell_type": "markdown",
   "id": "abfa5bd8",
   "metadata": {},
   "source": [
    "<div class=\"alert alert-block alert-success\"  style=\"border-radius: 20px;\"><h3 >3. This is Main function overview.</h3><br>\n",
    "<b>The Main function: </b> PLEASE ENTER YOU LOGIN CREDENTIALS HERE TO PROCEED FURTHER<br>\n",
    "    <ul>\n",
    "        <li>Once your credentials are entered a redfish object is created with the help of RedfishClient class and a session is created and now you will be logged in to the server.</li>\n",
    "        <li>If server is down or unreachable we get server not reachable message.</li>\n",
    "        <li>If not then we make a call to <b>set_license_key function</b> to set license key of system.</li>\n",
    "        <li>After getting required information <i><b>Redfish.logout()</b></i> closses the particular session and logs us out of the system.</li>\n",
    "    </ul>\n",
    "</div>"
   ]
  },
  {
   "cell_type": "markdown",
   "id": "7d4c55f5",
   "metadata": {},
   "source": [
    "<div class = \"alert alert-block alert-warning\"  style=\"border-radius: 20px;\">\n",
    "    <b>When running on the server locally use the following commented values</b><br>\n",
    " SYSTEM_URL = None<br>\n",
    " LOGIN_ACCOUNT = None<br>\n",
    " LOGIN_PASSWORD = None<br>\n",
    "\n",
    "   <b>When running remotely</b> connect using the secured (https://) address,\n",
    "     account name, and password to send https requests\n",
    "    <br>\n",
    "     SYSTEM_URL acceptable examples:<br>\n",
    "     https://10.0.0.100<br>\n",
    "     https://ilo.hostname\n",
    "</div>"
   ]
  },
  {
   "cell_type": "code",
   "execution_count": null,
   "id": "38798e69",
   "metadata": {},
   "outputs": [],
   "source": [
    "if __name__ == \"__main__\":\n",
    "    # When running on the server locally use the following commented values\n",
    "    #SYSTEM_URL = None\n",
    "    #LOGIN_ACCOUNT = None\n",
    "    #LOGIN_PASSWORD = None\n",
    "\n",
    "    # When running remotely connect using the secured (https://) address,\n",
    "    # account name, and password to send https requests\n",
    "    # SYSTEM_URL acceptable examples:\n",
    "    # \"https://10.0.0.100\"\n",
    "    # \"https://ilo.hostname\"\n",
    "    SYSTEM_URL = \"https://10.0.0.100\"\n",
    "    LOGIN_ACCOUNT = \"admin\"\n",
    "    LOGIN_PASSWORD = \"password\"\n",
    "\n",
    "    # Must be a valid iLO License Key\n",
    "    ILO_LICENSE_KEY = \"XXXX-XXXX-XXXX-XXXX-XXXXX\"\n",
    "    # flag to force disable resource directory. Resource directory and associated operations are\n",
    "    # intended for HPE servers.\n",
    "    DISABLE_RESOURCE_DIR = True\n",
    "\n",
    "    try:\n",
    "        # Create a Redfish client object\n",
    "        REDFISHOBJ = RedfishClient(base_url=SYSTEM_URL, username=LOGIN_ACCOUNT, \\\n",
    "                                                                            password=LOGIN_PASSWORD)\n",
    "        # Login with the Redfish client\n",
    "        REDFISHOBJ.login()\n",
    "    except ServerDownOrUnreachableError as excp:\n",
    "        sys.stderr.write(\"ERROR: server not reachable or does not support RedFish.\\n\")\n",
    "        sys.exit()\n",
    "\n",
    "    set_license_key(REDFISHOBJ, ILO_LICENSE_KEY)\n",
    "    REDFISHOBJ.logout()\n"
   ]
  },
  {
   "cell_type": "markdown",
   "id": "b3be89a3",
   "metadata": {},
   "source": [
    "<div class = \"alert alert-block alert-success\"  style=\"border-radius: 20px;\">In case you need help 🔗 links to relevant resources :\n",
    "    <br>\n",
    "    1.Python-ilorest-library:<a href = \"https://github.com/HewlettPackard/python-ilorest-library\">LINK</a><br>\n",
    "    2.Hpe ilorest-api explorer:<a href = \"https://ilorestfulapiexplorer.ext.hpe.com/\">LINK</a><br>\n",
    "    3.Rest api: <a href = \"https://restfulapi.net/\">LINK</a><br>\n",
    "    \n",
    "</div>"
   ]
  }
 ],
 "metadata": {
  "kernelspec": {
   "display_name": "Python 3 (ipykernel)",
   "language": "python",
   "name": "python3"
  },
  "language_info": {
   "codemirror_mode": {
    "name": "ipython",
    "version": 3
   },
   "file_extension": ".py",
   "mimetype": "text/x-python",
   "name": "python",
   "nbconvert_exporter": "python",
   "pygments_lexer": "ipython3",
   "version": "3.9.7"
  }
 },
 "nbformat": 4,
 "nbformat_minor": 5
}
