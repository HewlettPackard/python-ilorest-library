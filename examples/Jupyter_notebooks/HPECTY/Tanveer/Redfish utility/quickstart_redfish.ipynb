{
 "cells": [
  {
   "cell_type": "markdown",
   "id": "3dfca749-3331-47de-9d47-c705fdbfd813",
   "metadata": {
    "tags": []
   },
   "source": [
    "# Quickstart_redfish"
   ]
  },
  {
   "cell_type": "markdown",
   "id": "ac00ccdd-3ac6-49f0-87eb-4f9c9dc185a2",
   "metadata": {},
   "source": [
    "<div class=\"alert alert-block alert-info\" style=\"border-radius: 20px;\">\n",
    "<i>Hello there.!<br></i> Welcome to <b>python-iLOrest-library</b> <br> <b>Quickstart-redfish</b> <br> As you are here let's get it done easily.<br>\n",
    "    To perform this u need to have <a href = \"https://libraries.io/pypi/python-ilorest-library#id3\" style = \"none\">python-ilorest-library</a> installed in your machine.<br>\n",
    "    And please keep your username and password handy!\n",
    "    <br>\n",
    "    <b>Also do execute each successive cell once to avoid any errors!</b>\n",
    "    \n",
    "</div>"
   ]
  },
  {
   "cell_type": "markdown",
   "id": "658962be-a0df-4696-ab9e-73f844703ff9",
   "metadata": {},
   "source": [
    "<div class=\"alert alert-block alert-success\" style=\"border-radius: 20px;\">\n",
    "    <h1> 1.</h1>\n",
    "Below we are importing all the necessary modules from the ilorest library!.<br>\n",
    "    <li><a href = \"https://www.tutorialspoint.com/what-is-python-s-sys-module#:~:text=%20What%20is%20Python%27s%20Sys%20Module%20%201,%5B0%5D%20prints%20the...%205%20Output.%20%20More%20\">sys </a>\n",
    "    </li>\n",
    "    <li>redfish</li>\n",
    "    \n",
    "    \n",
    "</div>"
   ]
  },
  {
   "cell_type": "code",
   "execution_count": 1,
   "id": "53341fc4-f674-4781-bcb1-04bb06d3d1fb",
   "metadata": {},
   "outputs": [],
   "source": [
    "import sys\n",
    "import redfish\n",
    "\n",
    "#from get_resource_directory import get_resource_directory"
   ]
  },
  {
   "cell_type": "markdown",
   "id": "d83f828e-a91e-4efc-b70f-e14a01b3cd44",
   "metadata": {},
   "source": [
    "<div class = \"alert alert-block alert-success\" style=\"border-radius: 20px;\">\n",
    "    <h1> 2. </h1>Code overview.<br>\n",
    "    <i>Let me give you a walk through of it!</i>\n",
    "    <br>\n",
    "    1.When you are running server locally the login and password will be <b>None</b>.\n",
    "    <br>\n",
    "    2.When server is running in remotely connect using iLO account name and iLO address then iLO host and login          credentials.\n",
    "    <br>\n",
    "    3.Creating redfish object which will use to communicate with the server.\n",
    "    <br>\n",
    "    4.By using redfish object we can login to server and start the session.\n",
    "    <br>\n",
    "    5.Next we make a http request to retrive the information about a system and printing the respone.\n",
    "    <br>\n",
    "    6. REDFISHOBJ.logout() will take care of logging you out of the ilo.\n",
    "</div>"
   ]
  },
  {
   "cell_type": "code",
   "execution_count": null,
   "id": "6398fb6f-5672-4075-bf73-8af549f172de",
   "metadata": {},
   "outputs": [],
   "source": [
    "# When running on the server locally use the following commented values\n",
    "# iLO_host = \"blobstore://.\"\n",
    "# LOGIN_ACCOUNT = \"None\"\n",
    "# LOGIN_PASSWORD = \"None\"\n",
    "\n",
    "# When running remotely connect using the iLO address, iLO account name, \n",
    "# and password to send https requests\n",
    "iLO_host = \"https://10.0.0.100\"\n",
    "login_account = \"admin\"\n",
    "login_password = \"password\"\n",
    "\n",
    "## Create a REDFISH object\n",
    "REDFISH_OBJ = redfish.RedfishClient(base_url=iLO_host,username=login_account, \\\n",
    "                          password=login_password)\n",
    "\n",
    "# Login into the server and create a session\n",
    "REDFISH_OBJ.login()\n",
    "\n",
    "# Do a GET on a given path\n",
    "response = REDFISH_OBJ.get(\"/redfish/v1/systems/1\")\n",
    "\n",
    "# Print out the response\n",
    "sys.stdout.write(\"%s\\n\" % response)\n",
    "\n",
    "# Logout of the current session\n",
    "REDFISH_OBJ.logout()"
   ]
  },
  {
   "cell_type": "markdown",
   "id": "615ad0b4-156f-478d-b6cb-8a12ad7117c3",
   "metadata": {},
   "source": [
    "<div class=\"alert alert-block alert-warning\" style=\"border-radius: 20px;\">\n",
    "<b> When running on the server locally : </b>  use the following values <br>\n",
    "    SYSTEM_URL = None <br>\n",
    "    LOGIN_ACCOUNT = None <br>\n",
    "    LOGIN_PASSWORD = None <br>\n",
    "    <b> When running remotely </b> connect using the secured (https://) address,account name, and password to send https requests <br>\n",
    "    SYSTEM_URL acceptable examples: <br>\n",
    "    \"https://10.0.0.100\" <br>\n",
    "    \"https://ilo.hostname\"\n",
    "</div>"
   ]
  },
  {
   "cell_type": "markdown",
   "id": "d0ded655-d8e4-452d-b181-783a6b1788f5",
   "metadata": {},
   "source": [
    "<div class = \"alert alert-block alert-success\" style=\"border-radius: 20px;\">In case you need help 🔗 links to relevant resources :\n",
    "    <br>\n",
    "    1.Python-ilorest-library:<a href = \"https://github.com/HewlettPackard/python-ilorest-library\">LINK</a><br>\n",
    "    2.Hpe ilorest-api explorer:<a href = \"https://ilorestfulapiexplorer.ext.hpe.com/\">LINK</a><br>\n",
    "    3.Rest api: <a href = \"https://restfulapi.net/\">LINK</a><br>\n",
    "    \n",
    "</div>"
   ]
  }
 ],
 "metadata": {
  "kernelspec": {
   "display_name": "Python 3 (ipykernel)",
   "language": "python",
   "name": "python3"
  },
  "language_info": {
   "codemirror_mode": {
    "name": "ipython",
    "version": 3
   },
   "file_extension": ".py",
   "mimetype": "text/x-python",
   "name": "python",
   "nbconvert_exporter": "python",
   "pygments_lexer": "ipython3",
   "version": "3.10.6"
  }
 },
 "nbformat": 4,
 "nbformat_minor": 5
}
