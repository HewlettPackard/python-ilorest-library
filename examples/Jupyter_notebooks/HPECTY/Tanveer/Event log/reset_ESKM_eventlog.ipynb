{
 "cells": [
  {
   "cell_type": "markdown",
   "id": "7d4d890e",
   "metadata": {
    "tags": []
   },
   "source": [
    "# Reset_ESKM_eventlog"
   ]
  },
  {
   "cell_type": "markdown",
   "id": "62aaa233",
   "metadata": {},
   "source": [
    "<div class=\"alert alert-block alert-info\" style=\"border-radius: 20px;\">\n",
    "<i>Hello there.!<br></i> Welcome to <b>python-iLOrest-library</b> <br> Here is an example to <b>resetting the ESKM event log (ESKM stand for Enterprise Secure Key Manager)</b> <br> As you are here let's get it done easily.<br>\n",
    "    To perform this u need to have <a href = \"https://libraries.io/pypi/python-ilorest-library#id3\" style = \"none\">python-ilorest-library</a> installed in your machine.<br>\n",
    "    And please keep your username and password handy!\n",
    "    <br>\n",
    "    <b>Also do execute each successive cell once to avoid any errors!</b>\n",
    "    \n",
    "</div>"
   ]
  },
  {
   "cell_type": "markdown",
   "id": "fbfec992",
   "metadata": {},
   "source": [
    "<div class=\"alert alert-block alert-success\" style=\"border-radius: 20px;\">\n",
    "    <h1> 1.</h1>\n",
    "Below we are importing all the necessary modules from the ilorest library!.<br>\n",
    "    <li><a href = \"https://www.tutorialspoint.com/what-is-python-s-sys-module#:~:text=%20What%20is%20Python%27s%20Sys%20Module%20%201,%5B0%5D%20prints%20the...%205%20Output.%20%20More%20\">sys </a>\n",
    "    </li>\n",
    "    <li><a href = \"https://www.json.org/json-en.html\">json </a></li>\n",
    "    <li><a href = \"https://pypi.org/project/redfish/\">redfish</a></li>\n",
    "    <li><a herf= \"##\">RedfishClient</a></li>\n",
    "    <li><a href= \"#\">ServerDownOrUnreachableError</a></li>\n",
    "    \n",
    "</div>"
   ]
  },
  {
   "cell_type": "code",
   "execution_count": 6,
   "id": "9b53ecf2",
   "metadata": {},
   "outputs": [
    {
     "ename": "ImportError",
     "evalue": "cannot import name 'RedfishClient' from 'redfish' (/home/tanveer/.local/lib/python3.10/site-packages/redfish/__init__.py)",
     "output_type": "error",
     "traceback": [
      "\u001b[0;31m---------------------------------------------------------------------------\u001b[0m",
      "\u001b[0;31mImportError\u001b[0m                               Traceback (most recent call last)",
      "Cell \u001b[0;32mIn[6], line 3\u001b[0m\n\u001b[1;32m      1\u001b[0m \u001b[38;5;28;01mimport\u001b[39;00m \u001b[38;5;21;01msys\u001b[39;00m\n\u001b[1;32m      2\u001b[0m \u001b[38;5;28;01mimport\u001b[39;00m \u001b[38;5;21;01mjson\u001b[39;00m\n\u001b[0;32m----> 3\u001b[0m \u001b[38;5;28;01mfrom\u001b[39;00m \u001b[38;5;21;01mredfish\u001b[39;00m \u001b[38;5;28;01mimport\u001b[39;00m RedfishClient\n\u001b[1;32m      4\u001b[0m \u001b[38;5;28;01mfrom\u001b[39;00m \u001b[38;5;21;01mredfish\u001b[39;00m\u001b[38;5;21;01m.\u001b[39;00m\u001b[38;5;21;01mrest\u001b[39;00m\u001b[38;5;21;01m.\u001b[39;00m\u001b[38;5;21;01mv1\u001b[39;00m \u001b[38;5;28;01mimport\u001b[39;00m ServerDownOrUnreachableError\n\u001b[1;32m      5\u001b[0m \u001b[38;5;28;01mfrom\u001b[39;00m \u001b[38;5;21;01mget_resource_directory\u001b[39;00m \u001b[38;5;28;01mimport\u001b[39;00m get_resource_directory\n",
      "\u001b[0;31mImportError\u001b[0m: cannot import name 'RedfishClient' from 'redfish' (/home/tanveer/.local/lib/python3.10/site-packages/redfish/__init__.py)"
     ]
    }
   ],
   "source": [
    "import sys\n",
    "import json\n",
    "from redfish import RedfishClient\n",
    "from redfish.rest.v1 import ServerDownOrUnreachableError\n",
    "from get_resource_directory import get_resource_directory"
   ]
  },
  {
   "cell_type": "markdown",
   "id": "b8c9efd9",
   "metadata": {
    "tags": []
   },
   "source": [
    "<div class = \"alert alert-block alert-success\" style=\"border-radius: 20px;\">\n",
    "    <h1> 2. </h1>Below is the overview of reset_ESKM_eventlog function. In this function we are providing secure management of cryptographic keys for various purposes for example encryption and authentication.<br>\n",
    "    <i>Let me give you a walk through of it!</i>\n",
    "    <br>\n",
    " There is a hierarchy involved in iLO Rest Api. So we are simply following the hierarchy present for secure key manager.\n",
    "\n",
    "1. In the <b></b> function we are first using <b>resource_instances</b> variable to obtain information about the resource directory by using<b> get_resource_directory module.</b>\n",
    "\n",
    "    <br>\n",
    "\n",
    "2. If the resource directory is enabled or we want to force it's non-use then navigate to the directory where managers members data is present. \n",
    "   Utilising the <b>HPE </b>(Hewlett Packard Enterprise) OEM Redfish implementation to retrieve the URI for the ESKM (Enterprise Security Key Manager) service.\n",
    "   By making a Redfish API call to reset the event log of the HPE Enterprise Secure Key Manager (ESKM) security service of an HPE server. It first tries to obtain the URI for the ESKM service using the HPE-specific resource directory, but if that is not available or disabled, it falls back to navigating the Redfish API object model to find the necessary URIs for the relevant managers and security service.\n",
    "   Once the URI for the ESKM service is obtained, a POST request is sent to the <b>ClearESKMLog</b> action using the <b>post()</b> method of the Redfish API object, with an empty dictionary in the body of the request.\n",
    "   \n",
    "    <br>\n",
    "\n",
    "3. Else It iterates through a list of resource instances and checks if the instance type contains <b>#HpeESKM</b> in it. If found, it sets the URI of that resource instance as the ESKM URI and breaks out of the loop. \n",
    "    \n",
    "    \n",
    "<br>\n",
    "    \n",
    "4. If above function retrive the URI for the ESKM service from the HPE-specific <b>Links</b> object then  we retrieves the URI for a specific action to clear the ESKM log on an HPE server's Security Service ESKM resource, using the Redfish API. It then sets the action to be executed on the server in the request body.\n",
    "    \n",
    "    <br>\n",
    "    \n",
    "    If the response of this POST request was 400 it means there was some error from server-side while doing the same operation and we inform the user about the error by It attempts to extract and pretty-print the extended error message information, but if this fails, it writes an error message to the standard error stream indicating that it was unable to access the iLO Extended Message Info.\n",
    "    <br>\n",
    "    Else there can also be an error which we aren't aware of, in that case we print out the response status code alongwith erro     message .<br>\n",
    "    Ultimately, if everything went properly we print out the response object along with success message.\n",
    "    \n",
    "\n",
    " </div>"
   ]
  },
  {
   "cell_type": "code",
   "execution_count": 3,
   "id": "93003c6b",
   "metadata": {},
   "outputs": [],
   "source": [
    "def reset_ESKM_eventlog(_redfishobj):\n",
    "\n",
    "    body = dict()\n",
    "    security_service_eskm_uri = None\n",
    "\n",
    "    resource_instances = get_resource_directory(_redfishobj)\n",
    "    if DISABLE_RESOURCE_DIR or not resource_instances:\n",
    "        #if we do not have a resource directory or want to force it's non use to find the\n",
    "        #relevant URI\n",
    "        managers_uri = _redfishobj.root.obj['Managers']['@odata.id']\n",
    "        managers_response = _redfishobj.get(managers_uri)\n",
    "        managers_members_uri = next(iter(managers_response.obj['Members']))['@odata.id']\n",
    "        managers_members_response = _redfishobj.get(managers_members_uri)\n",
    "        security_service_uri = managers_members_response.obj.Oem.Hpe.Links\\\n",
    "                                                                ['SecurityService']['@odata.id']\n",
    "        security_service_response = _redfishobj.get(security_service_uri)\n",
    "        security_service_eskm_uri = security_service_response.obj.Links['ESKM']['@odata.id']\n",
    "    else:\n",
    "        #Use Resource directory to find the relevant URI\n",
    "        for instance in resource_instances:\n",
    "            if '#HpeESKM.' in instance['@odata.type']:\n",
    "                security_service_eskm_uri = instance['@odata.id']\n",
    "                break\n",
    "\n",
    "    if security_service_eskm_uri:\n",
    "        security_service_eskm_uri = _redfishobj.get(security_service_uri).obj.Links\\\n",
    "                                                                            ['ESKM']['@odata.id']\n",
    "        security_service_eskm_resp = _redfishobj.get(security_service_eskm_uri)\n",
    "        security_service_eskm_clearlog_uri = security_service_eskm_resp.obj['Actions']\\\n",
    "                                                                ['#HpeESKM.ClearESKMLog']['target']\n",
    "        body[\"Action\"] = \"HpeESKM.ClearESKMLog\"\n",
    "        #We pass the URI and the dictionary as a POST command (part of the redfish object)\n",
    "        resp = _redfishobj.post(security_service_eskm_clearlog_uri, body)\n",
    "        #If iLO responds with something outside of 200 or 201 then lets check the iLO extended info\n",
    "        #error message to see what went wrong\n",
    "\n",
    "        if resp.status == 400:\n",
    "            try:\n",
    "                print(json.dumps(resp.obj['error']['@Message.ExtendedInfo'], indent=4, \\\n",
    "                                                                                sort_keys=True))\n",
    "            except Exception as excp:\n",
    "                sys.stderr.write(\"A response error occurred, unable to access iLO Extended \"\\\n",
    "                                 \"Message Info...\")\n",
    "        elif resp.status != 200:\n",
    "            sys.stderr.write(\"An http response of \\'%s\\' was returned.\\n\" % resp.status)\n",
    "        else:\n",
    "            print(\"Success!\\n\")\n",
    "            print(json.dumps(resp.dict, indent=4, sort_keys=True))"
   ]
  },
  {
   "cell_type": "markdown",
   "id": "5a583e0e",
   "metadata": {},
   "source": [
    "<div class = \"alert alert-block alert-success\" style=\"border-radius: 20px;\">\n",
    "    <h1> 3. </h1>This is Main function overview.<br>\n",
    "    <i>Let me give you a walk through of it!</i>\n",
    "    <br>\n",
    " There is a hierarchy involved in iLO Rest Api. So we are simply following the hierarchy present to change the settings.\n",
    "\n",
    "1. The rest opertions are handled by redfish object which is created by RedfishClient<br>\n",
    "<br>\n",
    "    \n",
    "2. <b>RedfishClient</b> object is being created mainly to log into the system with valid credentials.\n",
    "     \n",
    "    <br>\n",
    "\n",
    "3.  We try to Login with the help of <i> REDFISHOBJ</i>, if it is successful a session is created and you are logged in, But if           Server  is not avaialbe we get an error saying \"server unreachable\"<br>\n",
    "    <br>\n",
    "4. Then we call <b>reset_ESKM_eventlog</b>function with our redfish object and the function does the reset the ESKM_eventlog.\n",
    "    \n",
    "    <br>\n",
    "    \n",
    "\n",
    "5. Lastly, REDFISHOBJ.logout() will take care of logging you out of the ilo.\n",
    "\n",
    " </div>"
   ]
  },
  {
   "cell_type": "code",
   "execution_count": 1,
   "id": "85745d7d",
   "metadata": {},
   "outputs": [
    {
     "ename": "NameError",
     "evalue": "name 'ServerDownOrUnreachableError' is not defined",
     "output_type": "error",
     "traceback": [
      "\u001b[0;31m---------------------------------------------------------------------------\u001b[0m",
      "\u001b[0;31mNameError\u001b[0m                                 Traceback (most recent call last)",
      "Cell \u001b[0;32mIn[1], line 22\u001b[0m\n\u001b[1;32m     20\u001b[0m \u001b[38;5;28;01mtry\u001b[39;00m:\n\u001b[1;32m     21\u001b[0m     \u001b[38;5;66;03m# Create a Redfish client object\u001b[39;00m\n\u001b[0;32m---> 22\u001b[0m     REDFISHOBJ \u001b[38;5;241m=\u001b[39m \u001b[43mRedfishClient\u001b[49m(base_url\u001b[38;5;241m=\u001b[39mSYSTEM_URL, username\u001b[38;5;241m=\u001b[39mLOGIN_ACCOUNT, \\\n\u001b[1;32m     23\u001b[0m                                                                         password\u001b[38;5;241m=\u001b[39mLOGIN_PASSWORD)\n\u001b[1;32m     24\u001b[0m     \u001b[38;5;66;03m# Login with the Redfish client\u001b[39;00m\n",
      "\u001b[0;31mNameError\u001b[0m: name 'RedfishClient' is not defined",
      "\nDuring handling of the above exception, another exception occurred:\n",
      "\u001b[0;31mNameError\u001b[0m                                 Traceback (most recent call last)",
      "Cell \u001b[0;32mIn[1], line 26\u001b[0m\n\u001b[1;32m     24\u001b[0m     \u001b[38;5;66;03m# Login with the Redfish client\u001b[39;00m\n\u001b[1;32m     25\u001b[0m     REDFISHOBJ\u001b[38;5;241m.\u001b[39mlogin()\n\u001b[0;32m---> 26\u001b[0m \u001b[38;5;28;01mexcept\u001b[39;00m \u001b[43mServerDownOrUnreachableError\u001b[49m \u001b[38;5;28;01mas\u001b[39;00m excp:\n\u001b[1;32m     27\u001b[0m     sys\u001b[38;5;241m.\u001b[39mstderr\u001b[38;5;241m.\u001b[39mwrite(\u001b[38;5;124m\"\u001b[39m\u001b[38;5;124mERROR: server not reachable or does not support RedFish.\u001b[39m\u001b[38;5;130;01m\\n\u001b[39;00m\u001b[38;5;124m\"\u001b[39m)\n\u001b[1;32m     28\u001b[0m     sys\u001b[38;5;241m.\u001b[39mexit()\n",
      "\u001b[0;31mNameError\u001b[0m: name 'ServerDownOrUnreachableError' is not defined"
     ]
    }
   ],
   "source": [
    "if __name__ == \"__main__\":\n",
    "    # When running on the server locally use the following commented values\n",
    "    #SYSTEM_URL = None\n",
    "    #LOGIN_ACCOUNT = None\n",
    "    #LOGIN_PASSWORD = None\n",
    "\n",
    "    # When running remotely connect using the secured (https://) address,\n",
    "    # account name, and password to send https requests\n",
    "    # SYSTEM_URL acceptable examples:\n",
    "    # \"https://10.0.0.100\"\n",
    "    # \"https://ilo.hostname\"\n",
    "    SYSTEM_URL = \"https://10.0.0.100\"\n",
    "    LOGIN_ACCOUNT = \"admin\"\n",
    "    LOGIN_PASSWORD = \"password\"\n",
    "\n",
    "    # flag to force disable resource directory. Resource directory and associated operations are\n",
    "    # intended for HPE servers.\n",
    "    DISABLE_RESOURCE_DIR = True\n",
    "\n",
    "    try:\n",
    "        # Create a Redfish client object\n",
    "        REDFISHOBJ = RedfishClient(base_url=SYSTEM_URL, username=LOGIN_ACCOUNT, \\\n",
    "                                                                            password=LOGIN_PASSWORD)\n",
    "        # Login with the Redfish client\n",
    "        REDFISHOBJ.login()\n",
    "    except ServerDownOrUnreachableError as excp:\n",
    "        sys.stderr.write(\"ERROR: server not reachable or does not support RedFish.\\n\")\n",
    "        sys.exit()\n",
    "\n",
    "    reset_ESKM_eventlog(REDFISHOBJ)\n",
    "    REDFISHOBJ.logout()"
   ]
  },
  {
   "cell_type": "markdown",
   "id": "69132144",
   "metadata": {},
   "source": [
    "<div class=\"alert alert-block alert-warning\" style=\"border-radius: 20px;\">\n",
    "<b> When running on the server locally : </b>  use the following values <br>\n",
    "    SYSTEM_URL = None <br>\n",
    "    LOGIN_ACCOUNT = None <br>\n",
    "    LOGIN_PASSWORD = None <br>\n",
    "    <b> When running remotely </b> connect using the secured (https://) address,account name, and password to send https requests <br>\n",
    "    SYSTEM_URL acceptable examples: <br>\n",
    "    \"https://10.0.0.100\" <br>\n",
    "    \"https://ilo.hostname\"\n",
    "</div>"
   ]
  },
  {
   "cell_type": "markdown",
   "id": "ea6fce6f",
   "metadata": {},
   "source": [
    "<div class = \"alert alert-block alert-success\" style=\"border-radius: 20px;\">In case you need help 🔗 links to relevant resources :\n",
    "    <br>\n",
    "    1.Python-ilorest-library:<a href = \"https://github.com/HewlettPackard/python-ilorest-library\">LINK</a><br>\n",
    "    2.Hpe ilorest-api explorer:<a href = \"https://ilorestfulapiexplorer.ext.hpe.com/\">LINK</a><br>\n",
    "    3.Rest api: <a href = \"https://restfulapi.net/\">LINK</a><br>\n",
    "    \n",
    "</div>"
   ]
  }
 ],
 "metadata": {
  "kernelspec": {
   "display_name": "Python 3 (ipykernel)",
   "language": "python",
   "name": "python3"
  },
  "language_info": {
   "codemirror_mode": {
    "name": "ipython",
    "version": 3
   },
   "file_extension": ".py",
   "mimetype": "text/x-python",
   "name": "python",
   "nbconvert_exporter": "python",
   "pygments_lexer": "ipython3",
   "version": "3.10.6"
  }
 },
 "nbformat": 4,
 "nbformat_minor": 5
}
