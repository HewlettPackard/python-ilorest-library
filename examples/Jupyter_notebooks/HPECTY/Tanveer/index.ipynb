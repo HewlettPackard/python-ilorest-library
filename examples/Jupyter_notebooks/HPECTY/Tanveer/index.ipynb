{
 "cells": [
  {
   "cell_type": "markdown",
   "id": "18ad6013",
   "metadata": {},
   "source": [
    "<img id=\"my-image\" src=\"https://upload.wikimedia.org/wikipedia/commons/thumb/4/46/Hewlett_Packard_Enterprise_logo.svg/1200px-Hewlett_Packard_Enterprise_logo.svg.png\" alt=\"HPE Logo\" srcset=\"\" style=\"width: 32rem; border-radius: 5px; transition: all 0.2s ease-out; padding: 10px;\">"
   ]
  },
  {
   "cell_type": "markdown",
   "id": "20da06d1",
   "metadata": {},
   "source": [
    "<h1 style=\"text-align:center; border-top: 1px solid black; border-bottom: 1px solid black; padding-top:5px; padding-bottom:5px;\">Scripts related to LOGICAL DRIVE</h1>"
   ]
  },
  {
   "cell_type": "markdown",
   "id": "fa8b0fad",
   "metadata": {},
   "source": [
    "<table style=\"border-radius: 10px; background-color: #f9f9f9; border-collapse: collapse; width: 100%; max-width: 800px; margin: 0 auto; box-shadow: 4px 4px 8px rgba(0, 0, 0, 0.2), -4px -4px 8px rgba(255, 255, 255, 0.5); \">\n",
    "  <thead>\n",
    "    <tr style=\"background-color: #333; color: #fff;\">\n",
    "      <th style=\"padding: 12px; text-align: left;\">OPERATION</th>\n",
    "      <th style=\"padding: 12px; text-align: left;\">DESCRIPTION</th>\n",
    "      <th style=\"padding: 12px; text-align: left;\">METHOD</th>\n",
    "      <th style=\"padding: 12px; text-align: left;\">LOCATION</th>\n",
    "    </tr>\n",
    "  </thead>\n",
    "  <tbody>\n",
    "    <tr onmouseover=\"this.style.boxShadow='0px 10px 20px rgba(0, 0, 0, 0.4)';\" onmouseout=\"this.style.boxShadow='0px 5px 10px rgba(0, 0, 0, 0.4)';\" style=\"padding: 10px;background-color: #fff;\">\n",
    "      <td style=\"padding: 12px; text-align: left; color: black;\">Logic drive</td>\n",
    "      <td style=\"padding: 12px; text-align: left;\">Retrieves information about smart array logical drive</td>\n",
    "        <td style=\"padding: 12px; text-align: left;\">GET</td>\n",
    "      <td style=\"padding: 12px; text-align: left;\"><a href=\"https://github.com/BhuvanSuresh/python-ilorest-library/blob/master/examples/Jupyter_notebooks/HPECTY/Tanveer/Logical%20drive/get_logical_drives.ipynb\">get_logical drive</a></td>\n",
    "    </tr>\n",
    "    \n",
    "  </tbody>\n",
    "</table>"
   ]
  },
  {
   "cell_type": "markdown",
   "id": "f19c8e2c",
   "metadata": {},
   "source": [
    "<h1 style=\"text-align:center; border-top: 1px solid black; border-bottom: 1px solid black; padding-top:5px; padding-bottom:5px;\">Scripts related to RESOURCE DIRECTORY</h1>"
   ]
  },
  {
   "cell_type": "markdown",
   "id": "7d475db0",
   "metadata": {},
   "source": [
    "<table style=\"border-radius: 10px; background-color: #f9f9f9; border-collapse: collapse; width: 100%; max-width: 800px; margin: 0 auto; box-shadow: 4px 4px 8px rgba(0, 0, 0, 0.2), -4px -4px 8px rgba(255, 255, 255, 0.5); \">\n",
    "  <thead>\n",
    "    <tr style=\"background-color: #333; color: #fff;\">\n",
    "      <th style=\"padding: 12px; text-align: left;\">OPERATION</th>\n",
    "      <th style=\"padding: 12px; text-align: left;\">DESCRIPTION</th>\n",
    "      <th style=\"padding: 12px; text-align: left;\">METHOD</th>\n",
    "      <th style=\"padding: 12px; text-align: left;\">LOCATION</th>\n",
    "    </tr>\n",
    "  </thead>\n",
    "  <tbody>\n",
    "    <tr onmouseover=\"this.style.boxShadow='0px 10px 20px rgba(0, 0, 0, 0.4)';\" onmouseout=\"this.style.boxShadow='0px 5px 10px rgba(0, 0, 0, 0.4)';\" style=\"padding: 10px;background-color: #fff;\">\n",
    "      <td style=\"padding: 12px; text-align: left; color: black;\">Resource directory</td>\n",
    "      <td style=\"padding: 12px; text-align: left;\">Retrieves the resource directory from an HPE server and also determines the generation and version of an iLO system</td>\n",
    "        <td style=\"padding: 12px; text-align: left;\">GET</td>\n",
    "      <td style=\"padding: 12px; text-align: left;\"><a href=\"https://github.com/BhuvanSuresh/python-ilorest-library/blob/master/examples/Jupyter_notebooks/HPECTY/Tanveer/Resource%20directory/get_resource_directory.ipynb\">get_resourcedirectory</a></td>\n",
    "    </tr>\n",
    "    \n",
    "  </tbody>\n",
    "</table>"
   ]
  },
  {
   "cell_type": "markdown",
   "id": "81721043",
   "metadata": {},
   "source": [
    "<h1 style=\"text-align:center; border-top: 1px solid black; border-bottom: 1px solid black; padding-top:5px; padding-bottom:5px;\">Scripts related to Users</h1>"
   ]
  },
  {
   "cell_type": "markdown",
   "id": "cf10b943",
   "metadata": {},
   "source": [
    "<table style=\"border-radius: 10px; background-color: #f9f9f9; border-collapse: collapse; width: 100%; max-width: 800px; margin: 0 auto; box-shadow: 4px 4px 8px rgba(0, 0, 0, 0.2), -4px -4px 8px rgba(255, 255, 255, 0.5); \">\n",
    "  <thead>\n",
    "    <tr style=\"background-color: #333; color: #fff;\">\n",
    "      <th style=\"padding: 12px; text-align: left;\">OPERATION</th>\n",
    "      <th style=\"padding: 12px; text-align: left;\">DESCRIPTION</th>\n",
    "      <th style=\"padding: 12px; text-align: left;\">METHOD</th>\n",
    "      <th style=\"padding: 12px; text-align: left;\">LOCATION</th>\n",
    "    </tr>\n",
    "  </thead>\n",
    "  <tbody>\n",
    "    <tr onmouseover=\"this.style.boxShadow='0px 10px 20px rgba(0, 0, 0, 0.4)';\" onmouseout=\"this.style.boxShadow='0px 5px 10px rgba(0, 0, 0, 0.4)';\" style=\"padding: 10px;background-color: #fff;\">\n",
    "      <td style=\"padding: 12px; text-align: left; color: black;\">Delete User Account</td>\n",
    "      <td style=\"padding: 12px; text-align: left;\">Delete user account </td>\n",
    "      <td style=\"padding: 12px; text-align: left;\">DELETE</td>\n",
    "      <td style=\"padding: 12px; text-align: left;\"><a href=\"https://github.com/BhuvanSuresh/python-ilorest-library/blob/master/examples/Jupyter_notebooks/HPECTY/Tanveer/user%20modification/account_remove.ipynb\">Delete_user_ account</a></td>\n",
    "        </tr>\n",
    "        <tr onmouseover=\"this.style.boxShadow='0px 10px 20px rgba(0, 0, 0, 0.4)';\" onmouseout=\"this.style.boxShadow='0px 5px 10px rgba(0, 0, 0, 0.4)';\" style=\"padding: 10px;background-color: #fff;\">\n",
    "      <td style=\"padding: 12px; text-align: left; color: black;\">Modify User Account</td>\n",
    "      <td style=\"padding: 12px; text-align: left;\">Modify an iLO user account on the server</td>\n",
    "      <td style=\"padding: 12px; text-align: left;\">GET,PATCH</td>\n",
    "      <td style=\"padding: 12px; text-align: left;\"><a href=\"https://github.com/BhuvanSuresh/python-ilorest-library/blob/master/examples/Jupyter_notebooks/HPECTY/Tanveer/user%20modification/modify_user_account.ipynb\">modify_user_ account</a></td>\n",
    "    </tr>\n",
    "    \n",
    "  </tbody>\n",
    "</table>\n"
   ]
  },
  {
   "cell_type": "markdown",
   "id": "805abb17",
   "metadata": {},
   "source": [
    "<h1 style=\"text-align:center; border-top: 1px solid black; border-bottom: 1px solid black; padding-top:5px; padding-bottom:5px;\">Scripts related to Redfish Operations and Utility</h1>"
   ]
  },
  {
   "cell_type": "markdown",
   "id": "63644f9a",
   "metadata": {},
   "source": [
    "<table style=\"border-radius: 10px; background-color: #f9f9f9; border-collapse: collapse; width: 100%; max-width: 800px; margin: 0 auto; box-shadow: 4px 4px 8px rgba(0, 0, 0, 0.2), -4px -4px 8px rgba(255, 255, 255, 0.5); \">\n",
    "  <thead>\n",
    "    <tr style=\"background-color: #333; color: #fff;\">\n",
    "      <th style=\"padding: 12px; text-align: left;\">OPERATION</th>\n",
    "      <th style=\"padding: 12px; text-align: left;\">DESCRIPTION</th>\n",
    "      <th style=\"padding: 12px; text-align: left;\">METHOD</th>\n",
    "      <th style=\"padding: 12px; text-align: left;\">LOCATION</th>\n",
    "    </tr>\n",
    "  </thead>\n",
    "  <tbody>\n",
    "    <tr onmouseover=\"this.style.boxShadow='0px 10px 20px rgba(0, 0, 0, 0.4)';\" onmouseout=\"this.style.boxShadow='0px 5px 10px rgba(0, 0, 0, 0.4)';\" style=\"padding: 10px;background-color: #fff;\">\n",
    "      <td style=\"padding: 12px; text-align: left; color: black;\">Quickstart Redfish</td>\n",
    "      <td style=\"padding: 12px; text-align: left;\">Interact with iLO using REDFISH for system information </td>\n",
    "      <td style=\"padding: 12px; text-align: left;\">GET</td>\n",
    "      <td style=\"padding: 12px; text-align: left;\"><a href=\"https://github.com/BhuvanSuresh/python-ilorest-library/blob/master/examples/Jupyter_notebooks/HPECTY/Tanveer/Redfish%20utility/quickstart_redfish.ipynb\">quickstart_redfish</a></td>\n",
    "    </tr>\n",
    "      <tr onmouseover=\"this.style.boxShadow='0px 10px 20px rgba(0, 0, 0, 0.4)';\" onmouseout=\"this.style.boxShadow='0px 5px 10px rgba(0, 0, 0, 0.4)';\" style=\"padding: 10px;background-color: #fff;\">\n",
    "      <td style=\"padding: 12px; text-align: left; color: black;\">ilorest_util</td>\n",
    "      <td style=\"padding: 12px; text-align: left;\">Retrieves the resource directory from the server and Determines the generation and version of the iLO</td>\n",
    "      <td style=\"padding: 12px; text-align: left;\">GET</td>\n",
    "      <td style=\"padding: 12px; text-align: left;\"><a href=\"https://github.com/BhuvanSuresh/python-ilorest-library/blob/master/examples/Jupyter_notebooks/HPECTY/Tanveer/Redfish%20utility/ilorest_util.ipynb\">ilorest_util</a></td>\n",
    "    </tr>\n",
    "      \n",
    "      \n",
    "  </tbody>\n",
    "</table>"
   ]
  },
  {
   "cell_type": "markdown",
   "id": "eca287b1",
   "metadata": {},
   "source": [
    "<h1 style=\"text-align:center; border-top: 1px solid black; border-bottom: 1px solid black; padding-top:5px; padding-bottom:5px;\">Scripts related to SERVER</h1>"
   ]
  },
  {
   "cell_type": "markdown",
   "id": "498b737c",
   "metadata": {},
   "source": [
    "<table style=\"border-radius: 10px; background-color: #f9f9f9; border-collapse: collapse; width: 100%; max-width: 800px; margin: 0 auto; box-shadow: 4px 4px 8px rgba(0, 0, 0, 0.2), -4px -4px 8px rgba(255, 255, 255, 0.5); \">\n",
    "  <thead>\n",
    "    <tr style=\"background-color: #333; color: #fff;\">\n",
    "      <th style=\"padding: 12px; text-align: left;\">OPERATION</th>\n",
    "      <th style=\"padding: 12px; text-align: left;\">DESCRIPTION</th>\n",
    "      <th style=\"padding: 12px; text-align: left;\">METHOD</th>\n",
    "      <th style=\"padding: 12px; text-align: left;\">LOCATION</th>\n",
    "    </tr>\n",
    "  </thead>\n",
    "  <tbody>\n",
    "    <tr onmouseover=\"this.style.boxShadow='0px 10px 20px rgba(0, 0, 0, 0.4)';\" onmouseout=\"this.style.boxShadow='0px 5px 10px rgba(0, 0, 0, 0.4)';\" style=\"padding: 10px;background-color: #fff;\">\n",
    "      <td style=\"padding: 12px; text-align: left; color: black;\">Reseting the server</td>\n",
    "      <td style=\"padding: 12px; text-align: left;\">reset the server using the iLO API </td>\n",
    "      <td style=\"padding: 12px; text-align: left;\">GET,POST</td>\n",
    "      <td style=\"padding: 12px; text-align: left;\"><a href=\"https://github.com/BhuvanSuresh/python-ilorest-library/blob/master/examples/Jupyter_notebooks/HPECTY/Tanveer/server/reset_serve.ipynb\">reset_server</a></td>\n",
    "    </tr>\n",
    "      <tr onmouseover=\"this.style.boxShadow='0px 10px 20px rgba(0, 0, 0, 0.4)';\" onmouseout=\"this.style.boxShadow='0px 5px 10px rgba(0, 0, 0, 0.4)';\" style=\"padding: 10px;background-color: #fff;\">\n",
    "      <td style=\"padding: 12px; text-align: left; color: black;\">Reboot the server</td>\n",
    "      <td style=\"padding: 12px; text-align: left;\">reboot the server using the iLO API </td>\n",
    "      <td style=\"padding: 12px; text-align: left;\">GET,POST</td>\n",
    "      <td style=\"padding: 12px; text-align: left;\"><a href=\"https://github.com/BhuvanSuresh/python-ilorest-library/blob/master/examples/Jupyter_notebooks/HPECTY/Tanveer/server/reboot_server%20(1).ipynb\">reboot_server</a></td>\n",
    "    </tr>\n",
    "  </tbody>\n",
    "</table>"
   ]
  },
  {
   "cell_type": "markdown",
   "id": "22f90d0b",
   "metadata": {},
   "source": [
    "<h1 style=\"text-align:center; border-top: 1px solid black; border-bottom: 1px solid black; padding-top:5px; padding-bottom:5px;\">Scripts related to EVENT LOG</h1>"
   ]
  },
  {
   "cell_type": "markdown",
   "id": "112a4521",
   "metadata": {},
   "source": [
    "<table style=\"border-radius: 10px; background-color: #f9f9f9; border-collapse: collapse; width: 100%; max-width: 800px; margin: 0 auto; box-shadow: 4px 4px 8px rgba(0, 0, 0, 0.2), -4px -4px 8px rgba(255, 255, 255, 0.5); \">\n",
    "  <thead>\n",
    "    <tr style=\"background-color: #333; color: #fff;\">\n",
    "      <th style=\"padding: 12px; text-align: left;\">OPERATION</th>\n",
    "      <th style=\"padding: 12px; text-align: left;\">DESCRIPTION</th>\n",
    "      <th style=\"padding: 12px; text-align: left;\">METHOD</th>\n",
    "      <th style=\"padding: 12px; text-align: left;\">LOCATION</th>\n",
    "    </tr>\n",
    "  </thead>\n",
    "  <tbody>\n",
    "    <tr onmouseover=\"this.style.boxShadow='0px 10px 20px rgba(0, 0, 0, 0.4)';\" onmouseout=\"this.style.boxShadow='0px 5px 10px rgba(0, 0, 0, 0.4)';\" style=\"padding: 10px;background-color: #fff;\">\n",
    "      <td style=\"padding: 12px; text-align: left; color: black;\">reset ESKM eventlog</td>\n",
    "      <td style=\"padding: 12px; text-align: left;\">reset the ESKM (Enterprise Secure Key Manager) event log using the iLO API</td>\n",
    "      <td style=\"padding: 12px; text-align: left;\">POST</td>\n",
    "      <td style=\"padding: 12px; text-align: left;\"><a href=\"https://github.com/BhuvanSuresh/python-ilorest-library/blob/master/examples/Jupyter_notebooks/HPECTY/Tanveer/Event%20log/reset_ESKM_eventlog.ipynb\">ESKM_eventlog</a></td>\n",
    "    </tr>\n",
    "  </tbody>\n",
    "</table>"
   ]
  },
  {
   "cell_type": "markdown",
   "id": "7152e64e",
   "metadata": {},
   "source": [
    "<h1 style=\"text-align:center; border-top: 1px solid black; border-bottom: 1px solid black; padding-top:5px; padding-bottom:5px;\">Scripts related to RESET iLO</h1>"
   ]
  },
  {
   "cell_type": "markdown",
   "id": "ad1ff043",
   "metadata": {},
   "source": [
    "<table style=\"border-radius: 10px; background-color: #f9f9f9; border-collapse: collapse; width: 100%; max-width: 800px; margin: 0 auto; box-shadow: 4px 4px 8px rgba(0, 0, 0, 0.2), -4px -4px 8px rgba(255, 255, 255, 0.5); \">\n",
    "  <thead>\n",
    "    <tr style=\"background-color: #333; color: #fff;\">\n",
    "      <th style=\"padding: 12px; text-align: left;\">OPERATION</th>\n",
    "      <th style=\"padding: 12px; text-align: left;\">DESCRIPTION</th>\n",
    "      <th style=\"padding: 12px; text-align: left;\">METHOD</th>\n",
    "      <th style=\"padding: 12px; text-align: left;\">LOCATION</th>\n",
    "    </tr>\n",
    "  </thead>\n",
    "  <tbody>\n",
    "    <tr onmouseover=\"this.style.boxShadow='0px 10px 20px rgba(0, 0, 0, 0.4)';\" onmouseout=\"this.style.boxShadow='0px 5px 10px rgba(0, 0, 0, 0.4)';\" style=\"padding: 10px;background-color: #fff;\">\n",
    "      <td style=\"padding: 12px; text-align: left; color: black;\">reset ilo</td>\n",
    "      <td style=\"padding: 12px; text-align: left;\">reset the ilo using the iLO API</td>\n",
    "      <td style=\"padding: 12px; text-align: left;\">POST</td>\n",
    "      <td style=\"padding: 12px; text-align: left;\"><a href=\"https://github.com/BhuvanSuresh/python-ilorest-library/blob/master/examples/Jupyter_notebooks/HPECTY/Tanveer/Reset%20Ilo/reset_ilo.ipynb\">reset_ilo</a></td>\n",
    "    </tr>\n",
    "  </tbody>\n",
    "</table>"
   ]
  },
  {
   "cell_type": "markdown",
   "id": "c8f1975b",
   "metadata": {},
   "source": [
    "<h1 style=\"text-align:center; border-top: 1px solid black; border-bottom: 1px solid black; padding-top:5px; padding-bottom:5px;\">Scripts related to Virtual media</h1>"
   ]
  },
  {
   "cell_type": "markdown",
   "id": "f7b3e6c6",
   "metadata": {},
   "source": [
    "<table style=\"border-radius: 10px; background-color: #f9f9f9; border-collapse: collapse; width: 100%; max-width: 800px; margin: 0 auto; box-shadow: 4px 4px 8px rgba(0, 0, 0, 0.2), -4px -4px 8px rgba(255, 255, 255, 0.5); \">\n",
    "  <thead>\n",
    "    <tr style=\"background-color: #333; color: #fff;\">\n",
    "      <th style=\"padding: 12px; text-align: left;\">OPERATION</th>\n",
    "      <th style=\"padding: 12px; text-align: left;\">DESCRIPTION</th>\n",
    "      <th style=\"padding: 12px; text-align: left;\">METHOD</th>\n",
    "      <th style=\"padding: 12px; text-align: left;\">LOCATION</th>\n",
    "    </tr>\n",
    "  </thead>\n",
    "  <tbody>\n",
    "    <tr onmouseover=\"this.style.boxShadow='0px 10px 20px rgba(0, 0, 0, 0.4)';\" onmouseout=\"this.style.boxShadow='0px 5px 10px rgba(0, 0, 0, 0.4)';\" style=\"padding: 10px;background-color: #fff;\">\n",
    "      <td style=\"padding: 12px; text-align: left; color: black;\">Mount virtual media</td>\n",
    "      <td style=\"padding: 12px; text-align: left;\"> mount a virtual media ISO on the iLO server</td>\n",
    "      <td style=\"padding: 12px; text-align: left;\">GET,PATCH,POST</td>\n",
    "      <td style=\"padding: 12px; text-align: left;\"><a href=\"https://github.com/BhuvanSuresh/python-ilorest-library/blob/master/examples/Jupyter_notebooks/HPECTY/Tanveer/virtual%20media/mount_virtual_media_iso.ipynb\">mount_virtual_media</a></td>\n",
    "    </tr>\n",
    "  </tbody>\n",
    "</table>"
   ]
  },
  {
   "cell_type": "markdown",
   "id": "b621f896",
   "metadata": {},
   "source": [
    "<h1 style=\"text-align:center; border-top: 1px solid black; border-bottom: 1px solid black; padding-top:5px; padding-bottom:5px;\">Scripts related to Issusing certificate</h1>"
   ]
  },
  {
   "cell_type": "markdown",
   "id": "d391db50",
   "metadata": {},
   "source": [
    "<table style=\"border-radius: 10px; background-color: #f9f9f9; border-collapse: collapse; width: 100%; max-width: 800px; margin: 0 auto; box-shadow: 4px 4px 8px rgba(0, 0, 0, 0.2), -4px -4px 8px rgba(255, 255, 255, 0.5); \">\n",
    "  <thead>\n",
    "    <tr style=\"background-color: #333; color: #fff;\">\n",
    "      <th style=\"padding: 12px; text-align: left;\">OPERATION</th>\n",
    "      <th style=\"padding: 12px; text-align: left;\">DESCRIPTION</th>\n",
    "      <th style=\"padding: 12px; text-align: left;\">METHOD</th>\n",
    "      <th style=\"padding: 12px; text-align: left;\">LOCATION</th>\n",
    "    </tr>\n",
    "  </thead>\n",
    "  <tbody>\n",
    "    <tr onmouseover=\"this.style.boxShadow='0px 10px 20px rgba(0, 0, 0, 0.4)';\" onmouseout=\"this.style.boxShadow='0px 5px 10px rgba(0, 0, 0, 0.4)';\" style=\"padding: 10px;background-color: #fff;\">\n",
    "      <td style=\"padding: 12px; text-align: left; color: black;\">Issusing the certificate.</td>\n",
    "      <td style=\"padding: 12px; text-align: left;\">import an SSL certificate to the iLO</td>\n",
    "      <td style=\"padding: 12px; text-align: left;\">GET,POST</td>\n",
    "      <td style=\"padding: 12px; text-align: left;\"><a href=\"https://github.com/BhuvanSuresh/python-ilorest-library/blob/master/examples/Jupyter_notebooks/HPECTY/Tanveer/certificate/import_ssl.ipynb\">import_ssl</a></td>\n",
    "    </tr>\n",
    "  </tbody>\n",
    "</table>"
   ]
  }
 ],
 "metadata": {
  "kernelspec": {
   "display_name": "Python 3 (ipykernel)",
   "language": "python",
   "name": "python3"
  },
  "language_info": {
   "codemirror_mode": {
    "name": "ipython",
    "version": 3
   },
   "file_extension": ".py",
   "mimetype": "text/x-python",
   "name": "python",
   "nbconvert_exporter": "python",
   "pygments_lexer": "ipython3",
   "version": "3.10.6"
  }
 },
 "nbformat": 4,
 "nbformat_minor": 5
}
