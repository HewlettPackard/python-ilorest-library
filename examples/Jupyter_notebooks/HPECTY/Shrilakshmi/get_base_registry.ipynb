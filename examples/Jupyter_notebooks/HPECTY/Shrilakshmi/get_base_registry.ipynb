{
 "cells": [
  {
   "cell_type": "markdown",
   "id": "b6a26458",
   "metadata": {},
   "source": [
    "<div class=\"alert alert-block alert-info\">\n",
    "<i>Hello User!<br></i>\n",
    "Welcome to <b>python-iLOrest-library</b> <br> \n",
    "This script can be used to retrieve the <b>base registry information</b> from an HPE iLO (Integrated Lights Out) server.  <br> \n",
    "To perform this you need to have <a href = \"https://github.com/HewlettPackard/python-ilorest-library\" style = \"background-color:white\">python-ilorest-library</a> installed in your machine.<br>\n",
    "And please keep your username and password handy!\n",
    "<br>\n",
    "<b>Also do execute each successive cell once to avoid any errors!</b>\n",
    "    \n",
    "</div>"
   ]
  },
  {
   "cell_type": "markdown",
   "id": "1dc8cc16",
   "metadata": {},
   "source": [
    "<div class = \"alert alert-block alert-success\">\n",
    "    <div style = \"color:green; font-size:40px;\">1.</div>\n",
    "    <br>\n",
    "    First, we need to \"import\" certain files that provide us the functionality to get the base registry.</div>"
   ]
  },
  {
   "cell_type": "code",
   "execution_count": null,
   "id": "c3c3347f",
   "metadata": {},
   "outputs": [],
   "source": [
    "import sys\n",
    "from redfish import LegacyRestClient\n",
    "from get_resource_directory import get_resource_directory\n"
   ]
  },
  {
   "cell_type": "markdown",
   "id": "1087550c",
   "metadata": {},
   "source": [
    "<div class = \"alert alert-block alert-success\">\n",
    "    <div style = \"color:green; font-size:40px;\">2.</div><br>\n",
    "    Below is the get_base_registry function. The get_base_registry function serves the purpose of retrieving the base registry information from an HPE iLO server using the HPE iLO REST API.<br> \n",
    "    It performs the following steps to accomplish this:<br><br>\n",
    "1. The get_base_registry function sends a GET request to the /rest/v1/Registries endpoint of the HPE iLO server to retrieve the registry data.\n",
    "<br><br>\n",
    "2. It iterates through the response entries, checking for the \"Id\" field or extracting the schema name.\n",
    "<br><br>\n",
    "3. For each entry, it makes additional GET requests to the specified URIs to retrieve the registry information.\n",
    "<br><br>\n",
    "4. If successful, it displays a message and stores the registry messages in a dictionary. The function returns the dictionary containing the registry messages.\n",
    "<br><br>\n",
    "In summary, the get_base_registry function retrieves the base registry information by making requests to specific URIs, extracting relevant data, and storing it for further analysis and management.\n",
    "<br>\n",
    "</div>"
   ]
  },
  {
   "cell_type": "code",
   "execution_count": null,
   "id": "5dff7bad",
   "metadata": {},
   "outputs": [],
   "source": [
    "def get_base_registry(restobj):\n",
    "    response = restobj.get(\"/rest/v1/Registries\")\n",
    "    messages = {}\n",
    "\n",
    "    identifier = None\n",
    "\n",
    "    for entry in response.dict[\"Items\"]:\n",
    "        if \"Id\" in entry:\n",
    "            identifier = entry[\"Id\"]\n",
    "        else:\n",
    "            identifier = entry[\"Schema\"].split(\".\")[0]\n",
    "\n",
    "        if identifier not in [\"Base\", \"iLO\"]:\n",
    "            continue\n",
    "\n",
    "        for location in entry[\"Location\"]:\n",
    "            reg_resp = restobj.get(location[\"Uri\"][\"extref\"])\n",
    "\n",
    "            if reg_resp.status == 200:\n",
    "                sys.stdout.write(\"\\tFound \" + identifier + \" at \" + \\\n",
    "                                            location[\"Uri\"][\"extref\"] + \"\\n\")\n",
    "                messages[identifier] = reg_resp.dict[\"Messages\"]\n",
    "            else:\n",
    "                sys.stdout.write(\"\\t\" + identifier + \" not found at \"\\\n",
    "                                            + location[\"Uri\"][\"extref\"] + \"\\n\")\n",
    "\n",
    "    return messages"
   ]
  },
  {
   "cell_type": "markdown",
   "id": "167d47fe",
   "metadata": {},
   "source": [
    "<div class = \"alert alert-block alert-success\">\n",
    "    <div style = \"color:green; font-size:40px;\">3.</div><br>\n",
    "The following code establishes a connection to an HPE iLO server using the HPE iLO REST API. It sets up the necessary parameters for either local or remote server connection, creates a REST client object, logs into the iLO server, executes an example function to retrieve registry information, and logs out from the server. This code showcases how to interact with the iLO server programmatically, demonstrating the usage of the HPE iLO REST API for server management tasks.\n",
    "</div>"
   ]
  },
  {
   "cell_type": "code",
   "execution_count": null,
   "id": "e2cbc2d2",
   "metadata": {},
   "outputs": [],
   "source": [
    "if __name__ == \"__main__\":\n",
    "    \n",
    "    SYSTEM_URL = \"https://10.0.0.100\"\n",
    "    LOGIN_ACCOUNT = \"admin\"\n",
    "    LOGIN_PASSWORD = \"password\"\n",
    "\n",
    "    #Create a REST object\n",
    "    REST_OBJ = LegacyRestClient(base_url=SYSTEM_URL, username=LOGIN_ACCOUNT, password=LOGIN_PASSWORD)\n",
    "    REST_OBJ.login()\n",
    "    sys.stdout.write(\"\\nEXAMPLE 2: Find and return registry \" + \"\\n\")\n",
    "    get_base_registry(REST_OBJ)\n",
    "    REST_OBJ.logout()"
   ]
  },
  {
   "cell_type": "markdown",
   "id": "2370b35d",
   "metadata": {},
   "source": [
    "<div class = \"alert alert-block alert-warning\">\n",
    "    <b>When running on the server locally</b> use the following values<br>\n",
    " SYSTEM_URL = None<br>\n",
    " LOGIN_ACCOUNT = None<br>\n",
    " LOGIN_PASSWORD = None<br>\n",
    "\n",
    "   <b>When running remotely</b> connect using the secured (https://) address,\n",
    "     account name, and password to send https requests\n",
    "    <br>\n",
    "     SYSTEM_URL acceptable examples:<br>\n",
    "     https://10.0.0.100<br>\n",
    "     https://ilo.hostname\n",
    "</div>"
   ]
  }
 ],
 "metadata": {
  "kernelspec": {
   "display_name": "Python 3 (ipykernel)",
   "language": "python",
   "name": "python3"
  },
  "language_info": {
   "codemirror_mode": {
    "name": "ipython",
    "version": 3
   },
   "file_extension": ".py",
   "mimetype": "text/x-python",
   "name": "python",
   "nbconvert_exporter": "python",
   "pygments_lexer": "ipython3",
   "version": "3.10.6"
  }
 },
 "nbformat": 4,
 "nbformat_minor": 5
}
