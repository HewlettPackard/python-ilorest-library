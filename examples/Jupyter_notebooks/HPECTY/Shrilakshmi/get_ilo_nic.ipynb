{
 "cells": [
  {
   "cell_type": "markdown",
   "id": "41a1448b",
   "metadata": {},
   "source": [
    "<div class=\"alert alert-block alert-info\">\n",
    "<i>Hello User!<br></i>\n",
    "Welcome to <b>python-iLOrest-library</b> <br> \n",
    "This script provides an example implementation that allows you to <b>retrieve the network interface card (NIC) configuration</b> of your HPE iLO server.<br> \n",
    "To perform this you need to have <a href = \"https://github.com/HewlettPackard/python-ilorest-library\">python-ilorest-library</a> installed in your machine.<br>\n",
    "And please keep your username and password handy!\n",
    "<br>\n",
    "<b>Also do execute each successive cell once to avoid any errors!</b>\n",
    "    \n",
    "</div>"
   ]
  },
  {
   "cell_type": "markdown",
   "id": "25c830bd",
   "metadata": {},
   "source": [
    "<div class = \"alert alert-block alert-success\">\n",
    "    <div style = \"color:green; font-size:40px;\">1.</div>\n",
    "    <br>\n",
    "    First, we are importing certain files that provide us the functionality to get the nic configuration of the server.</div>"
   ]
  },
  {
   "cell_type": "code",
   "execution_count": null,
   "id": "c3c3347f",
   "metadata": {},
   "outputs": [],
   "source": [
    "import sys\n",
    "import json\n",
    "from redfish import LegacyRestClient\n",
    "from get_resource_directory import get_resource_directory"
   ]
  },
  {
   "cell_type": "markdown",
   "id": "64642b12",
   "metadata": {},
   "source": [
    "<div class = \"alert alert-block alert-success\">\n",
    "    <div style = \"color:green; font-size:40px;\">2.</div><br>\n",
    "    Below is the get_ilo_nic function. The get_ilo_nic function is responsible for retrieving the network interface card (NIC) configuration of an HPE iLO server. It takes a REST object and a parameter indicating whether to retrieve active or inactive NICs as input. Here's a brief overview of the function's steps:<br>\n",
    "<ol>The function first obtains the resource directory of the iLO server using the provided REST object. This directory contains information about the server's available resources, including the NICs.</ol>\n",
    "<ol>It then searches for the NIC-related information within the resource directory by iterating through the instances and identifying the ones related to the server's manager.\n",
    "Using the obtained NIC information, the function retrieves the NIC configuration data from the server.</ol>\n",
    "<ol>Depending on the value of the get_active parameter, the function filters the retrieved NICs to either active or inactive ones.</ol>\n",
    "<ol>Finally, the function outputs the relevant NIC information, including the NIC's self URL and its JSON representation.</ol>\n",
    "<p>In summary, the get_ilo_nic function allows you to fetch and categorize the NIC configuration of an HPE iLO server based on its active or inactive status. This information can be useful for monitoring and managing your server's network settings.</p>\n",
    "</div>"
   ]
  },
  {
   "cell_type": "code",
   "execution_count": null,
   "id": "5dff7bad",
   "metadata": {},
   "outputs": [],
   "source": [
    "def get_ilo_nic(restobj, get_active):\n",
    "    resource_instances = get_resource_directory(restobj)\n",
    "    if resource_instances:\n",
    "        #Get URI from resource directory\n",
    "        for instance in resource_instances:\n",
    "            if \"Manager.\" in instance.Type:\n",
    "                manager_path = instance.href\n",
    "                break\n",
    "\n",
    "    tmp = restobj.get(manager_path)\n",
    "    response = restobj.get(tmp.dict[\"links\"][\"EthernetNICs\"][\"href\"])\n",
    "\n",
    "    for nic in response.dict[\"Items\"]:\n",
    "        if get_active and nic[\"Status\"][\"State\"] == \"Enabled\":\n",
    "            sys.stdout.write(\"Active\\t\" + nic[\"links\"][\"self\"][\"href\"] + \\\n",
    "                                            \": \" + json.dumps(nic) + \"\\n\")\n",
    "        elif get_active == False and nic[\"Status\"][\"State\"] == \"Disabled\":\n",
    "            sys.stdout.write(\"InActive\\t\" + nic[\"links\"][\"self\"][\"href\"] + \\\n",
    "                                            \": \" + json.dumps(nic) + \"\\n\")"
   ]
  },
  {
   "cell_type": "markdown",
   "id": "5531c99f",
   "metadata": {},
   "source": [
    "<div class = \"alert alert-block alert-success\">\n",
    "    <div style = \"color:green; font-size:40px;\">3.</div><br>\n",
    "    \n",
    "This script establishes a connection to an HPE iLO server using the provided URL, login account, and password. It then logs in to the server and retrieves the NIC configuration. The script specifically fetches active NICs and displays their information. Finally, it logs out from the server.\n",
    "</div>"
   ]
  },
  {
   "cell_type": "code",
   "execution_count": null,
   "id": "e2cbc2d2",
   "metadata": {},
   "outputs": [],
   "source": [
    "if __name__ == \"__main__\":\n",
    "    \n",
    "    SYSTEM_URL = \"https://10.0.0.100\"\n",
    "    LOGIN_ACCOUNT = \"admin\"\n",
    "    LOGIN_PASSWORD = \"password\"\n",
    "\n",
    "    #Create a REST object\n",
    "    REST_OBJ = LegacyRestClient(base_url=SYSTEM_URL, username=LOGIN_ACCOUNT, password=LOGIN_PASSWORD)\n",
    "    REST_OBJ.login()\n",
    "    sys.stdout.write(\"\\nEXAMPLE 20: Get iLO's NIC configuration\\n\")\n",
    "    get_ilo_nic(REST_OBJ, True)\n",
    "    REST_OBJ.logout()"
   ]
  },
  {
   "cell_type": "markdown",
   "id": "2370b35d",
   "metadata": {},
   "source": [
    "<div class = \"alert alert-block alert-warning\">\n",
    "    <b>When running on the server locally</b> use the following values<br>\n",
    " SYSTEM_URL = None<br>\n",
    " LOGIN_ACCOUNT = None<br>\n",
    " LOGIN_PASSWORD = None<br>\n",
    "\n",
    "   <b>When running remotely</b> connect using the secured (https://) address,\n",
    "     account name, and password to send https requests\n",
    "    <br>\n",
    "     SYSTEM_URL acceptable examples:<br>\n",
    "     https://10.0.0.100<br>\n",
    "     https://ilo.hostname\n",
    "</div>"
   ]
  }
 ],
 "metadata": {
  "kernelspec": {
   "display_name": "Python 3 (ipykernel)",
   "language": "python",
   "name": "python3"
  },
  "language_info": {
   "codemirror_mode": {
    "name": "ipython",
    "version": 3
   },
   "file_extension": ".py",
   "mimetype": "text/x-python",
   "name": "python",
   "nbconvert_exporter": "python",
   "pygments_lexer": "ipython3",
   "version": "3.10.6"
  }
 },
 "nbformat": 4,
 "nbformat_minor": 5
}
