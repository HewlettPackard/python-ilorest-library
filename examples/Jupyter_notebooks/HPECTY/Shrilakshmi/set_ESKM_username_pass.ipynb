{
 "cells": [
  {
   "cell_type": "markdown",
   "id": "54face1f",
   "metadata": {},
   "source": [
    "<div class=\"alert alert-block alert-info\">\n",
    "<i>Hello User!<br></i>\n",
    "Welcome to <b>python-iLOrest-library</b> <br>\n",
    "This script demonstrates how to <b>set the ESKM (Enterprise Secure Key Manager) username, password, and other related configurations</b> for HPE iLO systems.<br>\n",
    "To perform this you need to have <a href = \"https://github.com/HewlettPackard/python-ilorest-library\">python-ilorest-library</a> installed in your machine.<br>\n",
    "And please keep your username and password handy!\n",
    "<br>\n",
    "<b>Also do execute each successive cell once to avoid any errors!</b>\n",
    "    \n",
    "</div>"
   ]
  },
  {
   "cell_type": "markdown",
   "id": "7350e15b",
   "metadata": {},
   "source": [
    "<div class = \"alert alert-block alert-success\">\n",
    "    <div style = \"color:green; font-size:40px;\">1.</div>\n",
    "    <br>\n",
    "    First, we are importing certain files that enable us to manage and configure the ESKM key server.</div>"
   ]
  },
  {
   "cell_type": "code",
   "execution_count": null,
   "id": "9e2d3008",
   "metadata": {},
   "outputs": [],
   "source": [
    "import sys\n",
    "import json\n",
    "from redfish import RedfishClient\n",
    "from redfish.rest.v1 import ServerDownOrUnreachableError\n",
    "from get_resource_directory import get_resource_directory\n"
   ]
  },
  {
   "cell_type": "markdown",
   "id": "6234f26f",
   "metadata": {},
   "source": [
    "<div class = \"alert alert-block alert-success\">\n",
    "    <div style = \"color:green; font-size:40px;\">2.</div><br>\n",
    "    <p>The code below defines a function called ESKM_username_pass that is responsible for configuring the ESKM (Enterprise Secure Key Manager) settings on an HPE iLO system using the Redfish API. The function takes several parameters, including the ESKM username, password, account group, primary key server address, and primary key server port.</p>\n",
    "<br>The following steps explain this function:<br>\n",
    "\n",
    "1. Get the resource directory to find the URI for the ESKM service.\n",
    "2. If the resource directory is not available or disabled, manually search for the relevant URI by navigating through the API hierarchy.\n",
    "3. If the URI for the ESKM service is found, create a dictionary object with the login name, password, account group, ESKM local CA certificate name, primary key server address, and primary key server port.\n",
    "4. Use the HTTP PATCH method to update the ESKM service configuration with the dictionary object.\n",
    "5. Check the response status code to determine if the update was successful or if an error occurred. If there was an error, print the error message or status code. If the update was successful, print the response body.\n",
    "<br><br>\n",
    "The ESKM_username_pass function is used to configure the ESKM settings on an HPE iLO system. It retrieves the ESKM URI, populates the configuration data, sends a PATCH request to update the settings, and handles the response accordingly. Upon successful update, it prints a success message along with the response details.\n",
    "</div>"
   ]
  },
  {
   "cell_type": "code",
   "execution_count": null,
   "id": "38d43c16",
   "metadata": {},
   "outputs": [],
   "source": [
    "def ESKM_username_pass(_redfishobj, eskm_username, eskm_password, eskm_accountgroup, \\\n",
    "                       eskm_primarykeyserver_addr, eskm_primarykeyserver_port):\n",
    "\n",
    "    eskm_uri = None\n",
    "    body = dict()\n",
    "\n",
    "    resource_instances = get_resource_directory(_redfishobj)\n",
    "    if DISABLE_RESOURCE_DIR or not resource_instances:\n",
    "        #if we do not have a resource directory or want to force it's non use to find the\n",
    "        #relevant URI\n",
    "        managers_uri = _redfishobj.root.obj['Managers']['@odata.id']\n",
    "        managers_response = _redfishobj.get(managers_uri)\n",
    "        managers_members_uri = next(iter(managers_response.obj['Members']))['@odata.id']\n",
    "        managers_members_response = _redfishobj.get(managers_members_uri)\n",
    "        security_service_uri = managers_members_response.obj.Oem.Hpe.Links['SecurityService']\\\n",
    "                                                                                    ['@odata.id']\n",
    "        security_service_response = _redfishobj.get(security_service_uri)\n",
    "        eskm_uri = security_service_response.obj.Links['ESKM']['@odata.id']\n",
    "    else:\n",
    "        #Use Resource directory to find the relevant URI\n",
    "        for instance in resource_instances:\n",
    "            if '#HpeESKM.' in instance['@odata.type']:\n",
    "                eskm_uri = instance['@odata.id']\n",
    "                break\n",
    "\n",
    "    if eskm_uri:\n",
    "        body[\"KeyManagerConfig\"] = dict()\n",
    "        body[\"KeyManagerConfig\"][\"LoginName\"] = eskm_username\n",
    "        body[\"KeyManagerConfig\"][\"Password\"] = eskm_password\n",
    "        body[\"KeyManagerConfig\"][\"AccountGroup\"] = eskm_accountgroup\n",
    "        body[\"KeyManagerConfig\"][\"ESKMLocalCACertificateName\"] = \"\"\n",
    "        body[\"PrimaryKeyServerAddress\"] = eskm_primarykeyserver_addr\n",
    "        body[\"PrimaryKeyServerPort\"] = eskm_primarykeyserver_port\n",
    "        resp = _redfishobj.patch(eskm_uri, body)\n",
    "        #If iLO responds with soemthing outside of 200 or 201 then lets check the iLO extended info\n",
    "        #error message to see what went wrong\n",
    "        if resp.status == 400:\n",
    "            try:\n",
    "                print(json.dumps(resp.obj['error']['@Message.ExtendedInfo'], indent=4, \\\n",
    "                                                                                sort_keys=True))\n",
    "            except Exception as excp:\n",
    "                sys.stderr.write(\"A response error occurred, unable to access iLO Extended \"\\\n",
    "                                 \"Message Info...\")\n",
    "        elif resp.status != 200:\n",
    "            sys.stderr.write(\"An http response of \\'%s\\' was returned.\\n\" % resp.status)\n",
    "        else:\n",
    "            print(\"Success!\\n\")\n",
    "            print(json.dumps(resp.dict, indent=4, sort_keys=True))"
   ]
  },
  {
   "cell_type": "markdown",
   "id": "601ab339",
   "metadata": {},
   "source": [
    "<div class = \"alert alert-block alert-success\">\n",
    "    <div style = \"color:green; font-size:40px;\">3.</div><br>\n",
    "    \n",
    "The code below establishes a connection with an iLO server using the specified system URL, login account, and password. It then sets the primary ESKM key server address and port. The script utilizes the Redfish protocol to communicate with the server and performs the necessary operations to configure the key server. Finally, it logs out from the iLO server.\n",
    "</div>"
   ]
  },
  {
   "cell_type": "code",
   "execution_count": null,
   "id": "40aabbdc",
   "metadata": {},
   "outputs": [],
   "source": [
    "if __name__ == \"__main__\":\n",
    "    \n",
    "    SYSTEM_URL = \"https://10.0.0.100\"\n",
    "    LOGIN_ACCOUNT = \"admin\"\n",
    "    LOGIN_PASSWORD = \"password\"\n",
    "\n",
    "    ESKM_USERNAME = \"admin\"\n",
    "    ESKM_PASSWORD = \"password\"\n",
    "    ESKM_ACCOUNTGROUP = \"group\"\n",
    "    ESKM_PRIMARYKEYSERVER_ADDR = \"192.168.1.10\"\n",
    "    ESKM_PRIMARYKEYSERVER_PORT = 5927\n",
    "    # flag to force disable resource directory. Resource directory and associated operations are\n",
    "    # intended for HPE servers.\n",
    "    DISABLE_RESOURCE_DIR = False\n",
    "\n",
    "    try:\n",
    "        # Create a Redfish client object\n",
    "        REDFISHOBJ = RedfishClient(base_url=SYSTEM_URL, username=LOGIN_ACCOUNT, \\\n",
    "                                                                            password=LOGIN_PASSWORD)\n",
    "        # Login with the Redfish client\n",
    "        REDFISHOBJ.login()\n",
    "    except ServerDownOrUnreachableError as excp:\n",
    "        sys.stderr.write(\"ERROR: server not reachable or does not support RedFish.\\n\")\n",
    "        sys.exit()\n",
    "\n",
    "    ESKM_username_pass(REDFISHOBJ, ESKM_USERNAME, ESKM_PASSWORD, ESKM_ACCOUNTGROUP, \\\n",
    "                       ESKM_PRIMARYKEYSERVER_ADDR, ESKM_PRIMARYKEYSERVER_PORT)\n",
    "    REDFISHOBJ.logout()"
   ]
  },
  {
   "cell_type": "markdown",
   "id": "2370b35d",
   "metadata": {},
   "source": [
    "<div class = \"alert alert-block alert-warning\">\n",
    "    <b>When running on the server locally</b> use the following values<br>\n",
    " SYSTEM_URL = None<br>\n",
    " LOGIN_ACCOUNT = None<br>\n",
    " LOGIN_PASSWORD = None<br>\n",
    "\n",
    "   <b>When running remotely</b> connect using the secured (https://) address,\n",
    "     account name, and password to send https requests\n",
    "    <br>\n",
    "     SYSTEM_URL acceptable examples:<br>\n",
    "     https://10.0.0.100<br>\n",
    "     https://ilo.hostname\n",
    "</div>"
   ]
  }
 ],
 "metadata": {
  "kernelspec": {
   "display_name": "Python 3 (ipykernel)",
   "language": "python",
   "name": "python3"
  },
  "language_info": {
   "codemirror_mode": {
    "name": "ipython",
    "version": 3
   },
   "file_extension": ".py",
   "mimetype": "text/x-python",
   "name": "python",
   "nbconvert_exporter": "python",
   "pygments_lexer": "ipython3",
   "version": "3.10.6"
  }
 },
 "nbformat": 4,
 "nbformat_minor": 5
}
