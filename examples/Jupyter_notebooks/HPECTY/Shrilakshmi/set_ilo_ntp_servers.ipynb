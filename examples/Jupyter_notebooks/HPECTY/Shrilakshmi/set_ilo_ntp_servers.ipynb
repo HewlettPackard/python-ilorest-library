{
 "cells": [
  {
   "cell_type": "markdown",
   "id": "57e65617",
   "metadata": {
    "tags": []
   },
   "source": [
    "# Setting NTP Servers for HPE iLO Systems"
   ]
  },
  {
   "cell_type": "markdown",
   "id": "826e692d",
   "metadata": {},
   "source": [
    "<div class=\"alert alert-block alert-info\">\n",
    "<i>Hello there.!<br></i> Welcome to <b>python-iLOrest-library</b> <br> Here is an example to <b>set the ilo NTP server!</b> <br> As you are here let's get it done easily.<br>\n",
    "    To perform this you need to have <a href = \"https://libraries.io/pypi/python-ilorest-library#id3\" style = \"none\">python-ilorest-library</a> installed in your machine.<br>\n",
    "    And please keep your username and password handy, we'll be needing it in a while!\n",
    "    <br>\n",
    "    <b>Follow the guide below to execute without any errors!</b>\n",
    "    \n",
    "</div>"
   ]
  },
  {
   "cell_type": "markdown",
   "id": "5bf83867",
   "metadata": {
    "tags": []
   },
   "source": [
    "<div class=\"alert alert-block alert-success\">\n",
    "    <h1> 1.</h1>\n",
    "Below we are importing all the necessary modules from the ilorest library tp set up the ilo NTP server!<br>\n",
    "  \n",
    "</div>"
   ]
  },
  {
   "cell_type": "code",
   "execution_count": 1,
   "id": "c329cde9",
   "metadata": {},
   "outputs": [],
   "source": [
    "import sys\n",
    "import json\n",
    "import time\n",
    "from redfish import RedfishClient\n",
    "from redfish.rest.v1 import ServerDownOrUnreachableError\n",
    "\n",
    "from get_resource_directory import get_resource_directory\n",
    "from reset_ilo import reset_ilo\n",
    "from enable_ntp_servers import enable_ntp"
   ]
  },
  {
   "cell_type": "markdown",
   "id": "87dd8456",
   "metadata": {
    "tags": []
   },
   "source": [
    "<div class = \"alert alert-block alert-success\">\n",
    "    <div style = \"color:green; font-size:40px;\">2.</div><br>\n",
    "    <p>The script begins by defining the necessary dependencies and helper functions. The set_ilo_ntp_servers function is responsible for updating the NTP server settings for the iLO system.</p>\n",
    "<br>Steps involved are:<br>\n",
    "\n",
    "\n",
    "1. The function set_ilo_ntp_servers sets the NTP (Network Time Protocol) servers for an HPE iLO system. It first retrieves the URI for the date and time service using the get_resource_directory function. If the resource directory is disabled or not available, it finds the URI by traversing the managers' hierarchy.\n",
    "\n",
    "2. Once the URI is obtained, the function sends a GET request to retrieve the current NTP server settings. If the StaticNTPServers property is present, it sends a PATCH request to update the NTP server list with the provided ntp_server_list.\n",
    "\n",
    "3. If any error occurs during the process, the function handles it accordingly. If the response status is 400, it attempts to access the iLO extended error information and prints it. If the response status is not 200 or 400, it prints an error message.\n",
    "\n",
    "4. If the NTP server update is successful, it prints a success message and the updated NTP server information.\n",
    "\n",
    "<br><br>\n",
    "In summary, the function retrieves the URI for the date and time service, updates the NTP server settings, and handles any errors that may occur during the process.\n",
    "</div>"
   ]
  },
  {
   "cell_type": "code",
   "execution_count": 1,
   "id": "f3786dd7",
   "metadata": {},
   "outputs": [],
   "source": [
    "def set_ilo_ntp_servers(_redfishobj, ntp_server_list):\n",
    "\n",
    "    date_time_uri = None\n",
    "\n",
    "    resource_instances = get_resource_directory(_redfishobj)\n",
    "    if DISABLE_RESOURCE_DIR or not resource_instances:\n",
    "        #if we do not have a resource directory or want to force it's non use to find the\n",
    "        #relevant URI\n",
    "        managers_uri = _redfishobj.root.obj['Managers']['@odata.id']\n",
    "        managers_response = _redfishobj.get(managers_uri)\n",
    "        managers_members_uri = next(iter(managers_response.obj['Members']))['@odata.id']\n",
    "        managers_members_response = _redfishobj.get(managers_members_uri)\n",
    "        date_time_uri = managers_members_response.obj.Oem.Hpe.Links['DateTimeService']['@odata.id']\n",
    "    else:\n",
    "        #Use Resource directory to find the relevant URI\n",
    "        for instance in resource_instances:\n",
    "            if '#HpeiLODateTime.' in instance['@odata.type']:\n",
    "                date_time_uri = instance['@odata.id']\n",
    "\n",
    "    if date_time_uri:\n",
    "        data = _redfishobj.get(date_time_uri)\n",
    "        if data.dict.get('StaticNTPServers'):\n",
    "            resp = _redfishobj.patch(date_time_uri, {'StaticNTPServers': ntp_server_list})\n",
    "        else:\n",
    "            raise Exception(\"\\'StaticNTPServers\\' property is not available/modifyable.\\n\")\n",
    "        #If iLO responds with soemthing outside of 200 or 201 then lets check the iLO extended info\n",
    "        #error message to see what went wrong\n",
    "        if resp.status == 400:\n",
    "            try:\n",
    "                print(json.dumps(resp.obj['error']['@Message.ExtendedInfo'], indent=4, \\\n",
    "                                                                                sort_keys=True))\n",
    "            except Exception as excp:\n",
    "                sys.stderr.write(\"A response error occurred, unable to access iLO Extended \" \\\n",
    "                                 \"Message Info...\")\n",
    "        elif resp.status != 200:\n",
    "            sys.stderr.write(\"An http response of \\'%s\\' was returned.\\n\" % resp.status)\n",
    "        else:\n",
    "            print(\"Success!\\n\")\n",
    "            print(json.dumps(resp.dict, indent=4, sort_keys=True))\n",
    "            ntp_data = _redfishobj.get(date_time_uri).dict.get('StaticNTPServers')\n",
    "            print(\"Printing updated NTP Servers:\\n\")\n",
    "            print(json.dumps(ntp_data, indent=4, sort_keys=True))"
   ]
  },
  {
   "cell_type": "markdown",
   "id": "5a12f202",
   "metadata": {},
   "source": [
    "<div class = \"alert alert-block alert-success\">\n",
    "    <div style = \"color:green; font-size:40px;\">3.</div><br>\n",
    "    The following code defines the give_client function, which creates a client object and performs the login operation through the following steps:<br>\n",
    "1. The function give_client creates a Redfish client object by instantiating the RedfishClient class. It provides the base URL, username, and password for the Redfish service as parameters.\n",
    "\n",
    "2. The function attempts to log in to the Redfish service using the created client object. It sends the login request with the provided credentials.\n",
    "\n",
    "3. If the login is successful, the function returns the instantiated Redfish client object. If there is an error connecting to the server or if the server does not support Redfish, an error message is printed, and the program exits.\n",
    "<br><br>\n",
    "In summary, the give_client function creates a Redfish client object, performs the login process, and returns the client object if the login is successful.</div>"
   ]
  },
  {
   "cell_type": "code",
   "execution_count": null,
   "id": "a963c789",
   "metadata": {},
   "outputs": [],
   "source": [
    "def give_client():\n",
    "    try:\n",
    "        # Create a Redfish client object\n",
    "        rf_obj = RedfishClient(base_url=SYSTEM_URL, username=LOGIN_ACCOUNT, \\\n",
    "                                                                            password=LOGIN_PASSWORD)\n",
    "        # Login with the Redfish client\n",
    "        rf_obj.login()\n",
    "    except ServerDownOrUnreachableError as excp:\n",
    "        sys.stderr.write(\"ERROR: server not reachable or does not support RedFish.\\n\")\n",
    "        sys.exit()\n",
    "\n",
    "    return rf_obj"
   ]
  },
  {
   "cell_type": "markdown",
   "id": "1d393dbe",
   "metadata": {
    "tags": []
   },
   "source": [
    "<div class = \"alert alert-block alert-success\">\n",
    "<div style = \"color:green; font-size:40px;\">4.</div><br>\n",
    "    This is Main function overview.<br>\n",
    "    <i>Let me give you a walk through of it!</i>\n",
    "    <br><br>\n",
    "    The main section of the script sets the system URL, login account, and password. It creates a Redfish client object, logs in to the iLO system, enables NTP servers for the primary iLO management interface, resets the iLO, and waits for 60 seconds. Afterward, it logs out, creates a new Redfish client object, and calls the set_ilo_ntp_servers function to configure the NTP servers using the specified list. Finally, it logs out again.\n",
    "\n",
    " </div>"
   ]
  },
  {
   "cell_type": "code",
   "execution_count": null,
   "id": "e3f7743a",
   "metadata": {},
   "outputs": [],
   "source": [
    "if __name__ == \"__main__\":\n",
    "    SYSTEM_URL = input(\"Enter System URL: \")\n",
    "    LOGIN_ACCOUNT = input(\"Enter Name: \")\n",
    "    LOGIN_PASSWORD = input(\"Enter password: \")\n",
    "\n",
    "    # logfile path and filename\n",
    "    LOGFILE = input(\"Enter log file path and file name: \")\n",
    "    # flag to force disable resource directory. Resource directory and associated operations are\n",
    "    # intended for HPE servers.\n",
    "    DISABLE_RESOURCE_DIR = False\n",
    "\n",
    "    try:\n",
    "        # Create a Redfish client object\n",
    "        REDFISHOBJ = RedfishClient(base_url=SYSTEM_URL, username=LOGIN_ACCOUNT, \\\n",
    "                                                                            password=LOGIN_PASSWORD)\n",
    "        # Login with the Redfish client\n",
    "        REDFISHOBJ.login()\n",
    "    except ServerDownOrUnreachableError as excp:\n",
    "        sys.stderr.write(\"ERROR: server not reachable or does not support RedFish.\\n\")\n",
    "        sys.exit()\n",
    "\n",
    "    get_ahs_data(REDFISHOBJ, LOGFILE)\n",
    "    REDFISHOBJ.logout()"
   ]
  },
  {
   "cell_type": "markdown",
   "id": "0cb9dca1",
   "metadata": {},
   "source": [
    "<div class=\"alert alert-block alert-warning\">\n",
    "<b> When running on the server locally : </b>  use the following values <br>\n",
    "    SYSTEM_URL = None <br>\n",
    "    LOGIN_ACCOUNT = None <br>\n",
    "    LOGIN_PASSWORD = None <br>\n",
    "    LOGFILE = data.ahs<br>\n",
    "    <b> When running remotely </b> connect using the secured (https://) address,account name, and password to send https requests <br>\n",
    "    SYSTEM_URL acceptable examples: <br>\n",
    "    \"https://10.0.0.100\" <br>\n",
    "    \"https://ilo.hostname\"\n",
    "</div>"
   ]
  },
  {
   "cell_type": "markdown",
   "id": "10a528a3",
   "metadata": {},
   "source": [
    "<div class = \"alert alert-block alert-success\">In case you need help 🔗 links to relevant resources :\n",
    "    <br>\n",
    "    1.Python-ilorest-library:<a href = \"https://github.com/HewlettPackard/python-ilorest-library\">LINK</a><br>\n",
    "    2.Hpe ilorest-api explorer:<a href = \"https://ilorestfulapiexplorer.ext.hpe.com/\">LINK</a><br>\n",
    "    3.Rest api: <a href = \"https://restfulapi.net/\">LINK</a><br>\n",
    "    \n",
    "</div>"
   ]
  }
 ],
 "metadata": {
  "kernelspec": {
   "display_name": "Python 3 (ipykernel)",
   "language": "python",
   "name": "python3"
  },
  "language_info": {
   "codemirror_mode": {
    "name": "ipython",
    "version": 3
   },
   "file_extension": ".py",
   "mimetype": "text/x-python",
   "name": "python",
   "nbconvert_exporter": "python",
   "pygments_lexer": "ipython3",
   "version": "3.10.6"
  }
 },
 "nbformat": 4,
 "nbformat_minor": 5
}
