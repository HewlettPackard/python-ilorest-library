{
 "cells": [
  {
   "cell_type": "markdown",
   "id": "029d388f",
   "metadata": {},
   "source": [
    "<h1 style=\"text-align:center;\">Gathering the power metrics average on HPE iLO systems</h1>"
   ]
  },
  {
   "cell_type": "markdown",
   "id": "e04b1c54",
   "metadata": {},
   "source": [
    "<div class=\"alert  alert-block  alert-info\" style=\"border-radius: 20px;\">    \n",
    "    <ul>\n",
    "        <li><p>This Jupyter Notebook will contains a example code to demonstrate how to gather power metrics average. This code is written in Python and uses the redfish library to perform the required operations.</p></li>\n",
    "        <li>As you are here let's get it done easily.</li>\n",
    "        <li>To perform this you need to have <a href = \"https://libraries.io/pypi/python-ilorest-library#id3\" style=\"none\">python-ilorest-library</a> installed in your machine.</li>\n",
    "        <li>Please keep your username and password handy</li>\n",
    "        <li>Do execute each successive cell once to avoid any errors!</li>\n",
    "    </ul>    \n",
    "</div>"
   ]
  },
  {
   "cell_type": "markdown",
   "id": "41203a2d",
   "metadata": {},
   "source": [
    "<div class=\"alert alert-block alert-success\"  style=\"border-radius: 20px;\">\n",
    "    <h3> 1. Below we are importing all the necessary python libraries</h3>\n",
    "    <ul>\n",
    "        <li><a href = \"https://www.tutorialspoint.com/what-is-python-s-sys-module#:~:text=%20What%20is%20Python%27s%20Sys%20Module%20%201,%5B0%5D%20prints%20the...%205%20Output.%20%20More%20\">sys</a></li>\n",
    "        <li>json</li>\n",
    "        <li>redfish</li> \n",
    "        <li>getpass - to take password as inputs securely</li> \n",
    "    </ul>\n",
    "</div>"
   ]
  },
  {
   "cell_type": "code",
   "execution_count": 1,
   "id": "dc837b94",
   "metadata": {
    "scrolled": false
   },
   "outputs": [
    {
     "ename": "ModuleNotFoundError",
     "evalue": "No module named 'redfish'",
     "output_type": "error",
     "traceback": [
      "\u001b[1;31m---------------------------------------------------------------------------\u001b[0m",
      "\u001b[1;31mModuleNotFoundError\u001b[0m                       Traceback (most recent call last)",
      "\u001b[1;32mC:\\Users\\BHUVAN~1\\AppData\\Local\\Temp/ipykernel_25992/2798673744.py\u001b[0m in \u001b[0;36m<module>\u001b[1;34m\u001b[0m\n\u001b[0;32m      1\u001b[0m \u001b[1;32mimport\u001b[0m \u001b[0msys\u001b[0m\u001b[1;33m\u001b[0m\u001b[1;33m\u001b[0m\u001b[0m\n\u001b[0;32m      2\u001b[0m \u001b[1;32mimport\u001b[0m \u001b[0mjson\u001b[0m\u001b[1;33m\u001b[0m\u001b[1;33m\u001b[0m\u001b[0m\n\u001b[1;32m----> 3\u001b[1;33m \u001b[1;32mfrom\u001b[0m \u001b[0mredfish\u001b[0m \u001b[1;32mimport\u001b[0m \u001b[0mRedfishClient\u001b[0m\u001b[1;33m\u001b[0m\u001b[1;33m\u001b[0m\u001b[0m\n\u001b[0m\u001b[0;32m      4\u001b[0m \u001b[1;32mfrom\u001b[0m \u001b[0mredfish\u001b[0m\u001b[1;33m.\u001b[0m\u001b[0mrest\u001b[0m\u001b[1;33m.\u001b[0m\u001b[0mv1\u001b[0m \u001b[1;32mimport\u001b[0m \u001b[0mServerDownOrUnreachableError\u001b[0m\u001b[1;33m\u001b[0m\u001b[1;33m\u001b[0m\u001b[0m\n\u001b[0;32m      5\u001b[0m \u001b[1;33m\u001b[0m\u001b[0m\n",
      "\u001b[1;31mModuleNotFoundError\u001b[0m: No module named 'redfish'"
     ]
    }
   ],
   "source": [
    "import sys\n",
    "import json\n",
    "from redfish import RedfishClient\n",
    "from redfish.rest.v1 import ServerDownOrUnreachableError\n",
    "\n",
    "#from get_resource_directory import get_resource_directory\n",
    "\n",
    "import getpass"
   ]
  },
  {
   "cell_type": "markdown",
   "id": "db36318d",
   "metadata": {},
   "source": [
    "<div class = \"alert alert-block alert-success\" style=\"border-radius: 20px;\">\n",
    "    <h3> 2. This is our get_powermetrics_average function overview.</h3><br>\n",
    "    \n",
    " There is a hierarchy involved in iLO Rest Api. So we are simply following the hierarchy present to do this.<br>\n",
    "\n",
    "1. The function <b>get_powermetrics_average</b> takes <b>_redfishobj</b> as a parameter, which represents the Redfish object used to interact with the server.\n",
    "    <br>\n",
    "    \n",
    "2. It initializes the variable <b>power_metrics_uri</b> to <b>None</b>.\n",
    "    <br>\n",
    "\n",
    "3. The function attempts to retrieve the resource directory using the <b>_redfishobj.get_resource_directory()</b> method. If the resource directory is disabled or not available, it follows an alternative approach to find the relevant URI.\n",
    "    <br>\n",
    "\n",
    "4. If the resource directory is disabled or not available, it retrieves the chassis URI from the root object using <b>_redfishobj.root.obj['Chassis']['@odata.id']</b> and makes a GET request to obtain the chassis response.\n",
    "    <br>\n",
    "\n",
    "5. Within the chassis members response, it retrieves the URI for power metrics under the HPE OEM namespace using <b>chassis_members_response.obj.Oem.Hpe['Power']['@odata.id']</b>. This URI represents the power metrics data.\n",
    "    <br>\n",
    "\n",
    "6. If the resource directory is available, the function iterates through the resource instances obtained from the resource directory.\n",
    "    <br>\n",
    "    \n",
    "7. It checks if the <b>@odata.type</b> of the instance contains <b>'#Power.'</b>, indicating that it represents power metrics. If found, it sets the <b>power_metrics_uri</b> variable to the @odata.id of the instance and breaks the loop.\n",
    "    <br>\n",
    "    \n",
    "8. If the <b>power_metrics_uri</b> is not <b>None</b>, it makes a GET request to retrieve the power metrics data using <b>_redfishobj.get(power_metrics_uri).obj.Oem.Hpe</b>.\n",
    "    <br>\n",
    "    \n",
    "    \n",
    "9. The function then prints the power data, represented as a JSON object.\n",
    "    <br>\n",
    "</div>"
   ]
  },
  {
   "cell_type": "code",
   "execution_count": null,
   "id": "9b5104a8",
   "metadata": {},
   "outputs": [],
   "source": [
    "def get_powermetrics_average(_redfishobj):\n",
    "\n",
    "    power_metrics_uri = None\n",
    "\n",
    "    resource_instances = _redfishobj.get_resource_directory()\n",
    "    if DISABLE_RESOURCE_DIR or not resource_instances:\n",
    "        #if we do not have a resource directory or want to force it's non use to find the\n",
    "        #relevant URI\n",
    "        chassis_uri = _redfishobj.root.obj['Chassis']['@odata.id']\n",
    "        chassis_response = _redfishobj.get(chassis_uri)\n",
    "        chassis_members_uri = next(iter(chassis_response.obj['Members']))['@odata.id']\n",
    "        chassis_members_response = _redfishobj.get(chassis_members_uri)\n",
    "        power_metrics_uri = chassis_members_response.obj.Oem.Hpe['Power']['@odata.id']\n",
    "    else:\n",
    "        for instance in resource_instances:\n",
    "            #Use Resource directory to find the relevant URI\n",
    "            if '#Power.' in instance['@odata.type']:\n",
    "                power_metrics_uri = instance['@odata.id']\n",
    "                break\n",
    "\n",
    "    if power_metrics_uri:\n",
    "        power_metrics_data = _redfishobj.get(power_metrics_uri).obj.Oem.Hpe\n",
    "        print(\"\\n\\nPower Data:\\n\\n\")\n",
    "        print(json.dumps(power_metrics_data, indent=4, sort_keys=True))"
   ]
  },
  {
   "cell_type": "markdown",
   "id": "d38fc2fb",
   "metadata": {},
   "source": [
    "<div class = \"alert alert-block alert-success\" style=\"border-radius: 20px;\">\n",
    "    <h3> 3. This is Main function overview.</h3>\n",
    "    <br>\n",
    " There is a hierarchy involved in iLO Rest Api. So we are simply following the hierarchy present to get the power metrics average.\n",
    "\n",
    "1. The rest opertions are handled by redfish object which is created by RedfishClient<br>\n",
    "<br>\n",
    "    \n",
    "2. <b>RedfishClient</b> class takes 3 parameters<i> iLO url, Username, Password</i> and returns a redfish object.<br>\n",
    "    <br>\n",
    "\n",
    "3. Once you enter everything a redfish obejct is created with the help of RedfishClient class.<br>\n",
    "    <br>\n",
    "\n",
    "4. Now we try to Login with the help of <i> REDFISHOBJ</i>, if it is successful a session is created and you are logged in, But if           Server       is not avaialbe we get an error saying \"server unreachable\"<br>\n",
    "    <br>\n",
    "5. Then we call <b>get_powermetrics_average</b> with our redfish object.<br>\n",
    "    \n",
    "\n",
    "6. REDFISHOBJ.logout() will take care of logging you out of the ilo.\n",
    "\n",
    " </div>"
   ]
  },
  {
   "cell_type": "markdown",
   "id": "a4d2be84",
   "metadata": {},
   "source": [
    "<div class=\"alert alert-block alert-warning\" style=\"border-radius: 20px;\">\n",
    "<b> When running on the server locally,</b>use the following values:<br>\n",
    "    SYSTEM_URL = None <br>\n",
    "    LOGIN_ACCOUNT = None <br>\n",
    "    LOGIN_PASSWORD = None <br>\n",
    "    <b> When running remotely </b> connect using the secured (https://) address, account name and password to send https requests<br>\n",
    "    SYSTEM_URL acceptable examples: <br>\n",
    "    \"https://10.0.0.100\" <br>\n",
    "    \"https://ilo.hostname\"\n",
    "</div>"
   ]
  },
  {
   "cell_type": "code",
   "execution_count": null,
   "id": "1399a2d5",
   "metadata": {},
   "outputs": [],
   "source": [
    "if __name__ == \"__main__\":\n",
    "    \n",
    "    SYSTEM_URL = input(\"Enter iLO IP address: \")\n",
    "    LOGIN_ACCOUNT = input(\"Enter Username: \")\n",
    "    LOGIN_PASSWORD = getpass.getpass(\"Enter password: \")\n",
    "\n",
    "    # flag to force disable resource directory. Resource directory and associated operations are\n",
    "    # intended for HPE servers.\n",
    "    DISABLE_RESOURCE_DIR = False\n",
    "\n",
    "    try:\n",
    "        # Create a Redfish client object\n",
    "        REDFISHOBJ = RedfishClient(base_url=SYSTEM_URL, username=LOGIN_ACCOUNT, password=LOGIN_PASSWORD)\n",
    "        # Login with the Redfish client\n",
    "        REDFISHOBJ.login()\n",
    "    except ServerDownOrUnreachableError as excp:\n",
    "        sys.stderr.write(\"ERROR: server not reachable or does not support RedFish.\\n\")\n",
    "        sys.exit()\n",
    "\n",
    "    get_powermetrics_average(REDFISHOBJ)\n",
    "    REDFISHOBJ.logout()"
   ]
  },
  {
   "cell_type": "markdown",
   "id": "dcb75619",
   "metadata": {},
   "source": [
    "<div class = \"alert alert-block alert-success\" style=\"border-radius: 20px;\">\n",
    "    In case you need help please check the follwoing links for reference:\n",
    "    <br>\n",
    "    1. Python-ilorest-library: <a href = \"https://github.com/HewlettPackard/python-ilorest-library\">Python ilorest library</a><br>\n",
    "    2. HPE ilorest-api explorer: <a href = \"https://ilorestfulapiexplorer.ext.hpe.com/\">ilorestful api explorer</a><br>\n",
    "    3. HPE iLO Redfish Documentation: <a href = \"https://hewlettpackard.github.io/ilo-rest-api-docs/ilo6/\">HPE iLO Redfish API Documentation</a><br>\n",
    "    4. REST API: <a href = \"https://restfulapi.net/\">Restful API</a><br>    \n",
    "</div>"
   ]
  },
  {
   "cell_type": "code",
   "execution_count": null,
   "id": "045e852d",
   "metadata": {},
   "outputs": [],
   "source": []
  }
 ],
 "metadata": {
  "kernelspec": {
   "display_name": "Python 3 (ipykernel)",
   "language": "python",
   "name": "python3"
  },
  "language_info": {
   "codemirror_mode": {
    "name": "ipython",
    "version": 3
   },
   "file_extension": ".py",
   "mimetype": "text/x-python",
   "name": "python",
   "nbconvert_exporter": "python",
   "pygments_lexer": "ipython3",
   "version": "3.9.7"
  }
 },
 "nbformat": 4,
 "nbformat_minor": 5
}
