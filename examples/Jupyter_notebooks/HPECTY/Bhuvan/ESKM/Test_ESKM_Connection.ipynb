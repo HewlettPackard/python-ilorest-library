{
 "cells": [
  {
   "cell_type": "markdown",
   "id": "17caee10",
   "metadata": {},
   "source": [
    "<h1 style=\"text-align:center;\">Test ESKM Connection</h1>"
   ]
  },
  {
   "cell_type": "markdown",
   "id": "8ca92dce",
   "metadata": {},
   "source": [
    "<div class=\"alert  alert-block  alert-info\" style=\"border-radius: 20px;\">    \n",
    "    <ul>\n",
    "        <li><p>This Jupyter Notebook will contain script for testing connection to the ESKM (Enterprise Secure Key Manager) system for HPE iLO systems. This code is written in Python and uses the redfish library to perform the required operations.</p></li>\n",
    "        <li>As you are here let's get it done easily.</li>\n",
    "        <li>To perform this you need to have <a href = \"https://libraries.io/pypi/python-ilorest-library#id3\" style=\"none\">python-ilorest-library</a> installed in your machine.</li>\n",
    "        <li>Please keep your username and password handy</li>\n",
    "        <li>Do execute each successive cell once to avoid any errors!</li>\n",
    "    </ul>    \n",
    "</div>"
   ]
  },
  {
   "cell_type": "markdown",
   "id": "d5c69ec2",
   "metadata": {},
   "source": [
    "<div class=\"alert alert-block alert-success\"  style=\"border-radius: 20px;\">\n",
    "    <h3> 1. Below we are importing all the necessary python libraries</h3>\n",
    "    <ul>\n",
    "        <li><a href = \"https://www.tutorialspoint.com/what-is-python-s-sys-module#:~:text=%20What%20is%20Python%27s%20Sys%20Module%20%201,%5B0%5D%20prints%20the...%205%20Output.%20%20More%20\">sys</a></li>\n",
    "        <li>json</li>\n",
    "        <li>redfish</li> \n",
    "        <li>getpass - to take password as inputs securely</li> \n",
    "    </ul>\n",
    "</div>"
   ]
  },
  {
   "cell_type": "code",
   "execution_count": null,
   "id": "149adcfa",
   "metadata": {},
   "outputs": [],
   "source": [
    "import sys\n",
    "import json\n",
    "from redfish import RedfishClient\n",
    "from redfish.rest.v1 import ServerDownOrUnreachableError\n",
    "\n",
    "from get_resource_directory import get_resource_directory\n",
    "\n",
    "import getpass"
   ]
  },
  {
   "cell_type": "markdown",
   "id": "c74f9b37",
   "metadata": {},
   "source": [
    "<div class = \"alert alert-block alert-success\" style=\"border-radius: 20px;\">\n",
    "    <h3> 2. This is our test_ESKM_connection function overview.</h3><br>\n",
    "    \n",
    " There is a hierarchy involved in iLO Rest Api. So we are simply following the hierarchy present to do this.<br>\n",
    "\n",
    "1. The <b>test_ESKM_connection_ilo_firmware</b> function takes one parameter - <b>_redfishobj</b>.\n",
    "    <br>\n",
    "    \n",
    "2. Initialize the <b>eskm_uri</b> and <b>body</b> variables to <b>None</b> and an empty dictionary, respectively.\n",
    "    <br>\n",
    "\n",
    "3. Call the <b>get_resource_directory()</b> function by passing <b>_redfishobj</b> as a parameter to retrieve the resource directory of the server. If the resource directory is not available or disabled, find the relevant URI by navigating through the server's API.\n",
    "    <br>\n",
    "\n",
    "4. If the resource directory is available, find the relevant URI from the resource directory.\n",
    "    <br>\n",
    "\n",
    "5. Check if <b>eskm_uri</b> has been set. If <b>eskm_uri</b> is not <b>None</b>, retrieve the URI for the ESKM service.\n",
    "    <br>\n",
    "\n",
    "6. If the ESKM URI is available, retrieve the URI for testing the ESKM connection from the response.\n",
    "    <br>\n",
    "\n",
    "7. Set the <b>Action</b> field of the <b>body</b> dictionary to <b>\"HpeESKM.TestESKMConnections\"</b>.\n",
    "    <br>\n",
    "    \n",
    "8. Call the <b>post()</b> method of the <b>_redfishobj</b> object with the ESKM test connection URI and the <b>body</b> dictionary as parameters.\n",
    "    <br>\n",
    "    \n",
    "9. If the HTTP response status code is not 200 or 201, print an error message. If the HTTP response status code is 400, print the iLO extended info error message. If the HTTP response status code is 200 or 201, print a success message and the JSON-formatted response.\n",
    "    \n",
    "    \n",
    "10. If eskm_uri is None, print an error message.\n",
    "    <br>\n",
    "</div>"
   ]
  },
  {
   "cell_type": "code",
   "execution_count": null,
   "id": "96ac0e95",
   "metadata": {},
   "outputs": [],
   "source": [
    "def test_ESKM_connection(_redfishobj):\n",
    "\n",
    "    eskm_uri = None\n",
    "    body = dict()\n",
    "\n",
    "    resource_instances = get_resource_directory(_redfishobj)\n",
    "    if DISABLE_RESOURCE_DIR or not resource_instances:\n",
    "        #if we do not have a resource directory or want to force it's non use to find the\n",
    "        #relevant URI\n",
    "        managers_uri = _redfishobj.root.obj['Managers']['@odata.id']\n",
    "        managers_response = _redfishobj.get(managers_uri)\n",
    "        managers_members_uri = next(iter(managers_response.obj['Members']))['@odata.id']\n",
    "        managers_members_response = _redfishobj.get(managers_members_uri)\n",
    "        security_service_uri = managers_members_response.obj.Oem.Hpe.Links['SecurityService']['@odata.id']\n",
    "        security_service_response = _redfishobj.get(security_service_uri)\n",
    "        eskm_uri = security_service_response.obj.Links['ESKM']['@odata.id']\n",
    "\n",
    "    else:\n",
    "        #Use Resource directory to find the relevant URI\n",
    "        for instance in resource_instances:\n",
    "            if '#HpeESKM.' in instance['@odata.type']:\n",
    "                eskm_uri = instance['@odata.id']\n",
    "                break\n",
    "\n",
    "    if eskm_uri:\n",
    "        eskm_test_conn_uri = _redfishobj.get(eskm_uri).obj['Actions']['#HpeESKM.TestESKMConnections']['target']\n",
    "        body[\"Action\"] = \"HpeESKM.TestESKMConnections\"\n",
    "        resp = _redfishobj.post(eskm_test_conn_uri, body)\n",
    "        #If iLO responds with something outside of 200 or 201 then lets check the iLO extended info\n",
    "        #error message to see what went wrong\n",
    "        if resp.status == 400:\n",
    "            try:\n",
    "                print(json.dumps(resp.obj['error']['@Message.ExtendedInfo'], indent=4, sort_keys=True))\n",
    "            except Exception as excp:\n",
    "                sys.stderr.write(\"A response error occurred, unable to access iLO Extended Message Info...\")\n",
    "        elif resp.status != 200:\n",
    "            sys.stderr.write(\"An http response of \\'%s\\' was returned.\\n\" % resp.status)\n",
    "        else:\n",
    "            print(\"Success!\\n\")\n",
    "            print(json.dumps(resp.dict, indent=4, sort_keys=True))\n"
   ]
  },
  {
   "cell_type": "markdown",
   "id": "beb17e66",
   "metadata": {},
   "source": [
    "<div class = \"alert alert-block alert-success\" style=\"border-radius: 20px;\">\n",
    "    <h3> 3. This is Main function overview.</h3>\n",
    "    <br>\n",
    " There is a hierarchy involved in iLO Rest Api. So we are simply following the hierarchy present to test connection to ESKM Systems.\n",
    "\n",
    "1. The rest opertions are handled by redfish object which is created by RedfishClient<br>\n",
    "<br>\n",
    "    \n",
    "2. <b>RedfishClient</b> class takes 3 parameters<i> iLO url, Username, Password</i> and returns a redfish object.<br>\n",
    "    <br>\n",
    "\n",
    "3. Once you enter everything a redfish obejct is created with the help of RedfishClient class.<br>\n",
    "    <br>\n",
    "\n",
    "4. Now we try to Login with the help of <i> REDFISHOBJ</i>, if it is successful you are logged in, But if           Server       is not avaialbe we get an error saying \"server unreachable\"<br>\n",
    "    <br>\n",
    "    \n",
    "5. Then we call <b>test_ESKM_connection</b> with our redfish object as parameter.<br>  <br>  \n",
    "\n",
    "6. REDFISHOBJ.logout() will take care of logging you out of the ilo.<br><br>\n",
    "\n",
    "</div>"
   ]
  },
  {
   "cell_type": "markdown",
   "id": "571dd05d",
   "metadata": {},
   "source": [
    "<div class=\"alert alert-block alert-warning\" style=\"border-radius: 20px;\">\n",
    "<b> When running on the server locally,</b>use the following values:<br>\n",
    "    SYSTEM_URL = None <br>\n",
    "    LOGIN_ACCOUNT = None <br>\n",
    "    LOGIN_PASSWORD = None <br>\n",
    "    <b> When running remotely </b> connect using the secured (https://) address, account name and password to send https requests<br>\n",
    "    SYSTEM_URL acceptable examples: <br>\n",
    "    \"https://10.0.0.100\" <br>\n",
    "    \"https://ilo.hostname\"\n",
    "</div>"
   ]
  },
  {
   "cell_type": "code",
   "execution_count": null,
   "id": "09b2811e",
   "metadata": {},
   "outputs": [],
   "source": [
    "if __name__ == \"__main__\":\n",
    "    \n",
    "    SYSTEM_URL = input(\"Enter System URL: \")\n",
    "    LOGIN_ACCOUNT = input(\"Enter Login account: \")\n",
    "    LOGIN_PASSWORD = getpass.getpass(\"Enter your password: \")\n",
    "\n",
    "    # flag to force disable resource directory. Resource directory and associated operations are\n",
    "    # intended for HPE servers.\n",
    "    DISABLE_RESOURCE_DIR = False\n",
    "\n",
    "    try:\n",
    "        # Create a Redfish client object\n",
    "        REDFISHOBJ = RedfishClient(base_url=SYSTEM_URL, username=LOGIN_ACCOUNT, password=LOGIN_PASSWORD)\n",
    "        # Login with the Redfish client\n",
    "        REDFISHOBJ.login()\n",
    "    except ServerDownOrUnreachableError as excp:\n",
    "        sys.stderr.write(\"ERROR: server not reachable or does not support RedFish.\\n\")\n",
    "        sys.exit()\n",
    "\n",
    "    test_ESKM_connection(REDFISHOBJ)\n",
    "    REDFISHOBJ.logout()"
   ]
  },
  {
   "cell_type": "markdown",
   "id": "d0cdf874",
   "metadata": {},
   "source": [
    "<div class = \"alert alert-block alert-success\" style=\"border-radius: 20px;\">\n",
    "    In case you need help please check the follwoing links for reference:\n",
    "    <br>\n",
    "    1. Python-ilorest-library: <a href = \"https://github.com/HewlettPackard/python-ilorest-library\">Python ilorest library</a><br>\n",
    "    2. HPE ilorest-api explorer: <a href = \"https://ilorestfulapiexplorer.ext.hpe.com/\">ilorestful api explorer</a><br>\n",
    "    3. HPE iLO Redfish Documentation: <a href = \"https://hewlettpackard.github.io/ilo-rest-api-docs/ilo6/\">HPE iLO Redfish API Documentation</a><br>\n",
    "    4. REST API: <a href = \"https://restfulapi.net/\">Restful API</a><br>    \n",
    "</div>"
   ]
  }
 ],
 "metadata": {
  "kernelspec": {
   "display_name": "Python 3 (ipykernel)",
   "language": "python",
   "name": "python3"
  },
  "language_info": {
   "codemirror_mode": {
    "name": "ipython",
    "version": 3
   },
   "file_extension": ".py",
   "mimetype": "text/x-python",
   "name": "python",
   "nbconvert_exporter": "python",
   "pygments_lexer": "ipython3",
   "version": "3.9.7"
  }
 },
 "nbformat": 4,
 "nbformat_minor": 5
}
