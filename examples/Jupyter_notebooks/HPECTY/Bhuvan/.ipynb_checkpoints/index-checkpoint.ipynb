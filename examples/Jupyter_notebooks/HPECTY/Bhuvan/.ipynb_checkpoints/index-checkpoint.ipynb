{
 "cells": [
  {
   "cell_type": "markdown",
   "id": "18ad6013",
   "metadata": {},
   "source": [
    "<img id=\"my-image\" src=\"https://upload.wikimedia.org/wikipedia/commons/thumb/4/46/Hewlett_Packard_Enterprise_logo.svg/1200px-Hewlett_Packard_Enterprise_logo.svg.png\" alt=\"HPE Logo\" srcset=\"\" style=\"width: 32rem; border-radius: 5px; transition: all 0.2s ease-out; padding: 10px;\">"
   ]
  },
  {
   "cell_type": "markdown",
   "id": "20da06d1",
   "metadata": {},
   "source": [
    "<h1 style=\"text-align:center; border-top: 1px solid black; border-bottom: 1px solid black; padding-top:5px; padding-bottom:5px;\">Scripts related to BIOS</h1>"
   ]
  },
  {
   "cell_type": "markdown",
   "id": "fa8b0fad",
   "metadata": {},
   "source": [
    "<table style=\"border-radius: 10px; background-color: #f9f9f9; border-collapse: collapse; width: 100%; max-width: 800px; margin: 0 auto; box-shadow: 4px 4px 8px rgba(0, 0, 0, 0.2), -4px -4px 8px rgba(255, 255, 255, 0.5); \">\n",
    "  <thead>\n",
    "    <tr style=\"background-color: #333; color: #fff;\">\n",
    "      <th style=\"padding: 12px; text-align: left;\">OPERATION</th>\n",
    "      <th style=\"padding: 12px; text-align: left;\">DESCRIPTION</th>\n",
    "      <th style=\"padding: 12px; text-align: left;\">METHOD</th>\n",
    "      <th style=\"padding: 12px; text-align: left;\">LOCATION</th>\n",
    "    </tr>\n",
    "  </thead>\n",
    "  <tbody>\n",
    "    <tr onmouseover=\"this.style.boxShadow='0px 10px 20px rgba(0, 0, 0, 0.4)';\" onmouseout=\"this.style.boxShadow='0px 5px 10px rgba(0, 0, 0, 0.4)';\" style=\"padding: 10px;background-color: #fff;\">\n",
    "      <td style=\"padding: 12px; text-align: left; color: black;\">Change BIOS Settings</td>\n",
    "      <td style=\"padding: 12px; text-align: left;\">Update BIOS Settings for iLO server</td>\n",
    "      <td style=\"padding: 12px; text-align: left;\">PATCH</td>\n",
    "      <td style=\"padding: 12px; text-align: left;\"><a href=\"./BIOS/BIOS_ChangeSettings.ipynb\">BIOS_ChangeSettings</a></td>\n",
    "    </tr>\n",
    "    <tr style=\"background-color: #f2f2f2;\">\n",
    "      <td style=\"padding: 12px; text-align: left;\">BIOS Default</td>\n",
    "      <td style=\"padding: 12px; text-align: left;\">Update BIOS to default setting</td>\n",
    "      <td style=\"padding: 12px; text-align: left;\">POST</td>\n",
    "      <td style=\"padding: 12px; text-align: left;\"><a href=\"./BIOS/BIOS_RevertToDefault.ipynb\">BIOS_RevertToDefault</a></td>\n",
    "    </tr>\n",
    "  </tbody>\n",
    "</table>\n"
   ]
  },
  {
   "cell_type": "markdown",
   "id": "81721043",
   "metadata": {},
   "source": [
    "<h1 style=\"text-align:center; border-top: 1px solid black; border-bottom: 1px solid black; padding-top:5px; padding-bottom:5px;\">Scripts related to Users</h1>"
   ]
  },
  {
   "cell_type": "markdown",
   "id": "cf10b943",
   "metadata": {},
   "source": [
    "<table style=\"border-radius: 10px; background-color: #f9f9f9; border-collapse: collapse; width: 100%; max-width: 800px; margin: 0 auto; box-shadow: 4px 4px 8px rgba(0, 0, 0, 0.2), -4px -4px 8px rgba(255, 255, 255, 0.5); \">\n",
    "  <thead>\n",
    "    <tr style=\"background-color: #333; color: #fff;\">\n",
    "      <th style=\"padding: 12px; text-align: left;\">OPERATION</th>\n",
    "      <th style=\"padding: 12px; text-align: left;\">DESCRIPTION</th>\n",
    "      <th style=\"padding: 12px; text-align: left;\">METHOD</th>\n",
    "      <th style=\"padding: 12px; text-align: left;\">LOCATION</th>\n",
    "    </tr>\n",
    "  </thead>\n",
    "  <tbody>\n",
    "    <tr onmouseover=\"this.style.boxShadow='0px 10px 20px rgba(0, 0, 0, 0.4)';\" onmouseout=\"this.style.boxShadow='0px 5px 10px rgba(0, 0, 0, 0.4)';\" style=\"padding: 10px;background-color: #fff;\">\n",
    "      <td style=\"padding: 12px; text-align: left; color: black;\">Add User Account</td>\n",
    "      <td style=\"padding: 12px; text-align: left;\">Add new user account</td>\n",
    "      <td style=\"padding: 12px; text-align: left;\">PATCH</td>\n",
    "      <td style=\"padding: 12px; text-align: left;\"><a href=\"./USERS/Add_user_account.ipynb\">Add user account</a></td>\n",
    "    </tr>\n",
    "  </tbody>\n",
    "</table>\n"
   ]
  },
  {
   "cell_type": "markdown",
   "id": "5e16cdec",
   "metadata": {},
   "source": [
    "<h1 style=\"text-align:center; border-top: 1px solid black; border-bottom: 1px solid black; padding-top:5px; padding-bottom:5px;\">Scripts related to Booting</h1>"
   ]
  },
  {
   "cell_type": "markdown",
   "id": "616fef86",
   "metadata": {},
   "source": [
    "<table style=\"border-radius: 10px; background-color: #f9f9f9; border-collapse: collapse; width: 100%; max-width: 800px; margin: 0 auto; box-shadow: 4px 4px 8px rgba(0, 0, 0, 0.2), -4px -4px 8px rgba(255, 255, 255, 0.5); \">\n",
    "  <thead>\n",
    "    <tr style=\"background-color: #333; color: #fff;\">\n",
    "      <th style=\"padding: 12px; text-align: left;\">OPERATION</th>\n",
    "      <th style=\"padding: 12px; text-align: left;\">DESCRIPTION</th>\n",
    "      <th style=\"padding: 12px; text-align: left;\">METHOD</th>\n",
    "      <th style=\"padding: 12px; text-align: left;\">LOCATION</th>\n",
    "    </tr>\n",
    "  </thead>\n",
    "  <tbody>\n",
    "    <tr onmouseover=\"this.style.boxShadow='0px 10px 20px rgba(0, 0, 0, 0.4)';\" onmouseout=\"this.style.boxShadow='0px 5px 10px rgba(0, 0, 0, 0.4)';\" style=\"padding: 10px;background-color: #fff;\">\n",
    "      <td style=\"padding: 12px; text-align: left; color: black;\">Change Boot Order</td>\n",
    "      <td style=\"padding: 12px; text-align: left;\">Change iLOs boot ordert</td>\n",
    "      <td style=\"padding: 12px; text-align: left;\">PATCH</td>\n",
    "      <td style=\"padding: 12px; text-align: left;\"><a href=\"./BOOT/Change_Boot_Order.ipynb\">Change_Boot_Order</a></td>\n",
    "    </tr>\n",
    "      <tr onmouseover=\"this.style.boxShadow='0px 10px 20px rgba(0, 0, 0, 0.4)';\" onmouseout=\"this.style.boxShadow='0px 5px 10px rgba(0, 0, 0, 0.4)';\" style=\"padding: 10px;background-color: #fff;\">\n",
    "      <td style=\"padding: 12px; text-align: left; color: black;\">Change Temporary Boot Order</td>\n",
    "      <td style=\"padding: 12px; text-align: left;\">Change iLOs temporary boot ordert</td>\n",
    "      <td style=\"padding: 12px; text-align: left;\">PATCH</td>\n",
    "      <td style=\"padding: 12px; text-align: left;\"><a href=\"./BOOT/Change_Temp_Boot_Order.ipynb\">Change_Temp_Boot_Order</a></td>\n",
    "    </tr>\n",
    "  </tbody>\n",
    "</table>\n"
   ]
  },
  {
   "cell_type": "markdown",
   "id": "2a39acd4",
   "metadata": {},
   "source": [
    "<h1 style=\"text-align:center; border-top: 1px solid black; border-bottom: 1px solid black; padding-top:5px; padding-bottom:5px;\">Scripts related to Firmware</h1>"
   ]
  },
  {
   "cell_type": "markdown",
   "id": "a7f7d0e2",
   "metadata": {},
   "source": [
    "<table style=\"border-radius: 10px; background-color: #f9f9f9; border-collapse: collapse; width: 100%; max-width: 800px; margin: 0 auto; box-shadow: 4px 4px 8px rgba(0, 0, 0, 0.2), -4px -4px 8px rgba(255, 255, 255, 0.5); \">\n",
    "  <thead>\n",
    "    <tr style=\"background-color: #333; color: #fff;\">\n",
    "      <th style=\"padding: 12px; text-align: left;\">OPERATION</th>\n",
    "      <th style=\"padding: 12px; text-align: left;\">DESCRIPTION</th>\n",
    "      <th style=\"padding: 12px; text-align: left;\">METHOD</th>\n",
    "      <th style=\"padding: 12px; text-align: left;\">LOCATION</th>\n",
    "    </tr>\n",
    "  </thead>\n",
    "  <tbody>\n",
    "    <tr onmouseover=\"this.style.boxShadow='0px 10px 20px rgba(0, 0, 0, 0.4)';\" onmouseout=\"this.style.boxShadow='0px 5px 10px rgba(0, 0, 0, 0.4)';\" style=\"padding: 10px;background-color: #fff;\">\n",
    "      <td style=\"padding: 12px; text-align: left; color: black;\">Upload Firmware to iLO repository</td>\n",
    "      <td style=\"padding: 12px; text-align: left;\">Script for uploading firmware to the iLO Repository for flashing</td>\n",
    "      <td style=\"padding: 12px; text-align: left;\"></td>\n",
    "      <td style=\"padding: 12px; text-align: left;\"><a href=\"./FIRMWARE/Upload_firmware_to_iLO_repository.ipynb\">Upload_Firmware_to_iLO_repo</a></td>\n",
    "    </tr>\n",
    "      <tr onmouseover=\"this.style.boxShadow='0px 10px 20px rgba(0, 0, 0, 0.4)';\" onmouseout=\"this.style.boxShadow='0px 5px 10px rgba(0, 0, 0, 0.4)';\" style=\"padding: 10px;background-color: #fff;\">\n",
    "      <td style=\"padding: 12px; text-align: left; color: black;\">Upload Firmware with associated COMPSIG file to iLO repository</td>\n",
    "      <td style=\"padding: 12px; text-align: left;\">Script for uploading a firmware component with a size less than\n",
    "32 GB, and associated Component Signature (compsig) signature file to the iLO Repository</td>\n",
    "      <td style=\"padding: 12px; text-align: left;\"></td>\n",
    "      <td style=\"padding: 12px; text-align: left;\"><a href=\"./FIRMWARE/Upload_Firmware_iLO_Repository_with_COMPSIG.py.ipynb\">Upload_Firmware_iLO_Repo_with_COMPSIG</a></td>\n",
    "    </tr>\n",
    "      <tr onmouseover=\"this.style.boxShadow='0px 10px 20px rgba(0, 0, 0, 0.4)';\" onmouseout=\"this.style.boxShadow='0px 5px 10px rgba(0, 0, 0, 0.4)';\" style=\"padding: 10px;background-color: #fff;\">\n",
    "      <td style=\"padding: 12px; text-align: left; color: black;\">Update Firmware</td>\n",
    "      <td style=\"padding: 12px; text-align: left;\">Script for updating Firmware via HTTP URL</td>\n",
    "      <td style=\"padding: 12px; text-align: left;\"></td>\n",
    "      <td style=\"padding: 12px; text-align: left;\"><a href=\"./FIRMWARE/Update_iLO_Firmware.ipynb\">Update_iLO_Firmware</a></td>\n",
    "    </tr>\n",
    "      <tr onmouseover=\"this.style.boxShadow='0px 10px 20px rgba(0, 0, 0, 0.4)';\" onmouseout=\"this.style.boxShadow='0px 5px 10px rgba(0, 0, 0, 0.4)';\" style=\"padding: 10px;background-color: #fff;\">\n",
    "      <td style=\"padding: 12px; text-align: left; color: black;\">View Firmware Inventory</td>\n",
    "      <td style=\"padding: 12px; text-align: left;\">Script for viewing the firmware inventory on HPE iLO systems</td>\n",
    "      <td style=\"padding: 12px; text-align: left;\"></td>\n",
    "      <td style=\"padding: 12px; text-align: left;\"><a href=\"./FIRMWARE/Software_Firmware_Inventory.ipynb\">Software_Firmware_Inventory</a></td>\n",
    "    </tr>\n",
    "  </tbody>\n",
    "</table>\n"
   ]
  },
  {
   "cell_type": "markdown",
   "id": "a224da35",
   "metadata": {},
   "source": [
    "<h1 style=\"text-align:center; border-top: 1px solid black; border-bottom: 1px solid black; padding-top:5px; padding-bottom:5px;\">Scripts related to ESKM (Enterprise Secure Key Manager)</h1>"
   ]
  },
  {
   "cell_type": "markdown",
   "id": "b44242b9",
   "metadata": {},
   "source": [
    "<table style=\"border-radius: 10px; background-color: #f9f9f9; border-collapse: collapse; width: 100%; max-width: 800px; margin: 0 auto; box-shadow: 4px 4px 8px rgba(0, 0, 0, 0.2), -4px -4px 8px rgba(255, 255, 255, 0.5); \">\n",
    "  <thead>\n",
    "    <tr style=\"background-color: #333; color: #fff;\">\n",
    "      <th style=\"padding: 12px; text-align: left;\">OPERATION</th>\n",
    "      <th style=\"padding: 12px; text-align: left;\">DESCRIPTION</th>\n",
    "      <th style=\"padding: 12px; text-align: left;\">METHOD</th>\n",
    "      <th style=\"padding: 12px; text-align: left;\">LOCATION</th>\n",
    "    </tr>\n",
    "  </thead>\n",
    "  <tbody>\n",
    "    <tr onmouseover=\"this.style.boxShadow='0px 10px 20px rgba(0, 0, 0, 0.4)';\" onmouseout=\"this.style.boxShadow='0px 5px 10px rgba(0, 0, 0, 0.4)';\" style=\"padding: 10px;background-color: #fff;\">\n",
    "      <td style=\"padding: 12px; text-align: left; color: black;\">Test ESKM Connection</td>\n",
    "      <td style=\"padding: 12px; text-align: left;\">Script for testing connection to the ESKM system for HPE iLO systems</td>\n",
    "      <td style=\"padding: 12px; text-align: left;\"></td>\n",
    "      <td style=\"padding: 12px; text-align: left;\"><a href=\"./ESKM/Test_ESKM_Connection.ipynb\">Test_ESKM_Connection</a></td>\n",
    "    </tr>\n",
    "  </tbody>\n",
    "</table>\n"
   ]
  },
  {
   "cell_type": "markdown",
   "id": "a0d4cfe3",
   "metadata": {},
   "source": [
    "<h1 style=\"text-align:center; border-top: 1px solid black; border-bottom: 1px solid black; padding-top:5px; padding-bottom:5px;\">Scripts related to Power</h1>"
   ]
  },
  {
   "cell_type": "markdown",
   "id": "e8055b18",
   "metadata": {},
   "source": [
    "<table style=\"border-radius: 10px; background-color: #f9f9f9; border-collapse: collapse; width: 100%; max-width: 800px; margin: 0 auto; box-shadow: 4px 4px 8px rgba(0, 0, 0, 0.2), -4px -4px 8px rgba(255, 255, 255, 0.5); \">\n",
    "  <thead>\n",
    "    <tr style=\"background-color: #333; color: #fff;\">\n",
    "      <th style=\"padding: 12px; text-align: left;\">OPERATION</th>\n",
    "      <th style=\"padding: 12px; text-align: left;\">DESCRIPTION</th>\n",
    "      <th style=\"padding: 12px; text-align: left;\">METHOD</th>\n",
    "      <th style=\"padding: 12px; text-align: left;\">LOCATION</th>\n",
    "    </tr>\n",
    "  </thead>\n",
    "  <tbody>\n",
    "    <tr onmouseover=\"this.style.boxShadow='0px 10px 20px rgba(0, 0, 0, 0.4)';\" onmouseout=\"this.style.boxShadow='0px 5px 10px rgba(0, 0, 0, 0.4)';\" style=\"padding: 10px;background-color: #fff;\">\n",
    "      <td style=\"padding: 12px; text-align: left; color: black;\">Get Power Metrics Average</td>\n",
    "      <td style=\"padding: 12px; text-align: left;\">Script for gathering the power metrics average on HPE iLO systems</td>\n",
    "      <td style=\"padding: 12px; text-align: left;\"></td>\n",
    "      <td style=\"padding: 12px; text-align: left;\"><a href=\"./POWER/Get_Powermetrics_Average.ipynb\">Get_Powermetrics_Average</a></td>\n",
    "    </tr>\n",
    "  </tbody>\n",
    "</table>\n"
   ]
  },
  {
   "cell_type": "markdown",
   "id": "bcbac905",
   "metadata": {},
   "source": [
    "<h1 style=\"text-align:center; border-top: 1px solid black; border-bottom: 1px solid black; padding-top:5px; padding-bottom:5px;\">Miscellaneous Scripts</h1>"
   ]
  },
  {
   "cell_type": "markdown",
   "id": "610e17bf",
   "metadata": {},
   "source": [
    "<table style=\"border-radius: 10px; background-color: #f9f9f9; border-collapse: collapse; width: 100%; max-width: 800px; margin: 0 auto; box-shadow: 4px 4px 8px rgba(0, 0, 0, 0.2), -4px -4px 8px rgba(255, 255, 255, 0.5); \">\n",
    "  <thead>\n",
    "    <tr style=\"background-color: #333; color: #fff;\">\n",
    "      <th style=\"padding: 12px; text-align: left;\">OPERATION</th>\n",
    "      <th style=\"padding: 12px; text-align: left;\">DESCRIPTION</th>\n",
    "      <th style=\"padding: 12px; text-align: left;\">METHOD</th>\n",
    "      <th style=\"padding: 12px; text-align: left;\">LOCATION</th>\n",
    "    </tr>\n",
    "  </thead>\n",
    "  <tbody>\n",
    "    <tr onmouseover=\"this.style.boxShadow='0px 10px 20px rgba(0, 0, 0, 0.4)';\" onmouseout=\"this.style.boxShadow='0px 5px 10px rgba(0, 0, 0, 0.4)';\" style=\"padding: 10px;background-color: #fff;\">\n",
    "      <td style=\"padding: 12px; text-align: left; color: black;\">Example Data Resopnses</td>\n",
    "      <td style=\"padding: 12px; text-align: left;\">Example Script for expanding data responses</td>\n",
    "      <td style=\"padding: 12px; text-align: left;\"></td>\n",
    "      <td style=\"padding: 12px; text-align: left;\"><a href=\"./MISCELLANEOUS/Expand_data.ipynb\">Expand_data</a></td>\n",
    "    </tr>\n",
    "  </tbody>\n",
    "</table>\n"
   ]
  },
  {
   "cell_type": "code",
   "execution_count": null,
   "id": "347cbdcf",
   "metadata": {},
   "outputs": [],
   "source": []
  }
 ],
 "metadata": {
  "kernelspec": {
   "display_name": "Python 3 (ipykernel)",
   "language": "python",
   "name": "python3"
  },
  "language_info": {
   "codemirror_mode": {
    "name": "ipython",
    "version": 3
   },
   "file_extension": ".py",
   "mimetype": "text/x-python",
   "name": "python",
   "nbconvert_exporter": "python",
   "pygments_lexer": "ipython3",
   "version": "3.9.7"
  }
 },
 "nbformat": 4,
 "nbformat_minor": 5
}
