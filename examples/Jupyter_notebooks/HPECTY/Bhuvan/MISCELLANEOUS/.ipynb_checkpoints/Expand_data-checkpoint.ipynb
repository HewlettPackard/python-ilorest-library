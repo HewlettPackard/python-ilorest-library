{
 "cells": [
  {
   "cell_type": "markdown",
   "id": "b6480262",
   "metadata": {},
   "source": [
    "<h1 style=\"text-align:center;\">Example of expanding data responses</h1>"
   ]
  },
  {
   "cell_type": "markdown",
   "id": "051ce734",
   "metadata": {},
   "source": [
    "<div class=\"alert  alert-block  alert-info\" style=\"border-radius: 20px;\">    \n",
    "    <ul>\n",
    "        <li><p>This Jupyter Notebook will contains a example code to demonstrate how to expand a data response. This code is written in Python and uses the redfish library to perform the required operations.</p></li>\n",
    "        <li>As you are here let's get it done easily.</li>\n",
    "        <li>To perform this you need to have <a href = \"https://libraries.io/pypi/python-ilorest-library#id3\" style=\"none\">python-ilorest-library</a> installed in your machine.</li>\n",
    "        <li>Please keep your username and password handy</li>\n",
    "        <li>Do execute each successive cell once to avoid any errors!</li>\n",
    "    </ul>    \n",
    "</div>"
   ]
  },
  {
   "cell_type": "markdown",
   "id": "58eab40d",
   "metadata": {},
   "source": [
    "<div class=\"alert alert-block alert-success\"  style=\"border-radius: 20px;\">\n",
    "    <h3> 1. Below we are importing all the necessary python libraries</h3>\n",
    "    <ul>\n",
    "        <li><a href = \"https://www.tutorialspoint.com/what-is-python-s-sys-module#:~:text=%20What%20is%20Python%27s%20Sys%20Module%20%201,%5B0%5D%20prints%20the...%205%20Output.%20%20More%20\">sys</a></li>\n",
    "        <li>json</li>\n",
    "        <li>redfish</li> \n",
    "        <li>getpass - to take password as inputs securely</li> \n",
    "    </ul>\n",
    "</div>"
   ]
  },
  {
   "cell_type": "code",
   "execution_count": null,
   "id": "cfa6671a",
   "metadata": {},
   "outputs": [],
   "source": [
    "import sys\n",
    "import json\n",
    "from redfish import RedfishClient\n",
    "from redfish.rest.v1 import ServerDownOrUnreachableError\n",
    "\n",
    "import getpass"
   ]
  },
  {
   "cell_type": "markdown",
   "id": "c5f4583b",
   "metadata": {},
   "source": [
    "<div class = \"alert alert-block alert-success\" style=\"border-radius: 20px;\">\n",
    "    <h3> 2. This is our expand_data function overview.</h3><br>\n",
    "    \n",
    " There is a hierarchy involved in iLO Rest Api. So we are simply following the hierarchy present to do this.<br>\n",
    "\n",
    "1. The expand_data function takes two parameters: <b>_redfishobj</b> and <b>expand_url</b>, with a default value of \"/redfish/v1/\" for <b>expand_url</b>.<br><br>\n",
    "    \n",
    "2. It sends a GET request to the <b>_redfishobj</b> (Redfish object) using the provided <b>expand_url</b> to retrieve the response.<br><br>\n",
    "\n",
    "3. Another GET request is sent to the <b>_redfishobj</b> with the <b>expand_url</b> appended with <b>?$expand=.</b>. This request is used to retrieve an expanded response. <br><br>\n",
    "\n",
    "4. The function then prints the standard response to the standard output stream.<br><br>\n",
    "\n",
    "5. The standard response, represented as a dictionary, is printed.<br><br>\n",
    "\n",
    "6. Next, the function prints the expanded response to the standard output stream.<br><br>\n",
    "    \n",
    "7. The expanded response, represented as a dictionary, is printed.<br>\n",
    "</div>"
   ]
  },
  {
   "cell_type": "code",
   "execution_count": null,
   "id": "509e8725",
   "metadata": {},
   "outputs": [],
   "source": [
    "def expand_data(_redfishobj, expand_url=\"/redfish/v1/\"):\n",
    "\n",
    "    response = _redfishobj.get(expand_url)\n",
    "    exp_response = _redfishobj.get(expand_url+'?$expand=.')\n",
    "    sys.stdout.write('Standard response:\\n')\n",
    "    sys.stdout.write('\\t'+str(response.dict)+'\\n')\n",
    "    sys.stdout.write('Expanded response:\\n')\n",
    "    sys.stdout.write('\\t'+str(exp_response.dict)+'\\n')"
   ]
  },
  {
   "cell_type": "markdown",
   "id": "523f5bda",
   "metadata": {},
   "source": [
    "<div class = \"alert alert-block alert-success\" style=\"border-radius: 20px;\">\n",
    "    <h3> 3. This is Main function overview.</h3>\n",
    "    <br>\n",
    " There is a hierarchy involved in iLO Rest Api. So we are simply following the hierarchy present to get the power metrics average.\n",
    "\n",
    "1. The rest opertions are handled by redfish object which is created by RedfishClient<br>\n",
    "<br>\n",
    "    \n",
    "2. <b>RedfishClient</b> class takes 3 parameters<i> iLO url, Username, Password</i> and returns a redfish object.<br>\n",
    "    <br>\n",
    "\n",
    "3. Once you enter everything a redfish obejct is created with the help of RedfishClient class.<br>\n",
    "    <br>\n",
    "\n",
    "4. Now we try to Login with the help of <i> REDFISHOBJ</i>, if it is successful a session is created and you are logged in, But if           Server       is not avaialbe we get an error saying \"server unreachable\"<br>\n",
    "    <br>\n",
    "    \n",
    "5. When prompted for URL, enter the URL that you want to be expanded. Example: /redfish/v1/systems/<br><br>\n",
    "    \n",
    "6. Then we call <b>expand_data</b> with our redfish object and <b>EXPAND_URL</b>.<br>\n",
    "    \n",
    "\n",
    "7. REDFISHOBJ.logout() will take care of logging you out of the ilo.\n",
    "\n",
    " </div>"
   ]
  },
  {
   "cell_type": "markdown",
   "id": "b80bdfed",
   "metadata": {},
   "source": [
    "<div class=\"alert alert-block alert-warning\" style=\"border-radius: 20px;\">\n",
    "<b> When running on the server locally,</b>use the following values:<br>\n",
    "    SYSTEM_URL = None <br>\n",
    "    LOGIN_ACCOUNT = None <br>\n",
    "    LOGIN_PASSWORD = None <br>\n",
    "    <b> When running remotely </b> connect using the secured (https://) address, account name and password to send https requests<br>\n",
    "    SYSTEM_URL acceptable examples: <br>\n",
    "    \"https://10.0.0.100\" <br>\n",
    "    \"https://ilo.hostname\"\n",
    "</div>"
   ]
  },
  {
   "cell_type": "code",
   "execution_count": null,
   "id": "eabae678",
   "metadata": {},
   "outputs": [],
   "source": [
    "if __name__ == \"__main__\":\n",
    "    \n",
    "    SYSTEM_URL = input(\"Enter iLO IP address: \")\n",
    "    LOGIN_ACCOUNT = input(\"Enter Username: \")\n",
    "    LOGIN_PASSWORD = getpass.getpass(\"Enter password: \")\n",
    "\n",
    "    #url to be expanded\n",
    "    EXPAND_URL = input(\"Enter the URL that is to be expanded (Ex: /redfish/v1/systems/)\")\n",
    "\n",
    "    try:\n",
    "        # Create a Redfish client object\n",
    "        REDFISHOBJ = RedfishClient(base_url=SYSTEM_URL, username=LOGIN_ACCOUNT, password=LOGIN_PASSWORD)\n",
    "        # Login with the Redfish client\n",
    "        REDFISHOBJ.login()\n",
    "    except ServerDownOrUnreachableError as excp:\n",
    "        sys.stderr.write(\"ERROR: server not reachable or does not support RedFish.\\n\")\n",
    "        sys.exit()\n",
    "\n",
    "    expand_data(REDFISHOBJ, EXPAND_URL)\n",
    "    REDFISHOBJ.logout()"
   ]
  },
  {
   "cell_type": "markdown",
   "id": "76b99be7",
   "metadata": {},
   "source": [
    "<div class = \"alert alert-block alert-success\" style=\"border-radius: 20px;\">\n",
    "    In case you need help please check the follwoing links for reference:\n",
    "    <br>\n",
    "    1. Python-ilorest-library: <a href = \"https://github.com/HewlettPackard/python-ilorest-library\">Python ilorest library</a><br>\n",
    "    2. HPE ilorest-api explorer: <a href = \"https://ilorestfulapiexplorer.ext.hpe.com/\">ilorestful api explorer</a><br>\n",
    "    3. HPE iLO Redfish Documentation: <a href = \"https://hewlettpackard.github.io/ilo-rest-api-docs/ilo6/\">HPE iLO Redfish API Documentation</a><br>\n",
    "    4. REST API: <a href = \"https://restfulapi.net/\">Restful API</a><br>    \n",
    "</div>"
   ]
  }
 ],
 "metadata": {
  "kernelspec": {
   "display_name": "Python 3 (ipykernel)",
   "language": "python",
   "name": "python3"
  },
  "language_info": {
   "codemirror_mode": {
    "name": "ipython",
    "version": 3
   },
   "file_extension": ".py",
   "mimetype": "text/x-python",
   "name": "python",
   "nbconvert_exporter": "python",
   "pygments_lexer": "ipython3",
   "version": "3.9.7"
  }
 },
 "nbformat": 4,
 "nbformat_minor": 5
}
