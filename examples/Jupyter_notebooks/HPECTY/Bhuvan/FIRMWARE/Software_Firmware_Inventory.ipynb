{
 "cells": [
  {
   "cell_type": "markdown",
   "id": "90595900",
   "metadata": {},
   "source": [
    "<h1 style=\"text-align:center;\">Script for viewing the firmware inventory on HPE iLO systems</h1>"
   ]
  },
  {
   "cell_type": "markdown",
   "id": "887d7741",
   "metadata": {},
   "source": [
    "<div class=\"alert  alert-block  alert-info\" style=\"border-radius: 20px;\">    \n",
    "    <ul>\n",
    "        <li><p>This Jupyter Notebook will contains a example code to view firmware inventory on HPE iLO Systems. This code is written in Python and uses the redfish library to perform the required operations.</p></li>\n",
    "        <li>As you are here let's get it done easily.</li>\n",
    "        <li>To perform this you need to have <a href = \"https://libraries.io/pypi/python-ilorest-library#id3\" style=\"none\">python-ilorest-library</a> installed in your machine.</li>\n",
    "        <li>Please keep your username and password handy</li>\n",
    "        <li>Do execute each successive cell once to avoid any errors!</li>\n",
    "    </ul>    \n",
    "</div>"
   ]
  },
  {
   "cell_type": "markdown",
   "id": "830d2b30",
   "metadata": {},
   "source": [
    "<div class=\"alert alert-block alert-success\"  style=\"border-radius: 20px;\">\n",
    "    <h3> 1. Below we are importing all the necessary python libraries</h3>\n",
    "    <ul>\n",
    "        <li><a href = \"https://www.tutorialspoint.com/what-is-python-s-sys-module#:~:text=%20What%20is%20Python%27s%20Sys%20Module%20%201,%5B0%5D%20prints%20the...%205%20Output.%20%20More%20\">sys</a></li>\n",
    "        <li>json</li>\n",
    "        <li>redfish</li> \n",
    "        <li>getpass - to take password as inputs securely</li> \n",
    "    </ul>\n",
    "</div>"
   ]
  },
  {
   "cell_type": "code",
   "execution_count": null,
   "id": "2a88487d",
   "metadata": {},
   "outputs": [],
   "source": [
    "import sys\n",
    "import json\n",
    "from redfish import RedfishClient\n",
    "from redfish.rest.v1 import ServerDownOrUnreachableError\n",
    "\n",
    "from get_resource_directory import get_resource_directory\n",
    "\n",
    "import getpass"
   ]
  },
  {
   "cell_type": "markdown",
   "id": "827bf8e1",
   "metadata": {},
   "source": [
    "<div class = \"alert alert-block alert-success\" style=\"border-radius: 20px;\">\n",
    "    <h3> 2. This is our get_inventory_uri function overview.</h3><br>\n",
    "    \n",
    " There is a hierarchy involved in iLO Rest Api. So we are simply following the hierarchy present to do this.<br>\n",
    "\n",
    "1. This function initializes the <b>update_service_uri</b> and <b>inventory_uri</b> variables to None.<br><br>\n",
    "    \n",
    "2. Call the <b>get_resource_directory()</b> function by passing <b>_redfishobj</b> as a parameter to retrieve the resource directory of the server. If the resource directory is not available or disabled, find the relevant URI by navigating through the server's API.<br><br>\n",
    "\n",
    "3. If the resource directory is available, find the relevant URI from the resource directory. <br><br>\n",
    "\n",
    "4. Check if <b>update_service_uri</b> has been set. If <b>update_service_uri</b> is not <b>None</b>, retrieve the URI for the update service.<br><br>\n",
    "\n",
    "5. Retrieve the update service response using the <b>get()</b> method on <b>_redfishobj</b>. If the provided selection contains the word \"software\" (case insensitive), set the <b>inventory_uri</b> to the URI of the software inventory obtained from the update service response.<br><br>\n",
    "\n",
    "6. If the provided selection contains the word \"firmware\" (case insensitive), set the <b>inventory_uri</b> to the URI of the firmware inventory obtained from the update service response.<br><br>\n",
    "    \n",
    "7. If an invalid selection is provided, raise an exception with an error message.<br><br>\n",
    "    \n",
    "8. Print the inventory URI.<br><br>\n",
    "    \n",
    "9. Call the <b>get_inventory()</b> function, passing <b>_redfishobj</b> and <b>inventory_uri</b> as parameters.<br><br>\n",
    "</div>"
   ]
  },
  {
   "cell_type": "code",
   "execution_count": null,
   "id": "a11214ba",
   "metadata": {},
   "outputs": [],
   "source": [
    "def get_inventory_uri(_redfishobj, select):\n",
    "\n",
    "    update_service_uri = None\n",
    "    inventory_uri = None\n",
    "\n",
    "    resource_instances = get_resource_directory(_redfishobj)\n",
    "    if DISABLE_RESOURCE_DIR or not resource_instances:\n",
    "        #if we do not have a resource directory or want to force it's non use to find the\n",
    "        #relevant URI\n",
    "        update_service_uri = _redfishobj.root.obj['UpdateService']['@odata.id']\n",
    "    else:\n",
    "        #Use Resource directory to find the relevant URI\n",
    "        for instance in resource_instances:\n",
    "            if '#UpdateService.' in instance['@odata.type']:\n",
    "                update_service_uri = instance['@odata.id']\n",
    "\n",
    "    if update_service_uri:\n",
    "        update_service_resp = _redfishobj.get(update_service_uri)\n",
    "        if \"software\" in select.lower():\n",
    "            inventory_uri = update_service_resp.obj['SoftwareInventory']['@odata.id']\n",
    "        elif \"firmware\" in select.lower():\n",
    "            inventory_uri = update_service_resp.obj['FirmwareInventory']['@odata.id']\n",
    "        else:\n",
    "            raise Exception(\"Invalid selection provided: Please select 'software' or 'firmware' to obtain the relevant invetory data.\")\n",
    "        sys.stdout.write(\"Printing data in invetory: %s\\n\" % inventory_uri)\n",
    "        get_inventory(_redfishobj, inventory_uri)"
   ]
  },
  {
   "cell_type": "markdown",
   "id": "c329bc0f",
   "metadata": {},
   "source": [
    "<div class = \"alert alert-block alert-success\" style=\"border-radius: 20px;\">\n",
    "    <h3> 3. This is our get_inventory function overview.</h3><br>\n",
    "    \n",
    " There is a hierarchy involved in iLO Rest Api. So we are simply following the hierarchy present to do this.<br>\n",
    "\n",
    "1. This function retrieves the list of members from the provided <b>inventory_uri</b> using the <b>get()</b> method on <b>_redfishobj</b>.<br><br>\n",
    "    \n",
    "2. If there are no members in the inventory, print a message indicating that the inventory is empty.<br><br>\n",
    "\n",
    "3. Iterate over each inventory item in the list of members.<br><br>\n",
    "\n",
    "4. Retrieve the details of each inventory item using the <b>get()</b> method on <b>_redfishobj</b> with the item's URI.<br><br>\n",
    "\n",
    "5. Print the name and description of the inventory item.<br><br>\n",
    "\n",
    "6. Print the JSON-formatted contents of the inventory item.<br><br>\n",
    "    \n",
    "</div>"
   ]
  },
  {
   "cell_type": "code",
   "execution_count": null,
   "id": "6ea93329",
   "metadata": {},
   "outputs": [],
   "source": [
    "def get_inventory(_redfishobj, inventory_uri):\n",
    "\n",
    "    _members = _redfishobj.get(inventory_uri).obj['Members']\n",
    "    if not _members:\n",
    "        sys.stderr.write(\"\\tInventory empty.\\n\")\n",
    "    else:\n",
    "        for inventory_item in _members:\n",
    "            _resp = _redfishobj.get(inventory_item['@odata.id'])\n",
    "            sys.stdout.write(\"Printing contents of inventory item, \\'%s\\':\\'%s\\'\\n\" % (_resp.dict.get('Name'), _resp.dict.get('Description')))\n",
    "            print(json.dumps(_resp.dict, indent=4, sort_keys=True))"
   ]
  },
  {
   "cell_type": "markdown",
   "id": "3c50b324",
   "metadata": {},
   "source": [
    "<div class = \"alert alert-block alert-success\" style=\"border-radius: 20px;\">\n",
    "    <h3> 4. This is Main function overview.</h3>\n",
    "    <br>\n",
    " There is a hierarchy involved in iLO Rest Api. So we are simply following the hierarchy.\n",
    "\n",
    "1. The rest opertions are handled by redfish object which is created by RedfishClient<br>\n",
    "<br>\n",
    "    \n",
    "2. <b>RedfishClient</b> class takes 3 parameters<i> iLO url, Username, Password</i> and returns a redfish object.<br>\n",
    "    <br>\n",
    "\n",
    "3. Once you enter everything a redfish obejct is created with the help of RedfishClient class.<br>\n",
    "    <br>\n",
    "\n",
    "4. Now we try to Login with the help of <i> REDFISHOBJ</i>, if it is successful a session is created and you are logged in, But if           Server       is not avaialbe we get an error saying \"server unreachable\"<br>\n",
    "    <br>\n",
    "    \n",
    "5. <b>SELECT</b> variable is by default set to 'firmware'. But one can choose either 'software' or 'firmware' for inventory selection.<br><br>\n",
    "    \n",
    "6. Then we call <b>get_inventory_uri</b> with our redfish object and <b>SELECT</b> variable.<br>\n",
    "    \n",
    "\n",
    "7. REDFISHOBJ.logout() will take care of logging you out of the ilo.\n",
    "\n",
    " </div>"
   ]
  },
  {
   "cell_type": "markdown",
   "id": "91f1a8a5",
   "metadata": {},
   "source": [
    "<div class=\"alert alert-block alert-warning\" style=\"border-radius: 20px;\">\n",
    "<b> When running on the server locally,</b>use the following values:<br>\n",
    "    SYSTEM_URL = None <br>\n",
    "    LOGIN_ACCOUNT = None <br>\n",
    "    LOGIN_PASSWORD = None <br>\n",
    "    <b> When running remotely </b> connect using the secured (https://) address, account name and password to send https requests<br>\n",
    "    SYSTEM_URL acceptable examples: <br>\n",
    "    \"https://10.0.0.100\" <br>\n",
    "    \"https://ilo.hostname\"\n",
    "</div>"
   ]
  },
  {
   "cell_type": "code",
   "execution_count": null,
   "id": "0ccf0065",
   "metadata": {},
   "outputs": [],
   "source": [
    "if __name__ == \"__main__\":\n",
    "    \n",
    "    SYSTEM_URL = input(\"Enter iLO IP address: \")\n",
    "    LOGIN_ACCOUNT = input(\"Enter Username: \")\n",
    "    LOGIN_PASSWORD = getpass.getpass(\"Enter password: \")\n",
    "\n",
    "    # flag to force disable resource directory. Resource directory and associated operations are\n",
    "    # intended for HPE servers.\n",
    "    \n",
    "    SELECT = \"firmware\" #provide either 'software' or 'firmware' for inventory selection\n",
    "    \n",
    "    DISABLE_RESOURCE_DIR = True\n",
    "\n",
    "    try:\n",
    "        # Create a Redfish client object\n",
    "        REDFISHOBJ = RedfishClient(base_url=SYSTEM_URL, username=LOGIN_ACCOUNT, password=LOGIN_PASSWORD)\n",
    "        # Login with the Redfish client\n",
    "        REDFISHOBJ.login()\n",
    "    except ServerDownOrUnreachableError as excp:\n",
    "        sys.stderr.write(\"ERROR: server not reachable or does not support RedFish.\\n\")\n",
    "        sys.exit()\n",
    "\n",
    "    get_inventory_uri(REDFISHOBJ, SELECT)\n",
    "    REDFISHOBJ.logout()"
   ]
  },
  {
   "cell_type": "markdown",
   "id": "eb99bfc3",
   "metadata": {},
   "source": [
    "<div class = \"alert alert-block alert-success\" style=\"border-radius: 20px;\">\n",
    "    In case you need help please check the follwoing links for reference:\n",
    "    <br>\n",
    "    1. Python-ilorest-library: <a href = \"https://github.com/HewlettPackard/python-ilorest-library\">Python ilorest library</a><br>\n",
    "    2. HPE ilorest-api explorer: <a href = \"https://ilorestfulapiexplorer.ext.hpe.com/\">ilorestful api explorer</a><br>\n",
    "    3. HPE iLO Redfish Documentation: <a href = \"https://hewlettpackard.github.io/ilo-rest-api-docs/ilo6/\">HPE iLO Redfish API Documentation</a><br>\n",
    "    4. REST API: <a href = \"https://restfulapi.net/\">Restful API</a><br>    \n",
    "</div>"
   ]
  }
 ],
 "metadata": {
  "kernelspec": {
   "display_name": "Python 3 (ipykernel)",
   "language": "python",
   "name": "python3"
  },
  "language_info": {
   "codemirror_mode": {
    "name": "ipython",
    "version": 3
   },
   "file_extension": ".py",
   "mimetype": "text/x-python",
   "name": "python",
   "nbconvert_exporter": "python",
   "pygments_lexer": "ipython3",
   "version": "3.9.7"
  }
 },
 "nbformat": 4,
 "nbformat_minor": 5
}
