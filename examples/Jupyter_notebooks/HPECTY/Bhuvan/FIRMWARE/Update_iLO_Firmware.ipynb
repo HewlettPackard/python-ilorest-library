{
 "cells": [
  {
   "cell_type": "markdown",
   "id": "fb9e0a5e",
   "metadata": {},
   "source": [
    "<h1 style=\"text-align:center;\">Update Firmware via HTTP URL</h1>"
   ]
  },
  {
   "cell_type": "markdown",
   "id": "1a50e99e",
   "metadata": {},
   "source": [
    "<div class=\"alert  alert-block  alert-info\" style=\"border-radius: 20px;\">    \n",
    "    <ul>\n",
    "        <li><p>This Jupyter Notebook will contain script for updating Firmware via HTTP URL. This code is written in Python and uses the redfish library to perform the required operations.</p></li>\n",
    "        <li>As you are here let's get it done easily.</li>\n",
    "        <li>To perform this you need to have <a href = \"https://libraries.io/pypi/python-ilorest-library#id3\" style=\"none\">python-ilorest-library</a> installed in your machine.</li>\n",
    "        <li>Please keep your username and password handy</li>\n",
    "        <li>Do execute each successive cell once to avoid any errors!</li>\n",
    "    </ul>    \n",
    "</div>"
   ]
  },
  {
   "cell_type": "markdown",
   "id": "3af51f99",
   "metadata": {},
   "source": [
    "<div class=\"alert alert-block alert-success\"  style=\"border-radius: 20px;\">\n",
    "    <h3> 1. Below we are importing all the necessary python libraries</h3>\n",
    "    <ul>\n",
    "        <li><a href = \"https://www.tutorialspoint.com/what-is-python-s-sys-module#:~:text=%20What%20is%20Python%27s%20Sys%20Module%20%201,%5B0%5D%20prints%20the...%205%20Output.%20%20More%20\">sys</a></li>\n",
    "        <li>json</li>\n",
    "        <li>redfish</li> \n",
    "    </ul>\n",
    "</div>"
   ]
  },
  {
   "cell_type": "code",
   "execution_count": null,
   "id": "c723fbdf",
   "metadata": {},
   "outputs": [],
   "source": [
    "import sys\n",
    "import json\n",
    "from redfish import RedfishClient\n",
    "from redfish.rest.v1 import ServerDownOrUnreachableError\n",
    "\n",
    "from get_resource_directory import get_resource_directory\n",
    "\n",
    "#This is to take passwords as input securely\n",
    "import getpass"
   ]
  },
  {
   "cell_type": "markdown",
   "id": "b42060d7",
   "metadata": {},
   "source": [
    "<div class = \"alert alert-block alert-success\" style=\"border-radius: 20px;\">\n",
    "    <h3> 2. This is our update_ilo_firmware function overview, in the end this will update the iLO Firmware.</h3><br>\n",
    "    \n",
    " There is a hierarchy involved in iLO Rest Api. So we are simply following the hierarchy present to do this.<br>\n",
    "\n",
    "1. The <b>update_ilo_firmware</b> function takes three parameters - <b>_redfishobj</b> representing the connection to the server, <b>fw_url</b> representing the firmware update URL, and <b>tpm_flag</b> representing the TPM override flag.\n",
    "    <br>\n",
    "    \n",
    "2. The function initializes the <b>body</b> and <b>update_service_uri</b> variables to None.\n",
    "    <br>\n",
    "\n",
    "3. The <b>get_resource_directory()</b> function is called by passing the <b>_redfishobj</b> as a parameter to retrieve the resource directory of the server. If the resource directory is not available or it is disabled, the relevant URI is found by navigating through the server's API. If the resource directory is available, the relevant URI is found from the resource directory.\n",
    "    <br>\n",
    "\n",
    "4. If <b>update_service_uri</b> and <b>fw_url</b> are not None, the <b>update_uri</b> is retrieved from the server using the <b>get()</b> method and by accessing the Actions attribute.\n",
    "    <br>\n",
    "\n",
    "5. The <b>body</b> dictionary is updated with the <b>fw_url</b> and <b>tpm_flag</b> if <b>tpm_flag</b> is provided.\n",
    "    <br>\n",
    "\n",
    "6. The <b>post()</b> method is called on the <b>update_uri</b> with the <b>body</b> dictionary as a parameter. The response is stored in the <b>resp</b> variable.\n",
    "    <br>\n",
    "\n",
    "\n",
    "7. If the HTTP response status code is 400, the iLO extended info error message is printed. If the HTTP response status code is not 200 or 201, an error message is printed. If the HTTP response status code is 200 or 201, a success message is printed along.\n",
    "    <br>\n",
    "</div>"
   ]
  },
  {
   "cell_type": "code",
   "execution_count": null,
   "id": "59bfcc8a",
   "metadata": {},
   "outputs": [],
   "source": [
    "def update_ilo_firmware(_redfishobj, fw_url, tpm_flag):\n",
    "\n",
    "    body = dict()\n",
    "    update_service_uri = None\n",
    "\n",
    "    resource_instances = get_resource_directory(_redfishobj)\n",
    "    if DISABLE_RESOURCE_DIR or not resource_instances:\n",
    "        #if we do not have a resource directory or want to force it's non use to find the\n",
    "        #relevant URI\n",
    "        update_service_uri = _redfishobj.root.obj['UpdateService']['@odata.id']\n",
    "    else:\n",
    "        #Use Resource directory to find the relevant URI\n",
    "        for instance in resource_instances:\n",
    "            if '#UpdateService.' in instance['@odata.type']:\n",
    "                update_service_uri = instance['@odata.id']\n",
    "                break\n",
    "\n",
    "    if update_service_uri and fw_url:\n",
    "        update_uri = _redfishobj.get(update_service_uri).obj['Actions']['#UpdateService.SimpleUpdate']['target']\n",
    "        body[\"ImageURI\"] = fw_url\n",
    "        if tpm_flag:\n",
    "            body[\"TPMOverrideFlag\"] = tpm_flag\n",
    "        resp = _redfishobj.post(update_uri, body)\n",
    "        if resp.status == 400:\n",
    "            try:\n",
    "                print(json.dumps(resp.obj['error']['@Message.ExtendedInfo'], indent=4, sort_keys=True))\n",
    "            except Exception as excp:\n",
    "                sys.stderr.write(\"A response error occurred, unable to access iLO Extended Message Info...\")\n",
    "        elif resp.status != 200:\n",
    "            sys.stderr.write(\"An http response of \\'%s\\' was returned.\\n\" % resp.status)\n",
    "        else:\n",
    "            print(\"Success!\\n\")\n",
    "            print(json.dumps(resp.obj['error']['@Message.ExtendedInfo'], indent=4, sort_keys=True))"
   ]
  },
  {
   "cell_type": "markdown",
   "id": "9bb9670c",
   "metadata": {},
   "source": [
    "<div class = \"alert alert-block alert-success\" style=\"border-radius: 20px;\">\n",
    "    <h3> 3. This is Main function overview.</h3>\n",
    "    <br>\n",
    " There is a hierarchy involved in iLO Rest Api. So we are simply following the hierarchy present to update the firmware.\n",
    "\n",
    "1. The rest opertions are handled by redfish object which is created by RedfishClient<br>\n",
    "<br>\n",
    "    \n",
    "2. <b>RedfishClient</b> class takes 3 parameters<i> iLO url, Username, Password</i> and returns a redfish object.<br>\n",
    "    <br>\n",
    "\n",
    "3. Once you enter everything a redfish obejct is created with the help of RedfishClient class.<br>\n",
    "    <br>\n",
    "\n",
    "4. Now we try to Login with the help of <i> REDFISHOBJ</i>, if it is successful you are logged in, But if           Server       is not avaialbe we get an error saying \"server unreachable\"<br>\n",
    "    <br>\n",
    "5. Then we call <b>update_ilo_firmware</b> with our redfish object, FIRMWARE_URL and Trusted Platform Module (TPM) Flag as parameters.<br>    \n",
    "\n",
    "6. REDFISHOBJ.logout() will take care of logging you out of the ilo.<br><br>\n",
    "    \n",
    "7. <b>When prompted for Firmware URL, enter the firmware file path</b>. Example: \"http://<url_to_binary_file>\"><br><br>\n",
    "    \n",
    "8. If a TPM module (Trusted Platform Module / Cryptographic Co-processor) is installed/present onboard then be sure to include this by changing <b>TPM_FLAG</b> variable to True. By default this variable is set to False.<br>\n",
    " \n",
    "\n",
    " </div>"
   ]
  },
  {
   "cell_type": "markdown",
   "id": "82f44947",
   "metadata": {},
   "source": [
    "<div class=\"alert alert-block alert-warning\" style=\"border-radius: 20px;\">\n",
    "<b> When running on the server locally,</b>use the following values:<br>\n",
    "    SYSTEM_URL = None <br>\n",
    "    LOGIN_ACCOUNT = None <br>\n",
    "    LOGIN_PASSWORD = None <br>\n",
    "    <b> When running remotely </b> connect using the secured (https://) address, account name and password to send https requests<br>\n",
    "    SYSTEM_URL acceptable examples: <br>\n",
    "    \"https://10.0.0.100\" <br>\n",
    "    \"https://ilo.hostname\"\n",
    "</div>"
   ]
  },
  {
   "cell_type": "code",
   "execution_count": null,
   "id": "98301396",
   "metadata": {},
   "outputs": [],
   "source": [
    "if __name__ == \"__main__\":\n",
    "    \n",
    "    SYSTEM_URL = input(\"Enter System URL: \")\n",
    "    LOGIN_ACCOUNT = input(\"Enter Login account: \")\n",
    "    LOGIN_PASSWORD = getpass.getpass(\"Enter your password: \")\n",
    "\n",
    "    # firmware file path and filename\n",
    "    FIRMWARE_URL = input(\"Enter Firmware URL\")\n",
    "    \n",
    "    # If a TPM module (Trusted Platform Module/ Cryptographic Co-processor) is installed/present\n",
    "    # onboard then be sure to include this.\n",
    "    \n",
    "    TPM_FLAG = False\n",
    "    # flag to force disable resource directory. Resource directory and associated operations are\n",
    "    # intended for HPE servers.\n",
    "    DISABLE_RESOURCE_DIR = True\n",
    "\n",
    "    try:\n",
    "        # Create a Redfish client object\n",
    "        REDFISHOBJ = RedfishClient(base_url=SYSTEM_URL, username=LOGIN_ACCOUNT, password=LOGIN_PASSWORD)\n",
    "        # Login with the Redfish client\n",
    "        REDFISHOBJ.login()\n",
    "    except ServerDownOrUnreachableError as excp:\n",
    "        sys.stderr.write(\"ERROR: server not reachable or does not support RedFish.\\n\")\n",
    "        sys.exit()\n",
    "\n",
    "    update_ilo_firmware(REDFISHOBJ, FIRMWARE_URL, TPM_FLAG)\n",
    "    REDFISHOBJ.logout()"
   ]
  },
  {
   "cell_type": "markdown",
   "id": "cce9c778",
   "metadata": {},
   "source": [
    "<div class = \"alert alert-block alert-success\" style=\"border-radius: 20px;\">\n",
    "    In case you need help please check the follwoing links for reference:\n",
    "    <br>\n",
    "    1. Python-ilorest-library: <a href = \"https://github.com/HewlettPackard/python-ilorest-library\">Python ilorest library</a><br>\n",
    "    2. HPE ilorest-api explorer: <a href = \"https://ilorestfulapiexplorer.ext.hpe.com/\">ilorestful api explorer</a><br>\n",
    "    3. HPE iLO Redfish Documentation: <a href = \"https://hewlettpackard.github.io/ilo-rest-api-docs/ilo6/\">HPE iLO Redfish API Documentation</a><br>\n",
    "    4. REST API: <a href = \"https://restfulapi.net/\">Restful API</a><br>    \n",
    "</div>"
   ]
  }
 ],
 "metadata": {
  "kernelspec": {
   "display_name": "Python 3 (ipykernel)",
   "language": "python",
   "name": "python3"
  },
  "language_info": {
   "codemirror_mode": {
    "name": "ipython",
    "version": 3
   },
   "file_extension": ".py",
   "mimetype": "text/x-python",
   "name": "python",
   "nbconvert_exporter": "python",
   "pygments_lexer": "ipython3",
   "version": "3.9.7"
  }
 },
 "nbformat": 4,
 "nbformat_minor": 5
}
