{
 "cells": [
  {
   "cell_type": "markdown",
   "id": "0e4729be",
   "metadata": {},
   "source": [
    "<h1 style=\"text-align:center;\">Enable Secure Boot </h1>"
   ]
  },
  {
   "cell_type": "markdown",
   "id": "b44c9aad",
   "metadata": {},
   "source": [
    "<div class=\"alert  alert-block  alert-info\" style=\"border-radius: 20px;\">    \n",
    "    <ul>\n",
    "        <li><p>This Jupyter Notebook will contains a example code to demonstrate of Enable Secure Boot . This code is written in Python and uses the redfish library to perform the required operations.</p></li>\n",
    "        <li>As you are here let's get it done easily.</li>\n",
    "        <li>To perform this u need to have <a href = \"https://libraries.io/pypi/python-ilorest-library#id3\" style=\"none\">python-ilorest-library</a> installed in your machine.</li>\n",
    "        <li>Please keep your username and password handy</li>\n",
    "        <li>Do execute each successive cell once to avoid any errors!</li>\n",
    "    </ul>    \n",
    "</div>"
   ]
  },
  {
   "cell_type": "markdown",
   "id": "74ee46a2",
   "metadata": {},
   "source": [
    "<div class=\"alert alert-block alert-success\"  style=\"border-radius: 20px;\">\n",
    "    <h3> 1. Below we are importing all the necessary python libraries</h3>\n",
    "    <ul>\n",
    "        <li><a href = \"https://www.tutorialspoint.com/what-is-python-s-sys-module#:~:text=%20What%20is%20Python%27s%20Sys%20Module%20%201,%5B0%5D%20prints%20the...%205%20Output.%20%20More%20\">sys</a></li>\n",
    "        <li>json</li>\n",
    "        <li>redfish</li> \n",
    "    </ul>\n",
    "</div>"
   ]
  },
  {
   "cell_type": "code",
   "execution_count": null,
   "id": "f3b9ca27",
   "metadata": {},
   "outputs": [],
   "source": [
    "import sys\n",
    "import json\n",
    "from redfish import RedfishClient\n",
    "from redfish.rest.v1 import ServerDownOrUnreachableError\n",
    "\n",
    "from get_resource_directory import get_resource_directory\n",
    "\n",
    "#This is to take passwords as input securely\n",
    "import getpass"
   ]
  },
  {
   "cell_type": "markdown",
   "id": "d0e073c6",
   "metadata": {},
   "source": [
    "<div class = \"alert alert-block alert-success\" style=\"border-radius: 20px;\">\n",
    "    <h3>2.This is our enable_secure_boot function overview, in the end this will give us with secure boot related information.</h3><br>\n",
    "    <i>Let me give you a walk through of it!</i>\n",
    "    <br>\n",
    "There is a hierarchy involved in iLO Rest Api. So we are simply following the hierarchy present to obtain the secure boot information.\n",
    "\n",
    "1. In the <b>enable_secure_boot</b> function we are first using <b>resource_instances</b> variable to obtain information about the resource directory by using get_resource_directory module.\n",
    "<br>\n",
    "    \n",
    "2. In the ILO rest api the information about secureboot is stored inside the <b>systems json object</b>.\n",
    "    Through systems_response variable  we are making a http <a href = \"https://developer.mozilla.org/en-US/docs/Web/HTTP/Methods\" style=\"background-color:powderblue;\">GET operation</a> to and trying to obtain the secure boot about iLO system.\n",
    "    <br>\n",
    "\n",
    "3. In the systems response object we are iterating on all the members with different <b>odata_id</b> .\n",
    "    Then again an http GET request is made and response is stored in <b>systems_members_response</b>.\n",
    "    The secure boot information is ultimately present in the <b>systems_members_response</b>.\n",
    "    <br>\n",
    "\n",
    "4. Else if resource directory is enabled then we will simply iterate through all instances inside resources \n",
    "    and if secure boot is present in <b>@odata.type</b> attribute then we will store information about secure boot in secure_boot_uri and break out of iteration.\n",
    "    <br>\n",
    "\n",
    "Ultimately if secure_boot_uri was obtained without any errors then get the information at the relevant uri and print out that information .\n",
    "\n",
    " </div>"
   ]
  },
  {
   "cell_type": "code",
   "execution_count": null,
   "id": "8d60549e",
   "metadata": {},
   "outputs": [],
   "source": [
    "def enable_secure_boot(_redfishobj, secure_boot_enable):\n",
    "\n",
    "    secure_boot_uri = None\n",
    "    secure_boot_data = None\n",
    "    resource_instances = _redfishobj.get_resource_directory()\n",
    "    if DISABLE_RESOURCE_DIR or not resource_instances:\n",
    "        #if we do not have a resource directory or want to force it's non use to find the\n",
    "        #relevant URI\n",
    "        systems_uri = _redfishobj.root.obj['Systems']['@odata.id']\n",
    "        systems_response = _redfishobj.get(systems_uri)\n",
    "        systems_members_uri = next(iter(systems_response.obj['Members']))['@odata.id']\n",
    "        systems_members_response = _redfishobj.get(systems_members_uri)\n",
    "        secure_boot_uri = systems_members_response.obj['SecureBoot']['@odata.id']\n",
    "        secure_boot_data = _redfishobj.get(secure_boot_uri)\n",
    "    else:\n",
    "        #Use Resource directory to find the relevant URI\n",
    "        for instance in resource_instances:\n",
    "            if '#SecureBoot.' in instance['@odata.type']:\n",
    "                secure_boot_uri = instance['@odata.id']\n",
    "                secure_boot_data = _redfishobj.get(secure_boot_uri)\n",
    "\n",
    "    if secure_boot_data:\n",
    "        print(\"\\n\\nShowing Secure Boot properties before changes:\\n\\n\")\n",
    "        print(json.dumps(secure_boot_data.dict, indent=4, sort_keys=True))\n",
    "\n",
    "    if secure_boot_uri:\n",
    "        body = {'SecureBootEnable': secure_boot_enable}\n",
    "        resp = _redfishobj.patch(secure_boot_uri, body)\n",
    "        #If iLO responds with soemthing outside of 200 or 201 then lets check the iLO extended info\n",
    "        #error message to see what went wrong\n",
    "        if resp.status == 400:\n",
    "            try:\n",
    "                print(json.dumps(resp.obj['error']['@Message.ExtendedInfo'], indent=4, \\\n",
    "                                                                                sort_keys=True))\n",
    "            except Exception:\n",
    "                sys.stderr.write(\"A response error occurred, unable to access iLO Extended \" \\\n",
    "                                 \"Message Info...\")\n",
    "        elif resp.status != 200:\n",
    "            sys.stderr.write(\"An http response of \\'%s\\' was returned.\\n\" % resp.status)\n",
    "        else:\n",
    "            print(\"\\nSuccess!\\n\")\n",
    "            print(json.dumps(resp.dict, indent=4, sort_keys=True))\n",
    "            print(\"\\n\\nShowing Secure Boot properties after changes:\\n\\n\")\n",
    "            secure_boot_data = _redfishobj.get(secure_boot_uri)\n",
    "            print(json.dumps(secure_boot_data.dict, indent=4, sort_keys=True))"
   ]
  },
  {
   "cell_type": "markdown",
   "id": "b227f8f6",
   "metadata": {},
   "source": [
    "<div class = \"alert alert-block alert-success\" style=\"border-radius: 20px;\">\n",
    "    <h3> 3. This is Main function overview.</h3>\n",
    "    <p>Please enter your login credentials here to proceed further:</p>\n",
    "    <ul>\n",
    "        <li>Once your credentials are entered, a Redfish object is created with the help of the RedfishClient class, and a session is created to log you in to the server.</li>\n",
    "        <li>If the server is down or unreachable, we get a \"server not reachable\" message.</li>\n",
    "        <li>If not, we make a call to the <b>enable_secure_boot</b> function to obtain secure boot-related information of the system.</li>\n",
    "        <li>After getting the required information, <i><b>Redfish.logout()</b></i> closes the particular session and logs us out of the system.</li>\n",
    "    </ul>\n",
    "</div>\n"
   ]
  },
  {
   "cell_type": "markdown",
   "id": "28cb201c",
   "metadata": {},
   "source": [
    "<div class = \"alert alert-block alert-warning\" style=\"border-radius: 20px;\">\n",
    "    <b>When running on the server locally use the following commented values</b><br>\n",
    " SYSTEM_URL = None<br>\n",
    " LOGIN_ACCOUNT = None<br>\n",
    " LOGIN_PASSWORD = None<br>\n",
    "\n",
    "   <b>When running remotely</b> connect using the secured (https://) address,\n",
    "     account name, and password to send https requests\n",
    "    <br>\n",
    "     SYSTEM_URL acceptable examples:<br>\n",
    "     https://10.0.0.100<br>\n",
    "     https://ilo.hostname\n",
    "</div>"
   ]
  },
  {
   "cell_type": "code",
   "execution_count": null,
   "id": "8028b4ff",
   "metadata": {},
   "outputs": [],
   "source": [
    "if __name__ == \"__main__\":\n",
    "    \n",
    "   SYSTEM_URL = input(\"Enter System URL: \")\n",
    "    LOGIN_ACCOUNT = input(\"Enter Login account: \")\n",
    "    LOGIN_PASSWORD = getpass.getpass(\"Enter your password: \")\n",
    "\n",
    "    #Properties:\n",
    "    #secure boot enable property\n",
    "    SECURE_BOOT_ENABLE = True\n",
    "    # flag to force disable resource directory. Resource directory and associated operations are\n",
    "    # intended for HPE servers.\n",
    "    DISABLE_RESOURCE_DIR = False\n",
    "\n",
    "    try:\n",
    "        # Create a Redfish client object\n",
    "        REDFISHOBJ = RedfishClient(base_url=SYSTEM_URL, username=LOGIN_ACCOUNT, password=LOGIN_PASSWORD)\n",
    "                                                                           \n",
    "        # Login with the Redfish client\n",
    "        REDFISHOBJ.login()\n",
    "    except ServerDownOrUnreachableError as excp:\n",
    "        sys.stderr.write(\"ERROR: server not reachable or does not support RedFish.\\n\")\n",
    "        sys.exit()\n",
    "\n",
    "    enable_secure_boot(REDFISHOBJ, SECURE_BOOT_ENABLE)\n",
    "    REDFISHOBJ.logout()"
   ]
  },
  {
   "cell_type": "markdown",
   "id": "cf8a164b",
   "metadata": {},
   "source": [
    "<div class = \"alert alert-block alert-success\" style=\"border-radius: 20px;\">\n",
    "    In case you need help 🔗 links to relevant resources :\n",
    "    <br>\n",
    "    1.Python-ilorest-library: <a href = \"https://github.com/HewlettPackard/python-ilorest-library\">LINK</a><br>\n",
    "    2.HPE ilorest-api explorer: <a href = \"https://ilorestfulapiexplorer.ext.hpe.com/\">LINK</a><br>\n",
    "    3.REST API: <a href = \"https://restfulapi.net/\">LINK</a><br>\n",
    "  \n",
    "    \n",
    "</div>"
   ]
  }
 ],
 "metadata": {
  "kernelspec": {
   "display_name": "Python 3 (ipykernel)",
   "language": "python",
   "name": "python3"
  },
  "language_info": {
   "codemirror_mode": {
    "name": "ipython",
    "version": 3
   },
   "file_extension": ".py",
   "mimetype": "text/x-python",
   "name": "python",
   "nbconvert_exporter": "python",
   "pygments_lexer": "ipython3",
   "version": "3.10.6"
  }
 },
 "nbformat": 4,
 "nbformat_minor": 5
}
