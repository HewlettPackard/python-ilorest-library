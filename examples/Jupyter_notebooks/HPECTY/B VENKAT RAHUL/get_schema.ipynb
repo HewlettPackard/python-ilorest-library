{
 "cells": [
  {
   "cell_type": "markdown",
   "id": "15565395",
   "metadata": {},
   "source": [
    "<h1 style=\"text-align:center;\">System Schema Data</h1>"
   ]
  },
  {
   "cell_type": "markdown",
   "id": "bd7d6791",
   "metadata": {},
   "source": [
    "<div class=\"alert  alert-block  alert-info\" style=\"border-radius: 20px;\">    \n",
    "    <ul>\n",
    "        <li><p>This Jupyter Notebook will contains a example code to demonstrate of System Schema Data. This code is written in Python and uses the redfish library to perform the required operations.</p></li>\n",
    "        <li>As you are here let's get it done easily.</li>\n",
    "        <li>To perform this u need to have <a href = \"https://libraries.io/pypi/python-ilorest-library#id3\" style=\"none\">python-ilorest-library</a> installed in your machine.</li>\n",
    "        <li>Please keep your username and password handy</li>\n",
    "        <li>Do execute each successive cell once to avoid any errors!</li>\n",
    "    </ul>    \n",
    "</div>"
   ]
  },
  {
   "cell_type": "markdown",
   "id": "4ca0edc7",
   "metadata": {},
   "source": [
    "<div class=\"alert alert-block alert-success\"  style=\"border-radius: 20px;\">\n",
    "    <h3> 1. Below we are importing all the necessary python libraries</h3>\n",
    "    <ul>\n",
    "        <li><a href = \"https://www.tutorialspoint.com/what-is-python-s-sys-module#:~:text=%20What%20is%20Python%27s%20Sys%20Module%20%201,%5B0%5D%20prints%20the...%205%20Output.%20%20More%20\">sys</a></li>\n",
    "        <li>json</li>\n",
    "        <li>redfish</li> \n",
    "    </ul>\n",
    "</div>"
   ]
  },
  {
   "cell_type": "code",
   "execution_count": null,
   "id": "1805d6fa",
   "metadata": {},
   "outputs": [],
   "source": [
    "import sys\n",
    "import json\n",
    "from redfish import RedfishClient\n",
    "from redfish.rest.v1 import ServerDownOrUnreachableError\n",
    "#This is to take passwords as input securely\n",
    "import getpass"
   ]
  },
  {
   "cell_type": "markdown",
   "id": "404a5487",
   "metadata": {},
   "source": [
    "<div class = \"alert alert-block alert-success\" style=\"border-radius: 20px;\">\n",
    "    <h3> 2. This is about  obtaining system schema data </h3>\n",
    "        \n",
    "1. The function takes a parameter, _redfishobj, which represents the Redfish service object used to interact with the API.<br>\n",
    "<br>\n",
    "    \n",
    "2.It initializes two variables: schema_members_uris and schema_members_expanded. schema_members_uris is an empty list that will store the URIs of schema members, while schema_members_expanded is an empty dictionary that will hold the expanded schema information. <br>\n",
    "    <br>\n",
    "\n",
    "3. It retrieves the URI for the root JSON schema from the Redfish service object (_redfishobj) and makes a GET request to obtain the schema response. The response contains a list of member URIs that point to individual schemas.<br>\n",
    "    <br>\n",
    "\n",
    "4. The function iterates through each member URI, retrieves the schema data, and expands the URI link for sub-schemas with the actual schema information. The expanded schema data is stored in the schema_members_expanded dictionary using the member URI as the key.<br>\n",
    "    <br>\n",
    "5.   The function iterates through each member URI, retrieves the schema data, and expands the URI link for sub-schemas with the actual schema information. The expanded schema data is stored in the schema_members_expanded dictionary using the member URI as the key.\n",
    "<br>\n",
    "    \n",
    "\n",
    "\n",
    "\n",
    " </div>"
   ]
  },
  {
   "cell_type": "code",
   "execution_count": null,
   "id": "780095b1",
   "metadata": {},
   "outputs": [],
   "source": [
    "def get_schema(_redfishobj):\n",
    "    schema_members_uris = []\n",
    "    schema_members_expanded = {}\n",
    "\n",
    "    schema_uri = _redfishobj.root.obj['JsonSchemas']['@odata.id']\n",
    "    schema_response = _redfishobj.get(schema_uri)\n",
    "    schema_members_uris = schema_response.obj['Members']\n",
    "    for member in schema_members_uris:\n",
    "        data = _redfishobj.get(member['@odata.id']).dict\n",
    "        instance_id = data['Location'].index(next(iter(data['Location'])))\n",
    "        schema_uri = data['Location'][instance_id]['Uri']\n",
    "        schema = _redfishobj.get(schema_uri).dict\n",
    "        #I am just replacing the URI link for the sub-schema with the actual schema. You will\n",
    "        #see EVERYTHING\n",
    "        _tmp = {schema_uri + ' ->': schema}\n",
    "        data['Location'][instance_id]['Uri'] = _tmp\n",
    "        schema_members_expanded[member['@odata.id']] = data\n",
    "\n",
    "    print(json.dumps(schema_members_expanded, indent=4, sort_keys=True))"
   ]
  },
  {
   "cell_type": "markdown",
   "id": "071606d1",
   "metadata": {},
   "source": [
    "<div class = \"alert alert-block alert-success\" style=\"border-radius: 20px;\">\n",
    "    <h3> 3. This is Main function overview.</h3>\n",
    "<b>The Main function: </b> PLEASE ENTER YOU LOGIN CREDENTIALS HERE TO PROCEED FURTHER<br>\n",
    "    <ul>\n",
    "        <li>Once your credentials that are enter everything a redfish obejct is created with the help of RedfishClient class and a session is created and now you will be logged in to the server.</li>\n",
    "        <li>If server is down or Unreachable we get server not reachable message!</li>\n",
    "        <li>If not then we make a call to <b>mount_virtual_media_iso</b> to obtain virtual media related info of system.</li>\n",
    "        <li>After getting required information <i><b>Redfish.logout()</b></i> closses the particular session and logs us out of the system.</li>\n",
    "    </ul>\n",
    "</div>"
   ]
  },
  {
   "cell_type": "markdown",
   "id": "275fe668",
   "metadata": {},
   "source": [
    "<div class=\"alert alert-block alert-warning\" style=\"border-radius: 20px;\">\n",
    "<b> When running on the server locally,</b>use the following values:<br>\n",
    "    SYSTEM_URL = None <br>\n",
    "    LOGIN_ACCOUNT = None <br>\n",
    "    LOGIN_PASSWORD = None <br>\n",
    "    <b> When running remotely </b> connect using the secured (https://) address, account name and password to send https requests<br>\n",
    "    SYSTEM_URL acceptable examples: <br>\n",
    "    \"https://10.0.0.100\" <br>\n",
    "    \"https://ilo.hostname\"\n",
    "</div>"
   ]
  },
  {
   "cell_type": "code",
   "execution_count": null,
   "id": "a1f63d79",
   "metadata": {},
   "outputs": [],
   "source": [
    "if __name__ == \"__main__\":\n",
    "    \n",
    "    SYSTEM_URL = input(\"Enter System URL: \")\n",
    "    LOGIN_ACCOUNT = input(\"Enter Login account: \")\n",
    "    LOGIN_PASSWORD = getpass.getpass(\"Enter your password: \")\n",
    "\n",
    "    try:\n",
    "        # Create a Redfish client object\n",
    "        REDFISHOBJ = RedfishClient(base_url=SYSTEM_URL, username=LOGIN_ACCOUNT,password=LOGIN_PASSWORD)\n",
    "                                                                            \n",
    "        # Login with the Redfish client\n",
    "        REDFISHOBJ.login()\n",
    "    except ServerDownOrUnreachableError as excp:\n",
    "        sys.stderr.write(\"ERROR: server not reachable or does not support RedFish.\\n\")\n",
    "        sys.exit()\n",
    "\n",
    "    get_schema(REDFISHOBJ)\n",
    "    REDFISHOBJ.logout()"
   ]
  },
  {
   "cell_type": "markdown",
   "id": "8d740355",
   "metadata": {},
   "source": [
    "<div class = \"alert alert-block alert-success\" style=\"border-radius: 20px;\">\n",
    "    In case you need help 🔗 links to relevant resources :\n",
    "    <br>\n",
    "    1.Python-ilorest-library: <a href = \"https://github.com/HewlettPackard/python-ilorest-library\">LINK</a><br>\n",
    "    2.HPE ilorest-api explorer: <a href = \"https://ilorestfulapiexplorer.ext.hpe.com/\">LINK</a><br>\n",
    "    3.REST API: <a href = \"https://restfulapi.net/\">LINK</a><br>\n",
    "    \n",
    "    \n",
    "</div>"
   ]
  }
 ],
 "metadata": {
  "kernelspec": {
   "display_name": "Python 3 (ipykernel)",
   "language": "python",
   "name": "python3"
  },
  "language_info": {
   "codemirror_mode": {
    "name": "ipython",
    "version": 3
   },
   "file_extension": ".py",
   "mimetype": "text/x-python",
   "name": "python",
   "nbconvert_exporter": "python",
   "pygments_lexer": "ipython3",
   "version": "3.10.6"
  }
 },
 "nbformat": 4,
 "nbformat_minor": 5
}
