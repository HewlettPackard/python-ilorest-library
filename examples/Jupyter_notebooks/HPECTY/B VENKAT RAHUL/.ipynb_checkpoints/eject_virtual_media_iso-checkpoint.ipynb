{
 "cells": [
  {
   "cell_type": "markdown",
   "id": "71861904",
   "metadata": {},
   "source": [
    "<h1 style=\"text-align:center;\">Mount Virtual Media ISO</h1>"
   ]
  },
  {
   "cell_type": "markdown",
   "id": "45dd47a5",
   "metadata": {},
   "source": [
    "<div class=\"alert  alert-block  alert-info\" style=\"border-radius: 20px;\">    \n",
    "    <ul>\n",
    "        <li><p>This Jupyter Notebook will contains a example code to demonstrate how to Mount virtul media iso. This code is written in Python and uses the redfish library to perform the required operations.</p></li>\n",
    "        <li>As you are here let's get it done easily.</li>\n",
    "        <li>To perform this u need to have <a href = \"https://libraries.io/pypi/python-ilorest-library#id3\" style=\"none\">python-ilorest-library</a> installed in your machine.</li>\n",
    "        <li>Please keep your username and password handy</li>\n",
    "        <li>Do execute each successive cell once to avoid any errors!</li>\n",
    "    </ul>    \n",
    "</div>"
   ]
  },
  {
   "cell_type": "markdown",
   "id": "23eeb2bf",
   "metadata": {},
   "source": [
    "<div class=\"alert alert-block alert-success\"  style=\"border-radius: 20px;\">\n",
    "    <h3> 1. Below we are importing all the necessary python libraries</h3>\n",
    "    <ul>\n",
    "        <li><a href = \"https://www.tutorialspoint.com/what-is-python-s-sys-module#:~:text=%20What%20is%20Python%27s%20Sys%20Module%20%201,%5B0%5D%20prints%20the...%205%20Output.%20%20More%20\">sys</a></li>\n",
    "        <li>json</li>\n",
    "        <li>redfish</li> \n",
    "    </ul>\n",
    "</div>"
   ]
  },
  {
   "cell_type": "code",
   "execution_count": null,
   "id": "92ec68a2",
   "metadata": {},
   "outputs": [],
   "source": [
    "import sys\n",
    "import json\n",
    "from redfish import RedfishClient\n",
    "from redfish.rest.v1 import ServerDownOrUnreachableError\n",
    "\n",
    "from get_resource_directory import get_resource_directory\n",
    "\n",
    "#This is to take passwords as input securely\n",
    "import getpass"
   ]
  },
  {
   "cell_type": "markdown",
   "id": "10a8e977",
   "metadata": {},
   "source": [
    "<div class = \"alert alert-block alert-success\" style=\"border-radius: 20px;\">\n",
    "  <h3>2.This is our mount_virtual_media_iso function overview, in the end this will give us with virtual media related information.</h3><br>\n",
    "    <i>Let me give you a walk through of it!</i>\n",
    "    <br>\n",
    "There is a hierarchy involved in iLO Rest Api. So we are simply following the hierarchy present to obtain the virtual media information.\n",
    "\n",
    "1. In the <b>mount_virtual_media_iso</b> function we are first using <b>resource_instances</b> variable to obtain information about the resource directory by using get_resource_directory module.\n",
    "<br>\n",
    "    \n",
    "2. In the ILO rest api the information about virtual media is stored inside the <b>managers json object</b>.\n",
    "    Through managers_response variable  we are making a http <a href = \"https://developer.mozilla.org/en-US/docs/Web/HTTP/Methods\" style=\"background-color:powderblue;\">GET operation</a> to and trying to obtain the virtual media about iLO system.\n",
    "    <br>\n",
    "\n",
    "3. In the managers response object we are iterating on all the members with different <b>odata_id</b> .\n",
    "    Then again an http GET request is made and response is stored in <b>managers_members_response</b>.\n",
    "    The virtual media information is ultimately present in the <b>managers_members_response</b>.\n",
    "    <br>\n",
    "\n",
    "4. Else if resource directory is enabled then we will simply iterate through all instances inside resources \n",
    "    and if virtual media is present in <b>@odata.type</b> attribute then we will store information about virtual media in virtual_media_uri and break out of iteration.\n",
    "    <br>\n",
    "\n",
    "Ultimately if virtual_media_uri was obtained without any errors then get the information at the relevant uri and print out that information .\n",
    "\n",
    " </div>"
   ]
  },
  {
   "cell_type": "code",
   "execution_count": null,
   "id": "f034ef9c",
   "metadata": {},
   "outputs": [],
   "source": [
    "def mount_virtual_media_iso(_redfishobj, media_type,):\n",
    "\n",
    "    virtual_media_uri = None\n",
    "    virtual_media_response = []\n",
    "\n",
    "    resource_instances = _redfishobj.get_resource_directory()\n",
    "    if DISABLE_RESOURCE_DIR or not resource_instances:\n",
    "        #if we do not have a resource directory or want to force it's non use to find the\n",
    "        #relevant URI\n",
    "        managers_uri = _redfishobj.root.obj['Managers']['@odata.id']\n",
    "        managers_response = _redfishobj.get(managers_uri)\n",
    "        managers_members_uri = next(iter(managers_response.obj['Members']))['@odata.id']\n",
    "        managers_members_response = _redfishobj.get(managers_members_uri)\n",
    "        virtual_media_uri = managers_members_response.obj['VirtualMedia']['@odata.id']\n",
    "    else:\n",
    "        for instance in resource_instances:\n",
    "            #Use Resource directory to find the relevant URI\n",
    "            if '#VirtualMediaCollection.' in instance['@odata.type']:\n",
    "                virtual_media_uri = instance['@odata.id']\n",
    "\n",
    "    if virtual_media_uri:\n",
    "        virtual_media_response = _redfishobj.get(virtual_media_uri)\n",
    "        for virtual_media_slot in virtual_media_response.obj['Members']:\n",
    "            data = _redfishobj.get(virtual_media_slot['@odata.id'])\n",
    "            if media_type in data.dict['MediaTypes']:\n",
    "                virtual_media_mount_uri = data.obj['Actions']['#VirtualMedia.EjectMedia']['target']\n",
    "                post_body = {\"Action\": \"HpeiLOVirtualMedia.EjectVirtualMedia\"}\n",
    "                resp = _redfishobj.post(virtual_media_mount_uri, post_body)\n",
    "                if resp.status == 400:\n",
    "                    try:\n",
    "                        print(json.dumps(resp.obj['error']['@Message.ExtendedInfo'], indent=4, \\\n",
    "                                         sort_keys=True))\n",
    "                    except Exception as excp:\n",
    "                        sys.stderr.write(\"A response error occurred, unable to access iLO\"\n",
    "                                         \"Extended Message Info...\")\n",
    "                elif resp.status != 200:\n",
    "                    sys.stderr.write(\"An http response of \\'%s\\' was returned.\\n\" % resp.status)\n",
    "                else:\n",
    "                    print(\"Success!\\n\")\n",
    "                    print(json.dumps(resp.dict, indent=4, sort_keys=True))\n",
    "                break"
   ]
  },
  {
   "cell_type": "markdown",
   "id": "268b5a18",
   "metadata": {},
   "source": [
    "<div class = \"alert alert-block alert-success\" style=\"border-radius: 20px;\">\n",
    "    <h3> 3. This is Main function overview.</h3>\n",
    "<b>The Main function: </b> PLEASE ENTER YOU LOGIN CREDENTIALS HERE TO PROCEED FURTHER<br>\n",
    "    <ul>\n",
    "        <li>Once your credentials that are enter everything a redfish obejct is created with the help of RedfishClient class and a session is created and now you will be logged in to the server.</li>\n",
    "        <li>If server is down or Unreachable we get server not reachable message!</li>\n",
    "        <li>If not then we make a call to <b>mount_virtual_media_iso</b> to obtain virtual media related info of system.</li>\n",
    "        <li>After getting required information <i><b>Redfish.logout()</b></i> closses the particular session and logs us out of the system.</li>\n",
    "    </ul>\n",
    "</div>"
   ]
  },
  {
   "cell_type": "markdown",
   "id": "90621a8a",
   "metadata": {},
   "source": [
    "<div class=\"alert alert-block alert-warning\" style=\"border-radius: 20px;\">\n",
    "<b> When running on the server locally,</b>use the following values:<br>\n",
    "    SYSTEM_URL = None <br>\n",
    "    LOGIN_ACCOUNT = None <br>\n",
    "    LOGIN_PASSWORD = None <br>\n",
    "    <b> When running remotely </b> connect using the secured (https://) address, account name and password to send https requests<br>\n",
    "    SYSTEM_URL acceptable examples: <br>\n",
    "    \"https://10.0.0.100\" <br>\n",
    "    \"https://ilo.hostname\"\n",
    "</div>"
   ]
  },
  {
   "cell_type": "code",
   "execution_count": 1,
   "id": "ab494baf",
   "metadata": {},
   "outputs": [
    {
     "ename": "NameError",
     "evalue": "name 'ServerDownOrUnreachableError' is not defined",
     "output_type": "error",
     "traceback": [
      "\u001b[0;31m---------------------------------------------------------------------------\u001b[0m",
      "\u001b[0;31mNameError\u001b[0m                                 Traceback (most recent call last)",
      "Cell \u001b[0;32mIn[1], line 26\u001b[0m\n\u001b[1;32m     24\u001b[0m \u001b[38;5;28;01mtry\u001b[39;00m:\n\u001b[1;32m     25\u001b[0m     \u001b[38;5;66;03m# Create a Redfish client object\u001b[39;00m\n\u001b[0;32m---> 26\u001b[0m     REDFISHOBJ \u001b[38;5;241m=\u001b[39m \u001b[43mRedfishClient\u001b[49m(base_url\u001b[38;5;241m=\u001b[39mSYSTEM_URL, username\u001b[38;5;241m=\u001b[39mLOGIN_ACCOUNT, \\\n\u001b[1;32m     27\u001b[0m                                password\u001b[38;5;241m=\u001b[39mLOGIN_PASSWORD)\n\u001b[1;32m     29\u001b[0m     \u001b[38;5;66;03m# Login with the Redfish client\u001b[39;00m\n",
      "\u001b[0;31mNameError\u001b[0m: name 'RedfishClient' is not defined",
      "\nDuring handling of the above exception, another exception occurred:\n",
      "\u001b[0;31mNameError\u001b[0m                                 Traceback (most recent call last)",
      "Cell \u001b[0;32mIn[1], line 31\u001b[0m\n\u001b[1;32m     29\u001b[0m     \u001b[38;5;66;03m# Login with the Redfish client\u001b[39;00m\n\u001b[1;32m     30\u001b[0m     REDFISHOBJ\u001b[38;5;241m.\u001b[39mlogin()\n\u001b[0;32m---> 31\u001b[0m \u001b[38;5;28;01mexcept\u001b[39;00m \u001b[43mServerDownOrUnreachableError\u001b[49m \u001b[38;5;28;01mas\u001b[39;00m excp:\n\u001b[1;32m     32\u001b[0m     sys\u001b[38;5;241m.\u001b[39mstderr\u001b[38;5;241m.\u001b[39mwrite(\u001b[38;5;124m\"\u001b[39m\u001b[38;5;124mERROR: server not reachable or does not support RedFish.\u001b[39m\u001b[38;5;130;01m\\n\u001b[39;00m\u001b[38;5;124m\"\u001b[39m)\n\u001b[1;32m     33\u001b[0m     sys\u001b[38;5;241m.\u001b[39mexit()\n",
      "\u001b[0;31mNameError\u001b[0m: name 'ServerDownOrUnreachableError' is not defined"
     ]
    }
   ],
   "source": [
    "if __name__ == \"__main__\":\n",
    "    # When running on the server locally use the following commented values\n",
    "    #SYSTEM_URL = None\n",
    "    #LOGIN_ACCOUNT = None\n",
    "    #LOGIN_PASSWORD = None\n",
    "\n",
    "    # When running remotely connect using the secured (https://) address,\n",
    "    # account name, and password to send https requests\n",
    "    # SYSTEM_URL acceptable examples:\n",
    "    # \"https://10.0.0.100\"\n",
    "    \n",
    "    # \"https://ilo.hostname\"\n",
    "    SYSTEM_URL = input(\"Enter System URL: \")\n",
    "    LOGIN_ACCOUNT = input(\"Enter Login account: \")\n",
    "    LOGIN_PASSWORD = getpass.getpass(\"Enter your password: \")\n",
    "\n",
    "    #specify the type of content the media represents\n",
    "    MEDIA_TYPE = \"CD\" #current possible options: Floppy, USBStick, CD, DVD\n",
    "\n",
    "    # flag to force disable resource directory. Resource directory and associated operations are\n",
    "    # intended for HPE servers.\n",
    "    DISABLE_RESOURCE_DIR = False\n",
    "\n",
    "    try:\n",
    "        # Create a Redfish client object\n",
    "        REDFISHOBJ = RedfishClient(base_url=SYSTEM_URL, username=LOGIN_ACCOUNT, \\\n",
    "                                   password=LOGIN_PASSWORD)\n",
    "\n",
    "        # Login with the Redfish client\n",
    "        REDFISHOBJ.login()\n",
    "    except ServerDownOrUnreachableError as excp:\n",
    "        sys.stderr.write(\"ERROR: server not reachable or does not support RedFish.\\n\")\n",
    "        sys.exit()\n",
    "\n",
    "    mount_virtual_media_iso(REDFISHOBJ, MEDIA_TYPE)\n",
    "    REDFISHOBJ.logout()"
   ]
  },
  {
   "cell_type": "markdown",
   "id": "a839daaa",
   "metadata": {},
   "source": [
    "<div class = \"alert alert-block alert-success\" style=\"border-radius: 20px;\">\n",
    "    In case you need help 🔗 links to relevant resources :\n",
    "    <br>\n",
    "    1.Python-ilorest-library: <a href = \"https://github.com/HewlettPackard/python-ilorest-library\">LINK</a><br>\n",
    "    2.HPE ilorest-api explorer: <a href = \"https://ilorestfulapiexplorer.ext.hpe.com/\">LINK</a><br>\n",
    "    3.REST API: <a href = \"https://restfulapi.net/\">LINK</a><br>    \n",
    "</div>"
   ]
  },
  {
   "cell_type": "code",
   "execution_count": null,
   "id": "722783e3",
   "metadata": {},
   "outputs": [],
   "source": []
  }
 ],
 "metadata": {
  "kernelspec": {
   "display_name": "Python 3 (ipykernel)",
   "language": "python",
   "name": "python3"
  },
  "language_info": {
   "codemirror_mode": {
    "name": "ipython",
    "version": 3
   },
   "file_extension": ".py",
   "mimetype": "text/x-python",
   "name": "python",
   "nbconvert_exporter": "python",
   "pygments_lexer": "ipython3",
   "version": "3.9.7"
  }
 },
 "nbformat": 4,
 "nbformat_minor": 5
}
