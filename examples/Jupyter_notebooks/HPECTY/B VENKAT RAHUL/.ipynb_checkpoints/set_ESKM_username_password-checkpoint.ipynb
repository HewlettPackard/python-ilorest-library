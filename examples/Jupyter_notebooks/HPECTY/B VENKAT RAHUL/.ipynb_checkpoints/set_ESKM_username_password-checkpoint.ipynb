{
 "cells": [
  {
   "cell_type": "markdown",
   "id": "f815c9a7",
   "metadata": {},
   "source": [
    "<h1 style=\"text-align:center;\">Setting the ESKM username and password for HPE iLO systems</h1></div>"
   ]
  },
  {
   "cell_type": "markdown",
   "id": "2a3a9755",
   "metadata": {},
   "source": [
    "<div class=\"alert alert-block alert-info\" style=\"border-radius: 20px;\">\n",
    "<i>Hello User.!<br></i> Welcome to <b>python-iLOrest-library</b> <br> This is an example of <b>setting the ESKM username and password for HPE iLO systems</b> <br> As you are here let's get it done easily.<br>\n",
    "    To perform this u need to have <a href = \"https://github.com/HewlettPackard/python-ilorest-library\" style = \"background-color:white\">python-ilorest-library</a> installed in your machine.<br>\n",
    "    And please keep your username and password handy!\n",
    "    <br>\n",
    "    <b>Also do execute each successive cell once to avoid any errors!</b>\n",
    "    \n",
    "</div>"
   ]
  },
  {
   "cell_type": "markdown",
   "id": "cc555954",
   "metadata": {},
   "source": [
    "<div class=\"alert alert-block alert-success\"  style=\"border-radius: 20px;\">\n",
    "    <h3> 1. Below we are importing all the necessary python libraries</h3>\n",
    "    <ul>\n",
    "        <li><a href = \"https://www.tutorialspoint.com/what-is-python-s-sys-module#:~:text=%20What%20is%20Python%27s%20Sys%20Module%20%201,%5B0%5D%20prints%20the...%205%20Output.%20%20More%20\">sys</a></li>\n",
    "        <li>json</li>\n",
    "        <li>redfish</li> \n",
    "    </ul>\n",
    "</div>"
   ]
  },
  {
   "cell_type": "code",
   "execution_count": null,
   "id": "cff3ead6",
   "metadata": {},
   "outputs": [],
   "source": [
    "import sys\n",
    "import json\n",
    "from redfish import RedfishClient\n",
    "from redfish.rest.v1 import ServerDownOrUnreachableError\n",
    "\n",
    "from get_resource_directory import get_resource_directory\n",
    "#This is to take passwords as input securely\n",
    "import getpass"
   ]
  },
  {
   "cell_type": "markdown",
   "id": "b41f56eb",
   "metadata": {},
   "source": [
    "<div class = \"alert alert-block alert-success\" style=\"border-radius: 20px;\">\n",
    "    <h3> 2. This is about ESKM_username_pass function</h3>\n",
    "        \n",
    "1. The function sets up an Electronic Software Key Manager (ESKM) on an iLO (Integrated Lights Out) server using the Redfish API.<br>\n",
    "<br>\n",
    "    \n",
    "2. It takes several input parameters including ESKM username, password, account group, primary key server address, and primary key server port.<br>\n",
    "    <br>\n",
    "\n",
    "3. It first attempts to locate the URI for the ESKM resource either by using the Redfish Resource Directory or by manually navigating through the Redfish API.br>\n",
    "    <br>\n",
    "\n",
    "4. If the ESKM URI is found, the function constructs a JSON payload containing the ESKM configuration information and primary key server details and sends it as a PATCH request to the ESKM resource.<br>\n",
    "    <br>\n",
    "5.  If the PATCH request is successful (i.e., returns an HTTP status code of 200), the function prints out a success message along with the response payload, otherwise it prints out an error message.\n",
    "<br>\n",
    "    \n",
    "\n",
    "\n",
    "\n",
    " </div>"
   ]
  },
  {
   "cell_type": "code",
   "execution_count": 1,
   "id": "b99181a4",
   "metadata": {},
   "outputs": [],
   "source": [
    "def ESKM_username_pass(_redfishobj, eskm_username, eskm_password, eskm_accountgroup, \\\n",
    "                       eskm_primarykeyserver_addr, eskm_primarykeyserver_port):\n",
    "\n",
    "    eskm_uri = None\n",
    "    body = dict()\n",
    "\n",
    "    resource_instances = get_resource_directory(_redfishobj)\n",
    "    if DISABLE_RESOURCE_DIR or not resource_instances:\n",
    "        #if we do not have a resource directory or want to force it's non use to find the\n",
    "        #relevant URI\n",
    "        managers_uri = _redfishobj.root.obj['Managers']['@odata.id']\n",
    "        managers_response = _redfishobj.get(managers_uri)\n",
    "        managers_members_uri = next(iter(managers_response.obj['Members']))['@odata.id']\n",
    "        managers_members_response = _redfishobj.get(managers_members_uri)\n",
    "        security_service_uri = managers_members_response.obj.Oem.Hpe.Links['SecurityService']\\\n",
    "                                                                                    ['@odata.id']\n",
    "        security_service_response = _redfishobj.get(security_service_uri)\n",
    "        eskm_uri = security_service_response.obj.Links['ESKM']['@odata.id']\n",
    "    else:\n",
    "        #Use Resource directory to find the relevant URI\n",
    "        for instance in resource_instances:\n",
    "            if '#HpeESKM.' in instance['@odata.type']:\n",
    "                eskm_uri = instance['@odata.id']\n",
    "                break\n",
    "\n",
    "    if eskm_uri:\n",
    "        body[\"KeyManagerConfig\"] = dict()\n",
    "        body[\"KeyManagerConfig\"][\"LoginName\"] = eskm_username\n",
    "        body[\"KeyManagerConfig\"][\"Password\"] = eskm_password\n",
    "        body[\"KeyManagerConfig\"][\"AccountGroup\"] = eskm_accountgroup\n",
    "        body[\"KeyManagerConfig\"][\"ESKMLocalCACertificateName\"] = \"\"\n",
    "        body[\"PrimaryKeyServerAddress\"] = eskm_primarykeyserver_addr\n",
    "        body[\"PrimaryKeyServerPort\"] = eskm_primarykeyserver_port\n",
    "        resp = _redfishobj.patch(eskm_uri, body)\n",
    "        #If iLO responds with soemthing outside of 200 or 201 then lets check the iLO extended info\n",
    "        #error message to see what went wrong\n",
    "        if resp.status == 400:\n",
    "            try:\n",
    "                print(json.dumps(resp.obj['error']['@Message.ExtendedInfo'], indent=4, \\\n",
    "                                                                                sort_keys=True))\n",
    "            except Exception as excp:\n",
    "                sys.stderr.write(\"A response error occurred, unable to access iLO Extended \"\\\n",
    "                                 \"Message Info...\")\n",
    "        elif resp.status != 200:\n",
    "            sys.stderr.write(\"An http response of \\'%s\\' was returned.\\n\" % resp.status)\n",
    "        else:\n",
    "            print(\"Success!\\n\")\n",
    "            print(json.dumps(resp.dict, indent=4, sort_keys=True))"
   ]
  },
  {
   "cell_type": "markdown",
   "id": "031a5cbe",
   "metadata": {},
   "source": [
    "<div class = \"alert alert-block alert-success\" style=\"border-radius: 20px;\">\n",
    "    <h3> 3. This is Main function overview.</h3>\n",
    "<b>The Main function: </b> PLEASE ENTER YOU LOGIN CREDENTIALS HERE TO PROCEED FURTHER<br>\n",
    "    <ul>\n",
    "        <li>Once your credentials that are enter everything a redfish obejct is created with the help of RedfishClient class and a session is created and now you will be logged in to the server.</li>\n",
    "        <li>If server is down or Unreachable we get server not reachable message!</li>\n",
    "        <li>If not then we make a call to <b>mount_virtual_media_iso</b> to obtain virtual media related info of system.</li>\n",
    "        <li>After getting required information <i><b>Redfish.logout()</b></i> closses the particular session and logs us out of the system.</li>\n",
    "    </ul>\n",
    "</div>"
   ]
  },
  {
   "cell_type": "markdown",
   "id": "c8cd2ffd",
   "metadata": {},
   "source": [
    "<div class=\"alert alert-block alert-warning\" style=\"border-radius: 20px;\">\n",
    "<b> When running on the server locally,</b>use the following values:<br>\n",
    "    SYSTEM_URL = None <br>\n",
    "    LOGIN_ACCOUNT = None <br>\n",
    "    LOGIN_PASSWORD = None <br>\n",
    "    <b> When running remotely </b> connect using the secured (https://) address, account name and password to send https requests<br>\n",
    "    SYSTEM_URL acceptable examples: <br>\n",
    "    \"https://10.0.0.100\" <br>\n",
    "    \"https://ilo.hostname\"\n",
    "</div>"
   ]
  },
  {
   "cell_type": "markdown",
   "id": "77edbde3",
   "metadata": {},
   "source": [
    "<div class=\"alert alert-block alert-warning\" style=\"border-radius: 20px;\">\n",
    "    <h5>Instructions</h5>\n",
    "    <ul>\n",
    "        <li>When prompted for <i>ACCOUNT_LOGIN_NAME</i>, enter redfish standard username here  as iLO GUI actually considers this to be 'UserName'</li>\n",
    "        <li>When prompted for <i>ACCOUNT_USER_NAME</i>, enter redfish login here iLO GUI actually considers this to be 'LoginName'</li>\n",
    "        <li>Role_ID: It is a predefined role for the user which can take \"Administrator\" or \"ReadOnly\" or \"Operator\" as input. For more informaion on roles and privilages refere the table in the next cell.</li>\n",
    "        <li>For more clarification on the above points please visit <i><a href=\"https://hewlettpackard.github.io/ilo-rest-api-docs/ilo6/#managing-ilo-6-users\">iLO Users Documentation</a></i></li>\n",
    "    </ul>\n",
    "</div>"
   ]
  },
  {
   "cell_type": "code",
   "execution_count": 2,
   "id": "0b490052",
   "metadata": {},
   "outputs": [
    {
     "ename": "NameError",
     "evalue": "name 'ServerDownOrUnreachableError' is not defined",
     "output_type": "error",
     "traceback": [
      "\u001b[0;31m---------------------------------------------------------------------------\u001b[0m",
      "\u001b[0;31mNameError\u001b[0m                                 Traceback (most recent call last)",
      "Cell \u001b[0;32mIn[2], line 22\u001b[0m\n\u001b[1;32m     20\u001b[0m \u001b[38;5;28;01mtry\u001b[39;00m:\n\u001b[1;32m     21\u001b[0m     \u001b[38;5;66;03m# Create a Redfish client object\u001b[39;00m\n\u001b[0;32m---> 22\u001b[0m     REDFISHOBJ \u001b[38;5;241m=\u001b[39m \u001b[43mRedfishClient\u001b[49m(base_url\u001b[38;5;241m=\u001b[39mSYSTEM_URL, username\u001b[38;5;241m=\u001b[39mLOGIN_ACCOUNT, \\\n\u001b[1;32m     23\u001b[0m                                                                         password\u001b[38;5;241m=\u001b[39mLOGIN_PASSWORD)\n\u001b[1;32m     24\u001b[0m     \u001b[38;5;66;03m# Login with the Redfish client\u001b[39;00m\n",
      "\u001b[0;31mNameError\u001b[0m: name 'RedfishClient' is not defined",
      "\nDuring handling of the above exception, another exception occurred:\n",
      "\u001b[0;31mNameError\u001b[0m                                 Traceback (most recent call last)",
      "Cell \u001b[0;32mIn[2], line 26\u001b[0m\n\u001b[1;32m     24\u001b[0m     \u001b[38;5;66;03m# Login with the Redfish client\u001b[39;00m\n\u001b[1;32m     25\u001b[0m     REDFISHOBJ\u001b[38;5;241m.\u001b[39mlogin()\n\u001b[0;32m---> 26\u001b[0m \u001b[38;5;28;01mexcept\u001b[39;00m \u001b[43mServerDownOrUnreachableError\u001b[49m \u001b[38;5;28;01mas\u001b[39;00m excp:\n\u001b[1;32m     27\u001b[0m     sys\u001b[38;5;241m.\u001b[39mstderr\u001b[38;5;241m.\u001b[39mwrite(\u001b[38;5;124m\"\u001b[39m\u001b[38;5;124mERROR: server not reachable or does not support RedFish.\u001b[39m\u001b[38;5;130;01m\\n\u001b[39;00m\u001b[38;5;124m\"\u001b[39m)\n\u001b[1;32m     28\u001b[0m     sys\u001b[38;5;241m.\u001b[39mexit()\n",
      "\u001b[0;31mNameError\u001b[0m: name 'ServerDownOrUnreachableError' is not defined"
     ]
    }
   ],
   "source": [
    "if __name__ == \"__main__\":\n",
    "    \n",
    "    SYSTEM_URL = input(\"Enter System URL: \")\n",
    "    LOGIN_ACCOUNT = input(\"Enter Login account: \")\n",
    "    LOGIN_PASSWORD = getpass.getpass(\"Enter your password: \")\n",
    "\n",
    "    ESKM_USERNAME = \"admin\"\n",
    "    ESKM_PASSWORD = \"password\"\n",
    "    ESKM_ACCOUNTGROUP = \"group\"\n",
    "    ESKM_PRIMARYKEYSERVER_ADDR = \"192.168.1.10\"\n",
    "    ESKM_PRIMARYKEYSERVER_PORT = 5927\n",
    "    # flag to force disable resource directory. Resource directory and associated operations are\n",
    "    # intended for HPE servers.\n",
    "    DISABLE_RESOURCE_DIR = False\n",
    "\n",
    "    try:\n",
    "        # Create a Redfish client object\n",
    "        REDFISHOBJ = RedfishClient(base_url=SYSTEM_URL, username=LOGIN_ACCOUNT, \\\n",
    "                                                                            password=LOGIN_PASSWORD)\n",
    "        # Login with the Redfish client\n",
    "        REDFISHOBJ.login()\n",
    "    except ServerDownOrUnreachableError as excp:\n",
    "        sys.stderr.write(\"ERROR: server not reachable or does not support RedFish.\\n\")\n",
    "        sys.exit()\n",
    "\n",
    "    ESKM_username_pass(REDFISHOBJ, ESKM_USERNAME, ESKM_PASSWORD, ESKM_ACCOUNTGROUP, \\\n",
    "                       ESKM_PRIMARYKEYSERVER_ADDR, ESKM_PRIMARYKEYSERVER_PORT)\n",
    "    REDFISHOBJ.logout()"
   ]
  },
  {
   "cell_type": "markdown",
   "id": "acc45fbf",
   "metadata": {},
   "source": []
  },
  {
   "cell_type": "markdown",
   "id": "a73f3528",
   "metadata": {},
   "source": [
    "<div class = \"alert alert-block alert-success\" style=\"border-radius: 20px;\">\n",
    "    In case you need help 🔗 links to relevant resources :\n",
    "    <br>\n",
    "    1.Python-ilorest-library: <a href = \"https://github.com/HewlettPackard/python-ilorest-library\">LINK</a><br>\n",
    "    2.HPE ilorest-api explorer: <a href = \"https://ilorestfulapiexplorer.ext.hpe.com/\">LINK</a><br>\n",
    "    3.REST API: <a href = \"https://restfulapi.net/\">LINK</a><br>\n",
    "    4.Changing Boot Setting Documentation: <a href = \"https://hewlettpackard.github.io/ilo-rest-api-docs/ilo6/?python#changing-boot-settings\">LINK</a><br>\n",
    "    \n",
    "</div>"
   ]
  }
 ],
 "metadata": {
  "kernelspec": {
   "display_name": "Python 3 (ipykernel)",
   "language": "python",
   "name": "python3"
  },
  "language_info": {
   "codemirror_mode": {
    "name": "ipython",
    "version": 3
   },
   "file_extension": ".py",
   "mimetype": "text/x-python",
   "name": "python",
   "nbconvert_exporter": "python",
   "pygments_lexer": "ipython3",
   "version": "3.9.7"
  }
 },
 "nbformat": 4,
 "nbformat_minor": 5
}
