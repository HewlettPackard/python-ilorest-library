{
 "cells": [
  {
   "cell_type": "markdown",
   "id": "45dd47a5",
   "metadata": {},
   "source": [
    "<div class=\"alert alert-block alert-info\" style=\"border-radius: 20px;\">\n",
    "<i>Hello User.!<br></i> Welcome to <b>python-iLOrest-library</b> <br> This is an example of <b>ilorest_util</b> <br> As you are here let's get it done easily.<br>\n",
    "    To perform this u need to have <a href = \"https://github.com/HewlettPackard/python-ilorest-library\" style = \"background-color:white\">python-ilorest-library</a> installed in your machine.<br>\n",
    "    And please keep your username and password handy!\n",
    "    <br>\n",
    "    <b>Also do execute each successive cell once to avoid any errors!</b>\n",
    "    \n",
    "</div>"
   ]
  },
  {
   "cell_type": "markdown",
   "id": "23eeb2bf",
   "metadata": {},
   "source": [
    "<div class=\"alert alert-block alert-success\" style=\"border-radius: 20px;\">\n",
    "    <h1> 1.</h1>\n",
    "Below we are importing all the necessary modules from the ilorest library!.<br>\n",
    "    <li><a href = \"https://www.tutorialspoint.com/what-is-python-s-sys-module#:~:text=%20What%20is%20Python%27s%20Sys%20Module%20%201,%5B0%5D%20prints%20the...%205%20Output.%20%20More%20\">sys </a>\n",
    "    </li>\n",
    "    <li> redfish </li>\n",
    "    \n",
    "</div>"
   ]
  },
  {
   "cell_type": "code",
   "execution_count": null,
   "id": "92ec68a2",
   "metadata": {},
   "outputs": [],
   "source": [
    "import sys\n",
    "from redfish import RedfishClient\n",
    "from redfish.rest.v1 import ServerDownOrUnreachableError\n",
    "\n",
    "#from get_resource_directory import get_resource_directory"
   ]
  },
  {
   "cell_type": "markdown",
   "id": "10a8e977",
   "metadata": {},
   "source": [
    "<div class = \"alert alert-block alert-success\" style=\"border-radius: 20px;\"><h2 style=\"font-size:40px\">2.</h2>This is our get_resource_directory function overview.<br>\n",
    "    <i>Let me give you a walk through of it!</i>\n",
    "    <br>\n",
    "There is a hierarchy involved in iLO Rest Api. So we are simply following the hierarchy present.\n",
    "    <br>\n",
    "1.Using the phrase redfishobj.root.obj.Oem.Hpe.Links.ResourceDirectory['@odata.id'], it attempts to retrieve the resource directory URI. The resource directory is not accessible on non-HPE servers if the key <b>@odata.id</b> is missing from the ResourceDirectory dictionary. Then, a message indicating the error is printed, and <b>None</b> is returned.\n",
    "    <br>\n",
    "2.Redfishobj.get(resource_uri) is used by the code to send a <b>GET</b> request to the resource directory URI if it was successfully fetched.\n",
    "    <br>\n",
    "3.Then we extracts the list of resource instances from the response dictionary (response.dict[\"Instances\"]) and assigns it to the resources variable if the response status is <b>200 (OK)</b>, which means that the resource directory was found at the specified URI <b>(/redfish/v1/resourcedirectory)</b>.\n",
    "    <br>\n",
    "4.If the response status is not 200, an error message is printed, indicating that the resource directory is missing at the specified URI.\n",
    "   <br>\n",
    "5.Atlast the function return the list of resources.\n",
    " </div>"
   ]
  },
  {
   "cell_type": "code",
   "execution_count": null,
   "id": "f034ef9c",
   "metadata": {},
   "outputs": [],
   "source": [
    "def get_resource_directory(redfishobj):\n",
    "\n",
    "    try:\n",
    "        resource_uri = redfishobj.root.obj.Oem.Hpe.Links.ResourceDirectory['@odata.id']\n",
    "    except KeyError:\n",
    "        sys.stderr.write(\"Resource directory is only available on HPE servers.\\n\")\n",
    "        return None\n",
    "\n",
    "    response = redfishobj.get(resource_uri)\n",
    "    resources = []\n",
    "\n",
    "    if response.status == 200:\n",
    "        sys.stdout.write(\"\\tFound resource directory at /redfish/v1/resourcedirectory\" + \"\\n\\n\")\n",
    "        resources = response.dict[\"Instances\"]\n",
    "    else:\n",
    "        sys.stderr.write(\"\\tResource directory missing at /redfish/v1/resourcedirectory\" + \"\\n\")\n",
    "\n",
    "    return resources"
   ]
  },
  {
   "cell_type": "markdown",
   "id": "268b5a18",
   "metadata": {},
   "source": [
    "<div class=\"alert alert-block alert-success\" style=\"border-radius: 20px;\"><h2 style=\"font-size:40px\">3.</h2>\n",
    "This is the overview of the get_gen function .\n",
    "    <br>\n",
    "    <ul>\n",
    "        <li>It starts by accessing the root object of the Redfish API response using _redfishobj.root.obj.</li>\n",
    "        <li>Determines whether the response has the key <b>Hpe or Hp</b> beneath the <b>Oem</b> key. If so, it is assumed to be an HPE or HP server. </li>\n",
    "        <li>Based on the value of gencompany, it initialises the comp variable. Comp sets to 'Hp' if gencompany is True; otherwise, it stays None.Additionally, it looks for the key 'Hpe' under the 'Oem' key in the response. If so, it changes comp to 'Hpe'.</li>\n",
    "        <li>The code verifies whether the key ManagerType under the Manager key of the Oem dictionary is present in the response. If so, it gets the ManagerType value, which stands for the generation of the iLO.</li>\n",
    "        <li>The ManagerFirmwareVersion key is also used to access the iLO firmware version .Ilogen is set to 4 and iloversion is set to None if the iLO generation terminates in <b>CM</b>.</li>\n",
    "        <li>The second element is used as the iLO generation number once the iLO generation string has been divided by spaces. Additionally, it adds a dot to the final component of the iLO firmware version to create the iLO version number.</li>\n",
    "        <li>It returns a tuple (ilogen, iloversion) containing the determined iLO generation and version.</li>\n",
    "    </ul>\n",
    "</div>"
   ]
  },
  {
   "cell_type": "code",
   "execution_count": null,
   "id": "ab494baf",
   "metadata": {},
   "outputs": [],
   "source": [
    "def get_gen(_redfishobj):\n",
    "\trootresp = _redfishobj.root.obj\n",
    "\t#Default iLO 5\n",
    "\tilogen = 5\n",
    "\tgencompany = next(iter(rootresp.get(\"Oem\", {}).keys()), None) in ('Hpe', 'Hp')\n",
    "\tcomp = 'Hp' if gencompany else None\n",
    "\tcomp = 'Hpe' if rootresp.get(\"Oem\", {}).get('Hpe', None) else comp\n",
    "\tif comp and next(iter(rootresp.get(\"Oem\", {}).get(comp, {}).get(\"Manager\", {}))).\\\n",
    "\t\t\t\t\t\t\t\t\t\t\t\t\t\t\t\tget('ManagerType', None):\n",
    "\t\tilogen = next(iter(rootresp.get(\"Oem\", {}).get(comp, {}).get(\"Manager\", {})))\\\n",
    "\t\t\t\t\t\t\t\t\t\t\t\t\t\t\t\t\t\t.get(\"ManagerType\")\n",
    "\t\tilover = next(iter(rootresp.get(\"Oem\", {}).get(comp, {}).get(\"Manager\", {}))).\\\n",
    "\t\t\t\t\t\t\t\t\t\t\t\t\t\t\t  get(\"ManagerFirmwareVersion\")\n",
    "\t\tif ilogen.split(' ')[-1] == \"CM\":\n",
    "\t\t\t# Assume iLO 4 types in Moonshot\n",
    "\t\t\tilogen = 4\n",
    "\t\t\tiloversion = None\n",
    "\t\telse:\n",
    "\t\t\tilogen = ilogen.split(' ')[1]\n",
    "\t\t\tiloversion = float(ilogen.split(' ')[-1] + '.' + \\\n",
    "\t\t\t\t\t\t\t\t\t\t\t''.join(ilover.split('.')))\n",
    "\treturn (ilogen, iloversion)\n"
   ]
  },
  {
   "cell_type": "markdown",
   "id": "a839daaa",
   "metadata": {},
   "source": [
    "<div class = \"alert alert-block alert-success\" style=\"border-radius: 20px;\"><h2 style=\"font-size:40px\">4.</h2>In case you need help 🔗 links to relevant resources :\n",
    "    <br>\n",
    "    1.Python-ilorest-library:<a href = \"https://github.com/HewlettPackard/python-ilorest-library\">LINK</a><br>\n",
    "    2.Hpe ilorest-api explorer:<a href = \"https://ilorestfulapiexplorer.ext.hpe.com/\">LINK</a><br>\n",
    "    3.Rest api: <a href = \"https://restfulapi.net/\">LINK</a><br>\n",
    "    \n",
    "</div>"
   ]
  }
 ],
 "metadata": {
  "kernelspec": {
   "display_name": "Python 3 (ipykernel)",
   "language": "python",
   "name": "python3"
  },
  "language_info": {
   "codemirror_mode": {
    "name": "ipython",
    "version": 3
   },
   "file_extension": ".py",
   "mimetype": "text/x-python",
   "name": "python",
   "nbconvert_exporter": "python",
   "pygments_lexer": "ipython3",
   "version": "3.10.6"
  }
 },
 "nbformat": 4,
 "nbformat_minor": 5
}
