{
 "cells": [
  {
   "cell_type": "markdown",
   "id": "266e8885",
   "metadata": {
    "tags": []
   },
   "source": [
    "# Mount_virtual-media_iso"
   ]
  },
  {
   "cell_type": "markdown",
   "id": "358b08b4",
   "metadata": {},
   "source": [
    "<div class=\"alert alert-block alert-info\">\n",
    "<i>Hello there.!<br></i> Welcome to <b>python-iLOrest-library</b> <br> Here is an example to <b>mount_virtual_media_iso</b> <br> As you are here let's get it done easily.<br>\n",
    "    To perform this u need to have <a href = \"https://libraries.io/pypi/python-ilorest-library#id3\" style = \"none\">python-ilorest-library</a> installed in your machine.<br>\n",
    "    And please keep your username and password handy!\n",
    "    <br>\n",
    "    <b>Also do execute each successive cell once to avoid any errors!</b>\n",
    "    \n",
    "</div>"
   ]
  },
  {
   "cell_type": "markdown",
   "id": "578dfc4d",
   "metadata": {},
   "source": [
    "<div class=\"alert alert-block alert-success\">\n",
    "    <h1> 1.</h1>\n",
    "Below we are importing all the necessary modules from the ilorest library!.<br>\n",
    "    <li><a href = \"https://www.tutorialspoint.com/what-is-python-s-sys-module#:~:text=%20What%20is%20Python%27s%20Sys%20Module%20%201,%5B0%5D%20prints%20the...%205%20Output.%20%20More%20\">sys </a>\n",
    "    </li>\n",
    "    <li>json </li>\n",
    "    <li> redfish </li>\n",
    "    <li>get_resource_directory</li>\n",
    "</div>"
   ]
  },
  {
   "cell_type": "code",
   "execution_count": 1,
   "id": "c82681e9",
   "metadata": {},
   "outputs": [
    {
     "ename": "ModuleNotFoundError",
     "evalue": "No module named 'get_resource_directory'",
     "output_type": "error",
     "traceback": [
      "\u001b[1;31m---------------------------------------------------------------------------\u001b[0m",
      "\u001b[1;31mModuleNotFoundError\u001b[0m                       Traceback (most recent call last)",
      "\u001b[1;32m~\\AppData\\Local\\Temp/ipykernel_35788/1390777471.py\u001b[0m in \u001b[0;36m<module>\u001b[1;34m\u001b[0m\n\u001b[0;32m      4\u001b[0m \u001b[1;32mfrom\u001b[0m \u001b[0mredfish\u001b[0m\u001b[1;33m.\u001b[0m\u001b[0mrest\u001b[0m\u001b[1;33m.\u001b[0m\u001b[0mv1\u001b[0m \u001b[1;32mimport\u001b[0m \u001b[0mServerDownOrUnreachableError\u001b[0m\u001b[1;33m\u001b[0m\u001b[1;33m\u001b[0m\u001b[0m\n\u001b[0;32m      5\u001b[0m \u001b[1;33m\u001b[0m\u001b[0m\n\u001b[1;32m----> 6\u001b[1;33m \u001b[1;32mfrom\u001b[0m \u001b[0mget_resource_directory\u001b[0m \u001b[1;32mimport\u001b[0m \u001b[0mget_resource_directory\u001b[0m\u001b[1;33m\u001b[0m\u001b[1;33m\u001b[0m\u001b[0m\n\u001b[0m",
      "\u001b[1;31mModuleNotFoundError\u001b[0m: No module named 'get_resource_directory'"
     ]
    }
   ],
   "source": [
    "import sys\n",
    "import json\n",
    "from redfish import RedfishClient\n",
    "from redfish.rest.v1 import ServerDownOrUnreachableError\n",
    "from get_resource_directory import get_resource_directory"
   ]
  },
  {
   "cell_type": "markdown",
   "id": "84274de2",
   "metadata": {},
   "source": [
    "<div class = \"alert alert-block alert-success\">\n",
    "    <h1> 2. </h1>This is our mount_virtual-media_iso function overview.<br>\n",
    "    <i>Let me give you a walk through of it!</i>\n",
    "    <br>\n",
    " There is a hierarchy involved in iLO Rest Api. So we are simply following the hierarchy present.<br>\n",
    "\n",
    "1. In the <b>change_bios_settings</b> function we are first using <b>resource_instances</b> variable to obtain information about the resource directory by using get_resource_directory module.\n",
    "<br>\n",
    "    \n",
    "2. Retrieving information on the server's management interfaces using the Redfish API client, including members and their properties and retrieving URI for virtual media using Redfish API client.\n",
    "    <br>\n",
    "\n",
    "3. Else Using the Redfish API client and the Resource Directory, iterating through resource instances, and obtaining the URI for the virtual media collection.\n",
    "    <br>\n",
    "4. If <b>virtual_media_uri </b> is not <b>None</b> then If a slot matches, the program fetches the URI for adding media into that slot and then sends a <b>POST</b> request to the supplied URL to insert the ISO image. Additionally, the code sends a <b>PATCH </b>request to set the option if a parameter is provided for the server to restart from the virtual media.\n",
    "    <br>\n",
    "\n",
    "5. Handling the error after inserting the iso image in slot \n",
    "    If status code is <b>400</b> the code attempts to retrieve and print extended error message .\n",
    "    If status code is <b> 200 OK</b> then it will print error meassage and status code.\n",
    "    Else the insertion is <b>success</b> then code print result in <b>JSON</b> format.\n",
    "\n",
    " </div>"
   ]
  },
  {
   "cell_type": "code",
   "execution_count": 2,
   "id": "cc680e58",
   "metadata": {},
   "outputs": [],
   "source": [
    "def mount_virtual_media_iso(_redfishobj, iso_url, media_type, boot_on_next_server_reset):\n",
    " #Initializing variables for virtual media API responses.\n",
    "    virtual_media_uri = None\n",
    "    virtual_media_response = []\n",
    "#Retrieving resource directory instances using Redfish API client.\n",
    "    resource_instances = get_resource_directory(_redfishobj)\n",
    "    if DISABLE_RESOURCE_DIR or not resource_instances:\n",
    "        #if we do not have a resource directory or want to force it's non use to find the\n",
    "        #relevant URI\n",
    "        managers_uri = _redfishobj.root.obj['Managers']['@odata.id']\n",
    "        managers_response = _redfishobj.get(managers_uri)\n",
    "        managers_members_uri = next(iter(managers_response.obj['Members']))['@odata.id']\n",
    "        managers_members_response = _redfishobj.get(managers_members_uri)\n",
    "        virtual_media_uri = managers_members_response.obj['VirtualMedia']['@odata.id']\n",
    "    else:\n",
    "        for instance in resource_instances:\n",
    "            #Use Resource directory to find the relevant URI\n",
    "            if '#VirtualMediaCollection.' in instance['@odata.type']:\n",
    "                virtual_media_uri = instance['@odata.id']\n",
    "\n",
    "    if virtual_media_uri:\n",
    "        #retriving information Virtual media using redfish object and specified parameter\n",
    "        virtual_media_response = _redfishobj.get(virtual_media_uri)\n",
    "        #iterates through each virtual media to find proper slot\n",
    "        for virtual_media_slot in virtual_media_response.obj['Members']:\n",
    "            data = _redfishobj.get(virtual_media_slot['@odata.id'])\n",
    "            if media_type in data.dict['MediaTypes']:\n",
    "                virtual_media_mount_uri = data.obj['Actions']['#VirtualMedia.InsertMedia']['target']\n",
    "                post_body = {\"Image\": iso_url}\n",
    "\n",
    "                if iso_url:\n",
    "                    resp = _redfishobj.post(virtual_media_mount_uri, post_body)\n",
    "                    if boot_on_next_server_reset is not None:\n",
    "                        patch_body = {}\n",
    "                        patch_body[\"Oem\"] = {\"Hpe\": {\"BootOnNextServerReset\": \\\n",
    "                                                 boot_on_next_server_reset}}\n",
    "                        boot_resp = _redfishobj.patch(data.obj['@odata.id'], patch_body)\n",
    "                        if not boot_resp.status == 200:\n",
    "                            sys.stderr.write(\"Failure setting BootOnNextServerReset\")\n",
    "                #handling error after inserting iso image in slot \n",
    "                    if resp.status == 400:\n",
    "                        try:\n",
    "                            print(json.dumps(resp.obj['error']['@Message.ExtendedInfo'], indent=4, \\\n",
    "                                                                                    sort_keys=True))\n",
    "                        except Exception as excp:\n",
    "                            sys.stderr.write(\"A response error occurred, unable to access iLO\"\n",
    "                                             \"Extended Message Info...\")\n",
    "                    elif resp.status != 200:\n",
    "                        sys.stderr.write(\"An http response of \\'%s\\' was returned.\\n\" % resp.status)\n",
    "                    else:\n",
    "                        print(\"Success!\\n\")\n",
    "                        print(json.dumps(resp.dict, indent=4, sort_keys=True))\n",
    "                break\n",
    "        \n"
   ]
  },
  {
   "cell_type": "markdown",
   "id": "567eb3f8",
   "metadata": {},
   "source": [
    "<div class = \"alert alert-block alert-success\">\n",
    "    <h1> 3. </h1>This is Main function overview.<br>\n",
    "    <i>Let me give you a walk through of it!</i>\n",
    "    <br>\n",
    "    <br>\n",
    "1. If server is runnig in locally then url,login_account,Login-password will be <b> None</b>.\n",
    "      Else then we need to enter the proper credential.\n",
    "    <br>\n",
    "<br>\n",
    "    \n",
    "2. <b>media_url</b> will provide access and mount the iso image in server side and we initial <b>media_type</b> to <b> CD</b>.<br>\n",
    "    <br>\n",
    "\n",
    "3. Utilising the Redfish API to create a Redfish client object with the provided login information and log in to the server.<br>\n",
    "    <br>\n",
    "\n",
    "4. resolving the exception that is thrown when the server cannot be reached or does not implement the Redfish API, printing a message of error to standard error output, and terminating the program<br>\n",
    "    <br>\n",
    "5. Using the Redfish API client object and the given arguments to mount a virtual media ISO image on a server.<br>\n",
    "    \n",
    "\n",
    "6. REDFISHOBJ.logout() will take care of logging you out of the ilo.\n",
    "\n",
    " </div>"
   ]
  },
  {
   "cell_type": "code",
   "execution_count": 1,
   "id": "7c01d222",
   "metadata": {},
   "outputs": [
    {
     "name": "stdout",
     "output_type": "stream",
     "text": [
      "Enter System URL: 120.1.114.51\n",
      "Enter Name: tann\n",
      "Enter password: none\n",
      "Enter bios password: noen\n",
      "Enter bios property you wish to change: yes\n",
      "Enter Value of the property to change: none\n"
     ]
    },
    {
     "ename": "NameError",
     "evalue": "name 'ServerDownOrUnreachableError' is not defined",
     "output_type": "error",
     "traceback": [
      "\u001b[0;31m---------------------------------------------------------------------------\u001b[0m",
      "\u001b[0;31mNameError\u001b[0m                                 Traceback (most recent call last)",
      "Cell \u001b[0;32mIn[1], line 17\u001b[0m\n\u001b[1;32m     15\u001b[0m \u001b[38;5;28;01mtry\u001b[39;00m:\n\u001b[1;32m     16\u001b[0m     \u001b[38;5;66;03m# Create a Redfish client object\u001b[39;00m\n\u001b[0;32m---> 17\u001b[0m     REDFISHOBJ \u001b[38;5;241m=\u001b[39m \u001b[43mRedfishClient\u001b[49m(base_url\u001b[38;5;241m=\u001b[39mSYSTEM_URL, username\u001b[38;5;241m=\u001b[39mLOGIN_ACCOUNT, password\u001b[38;5;241m=\u001b[39mLOGIN_PASSWORD)\n\u001b[1;32m     19\u001b[0m     \u001b[38;5;66;03m# Login with the Redfish client\u001b[39;00m\n",
      "\u001b[0;31mNameError\u001b[0m: name 'RedfishClient' is not defined",
      "\nDuring handling of the above exception, another exception occurred:\n",
      "\u001b[0;31mNameError\u001b[0m                                 Traceback (most recent call last)",
      "Cell \u001b[0;32mIn[1], line 21\u001b[0m\n\u001b[1;32m     19\u001b[0m     \u001b[38;5;66;03m# Login with the Redfish client\u001b[39;00m\n\u001b[1;32m     20\u001b[0m     REDFISHOBJ\u001b[38;5;241m.\u001b[39mlogin()\n\u001b[0;32m---> 21\u001b[0m \u001b[38;5;28;01mexcept\u001b[39;00m \u001b[43mServerDownOrUnreachableError\u001b[49m \u001b[38;5;28;01mas\u001b[39;00m excp:\n\u001b[1;32m     22\u001b[0m     sys\u001b[38;5;241m.\u001b[39mstderr\u001b[38;5;241m.\u001b[39mwrite(\u001b[38;5;124m\"\u001b[39m\u001b[38;5;124mERROR: server not reachable or does not support RedFish.\u001b[39m\u001b[38;5;130;01m\\n\u001b[39;00m\u001b[38;5;124m\"\u001b[39m)\n\u001b[1;32m     23\u001b[0m     sys\u001b[38;5;241m.\u001b[39mexit()\n",
      "\u001b[0;31mNameError\u001b[0m: name 'ServerDownOrUnreachableError' is not defined"
     ]
    }
   ],
   "source": [
    "if __name__ == \"__main__\":\n",
    "    # When running on the server locally use the following commented values\n",
    "    #SYSTEM_URL = None\n",
    "    #LOGIN_ACCOUNT = None\n",
    "    #LOGIN_PASSWORD = None\n",
    "\n",
    "    # When running remotely connect using the secured (https://) address,\n",
    "    # account name, and password to send https requests\n",
    "    # SYSTEM_URL acceptable examples:\n",
    "    # \"https://10.0.0.100\"\n",
    "    # \"https://ilo.hostname\"\n",
    "    SYSTEM_URL = \"https://10.0.0.100\"\n",
    "    LOGIN_ACCOUNT = \"admin\"\n",
    "    LOGIN_PASSWORD = \"password\"\n",
    " # used to access and mount iso image on server side\n",
    "    MEDIA_URL = \"http://<SERVER_URL>/media.iso\"\n",
    "\n",
    "    #specify the type of content the media represents\n",
    "    MEDIA_TYPE = \"CD\" #current possible options: Floppy, USBStick, CD, DVD\n",
    "    #specify if the server should attempt to boot this media on system restart\n",
    "    BOOT_ON_NEXT_SERVER_RESET = True\n",
    "\n",
    "    # flag to force disable resource directory. Resource directory and associated operations are\n",
    "    # intended for HPE servers.\n",
    "    DISABLE_RESOURCE_DIR = False\n",
    "\n",
    "    try:\n",
    "        # Create a Redfish client object\n",
    "        REDFISHOBJ = RedfishClient(base_url=SYSTEM_URL, username=LOGIN_ACCOUNT, \\\n",
    "                                                                            password=LOGIN_PASSWORD)\n",
    "        # Login with the Redfish client\n",
    "        REDFISHOBJ.login()\n",
    "    except ServerDownOrUnreachableError as excp:\n",
    "        sys.stderr.write(\"ERROR: server not reachable or does not support RedFish.\\n\")\n",
    "        sys.exit()\n",
    "\n",
    "    mount_virtual_media_iso(REDFISHOBJ, MEDIA_URL, MEDIA_TYPE, BOOT_ON_NEXT_SERVER_RESET)\n",
    "    REDFISHOBJ.logout()\n"
   ]
  },
  {
   "cell_type": "markdown",
   "id": "9d0181a9",
   "metadata": {},
   "source": [
    "<div class=\"alert alert-block alert-warning\">\n",
    "<b> When running on the server locally : </b>  use the following values <br>\n",
    "    SYSTEM_URL = None <br>\n",
    "    LOGIN_ACCOUNT = None <br>\n",
    "    LOGIN_PASSWORD = None <br>\n",
    "    <b> When running remotely </b> connect using the secured (https://) address,account name, and password to send https requests <br>\n",
    "    SYSTEM_URL acceptable examples: <br>\n",
    "    \"https://10.0.0.100\" <br>\n",
    "    \"https://ilo.hostname\"\n",
    "</div>"
   ]
  },
  {
   "cell_type": "markdown",
   "id": "9e9f0846",
   "metadata": {},
   "source": [
    "<div class = \"alert alert-block alert-success\">In case you need help 🔗 links to relevant resources :\n",
    "    <br>\n",
    "    1.Python-ilorest-library:<a href = \"https://github.com/HewlettPackard/python-ilorest-library\">LINK</a><br>\n",
    "    2.Hpe ilorest-api explorer:<a href = \"https://ilorestfulapiexplorer.ext.hpe.com/\">LINK</a><br>\n",
    "    3.Rest api: <a href = \"https://restfulapi.net/\">LINK</a><br>\n",
    "    \n",
    "</div>"
   ]
  }
 ],
 "metadata": {
  "kernelspec": {
   "display_name": "Python 3 (ipykernel)",
   "language": "python",
   "name": "python3"
  },
  "language_info": {
   "codemirror_mode": {
    "name": "ipython",
    "version": 3
   },
   "file_extension": ".py",
   "mimetype": "text/x-python",
   "name": "python",
   "nbconvert_exporter": "python",
   "pygments_lexer": "ipython3",
   "version": "3.10.6"
  }
 },
 "nbformat": 4,
 "nbformat_minor": 5
}
