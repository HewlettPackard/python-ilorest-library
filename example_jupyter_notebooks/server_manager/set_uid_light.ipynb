{
 "cells": [
  {
   "cell_type": "markdown",
   "id": "8ce5d6a0",
   "metadata": {},
   "source": [
    "<h1 style=\"text-align:center;\">Setting the UID light</h1>\n"
   ]
  },
  {
   "cell_type": "markdown",
   "id": "5b76e816",
   "metadata": {},
   "source": [
    "<div class=\"alert alert-block alert-info\"  style=\"border-radius: 20px;\">\n",
    "Welcome to <b>python-iLOrest-library</b> <br> Here is an example to <b>Setting UID light</b><br>\n",
    "    This Jupyter Notebook will contains a example code to demonstrate how to set uid light. This code is written in Python and uses the redfish library to perform the required operations.</b><br> As you are here let's get it done easily.<br>\n",
    "    To perform this you need to have <a href = \"https://libraries.io/pypi/python-ilorest-library#id3\" style = \"none\">python-ilorest-library</a> installed in your machine.<br>\n",
    "    Please keep your username and password handy!\n",
    "    <br>\n",
    "    <b>Also do execute each successive cell once to avoid any errors!</b>\n",
    "    \n",
    "</div>"
   ]
  },
  {
   "cell_type": "markdown",
   "id": "0581e350",
   "metadata": {},
   "source": [
    "<div class=\"alert alert-block alert-success\"  style=\"border-radius: 20px;\">\n",
    "    <h3> 1. Below we are importing all the necessary modules from the ilorest library.</h3><br>\n",
    "    <li><a href = \"https://www.tutorialspoint.com/what-is-python-s-sys-module#:~:text=%20What%20is%20Python%27s%20Sys%20Module%20%201,%5B0%5D%20prints%20the...%205%20Output.%20%20More%20\">sys </a>\n",
    "    </li>\n",
    "    <li>json </li>\n",
    "    <li> redfish </li>\n",
    "        \n",
    "</div>"
   ]
  },
  {
   "cell_type": "code",
   "execution_count": null,
   "id": "1875796e",
   "metadata": {},
   "outputs": [],
   "source": [
    "import sys\n",
    "import json\n",
    "import time\n",
    "from redfish import RedfishClient\n",
    "from redfish.rest.v1 import ServerDownOrUnreachableError\n",
    "from get_resource_directory import get_resource_directory\n",
    "import getpass"
   ]
  },
  {
   "cell_type": "markdown",
   "id": "1eb087ac",
   "metadata": {},
   "source": [
    "<div class = \"alert alert-block alert-success\"  style=\"border-radius: 20px;\">\n",
    "    <h3> 2. This is our set_uid_light to function overview, in the end this will set uid light.</h3><br>\n",
    "    \n",
    " There is a hierarchy involved in iLO Rest Api. So we are simply following the hierarchy present to change the settings.<br>\n",
    "1. This is a function that uses the Redfish API to toggle the UID (Universal Identification) LED on a computer system.\n",
    "    The function takes a Redfish connection object <b>_redfishobj</b> as its only argument.<br><br>\n",
    "2. In the <b>set_uid_light</b> function we are first using <b>resource_instances</b> variable to obtain information about the resource directory by using get_resource_directory module.\n",
    "<br><br>\n",
    "3.  In the iLO rest api the information about UID light is stored inside the <b>systems json object</b>.\n",
    "    And now through system_response variable, we are making a http <a href = \"https://developer.mozilla.org/en-US/docs/Web/HTTP/Methods\" style=\"background-color:powderblue;\">GET operation</a> to and trying to obtain the UID light settings of iLO system.\n",
    "    <br><br>\n",
    "4. In the system members response object with different <b>odata_id</b> we get a system uri . Then again an http GET request is made and response is stored in <b>system_response</b>. Then we set the <b>system_members_uri<b>.<br><br>\n",
    "5. Else if resource directory is enabled then we will simply iterate through all instances inside resources and if #ComputerSystem attribute is present in <b>@odata.type</b> attribute then we'll set <b>system_members_uri</b> and <i> get </i> <b>system_members_response settings</b> of the user through redfish object.<br><br>\n",
    "6.It sets the <b>body[\"IndicatorLED\"]</b> key to <b>Lit</b> if the current value of the IndicatorLED property is <b>Off</b>, or to \"Off\" otherwise.<br><br>\n",
    "7. It sends an HTTP PATCH request to the obtained URI with the body payload to update the IndicatorLED property.<br><br>\n",
    "8. If the response status code is not 200 (OK) or 201 (Created), it prints an error message and exits.<br><br>\n",
    "9. If the response status code is 200 or 201, it waits for 10 seconds to allow the firmware to update the LED status, and then sends a GET request to the same URI to obtain the updated resource representation of the computer system.<br><br>\n",
    "10. It prints the updated value of the IndicatorLED property.<br><br>\n",
    " </div>"
   ]
  },
  {
   "cell_type": "code",
   "execution_count": null,
   "id": "07276165",
   "metadata": {},
   "outputs": [],
   "source": [
    "def set_uid_light(_redfishobj):\n",
    "\n",
    "    body = dict()\n",
    "    systems_members_uri = None\n",
    "    systems_members_response = None\n",
    "\n",
    "    resource_instances = get_resource_directory(_redfishobj)\n",
    "    if DISABLE_RESOURCE_DIR or not resource_instances:\n",
    "        #if we do not have a resource directory or want to force it's non use to find the relevant URI\n",
    "        systems_uri = _redfishobj.root.obj['Systems']['@odata.id']\n",
    "        systems_response = _redfishobj.get(systems_uri)\n",
    "        systems_members_uri = next(iter(systems_response.obj['Members']))['@odata.id']\n",
    "        systems_members_response = _redfishobj.get(systems_members_uri)\n",
    "    else:\n",
    "        #Use Resource directory to find the relevant URI\n",
    "        for instance in resource_instances:\n",
    "            if '#ComputerSystem.' in instance['@odata.type']:\n",
    "                systems_members_uri = instance['@odata.id']\n",
    "                systems_members_response = _redfishobj.get(systems_members_uri)\n",
    "\n",
    "    if systems_members_response and systems_members_uri:\n",
    "        print(\"Current Indicator LED Status: \\'%s\\'\\n\" % systems_members_response.dict.\\\n",
    "                                                                            get(\"IndicatorLED\"))\n",
    "        if \"Off\" in systems_members_response.dict.get(\"IndicatorLED\"):\n",
    "            print(\"Will illuminate indicator LED.\\n\")\n",
    "            body[\"IndicatorLED\"] = \"Lit\"\n",
    "        else:\n",
    "            print(\"Will extinguish indicator LED.\\n\")\n",
    "            body[\"IndicatorLED\"] = \"Off\"\n",
    "\n",
    "        resp = _redfishobj.patch(systems_members_uri, body)\n",
    "        #If iLO responds with soemthing outside of 200 or 201 then lets check the iLO extended info error message to see what went wrong\n",
    "        if resp.status == 400:\n",
    "            try:\n",
    "                print(json.dumps(resp.obj['error']['@Message.ExtendedInfo'], indent=4, \\\n",
    "                                                                                sort_keys=True))\n",
    "            except Exception as excp:\n",
    "                sys.stderr.write(\"A response error occurred, unable to access iLO Extended \"\\\n",
    "                                 \"Message Info...\")\n",
    "        elif resp.status != 200:\n",
    "            sys.stderr.write(\"An http response of \\'%s\\' was returned.\\n\" % resp.status)\n",
    "        else:\n",
    "            print(\"Success!\\n\")\n",
    "            print(json.dumps(resp.dict, indent=4, sort_keys=True))\n",
    "            time.sleep(10) #going to wait 10 seconds before obtaining the LED indicator state\n",
    "            sys.stdout.write(\"\\nUpdated Indicator LED Status: \\'%s\\'\\n\" % _redfishobj.\\\n",
    "                                                    get(systems_members_uri).dict['IndicatorLED'])\n",
    "\n"
   ]
  },
  {
   "cell_type": "markdown",
   "id": "70d73b57",
   "metadata": {},
   "source": [
    "<div class = \"alert alert-block alert-success\"  style=\"border-radius: 20px;\">\n",
    "    <h3> 3. This is Main function overview.<br></h3>\n",
    " There is a hierarchy involved in iLO Rest Api. So we are simply following the hierarchy present to change the settings.<br>\n",
    "\n",
    "1. The rest opertions are handled by Redfish object which is created by Redfish Client<br>\n",
    "<br>\n",
    "    \n",
    "2. <b>Redfish Client</b> class takes 3 parameters<i> iLO url, Username, Password</i> and returns a redfish object.<br>\n",
    "    <br>\n",
    "\n",
    "3. Once you enter everything a redfish object is created with the help of Redfish Client class.<br>\n",
    "    <br>\n",
    "\n",
    "4. Now we try to Login with the help of <i> REDFISHOBJ</i>, if it is successful a session is created and you are logged in, But if Server is not avaialbe we get an error saying \"server unreachable\"<br>\n",
    "    <br>\n",
    "5. Then we call <b>set_uid_light</b> with our redfish object to set UID light.<br>\n",
    "    <br>\n",
    "6. <b>REDFISHOBJ.logout()</b> will take care of logging you out of the ilo.\n",
    "\n",
    " </div>"
   ]
  },
  {
   "cell_type": "markdown",
   "id": "3e4a9804",
   "metadata": {},
   "source": [
    "<div class=\"alert alert-block alert-warning\"  style=\"border-radius: 20px;\">\n",
    "<b> When running on the server locally : </b>  use the following values <br>\n",
    "    SYSTEM_URL = None <br>\n",
    "    LOGIN_ACCOUNT = None <br>\n",
    "    LOGIN_PASSWORD = None <br>\n",
    "    <b> When running remotely </b> connect using the secured (https://) address,account name, and password to send https requests <br>\n",
    "    SYSTEM_URL acceptable examples: <br>\n",
    "    \"https://10.0.0.100\" <br>\n",
    "    \"https://ilo.hostname\"\n",
    "</div>"
   ]
  },
  {
   "cell_type": "code",
   "execution_count": null,
   "id": "ea7ed17c",
   "metadata": {},
   "outputs": [],
   "source": [
    "if __name__ == \"__main__\":\n",
    "\n",
    "    SYSTEM_URL = input(\"Enter System URL: \")\n",
    "    LOGIN_ACCOUNT = input(\"Enter Name: \")\n",
    "    LOGIN_PASSWORD =getpass.getpass(\"Enter password: \")\n",
    "\n",
    "    # flag to force disable resource directory. Resource directory and associated operations are intended for HPE servers.\n",
    "    DISABLE_RESOURCE_DIR = True\n",
    "\n",
    "    try:\n",
    "        # Create a Redfish client object\n",
    "        REDFISHOBJ = RedfishClient(base_url=SYSTEM_URL, username=LOGIN_ACCOUNT, \\\n",
    "                                                                            password=LOGIN_PASSWORD)\n",
    "        # Login with the Redfish client\n",
    "        REDFISHOBJ.login()\n",
    "    except ServerDownOrUnreachableError as excp:\n",
    "        sys.stderr.write(\"ERROR: server not reachable or does not support RedFish.\\n\")\n",
    "        sys.exit()\n",
    "\n",
    "    set_uid_light(REDFISHOBJ)\n",
    "    REDFISHOBJ.logout()\n"
   ]
  },
  {
   "cell_type": "markdown",
   "id": "377dc76a",
   "metadata": {},
   "source": [
    "<div class = \"alert alert-block alert-success\"  style=\"border-radius: 20px;\">In case you need help 🔗 links to relevant resources :\n",
    "    <br>\n",
    "    1.Python-ilorest-library:<a href = \"https://github.com/HewlettPackard/python-ilorest-library\">LINK</a><br>\n",
    "    2.Hpe ilorest-api explorer:<a href = \"https://ilorestfulapiexplorer.ext.hpe.com/\">LINK</a><br>\n",
    "    3.Rest api: <a href = \"https://restfulapi.net/\">LINK</a><br>\n",
    "    \n",
    "</div>"
   ]
  }
 ],
 "metadata": {
  "kernelspec": {
   "display_name": "Python 3 (ipykernel)",
   "language": "python",
   "name": "python3"
  },
  "language_info": {
   "codemirror_mode": {
    "name": "ipython",
    "version": 3
   },
   "file_extension": ".py",
   "mimetype": "text/x-python",
   "name": "python",
   "nbconvert_exporter": "python",
   "pygments_lexer": "ipython3",
   "version": "3.9.7"
  }
 },
 "nbformat": 4,
 "nbformat_minor": 5
}
