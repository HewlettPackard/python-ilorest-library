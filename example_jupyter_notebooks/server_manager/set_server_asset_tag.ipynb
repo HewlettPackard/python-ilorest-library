{
 "cells": [
  {
   "cell_type": "markdown",
   "id": "c3169c50",
   "metadata": {},
   "source": [
    "<h1 style=\"text-align:center;\">Setting server asset tag</h1>"
   ]
  },
  {
   "cell_type": "markdown",
   "id": "70635f68",
   "metadata": {},
   "source": [
    "<div class=\"alert alert-block alert-info\"  style=\"border-radius: 20px;\">\n",
    " Welcome to <b>python-iLOrest-library</b> <br> This is an example of <b>setting server asset tag.</b> <br> As you are here let's get it done easily.<br>\n",
    "    To perform this you need to have <a href = \"https://github.com/HewlettPackard/python-ilorest-library\" >python-ilorest-library</a> installed in your machine.<br>\n",
    "    And please keep your username and password handy!\n",
    "    <br>\n",
    "    <b>Also do execute each successive cell once to avoid any errors!</b>\n",
    "    \n",
    "</div>"
   ]
  },
  {
   "cell_type": "markdown",
   "id": "f176e2a7",
   "metadata": {},
   "source": [
    " <div class=\"alert alert-block alert-success\"  style=\"border-radius: 20px;\">\n",
    "    <h3> 1. Below we are importing all the necessary modules from the ilorest library. </h3><br>\n",
    "    <li><a href = \"https://www.tutorialspoint.com/what-is-python-s-sys-module#:~:text=%20What%20is%20Python%27s%20Sys%20Module%20%201,%5B0%5D%20prints%20the...%205%20Output.%20%20More%20\">sys </a>\n",
    "    </li>\n",
    "    <li>json </li>\n",
    "    <li> redfish </li>\n",
    "    \n",
    "</div>"
   ]
  },
  {
   "cell_type": "code",
   "execution_count": null,
   "id": "cbe979de",
   "metadata": {},
   "outputs": [],
   "source": [
    "import sys\n",
    "import json\n",
    "import time\n",
    "from redfish import RedfishClient\n",
    "from redfish.rest.v1 import ServerDownOrUnreachableError\n",
    "\n",
    "from get_resource_directory import get_resource_directory"
   ]
  },
  {
   "cell_type": "markdown",
   "id": "616c5812",
   "metadata": {},
   "source": [
    "<div class = \"alert alert-block alert-success\"  style=\"border-radius: 20px;\"><h3>2. This is our set_server_asset_tag function overview. </h3>\n",
    "    <br>\n",
    "1. The <b>set_server_asset_tag</b> function sets the server asset tag on an iLO device. The function takes two parameters: _redfishobj and tag. \n",
    "    <ul>\n",
    "    <li><b>_redfishobj</b> is a Redfish client object that represents the connection to the server</li>\n",
    "    <li><b>tag </b> is a string that represents the asset tag to be set for the server. </li>\n",
    "    </ul><br>\n",
    "2. In the <b>set_server_asset_tag</b> function we are first using <b>resource_instances</b> variable to obtain information about the resource directory by using get_resource_directory module.<br><br>\n",
    "3. In the ILO rest api the information about server asset tag is stored inside the <b>systems json object</b>.\n",
    "    And now through system_response variable,        we are making a http <a href = \"https://developer.mozilla.org/en-US/docs/Web/HTTP/Methods\" style=\"background-color:powderblue;\">GET operation</a> to and trying to obtain the server asset tag of iLO system.<br><br>\n",
    "4. In the system members response object with different <b>odata_id</b> we get a system uri .\n",
    "    Then again an http GET request is made and response is stored in <b>system_response</b>.\n",
    "    Then we set the system_members_uri.\n",
    "    <br><br>\n",
    "5. Else if resource directory is enabled then we will simply iterate through all instances inside resources \n",
    "    and if #ComputerSystem attribute is present in <b>@odata.type</b> attribute then we'll set <b>systems_members_uri</b> and <i> get </i> <b>systems_members_response</b> of the user through redfish object.<br><br>  \n",
    "6.The function then calls the <b>patch()</b> method to update the system's AssetTag property with the new tag provided as input to the function.<br><br> \n",
    "7. If the iLO device responds with a status code outside of 200 or 201, the function attempts to access the iLO extended message info to see what went wrong.<br><br>   \n",
    "8. If the patch() operation is successful, the updated asset tag is printed to the console. The function then waits for 10 seconds before retrieving and displaying the updated asset tag.<br><br>\n",
    "</div>"
   ]
  },
  {
   "cell_type": "code",
   "execution_count": null,
   "id": "f4e166b2",
   "metadata": {},
   "outputs": [],
   "source": [
    "def set_server_asset_tag(_redfishobj, tag):\n",
    "\n",
    "    systems_members_uri = None\n",
    "    systems_members_response = None\n",
    "\n",
    "    resource_instances = get_resource_directory(_redfishobj)\n",
    "    if DISABLE_RESOURCE_DIR or not resource_instances:\n",
    "        #if we do not have a resource directory or want to force it's non use to find the\n",
    "        #relevant URI\n",
    "        systems_uri = _redfishobj.root.obj['Systems']['@odata.id']\n",
    "        systems_response = _redfishobj.get(systems_uri)\n",
    "        systems_members_uri = next(iter(systems_response.obj['Members']))['@odata.id']\n",
    "        systems_members_response = _redfishobj.get(systems_members_uri)\n",
    "    else:\n",
    "        #Use Resource directory to find the relevant URI\n",
    "        for instance in resource_instances:\n",
    "            if '#ComputerSystem.' in instance['@odata.type']:\n",
    "                systems_members_uri = instance['@odata.id']\n",
    "                systems_members_response = _redfishobj.get(systems_members_uri)\n",
    "\n",
    "    if systems_members_response and systems_members_uri and tag:\n",
    "        print(\"Current Asset Tag: \\'%s\\'\\n\" % systems_members_response.dict.get(\"AssetTag\"))\n",
    "\n",
    "        resp = _redfishobj.patch(systems_members_uri, {\"AssetTag\" : tag})\n",
    "        #If iLO responds with soemthing outside of 200 or 201 then lets check the iLO extended info\n",
    "        #error message to see what went wrong\n",
    "        if resp.status == 400:\n",
    "            try:\n",
    "                print(json.dumps(resp.obj['error']['@Message.ExtendedInfo'], indent=4, \\\n",
    "                                                                                sort_keys=True))\n",
    "            except Exception as excp:\n",
    "                sys.stderr.write(\"A response error occurred, unable to access iLO Extended \"\\\n",
    "                                 \"Message Info...\")\n",
    "        elif resp.status != 200:\n",
    "            sys.stderr.write(\"An http response of \\'%s\\' was returned.\\n\" % resp.status)\n",
    "        else:\n",
    "            print(\"Success!\\n\")\n",
    "            print(json.dumps(resp.dict, indent=4, sort_keys=True))\n",
    "            time.sleep(10) #going to wait 10 seconds before obtaining the LED indicator state\n",
    "            sys.stdout.write(\"\\nUpdated Asset Tag: \\'%s\\'\\n\" % _redfishobj.\\\n",
    "                                                    get(systems_members_uri).dict.get(\"AssetTag\"))"
   ]
  },
  {
   "cell_type": "markdown",
   "id": "ef4f1fb5",
   "metadata": {},
   "source": [
    "<div class=\"alert alert-block alert-success\"  style=\"border-radius: 20px;\"><h3>3. This is Main function overview.</h3><br>\n",
    "<b>The Main function: </b> PLEASE ENTER YOU LOGIN CREDENTIALS HERE TO PROCEED FURTHER<br>\n",
    "    <ul>\n",
    "        <li>Once your credentials are entered a redfish object is created using the input system URL, login account, and login password with the help of RedfishClient class and a session is created and now you will be logged in to the server.</li>\n",
    "        <li>If server is down or unreachable we get server not reachable message.</li>\n",
    "        <li>If not then we make a call to <b>set_server_asset_tag</b> to set server asset tag of system.</li>\n",
    "        <li>After getting required information <i><b>Redfish.logout()</b></i> closses the particular session and logs us out of the system.</li>\n",
    "    </ul>\n",
    "</div>"
   ]
  },
  {
   "cell_type": "markdown",
   "id": "bf946980",
   "metadata": {},
   "source": [
    "<div class = \"alert alert-block alert-warning\"  style=\"border-radius: 20px;\">\n",
    "    <b>When running on the server locally use the following commented values</b><br>\n",
    " SYSTEM_URL = None<br>\n",
    " LOGIN_ACCOUNT = None<br>\n",
    " LOGIN_PASSWORD = None<br>\n",
    "\n",
    "   <b>When running remotely</b> connect using the secured (https://) address,\n",
    "     account name, and password to send https requests\n",
    "    <br>\n",
    "     SYSTEM_URL acceptable examples:<br>\n",
    "     https://10.0.0.100<br>\n",
    "     https://ilo.hostname\n",
    "</div>"
   ]
  },
  {
   "cell_type": "code",
   "execution_count": null,
   "id": "606190a9",
   "metadata": {},
   "outputs": [],
   "source": [
    "if __name__ == \"__main__\":\n",
    "    SYSTEM_URL = input(\"Enter System URL: \")\n",
    "    LOGIN_ACCOUNT = input(\"Enter Name: \")\n",
    "    LOGIN_PASSWORD =getpass.getpass(\"Enter password: \")\n",
    "\n",
    "    #asset tag property in computer systems\n",
    "    ASSET_TAG = \"Asset01\"\n",
    "    # flag to force disable resource directory. Resource directory and associated operations are\n",
    "    # intended for HPE servers.\n",
    "    DISABLE_RESOURCE_DIR = True\n",
    "\n",
    "    try:\n",
    "        # Create a Redfish client object\n",
    "        REDFISHOBJ = RedfishClient(base_url=SYSTEM_URL, username=LOGIN_ACCOUNT, \\\n",
    "                                                                            password=LOGIN_PASSWORD)\n",
    "        # Login with the Redfish client\n",
    "        REDFISHOBJ.login()\n",
    "    except ServerDownOrUnreachableError as excp:\n",
    "        sys.stderr.write(\"ERROR: server not reachable or does not support RedFish.\\n\")\n",
    "        sys.exit()\n",
    "\n",
    "    set_server_asset_tag(REDFISHOBJ, ASSET_TAG)\n",
    "    REDFISHOBJ.logout()\n"
   ]
  },
  {
   "cell_type": "markdown",
   "id": "63db964c",
   "metadata": {},
   "source": [
    "<div class = \"alert alert-block alert-success\"  style=\"border-radius: 20px;\">In case you need help 🔗 links to relevant resources :\n",
    "    <br>\n",
    "    1.Python-ilorest-library:<a href = \"https://github.com/HewlettPackard/python-ilorest-library\">LINK</a><br>\n",
    "    2.Hpe ilorest-api explorer:<a href = \"https://ilorestfulapiexplorer.ext.hpe.com/\">LINK</a><br>\n",
    "    3.Rest api: <a href = \"https://restfulapi.net/\">LINK</a><br>\n",
    "    \n",
    "</div>"
   ]
  }
 ],
 "metadata": {
  "kernelspec": {
   "display_name": "Python 3 (ipykernel)",
   "language": "python",
   "name": "python3"
  },
  "language_info": {
   "codemirror_mode": {
    "name": "ipython",
    "version": 3
   },
   "file_extension": ".py",
   "mimetype": "text/x-python",
   "name": "python",
   "nbconvert_exporter": "python",
   "pygments_lexer": "ipython3",
   "version": "3.9.7"
  }
 },
 "nbformat": 4,
 "nbformat_minor": 5
}
