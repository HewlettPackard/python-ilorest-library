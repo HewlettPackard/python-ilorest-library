{
 "cells": [
  {
   "cell_type": "markdown",
   "id": "fd1f8e82",
   "metadata": {},
   "source": [
    "<h1 style=\"text-align:center;\">Retrieving iLO License Key for HPE iLO Systems</h1>"
   ]
  },
  {
   "cell_type": "markdown",
   "id": "c2413866",
   "metadata": {},
   "source": [
    "<div class=\"alert  alert-block  alert-info\" style=\"border-radius: 20px;\">    \n",
    "    <ul>\n",
    "        <li><p>This Jupyter Notebook provides an example of how to obtain the license key for HPE iLO (Integrated Lights-Out) systems. The script utilizes the Redfish API and establishes a connection with the HPE server to retrieve the license key information.</p></li>\n",
    "        <li>As you are here let's get it done easily.</li>\n",
    "        <li>To perform this you need to have <a href = \"https://libraries.io/pypi/python-ilorest-library#id3\" style=\"none\">python-ilorest-library</a> installed in your machine.</li>\n",
    "        <li>Please keep your username and password handy</li>\n",
    "        <li>Do execute each successive cell once to avoid any errors!</li>\n",
    "    </ul>    \n",
    "</div>"
   ]
  },
  {
   "cell_type": "markdown",
   "id": "d3890182",
   "metadata": {},
   "source": [
    "<div class=\"alert alert-block alert-success\"  style=\"border-radius: 20px;\">\n",
    "    <h3> 1. Below we are importing all the necessary python libraries</h3>\n",
    "    <ul>\n",
    "        <li><a href = \"https://www.tutorialspoint.com/what-is-python-s-sys-module#:~:text=%20What%20is%20Python%27s%20Sys%20Module%20%201,%5B0%5D%20prints%20the...%205%20Output.%20%20More%20\">sys</a></li>\n",
    "        <li>json</li>\n",
    "        <li>redfish</li> \n",
    "    </ul>\n",
    "</div>"
   ]
  },
  {
   "cell_type": "code",
   "execution_count": null,
   "id": "2f0e994d",
   "metadata": {},
   "outputs": [],
   "source": [
    "import sys\n",
    "import json\n",
    "from redfish import RedfishClient\n",
    "from redfish.rest.v1 import ServerDownOrUnreachableError\n",
    "\n",
    "from get_resource_directory import get_resource_directory\n",
    "\n",
    "#This is to take passwords as input securely\n",
    "import getpass"
   ]
  },
  {
   "cell_type": "markdown",
   "id": "46f46a25",
   "metadata": {},
   "source": [
    "<div class = \"alert alert-block alert-success\" style=\"border-radius: 20px;\">\n",
    "    <h3> 2. The purpose of the get_license_key function is to retrieve the license key information for HPE iLO (Integrated Lights-Out) systems using the Redfish API.</h3><br>\n",
    "  Here's a step-by-step breakdown of what the function does:\n",
    "<br><ul>\n",
    "<li>Initialization: The function initializes variables license_uri and license_data to store the license key URI and data, respectively.\n",
    "</li><br><li>Resource Directory Check: It checks if the resource directory is disabled or not available. If so, it follows a specific set of steps to locate the license key URI.\n",
    "</li><br><li>License Key Retrieval: If the resource directory is not used, the function retrieves the license key URI and data by making appropriate API requests to the HPE server.\n",
    "</li><br><li>Resource Directory Usage: If the resource directory is available, the function utilizes it to find the relevant URI for the license key.\n",
    "</li><br><li>Output: If the license data is obtained successfully, the function prints the license information, including the confirmation request or the license key itself, depending on the available data.\n",
    "</li></ul><br>Overall, the get_license_key function encapsulates the logic to obtain the license key for HPE iLO systems, considering different scenarios such as the presence or absence of the resource directory.\n",
    " </div>\n"
   ]
  },
  {
   "cell_type": "code",
   "execution_count": null,
   "id": "9aa55d07",
   "metadata": {},
   "outputs": [],
   "source": [
    "def get_license_key(_redfishobj):\n",
    "    license_uri = None\n",
    "    license_data = None\n",
    "\n",
    "    resource_instances = get_resource_directory(_redfishobj)\n",
    "    if DISABLE_RESOURCE_DIR or not resource_instances:\n",
    "        #if we do not have a resource directory or want to force it's non use to find the\n",
    "        #relevant URI\n",
    "        managers_uri = _redfishobj.root.obj['Managers']['@odata.id']\n",
    "        managers_response = _redfishobj.get(managers_uri)\n",
    "        managers_members_uri = next(iter(managers_response.obj['Members']))['@odata.id']\n",
    "        managers_members_response = _redfishobj.get(managers_members_uri)\n",
    "        hp_hpe = next(iter(managers_members_response.obj.Oem))\n",
    "        license_collection_uri = managers_members_response.obj.Oem[hp_hpe].Links['LicenseService']\\\n",
    "                                                                                    ['@odata.id']\n",
    "        license_collection_response = _redfishobj.get(license_collection_uri)\n",
    "        license_collection_members_uri = next(iter(license_collection_response.obj\\\n",
    "                                                                        ['Members']))['@odata.id']\n",
    "        license_data = _redfishobj.get(license_collection_members_uri).dict\n",
    "        license_uri = _redfishobj.get(license_collection_members_uri).dict['@odata.id']\n",
    "    else:\n",
    "        for instance in resource_instances:\n",
    "            #Use Resource directory to find the relevant URI\n",
    "            if '#HpeiLOLicense.' in instance['@odata.type']:\n",
    "                license_uri = instance['@odata.id']\n",
    "                license_data = _redfishobj.get(license_uri).dict\n",
    "                break\n",
    "\n",
    "    if license_data:\n",
    "        try:\n",
    "            sys.stdout.write(\"\\n\\'License Info\\': \\'%s\\'\\n\" % \\\n",
    "            json.dumps(license_data['ConfirmationRequest']['EON'], indent=4, sort_keys=True))\n",
    "        except KeyError:\n",
    "            sys.stdout.write(\"\\n\\'License Info\\': \\'%s\\'\\n\" % \\\n",
    "            json.dumps(license_data['LicenseKey'], indent=4, sort_keys=True))"
   ]
  },
  {
   "cell_type": "markdown",
   "id": "91d5455c",
   "metadata": {},
   "source": [
    "<div class = \"alert alert-block alert-success\" style=\"border-radius: 20px;\">\n",
    "    <h3> 3. This is the Main function overview.</h3>\n",
    "    <br>\n",
    " <ul><li>Sets up the configuration parameters for the HPE iLO system, including the system URL, login account, and password.\n",
    "</li><br><li>Attempts to create a Redfish client object using the specified configuration parameters to establish a connection with the iLO system.\n",
    "</li><br><li>If the connection is successful, the script proceeds to execute the get_license_key function to retrieve the iLO license key.\n",
    "</li><br><li>After retrieving the license key, the script logs out from the Redfish client by calling the logout function to end the session and release resources.\n",
    "</li><br><li>If the connection to the iLO system fails or the server is unreachable, an error message is displayed, and the script exits.\n",
    "</li></ul><br>In summary, the main function establishes a connection with the HPE server, retrieves ESKM data, and ensures a clean logout from the server.\n",
    "\n",
    " </div>"
   ]
  },
  {
   "cell_type": "markdown",
   "id": "ac6a6e08",
   "metadata": {},
   "source": [
    "<div class=\"alert alert-block alert-warning\" style=\"border-radius: 20px;\">\n",
    "<b> When running on the server locally,</b> use the following values:<br>\n",
    "    SYSTEM_URL = None <br>\n",
    "    LOGIN_ACCOUNT = None <br>\n",
    "    LOGIN_PASSWORD = None <br><br>\n",
    "    <b> When running remotely </b> connect using the secured (https://) address, account name and password to send https requests<br>\n",
    "    SYSTEM_URL acceptable examples: <br>\n",
    "    \"https://10.0.0.100\" <br>\n",
    "    \"https://ilo.hostname\"\n",
    "</div>"
   ]
  },
  {
   "cell_type": "code",
   "execution_count": null,
   "id": "f3f42625",
   "metadata": {},
   "outputs": [],
   "source": [
    "if __name__ == \"__main__\":\n",
    "   \n",
    "    SYSTEM_URL = input(\"Enter System URL: \")\n",
    "    LOGIN_ACCOUNT = input(\"Enter Login account: \")\n",
    "    LOGIN_PASSWORD = getpass.getpass(\"Enter your password: \")\n",
    "\n",
    "    # flag to force disable resource directory. Resource directory and associated operations are\n",
    "    # intended for HPE servers.\n",
    "    DISABLE_RESOURCE_DIR = False\n",
    "\n",
    "    try:\n",
    "        # Create a Redfish client object\n",
    "        REDFISHOBJ = RedfishClient(base_url=SYSTEM_URL, username=LOGIN_ACCOUNT, \\\n",
    "                                                                            password=LOGIN_PASSWORD)\n",
    "        # Login with the Redfish client\n",
    "        REDFISHOBJ.login()\n",
    "    except ServerDownOrUnreachableError as excp:\n",
    "        sys.stderr.write(\"ERROR: server not reachable or does not support RedFish.\\n\")\n",
    "        sys.exit()\n",
    "\n",
    "    get_license_key(REDFISHOBJ)\n",
    "    REDFISHOBJ.logout()"
   ]
  },
  {
   "cell_type": "markdown",
   "id": "90b4cb56",
   "metadata": {},
   "source": [
    "<div class = \"alert alert-block alert-success\" style=\"border-radius: 20px;\">\n",
    "    In case you need help 🔗 links to relevant resources :\n",
    "    <br>\n",
    "    1.Python-ilorest-library: <a href = \"https://github.com/HewlettPackard/python-ilorest-library\">LINK</a><br>\n",
    "    2.HPE ilorest-api explorer: <a href = \"https://ilorestfulapiexplorer.ext.hpe.com/\">LINK</a><br>\n",
    "    3.REST API: <a href = \"https://restfulapi.net/\">LINK</a><br>\n",
    "    4.Changing Boot Setting Documentation: <a href = \"https://hewlettpackard.github.io/ilo-rest-api-docs/ilo6/?python#changing-boot-settings\">LINK</a><br>\n",
    "    \n",
    "</div>"
   ]
  }
 ],
 "metadata": {
  "kernelspec": {
   "display_name": "Python 3 (ipykernel)",
   "language": "python",
   "name": "python3"
  },
  "language_info": {
   "codemirror_mode": {
    "name": "ipython",
    "version": 3
   },
   "file_extension": ".py",
   "mimetype": "text/x-python",
   "name": "python",
   "nbconvert_exporter": "python",
   "pygments_lexer": "ipython3",
   "version": "3.10.6"
  }
 },
 "nbformat": 4,
 "nbformat_minor": 5
}
