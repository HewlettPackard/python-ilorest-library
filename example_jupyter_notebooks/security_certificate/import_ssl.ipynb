{
 "cells": [
  {
   "cell_type": "markdown",
   "id": "4bff53aa",
   "metadata": {
    "tags": []
   },
   "source": [
    "# Import_ssl"
   ]
  },
  {
   "cell_type": "markdown",
   "id": "5d4e9abe",
   "metadata": {},
   "source": [
    "<div class=\"alert alert-block alert-info\" style=\"border-radius: 20px;\">\n",
    "<i>Hello there.!<br></i> Welcome to <b>python-iLOrest-library</b> <br> Here is an example to <b>importing secure socket layer</b> <br> As you are here let's get it done easily.<br>\n",
    "    To perform this u need to have <a href = \"#\" style = \"none\">python-ilorest-library</a> installed in your machine.<br>\n",
    "    And please keep your username and password handy!\n",
    "    \n",
    "</div>"
   ]
  },
  {
   "cell_type": "markdown",
   "id": "76d83083",
   "metadata": {},
   "source": [
    "<div class = \"alert alert-block alert-success\" style=\"border-radius: 20px;\">\n",
    "<h1>1</h1>\n",
    "In the beginning, we are having some import statements that are actually providing us with the required modules and libraries.\n",
    "for proper execution of our code\n",
    "    <ul>\n",
    "        <li> sys</li>\n",
    "        <li> json</li>\n",
    "        <li> getpass </li>\n",
    "        <li> redfish</li>\n",
    "    </ul>\n",
    "</div>"
   ]
  },
  {
   "cell_type": "code",
   "execution_count": 3,
   "id": "a54980c8",
   "metadata": {},
   "outputs": [],
   "source": [
    "import sys\n",
    "import json\n",
    "import getpass\n",
    "from redfish import RedfishClient\n",
    "from redfish.rest.v1 import ServerDownOrUnreachableError"
   ]
  },
  {
   "cell_type": "markdown",
   "id": "5ca097d3",
   "metadata": {},
   "source": [
    "<div class=\"alert alert-block alert-success\" style=\"border-radius: 20px;\">\n",
    "    <h1>2</h1>\n",
    "This cell gives overview about of the function SSL(secure socket layer)\n",
    "    <br>\n",
    "1. It will retrieves the URI for the security service, sends a <b>GET</b> request to retrieve the security service object, and then retrieves the URI for the HTTPS certificate object linked to from the security service object.\n",
    "    <br>\n",
    "2. Else it searches the Redfish API resource directory for an instance of a HPE HTTPS certificate object. If found, it retrieves the URI for the HTTPS certificate object and breaks out of the loop.\n",
    "    <br>\n",
    "3. If the uri is not none then it retrieves the HTTPS certificate import URI from the HTTPS certificate object and then sends a <b>POST</b> request to import an SSL certificate using the Redfish API. The SSL certificate is passed in the request body.\n",
    "    <br>\n",
    "4.Handling the error after inserting the iso image in slot \n",
    "    If status code is <b>400</b> the code attempts to retrieve and print extended error message .\n",
    "    If status code is <b> 200 OK</b> then it will print error meassage and status code.\n",
    "    Else the insertion is <b>success</b> then code print result in <b>JSON</b> format and aslo printing the import is successfully done.\n",
    "\n",
    "</div>"
   ]
  },
  {
   "cell_type": "code",
   "execution_count": 4,
   "id": "d3002f22",
   "metadata": {},
   "outputs": [],
   "source": [
    "def import_ssl(_redfishobj, ssl_file_path):\n",
    "  # intialize to None\n",
    "    https_cert_uri = None\n",
    "    body = dict()\n",
    "    #Retrieving resource directory instances using Redfish API client.\n",
    "    resource_instances = get_resource_directory(_redfishobj)\n",
    "    \n",
    "    if DISABLE_RESOURCE_DIR or not resource_instances:\n",
    "        #if we do not have a resource directory or want to force it's non use to find the\n",
    "        #relevant URI\n",
    "        managers_uri = _redfishobj.root.obj['Managers']['@odata.id']\n",
    "        managers_response = _redfishobj.get(managers_uri)\n",
    "        managers_members_uri = next(iter(managers_response.obj['Members']))['@odata.id']\n",
    "        managers_members_response = _redfishobj.get(managers_members_uri)\n",
    "        security_service_uri = managers_members_response.obj.Oem.Hpe.Links['SecurityService']\\\n",
    "                                                                                    ['@odata.id']\n",
    "        security_service_response = _redfishobj.get(security_service_uri)\n",
    "        https_cert_uri = security_service_response.obj.Links['HttpsCert']['@odata.id']\n",
    "    else:\n",
    "        for instance in resource_instances:\n",
    "            #Use Resource directory to find the relevant URI\n",
    "            if '#HpeHttpsCert.' in instance['@odata.type']:\n",
    "                https_cert_uri = instance['@odata.id']\n",
    "                break\n",
    "\n",
    "    if https_cert_uri:\n",
    "        https_cert_import_uri = _redfishobj.get(https_cert_uri).obj['Actions']\\\n",
    "                                                ['#HpeHttpsCert.ImportCertificate']['target']\n",
    "        body = dict()\n",
    "        body[\"Action\"] = \"HpeHttpsCert.ImportCertificate\"\n",
    "        body[\"Certificate\"] = ssl_cert\n",
    "        resp = _redfishobj.post(https_cert_import_uri, body)\n",
    "        #If iLO responds with soemthing outside of 200 or 201 then lets check the iLO extended info\n",
    "        #error message to see what went wrong\n",
    "        if resp.status == 400:\n",
    "            try:\n",
    "                print(json.dumps(resp.obj['error']['@Message.ExtendedInfo'], indent=4, \\\n",
    "                                                                                sort_keys=True))\n",
    "            except Exception as excp:\n",
    "                sys.stderr.write(\"A response error occurred, unable to access iLO Extended \"\\\n",
    "                                 \"Message Info...\")\n",
    "        elif resp.status != 200:\n",
    "            sys.stderr.write(\"An http response of \\'%s\\' was returned.\\n\" % resp.status)\n",
    "        else:\n",
    "            print(\"Success!\\n\")\n",
    "            print(json.dumps(resp.dict, indent=4, sort_keys=True))\n",
    "            print(\"\\nImporting SSL Certificate may take a few minutes...\\n \"\\\n",
    "                  \"iLO will reset with new changes.\\n\")"
   ]
  },
  {
   "cell_type": "markdown",
   "id": "d911eb18",
   "metadata": {},
   "source": [
    "<div class=\"alert alert-block alert-success\" style=\"border-radius: 20px;\">\n",
    "<h1>3</h1>\n",
    "<b>The Main function overview . </b> <br>\n",
    "    <ul>\n",
    "        <li>When you are running server locally or running in remotely connect using secured connection then you need to enter proper login cerdentials.</li>\n",
    "        <li> Creating redfish object and trying to establish connection with server using redfish object.</li>\n",
    "        <li>If server is down or Unreachable we get server not reachable message!</li>\n",
    "        <li>Read the content of an SSL certificate file at <b>SSL_FILE_PATH</b>. </li>\n",
    "        <li>Lastly, Redfishobj.logout logs us out of the system and ends the session.</li>\n",
    "    </ul>\n",
    "</div>"
   ]
  },
  {
   "cell_type": "code",
   "execution_count": null,
   "id": "4a26864f",
   "metadata": {},
   "outputs": [],
   "source": [
    "if __name__ == \"__main__\":\n",
    "    # When running on the server locally use the following commented values\n",
    "    #SYSTEM_URL = None\n",
    "    #LOGIN_ACCOUNT = None\n",
    "    #LOGIN_PASSWORD = None\n",
    "\n",
    "    # When running remotely connect using the secured (https://) address,\n",
    "    # account name, and password to send https requests\n",
    "    # SYSTEM_URL acceptable examples:\n",
    "    # \"https://10.0.0.100\"\n",
    "    # \"https://ilo.hostname\"\n",
    "    SYSTEM_URL = \"https://10.0.0.100\"\n",
    "    LOGIN_ACCOUNT = \"admin\"\n",
    "    LOGIN_PASSWORD = \"password\"\n",
    "\n",
    "    SSL_FILE_PATH = \"certificate.txt\"\n",
    "    # flag to force disable resource directory. Resource directory and associated operations are\n",
    "    # intended for HPE servers.\n",
    "    DISABLE_RESOURCE_DIR = False\n",
    "\n",
    "    try:\n",
    "        # Create a Redfish client object\n",
    "        REDFISHOBJ = RedfishClient(base_url=SYSTEM_URL, username=LOGIN_ACCOUNT, \\\n",
    "                                                                            password=LOGIN_PASSWORD)\n",
    "        # Login with the Redfish client\n",
    "        REDFISHOBJ.login()\n",
    "    except ServerDownOrUnreachableError as excp:\n",
    "        sys.stderr.write(\"ERROR: server not reachable or does not support RedFish.\\n\")\n",
    "        sys.exit()\n",
    "\n",
    "    with open(SSL_FILE_PATH, 'r') as csr_data:\n",
    "        ssl_cert = csr_data.read()\n",
    "        csr_data.close()\n",
    "\n",
    "    if ssl_cert:\n",
    "        import_ssl(REDFISHOBJ, ssl_cert)\n",
    "    else:\n",
    "        raise Exception(\"Invalid SSL certificate.\\n\")\n",
    "    REDFISHOBJ.logout()\n"
   ]
  },
  {
   "cell_type": "markdown",
   "id": "29439599",
   "metadata": {},
   "source": [
    "<div class=\"alert alert-block alert-warning\" style=\"border-radius: 20px;\">\n",
    "<b> When running on the server locally : </b>  use the following values <br>\n",
    "    SYSTEM_URL = None <br>\n",
    "    LOGIN_ACCOUNT = None <br>\n",
    "    LOGIN_PASSWORD = None <br>\n",
    "    <b> When running remotely </b> connect using the secured (https://) address,account name, and password to send https requests <br>\n",
    "    SYSTEM_URL acceptable examples: <br>\n",
    "    \"https://10.0.0.100\" <br>\n",
    "    \"https://ilo.hostname\"\n",
    "</div>"
   ]
  },
  {
   "cell_type": "markdown",
   "id": "7e838742",
   "metadata": {},
   "source": [
    "<div class = \"alert alert-block alert-success\" style=\"border-radius: 20px;\">In case you need help 🔗 links to relevant resources :\n",
    "    <br>\n",
    "    1.Python-ilorest-library:<a href = \"https://github.com/HewlettPackard/python-ilorest-library\">LINK</a><br>\n",
    "    2.Hpe ilorest-api explorer:<a href = \"https://ilorestfulapiexplorer.ext.hpe.com/\">LINK</a><br>\n",
    "    3.Rest api: <a href = \"https://restfulapi.net/\">LINK</a><br>\n",
    "    \n",
    "</div>"
   ]
  }
 ],
 "metadata": {
  "kernelspec": {
   "display_name": "Python 3 (ipykernel)",
   "language": "python",
   "name": "python3"
  },
  "language_info": {
   "codemirror_mode": {
    "name": "ipython",
    "version": 3
   },
   "file_extension": ".py",
   "mimetype": "text/x-python",
   "name": "python",
   "nbconvert_exporter": "python",
   "pygments_lexer": "ipython3",
   "version": "3.10.6"
  }
 },
 "nbformat": 4,
 "nbformat_minor": 5
}
