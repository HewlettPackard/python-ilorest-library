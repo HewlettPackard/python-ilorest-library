{
 "cells": [
  {
   "cell_type": "markdown",
   "id": "a036d81b",
   "metadata": {},
   "source": [
    "<h1 style=\"text-align:center;\">Setting an ISCSI boot instance for HPE iLO systems</h1>"
   ]
  },
  {
   "cell_type": "markdown",
   "id": "0ffb0a82",
   "metadata": {},
   "source": [
    "<div class=\"alert alert-block alert-info\" style=\"border-radius: 20px;\">\n",
    " Welcome to <b>python-iLOrest-library</b> <br> Here is an example to <b>set an ISCSI boot instance for HPE iLO systems.</b> <br> As you are here let's get it done easily.<br>\n",
    "    To perform this u need to have <a href = \"#\" style = \"none\">python-ilorest-library</a> installed in your machine.<br>\n",
    "    And please keep your username and password handy!\n",
    "    Also do run each succesive cell of code \n",
    "    \n",
    "</div>"
   ]
  },
  {
   "cell_type": "markdown",
   "id": "cc60fabf",
   "metadata": {},
   "source": [
    "<div class=\"alert alert-block alert-success\" style=\"border-radius: 20px;\">\n",
    "    <h3> 1. Below we are importing all the necessary modules from the ilorest library.</h3><br>\n",
    "    <li><a href = \"https://www.tutorialspoint.com/what-is-python-s-sys-module#:~:text=%20What%20is%20Python%27s%20Sys%20Module%20%201,%5B0%5D%20prints%20the...%205%20Output.%20%20More%20\">sys </a>\n",
    "    </li>\n",
    "    <li>json </li>\n",
    "    <li> redfish </li>\n",
    "        \n",
    "</div>"
   ]
  },
  {
   "cell_type": "code",
   "execution_count": null,
   "id": "62e0ead3",
   "metadata": {},
   "outputs": [],
   "source": [
    "import sys\n",
    "import json\n",
    "from redfish import RedfishClient\n",
    "from redfish.rest.v1 import ServerDownOrUnreachableError\n",
    "from get_resource_directory import get_resource_directory\n",
    "import getpass"
   ]
  },
  {
   "cell_type": "markdown",
   "id": "d2c00edc",
   "metadata": {},
   "source": [
    "<div class = \"alert alert-block alert-success\" style=\"border-radius: 20px;\">\n",
    "    <h3> 2. Below is a set_bios_iscsi that sets the ISCSI boot instance for HPE iLO systems.</h3><br>\n",
    "    There is a hierarchy involved in iLO Rest Api and everything is in form of <a href = \"https://www.w3schools.com/whatis/whatis_json.asp\" style=\"background-color:powderblue;\">JSON</a> objects i.e. name-value pairs. So we are simply following the hierarchy to navigate to required information.\n",
    "\n",
    "1. The function takes two parameters: <b>_redfishobj</b> (a Redfish client object) and <b>iscsi_properties</b> (a dictionary containing the iSCSI properties to be set).<br><br>\n",
    "2. It calls the <b>get_resource_directory function</b> to obtain the resource directory from the Redfish service. If <b>DISABLE_RESOURCE_DIR</b> is set to True or the resource directory is empty, the code retrieves the necessary URIs manually.<br><br>\n",
    "3. <b>If the resource directory is disabled or not available</b>, the code fetches the systems URI and retrieves the <b>BIOS URI</b> from the response. The code retrieves the <b>iSCSI URI</b> from the BIOS response and fetches the <b>iSCSI data</b>.<br><br>\n",
    "4. <b>If the resource directory is enabled and available</b>, the code iterates over the instances in the resource directory and searches for the iSCSI instance based on its type.<br><br>\n",
    "5. <b>If the iSCSI data is found</b>, the code loops over the iSCSI sources and checks if the iSCSIBootInstance property matches the current index. If a match is found, the code updates the iSCSI properties for that instance.<br><br>\n",
    "6. The code sends a <b>PATCH</b> request to the iSCSI URI with the updated iSCSI sources data.<br><br>\n",
    "7. If the response status is 400, indicating an error, the code attempts to print the error message. If the response status is not 200 or 201, an error message is printed.<br><br>\n",
    "8. If the response status is 200, the code indicates success and suggests that a system reboot will be required to apply the changes. It also prints the response details.<br><br>\n",
    "\n",
    "The loop is broken after processing the desired iSCSI instance.\n",
    "<br>\n",
    "    \n",
    "</div>\n",
    " \n",
    "\n"
   ]
  },
  {
   "cell_type": "code",
   "execution_count": null,
   "id": "f6bfe14a",
   "metadata": {},
   "outputs": [],
   "source": [
    "def set_bios_iscsi(_redfishobj, iscsi_properties):\n",
    "\n",
    "    iscsi_uri = None\n",
    "    iscsi_data = None\n",
    "\n",
    "    resource_instances = get_resource_directory(_redfishobj)\n",
    "    if DISABLE_RESOURCE_DIR or not resource_instances:\n",
    "        #if we do not have a resource directory or want to force it's non use to find the\n",
    "        #relevant URI\n",
    "        systems_uri = _redfishobj.root.obj['Systems']['@odata.id']\n",
    "        systems_response = _redfishobj.get(systems_uri)\n",
    "        systems_members_uri = next(iter(systems_response.obj['Members']))['@odata.id']\n",
    "        systems_members_response = _redfishobj.get(systems_members_uri)\n",
    "        bios_uri = systems_members_response.obj['Bios']['@odata.id']\n",
    "        bios_response = _redfishobj.get(bios_uri)\n",
    "        iscsi_uri = bios_response.obj.Oem.Hpe.Links['iScsi']['@odata.id']\n",
    "        iscsi_data = _redfishobj.get(iscsi_uri)\n",
    "    else:\n",
    "        #Use Resource directory to find the relevant URI\n",
    "        for instance in resource_instances:\n",
    "            if '#HpeiSCSISoftwareInitiator.' in instance['@odata.type']:\n",
    "                iscsi_uri = instance['@odata.id']\n",
    "                iscsi_data = _redfishobj.get(iscsi_uri)\n",
    "\n",
    "    if iscsi_data:\n",
    "        for indx, inst in enumerate(iscsi_data.obj['iSCSISources']):\n",
    "            if iscsi_properties['iSCSIBootInstance'] == indx:\n",
    "                iscsi_data.dict['iSCSISources'][indx].update(iscsi_properties)\n",
    "                resp = _redfishobj.patch(iscsi_uri, {'iSCSISources' : iscsi_data.dict['iSCSISources']})\n",
    "                #If iLO responds with soemthing outside of 200 or 201 then lets check the\n",
    "                #iLO extended info error message to see what went wrong\n",
    "                if resp.status == 400:\n",
    "                    try:\n",
    "                        print(json.dumps(resp.obj['error']['@Message.ExtendedInfo'], \\\n",
    "                                                                        indent=4, sort_keys=True))\n",
    "                    except Exception as excp:\n",
    "                        print(json.dumps(resp.ori, indent=4, sort_keys=True))\n",
    "                        sys.stderr.write(\"A response error occurred, unable to access iLO \" \\\n",
    "                                         \"Extended Message Info...\")\n",
    "                elif resp.status != 200:\n",
    "                    sys.stderr.write(\"An http response of \\'%s\\' was returned.\\n\" % resp.status)\n",
    "                else:\n",
    "                    print(\"Success! A system reboot will be required to complete the change.\\n\")\n",
    "                    print(json.dumps(resp.dict, indent=4, sort_keys=True))\n",
    "                break\n"
   ]
  },
  {
   "cell_type": "markdown",
   "id": "55289e4d",
   "metadata": {},
   "source": [
    "<div class = \"alert alert-block alert-success\" style=\"border-radius: 20px;\">\n",
    "    <h3> 3. This is Main function overview.<br></h3>\n",
    "<b>The Main function: </b> PLEASE ENTER YOU LOGIN CREDENTIALS HERE.<br>\n",
    "    <ul>\n",
    "        <li>Once you enter everything a redfish object is created with the help of RedfishClient class and a session is created and now you will be logged in to the server</li>\n",
    "        <li>We are passing the required information to change the password of iLO user account i.e. base_url, username, password</li>\n",
    "        <li>If server is down or Unreachable we get server not reachable message.</li>\n",
    "        <li>The set_bios_iscsi function is called, passing the RedfishClient object (REDFISHOBJ) and the iSCSI properties dictionary (ISCSI_PROPERTIES).</li>\n",
    "\n",
    "<li>After setting the iSCSI properties, the logout method of the RedfishClient object is called to end the session with the server.</li>\n",
    "    </ul>\n",
    "</div>"
   ]
  },
  {
   "cell_type": "markdown",
   "id": "9b5acb64",
   "metadata": {},
   "source": [
    "<div class=\"alert alert-block alert-warning\" style=\"border-radius: 20px;\">\n",
    "<b> When running on the server locally : </b>  use the following values <br>\n",
    "    SYSTEM_URL = None <br>\n",
    "    LOGIN_ACCOUNT = None <br>\n",
    "    LOGIN_PASSWORD = None <br>\n",
    "    <b> When running remotely </b> connect using the secured (https://) address,account name, and password to send https requests <br>\n",
    "    SYSTEM_URL acceptable examples: <br>\n",
    "    \"https://10.0.0.100\" <br>\n",
    "    \"https://ilo.hostname\"\n",
    "</div>"
   ]
  },
  {
   "cell_type": "code",
   "execution_count": null,
   "id": "11b07dec",
   "metadata": {},
   "outputs": [],
   "source": [
    "if __name__ == \"__main__\":\n",
    "    SYSTEM_URL = input(\"Enter System URL: \")\n",
    "    LOGIN_ACCOUNT = input(\"Enter Name: \")\n",
    "    LOGIN_PASSWORD =getpass.getpass(\"Enter password: \")\n",
    "    \n",
    "    #iscsi properties\n",
    "    ISCSI_PROPERTIES = {\"iSCSIBootInstance\": 2, \\\n",
    "                      \"iSCSITargetName\": \"Target\", \\\n",
    "                      \"iSCSIAttemptName\": \"Empty\", \\\n",
    "                      \"iSCSIConnectRetry\": 5}\n",
    "    # flag to force disable resource directory. Resource directory and associated operations are\n",
    "    # intended for HPE servers.\n",
    "    DISABLE_RESOURCE_DIR = False\n",
    "\n",
    "    try:\n",
    "        # Create a Redfish client object\n",
    "        REDFISHOBJ = RedfishClient(base_url=SYSTEM_URL, username=LOGIN_ACCOUNT, \\\n",
    "                                                                            password=LOGIN_PASSWORD)\n",
    "        # Login with the Redfish client\n",
    "        REDFISHOBJ.login()\n",
    "    except ServerDownOrUnreachableError as excp:\n",
    "        sys.stderr.write(\"ERROR: server not reachable or does not support RedFish.\\n\")\n",
    "        sys.exit()\n",
    "\n",
    "    set_bios_iscsi(REDFISHOBJ, ISCSI_PROPERTIES)\n",
    "    REDFISHOBJ.logout()\n"
   ]
  },
  {
   "cell_type": "markdown",
   "id": "1c7d1d0b",
   "metadata": {},
   "source": [
    "<div class = \"alert alert-block alert-success\" style=\"border-radius: 20px;\">In case you need help 🔗 links to relevant resources :\n",
    "    <br>\n",
    "    1.Python-ilorest-library:<a href = \"https://github.com/HewlettPackard/python-ilorest-library\">LINK</a><br>\n",
    "    2.Hpe ilorest-api explorer:<a href = \"https://ilorestfulapiexplorer.ext.hpe.com/\">LINK</a><br>\n",
    "    3.Rest api: <a href = \"https://restfulapi.net/\">LINK</a><br>\n",
    "    \n",
    "</div>"
   ]
  }
 ],
 "metadata": {
  "kernelspec": {
   "display_name": "Python 3 (ipykernel)",
   "language": "python",
   "name": "python3"
  },
  "language_info": {
   "codemirror_mode": {
    "name": "ipython",
    "version": 3
   },
   "file_extension": ".py",
   "mimetype": "text/x-python",
   "name": "python",
   "nbconvert_exporter": "python",
   "pygments_lexer": "ipython3",
   "version": "3.9.7"
  }
 },
 "nbformat": 4,
 "nbformat_minor": 5
}
