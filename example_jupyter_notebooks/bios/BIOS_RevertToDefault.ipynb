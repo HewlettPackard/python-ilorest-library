{
 "cells": [
  {
   "cell_type": "markdown",
   "id": "ad9eed9d",
   "metadata": {},
   "source": [
    "<h1 style=\"text-align:center;\">Reverting the BIOS to it's default values</h1>"
   ]
  },
  {
   "cell_type": "markdown",
   "id": "9bdc5c94",
   "metadata": {},
   "source": [
    "<div class=\"alert  alert-block  alert-info\" style=\"border-radius: 20px;\">    \n",
    "    <ul>\n",
    "        <li><p>This Jupyter Notebook will contains a example code to demonstrate how to revert BIOS to it's default values. This code is written in Python and uses the redfish library to perform the required operations.</p></li>\n",
    "        <li>As you are here let's get it done easily.</li>\n",
    "        <li>To perform this you need to have <a href = \"https://libraries.io/pypi/python-ilorest-library#id3\" style=\"none\">python-ilorest-library</a> installed in your machine.</li>\n",
    "        <li>Please keep your username and password handy</li>\n",
    "        <li>Do execute each successive cell once to avoid any errors!</li>\n",
    "    </ul>    \n",
    "</div>"
   ]
  },
  {
   "cell_type": "markdown",
   "id": "b6adafee",
   "metadata": {},
   "source": [
    "<div class=\"alert alert-block alert-success\"  style=\"border-radius: 20px;\">\n",
    "    <h3> 1. Below we are importing all the necessary python libraries</h3>\n",
    "    <ul>\n",
    "        <li><a href = \"https://www.tutorialspoint.com/what-is-python-s-sys-module#:~:text=%20What%20is%20Python%27s%20Sys%20Module%20%201,%5B0%5D%20prints%20the...%205%20Output.%20%20More%20\">sys</a></li>\n",
    "        <li>json</li>\n",
    "        <li>redfish</li> \n",
    "        <li>getpass - to take password as inputs securely</li> \n",
    "    </ul>\n",
    "</div>"
   ]
  },
  {
   "cell_type": "code",
   "execution_count": null,
   "id": "2c1c9a1c",
   "metadata": {
    "scrolled": true
   },
   "outputs": [],
   "source": [
    "# Import the required libraries\n",
    "import sys\n",
    "import json\n",
    "from redfish import RedfishClient\n",
    "from redfish.rest.v1 import ServerDownOrUnreachableError\n",
    "\n",
    "# Import the helper function\n",
    "from get_resource_directory import get_resource_directory\n",
    "\n",
    "#This is to take passwords as input securely\n",
    "import getpass"
   ]
  },
  {
   "cell_type": "markdown",
   "id": "397110c8",
   "metadata": {},
   "source": [
    "<div class = \"alert alert-block alert-success\" style=\"border-radius: 20px;\">\n",
    "    <h3> 2. This is our reset bios to default function overview, in the end this will set the bios settings to default.</h3><br>\n",
    " There is a hierarchy involved in iLO Rest Api. So we are simply following the hierarchy present to change the settings.<br>\n",
    "\n",
    "1. In the <b>bios_revert_default</b> function we are first using <b>resource_instances</b> variable to obtain information about the resource directory by using get_resource_directory module.\n",
    "<br>\n",
    "    \n",
    "2. In the ILO rest api the information about bios is stored inside the <b>systems json object</b>.\n",
    "    And now through system_response variable,        we are making a HTTP <a href = \"https://developer.mozilla.org/en-US/docs/Web/HTTP/Methods\">GET operation</a> and trying to obtain the bios settings of iLO system.\n",
    "    <br>\n",
    "\n",
    "3. In the system members response object with different <b>odata_id</b> we get a bios uri .\n",
    "    Then again an HTTP GET request is made and response is stored in <b>bios_response</b>.\n",
    "    Then we set the resret_action_uri.\n",
    "    <br>\n",
    "\n",
    "4. Else i.e; resource directory is enabled then we will simply iterate through all instances inside resources \n",
    "    and if bios attribute is present in <b>@odata.type</b> attribute then we'll set bios_uri and <i> get </i> bios settings of the user through redfish object and then then set the path to post the action we will perform\n",
    "    <br>\n",
    "\n",
    "5. Then we set the bios settings to default using the action type as <i>Bios.ResetBios</i> and say set it to <i>default</i>\n",
    "\n",
    "    Ultimately if the operation was successfull without any errors then get the Success. If not we get the occured error.\n",
    "\n",
    " </div>"
   ]
  },
  {
   "cell_type": "code",
   "execution_count": null,
   "id": "91157e79",
   "metadata": {},
   "outputs": [],
   "source": [
    "def bios_revert_default(_redfishobj):\n",
    "    # Initialize the BIOS reset action URI (Uniform Resource Identifier)\n",
    "    bios_reset_action_uri = None\n",
    "    \n",
    "    # Get the resource directory to find the relevant URI\n",
    "    resource_instances = get_resource_directory(_redfishobj)\n",
    "\n",
    "    # If resource directory is not available or not to be used, find the relevant URI\n",
    "    if DISABLE_RESOURCE_DIR or not resource_instances:\n",
    "        # Get the systems URI\n",
    "        systems_uri = _redfishobj.root.obj['Systems']['@odata.id']\n",
    "        systems_response = _redfishobj.get(systems_uri)\n",
    "        \n",
    "        # Get the systems members URI\n",
    "        systems_members_uri = next(iter(systems_response.obj['Members']))['@odata.id']\n",
    "        systems_members_response = _redfishobj.get(systems_members_uri)\n",
    "        \n",
    "        # Get the BIOS URI\n",
    "        bios_uri = systems_members_response.obj['Bios']['@odata.id']\n",
    "        bios_response = _redfishobj.get(bios_uri)\n",
    "        \n",
    "        # Get the BIOS reset action URI\n",
    "        bios_reset_action_uri = bios_response.obj['Actions']['#Bios.ResetBios']['target']\n",
    "    else:\n",
    "        # Use resource directory to find the relevant URI\n",
    "        for instance in resource_instances:\n",
    "            if '#Bios.' in instance['@odata.type']:\n",
    "                bios_uri = instance['@odata.id']\n",
    "                bios_data = _redfishobj.get(bios_uri)\n",
    "                bios_reset_action_uri = bios_data.obj['Actions']['#Bios.ResetBios']['target']\n",
    "                break\n",
    "    \n",
    "    # Define the body for the POST request\n",
    "    body = {'Action': 'Bios.ResetBios', 'ResetType': 'default'}\n",
    "    \n",
    "    # Send the POST request\n",
    "    resp = _redfishobj.post(bios_reset_action_uri, body)\n",
    "    \n",
    "    # Check the response status\n",
    "    if resp.status == 400:\n",
    "        try:\n",
    "            print(json.dumps(resp.obj['error']['@Message.ExtendedInfo'], indent=4, sort_keys=True))\n",
    "        except Exception:\n",
    "            sys.stderr.write(\"A response error occurred, unable to access iLO Extended Message \"\\\n",
    "                             \"Info...\")\n",
    "    elif resp.status != 200:\n",
    "        sys.stderr.write(\"An http response of \\'%s\\' was returned.\\n\" % resp.status)\n",
    "    else:\n",
    "        print(\"Success!\\n\")\n",
    "        print(json.dumps(resp.dict, indent=4, sort_keys=True))"
   ]
  },
  {
   "cell_type": "markdown",
   "id": "b26b9819",
   "metadata": {},
   "source": [
    "<div class = \"alert alert-block alert-success\" style=\"border-radius: 20px;\">\n",
    "    <h3> 3. This is Main function overview.</h3>\n",
    "    <br>\n",
    " There is a hierarchy involved in iLO Rest Api. So we are simply following the hierarchy present to change the settings.\n",
    "\n",
    "1. The rest opertions are handled by redfish object which is created by RedfishClient<br>\n",
    "<br>\n",
    "    \n",
    "2. <b>RedfishClient</b> class takes 3 parameters<i> iLO URL, Username, Password</i> and returns a redfish object.<br>\n",
    "    <br>\n",
    "\n",
    "3. Once you enter everything a redfish obejct is created with the help of RedfishClient class.<br>\n",
    "    <br>\n",
    "\n",
    "4. Now we try to Login with the help of <i> REDFISHOBJ</i>, if it is successful a session is created and you are logged in, But if           Server       is not avaialbe we get an error saying \"server unreachable\"<br>\n",
    "    <br>\n",
    "5. Then we call <b>bios_revert_default</b> with our redfish object and rest the settings to default.<br>\n",
    "    \n",
    "\n",
    "6. REDFISHOBJ.logout() will take care of logging you out of the ilo.\n",
    "\n",
    " </div>"
   ]
  },
  {
   "cell_type": "markdown",
   "id": "f9886e56",
   "metadata": {},
   "source": [
    "<div class=\"alert alert-block alert-warning\" style=\"border-radius: 20px;\">\n",
    "<b> When running on the server locally,</b>use the following values:<br>\n",
    "    SYSTEM_URL = None <br>\n",
    "    LOGIN_ACCOUNT = None <br>\n",
    "    LOGIN_PASSWORD = None <br>\n",
    "    <b> When running remotely </b> connect using the secured (https://) address, account name and password to send https requests<br>\n",
    "    SYSTEM_URL acceptable examples: <br>\n",
    "    \"https://10.0.0.100\" <br>\n",
    "    \"https://ilo.hostname\"\n",
    "</div>"
   ]
  },
  {
   "cell_type": "code",
   "execution_count": null,
   "id": "fbdb430d",
   "metadata": {
    "scrolled": true
   },
   "outputs": [],
   "source": [
    "if __name__ == \"__main__\":\n",
    "    \n",
    "    SYSTEM_URL = input(\"Enter System URL: \")\n",
    "    LOGIN_ACCOUNT = input(\"Enter Login account: \")\n",
    "    LOGIN_PASSWORD = getpass.getpass(\"Enter your password: \")\n",
    "\n",
    "    # flag to force disable resource directory. Resource directory and associated operations are\n",
    "    # intended for HPE servers.\n",
    "    DISABLE_RESOURCE_DIR = False\n",
    "\n",
    "    try:\n",
    "        # Create a Redfish client object\n",
    "        REDFISHOBJ = RedfishClient(base_url=SYSTEM_URL, username=LOGIN_ACCOUNT, password=LOGIN_PASSWORD)\n",
    "        # Login with the Redfish client\n",
    "        REDFISHOBJ.login()\n",
    "    except ServerDownOrUnreachableError as excp:\n",
    "        sys.stderr.write(\"ERROR: server not reachable or does not support RedFish.\\n\")\n",
    "        sys.exit()\n",
    "\n",
    "    # Call the function to revert BIOS to default values\n",
    "    bios_revert_default(REDFISHOBJ)\n",
    "\n",
    "    # Logout from the Redfish client\n",
    "    REDFISHOBJ.logout()\n"
   ]
  },
  {
   "cell_type": "markdown",
   "id": "2f8583d9",
   "metadata": {},
   "source": [
    "<div class = \"alert alert-block alert-success\" style=\"border-radius: 20px;\">\n",
    "    In case you need help please check the follwoing links for reference:\n",
    "    <br>\n",
    "    1. Python-ilorest-library: <a href = \"https://github.com/HewlettPackard/python-ilorest-library\">Python ilorest library</a><br>\n",
    "    2. HPE ilorest-api explorer: <a href = \"https://ilorestfulapiexplorer.ext.hpe.com/\">ilorestful api explorer</a><br>\n",
    "    3. HPE iLO Redfish Documentation: <a href = \"https://hewlettpackard.github.io/ilo-rest-api-docs/ilo6/\">HPE iLO Redfish API Documentation</a><br>\n",
    "    4. REST API: <a href = \"https://restfulapi.net/\">Restful API</a><br>    \n",
    "</div>"
   ]
  }
 ],
 "metadata": {
  "kernelspec": {
   "display_name": "Python 3 (ipykernel)",
   "language": "python",
   "name": "python3"
  },
  "language_info": {
   "codemirror_mode": {
    "name": "ipython",
    "version": 3
   },
   "file_extension": ".py",
   "mimetype": "text/x-python",
   "name": "python",
   "nbconvert_exporter": "python",
   "pygments_lexer": "ipython3",
   "version": "3.9.7"
  }
 },
 "nbformat": 4,
 "nbformat_minor": 5
}
