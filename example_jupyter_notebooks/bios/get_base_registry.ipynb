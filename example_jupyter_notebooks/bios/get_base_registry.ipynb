{
 "cells": [
  {
   "cell_type": "markdown",
   "id": "a58ca6e6",
   "metadata": {},
   "source": [
    "<h1 style=\"text-align:center;\">Gathering base registry Data for HPE iLO Systems</h1>"
   ]
  },
  {
   "cell_type": "markdown",
   "id": "7c0b9464",
   "metadata": {},
   "source": [
    "<div class=\"alert alert-block alert-info\" style:\"border-radius:20px\">\n",
    "    <ul>\n",
    "        <li><p>This Jupyter Notebook demonstrates an example of collecting ESKM (Enterprise Secure Key Manager) data for HPE iLO (Integrated Lights-Out) systems. It utilizes the HPE iLOrest library to interact with the iLO API and retrieve the necessary information.</p></li>\n",
    "        <li>As you are here let's get it done easily.</li>\n",
    "        <li>To perform this you need to have <a href = \"https://libraries.io/pypi/python-ilorest-library#id3\" style=\"none\">python-ilorest-library</a> installed in your machine.</li>\n",
    "        <li>Please keep your username and password handy</li>\n",
    "        <li>Do execute each successive cell once to avoid any errors!</li>\n",
    "    </ul> \n",
    "    \n",
    "</div>"
   ]
  },
  {
   "cell_type": "markdown",
   "id": "a4c85742",
   "metadata": {},
   "source": [
    "<div class=\"alert alert-block alert-success\"  style=\"border-radius: 20px;\">\n",
    "    <h3> 1. Below we are importing all the necessary python libraries</h3>\n",
    "    <ul>\n",
    "        <li><a href = \"https://www.tutorialspoint.com/what-is-python-s-sys-module#:~:text=%20What%20is%20Python%27s%20Sys%20Module%20%201,%5B0%5D%20prints%20the...%205%20Output.%20%20More%20\">sys</a></li>\n",
    "        <li>json</li>\n",
    "        <li>redfish</li> \n",
    "    </ul>\n",
    "</div>"
   ]
  },
  {
   "cell_type": "code",
   "execution_count": null,
   "id": "c3c3347f",
   "metadata": {},
   "outputs": [],
   "source": [
    "import sys\n",
    "from redfish import LegacyRestClient\n",
    "from get_resource_directory import get_resource_directory\n",
    "\n",
    "#This is to take passwords as input securely\n",
    "import getpass\n"
   ]
  },
  {
   "cell_type": "markdown",
   "id": "2f7d14ed",
   "metadata": {},
   "source": [
    "<div class = \"alert alert-block alert-success\" style=\"border-radius: 20px;\">\n",
    "    <div style = \"color:green; font-size:40px;\"></div><br>\n",
    "    <h3>2. Below is the get_base_registry function. The get_base_registry function serves the purpose of retrieving the base registry information from an HPE iLO server using the HPE iLO REST API.</h3><br> \n",
    "    It performs the following steps to accomplish this:<br><br>\n",
    "1. The get_base_registry function sends a GET request to the /rest/v1/Registries endpoint of the HPE iLO server to retrieve the registry data.\n",
    "<br><br>\n",
    "2. It iterates through the response entries, checking for the \"Id\" field or extracting the schema name.\n",
    "<br><br>\n",
    "3. For each entry, it makes additional GET requests to the specified URIs to retrieve the registry information.\n",
    "<br><br>\n",
    "4. If successful, it displays a message and stores the registry messages in a dictionary. The function returns the dictionary containing the registry messages.\n",
    "<br><br>\n",
    "In summary, the get_base_registry function retrieves the base registry information by making requests to specific URIs, extracting relevant data, and storing it for further analysis and management.\n",
    "<br>\n",
    "</div>"
   ]
  },
  {
   "cell_type": "code",
   "execution_count": null,
   "id": "5dff7bad",
   "metadata": {},
   "outputs": [],
   "source": [
    "def get_base_registry(restobj):\n",
    "    response = restobj.get(\"/rest/v1/Registries\")\n",
    "    messages = {}\n",
    "\n",
    "    identifier = None\n",
    "\n",
    "    for entry in response.dict[\"Items\"]:\n",
    "        if \"Id\" in entry:\n",
    "            identifier = entry[\"Id\"]\n",
    "        else:\n",
    "            identifier = entry[\"Schema\"].split(\".\")[0]\n",
    "\n",
    "        if identifier not in [\"Base\", \"iLO\"]:\n",
    "            continue\n",
    "\n",
    "        for location in entry[\"Location\"]:\n",
    "            reg_resp = restobj.get(location[\"Uri\"][\"extref\"])\n",
    "\n",
    "            if reg_resp.status == 200:\n",
    "                sys.stdout.write(\"\\tFound \" + identifier + \" at \" + \\\n",
    "                                            location[\"Uri\"][\"extref\"] + \"\\n\")\n",
    "                messages[identifier] = reg_resp.dict[\"Messages\"]\n",
    "            else:\n",
    "                sys.stdout.write(\"\\t\" + identifier + \" not found at \"\\\n",
    "                                            + location[\"Uri\"][\"extref\"] + \"\\n\")\n",
    "\n",
    "    return messages"
   ]
  },
  {
   "cell_type": "markdown",
   "id": "ccb21ff7",
   "metadata": {},
   "source": [
    "<div class = \"alert alert-block alert-success\" style=\"border-radius: 20px;\">\n",
    "    <div style = \"color:green; font-size:40px;\"></div><br>\n",
    "    <h3>3. This is the main function overview.</h3>\n",
    "The following code establishes a connection to an HPE iLO server using the HPE iLO REST API.<br><ul><li>It sets up the necessary parameters for either local or remote server connection.</li><br><li>It creates a REST client object, logs into the iLO server, executes an example function to retrieve registry information, and logs out from the server.</li><br></ul><br> This code showcases how to interact with the iLO server programmatically, demonstrating the usage of the HPE iLO REST API for server management tasks.\n",
    "</div>"
   ]
  },
  {
   "cell_type": "markdown",
   "id": "89c773e0",
   "metadata": {},
   "source": [
    "<div class = \"alert alert-block alert-warning\" style=\"border-radius:20px\">\n",
    "    <b>When running on the server locally</b> use the following values<br>\n",
    " SYSTEM_URL = None<br>\n",
    " LOGIN_ACCOUNT = None<br>\n",
    " LOGIN_PASSWORD = None<br>\n",
    "\n",
    "   <b>When running remotely</b> connect using the secured (https://) address,\n",
    "     account name, and password to send https requests\n",
    "    <br>\n",
    "     SYSTEM_URL acceptable examples:<br>\n",
    "     https://10.0.0.100<br>\n",
    "     https://ilo.hostname\n",
    "</div>"
   ]
  },
  {
   "cell_type": "code",
   "execution_count": null,
   "id": "e2cbc2d2",
   "metadata": {},
   "outputs": [],
   "source": [
    "if __name__ == \"__main__\":\n",
    "    \n",
    "    SYSTEM_URL = input(\"Enter System URL: \")\n",
    "    LOGIN_ACCOUNT = input(\"Enter Login account: \")\n",
    "    LOGIN_PASSWORD = getpass.getpass(\"Enter your password: \")\n",
    "\n",
    "    #Create a REST object\n",
    "    REST_OBJ = LegacyRestClient(base_url=SYSTEM_URL, username=LOGIN_ACCOUNT, password=LOGIN_PASSWORD)\n",
    "    REST_OBJ.login()\n",
    "    sys.stdout.write(\"\\nEXAMPLE 2: Find and return registry \" + \"\\n\")\n",
    "    get_base_registry(REST_OBJ)\n",
    "    REST_OBJ.logout()"
   ]
  },
  {
   "cell_type": "markdown",
   "id": "e3ba41a7",
   "metadata": {},
   "source": [
    "<div class = \"alert alert-block alert-success\" style=\"border-radius: 20px;\">\n",
    "    In case you need help 🔗 links to relevant resources :\n",
    "    <br>\n",
    "    1.Python-ilorest-library: <a href = \"https://github.com/HewlettPackard/python-ilorest-library\">LINK</a><br>\n",
    "    2.HPE ilorest-api explorer: <a href = \"https://ilorestfulapiexplorer.ext.hpe.com/\">LINK</a><br>\n",
    "    3.REST API: <a href = \"https://restfulapi.net/\">LINK</a><br>\n",
    "    4.Changing Boot Setting Documentation: <a href = \"https://hewlettpackard.github.io/ilo-rest-api-docs/ilo6/?python#changing-boot-settings\">LINK</a><br>\n",
    "    \n",
    "</div>"
   ]
  }
 ],
 "metadata": {
  "kernelspec": {
   "display_name": "Python 3 (ipykernel)",
   "language": "python",
   "name": "python3"
  },
  "language_info": {
   "codemirror_mode": {
    "name": "ipython",
    "version": 3
   },
   "file_extension": ".py",
   "mimetype": "text/x-python",
   "name": "python",
   "nbconvert_exporter": "python",
   "pygments_lexer": "ipython3",
   "version": "3.10.6"
  }
 },
 "nbformat": 4,
 "nbformat_minor": 5
}
