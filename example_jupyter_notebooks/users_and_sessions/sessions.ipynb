{
 "cells": [
  {
   "cell_type": "markdown",
   "id": "f815c9a7",
   "metadata": {},
   "source": [
    "<div class=\"alert alert-block alert-success\"  style=\"border-radius: 20px;\"><h1 style=\"text-align:center;\"> Manually Managing Sessions With Redfish</h1></div>"
   ]
  },
  {
   "cell_type": "markdown",
   "id": "2a3a9755",
   "metadata": {},
   "source": [
    "<div class=\"alert alert-block alert-info\" style=\"background-color:\">\n",
    "<i>Hello User.!<br></i> Welcome to <b>python-iLOrest-library</b> <br> This is an example of <b> manually managing sessions with Redfish</b> <br> As you are here let's get it done easily.<br>\n",
    "    To perform this u need to have <a href = \"https://github.com/HewlettPackard/python-ilorest-library\" style = \"background-color:white\">python-ilorest-library</a> installed in your machine.<br>\n",
    "    And please keep your username and password handy!\n",
    "    <br>\n",
    "    <b>Also do execute each successive cell once to avoid any errors!</b>\n",
    "    \n",
    "</div>"
   ]
  },
  {
   "cell_type": "markdown",
   "id": "cc555954",
   "metadata": {},
   "source": [
    "<div class=\"alert alert-block alert-success\">\n",
    "    <h1>1.</h1>\n",
    "    Below we are importing all the necessary modules from the ilorest library! To know more about the modules click below\n",
    "    <ul>\n",
    "        <li><a href=\"https://www.tutorialspoint.com/what-is-python-s-sys-module#:~:text=%20What%20is%20Python%27s%20Sys%20Module%20%201,%5B0%5D%20prints%20the...%205%20Output.%20%20More%20\" target=\"_blank\" class=\"btn btn-primary btn-block\" style=\"max-width: 150px;\">sys</a></li>\n",
    "        <li><a href=\"https://www.json.org/json-en.html\" class=\"btn btn-primary btn-block\" style=\"max-width: 150px;\">json</a></li>\n",
    "        <li><a href=\"https://www.dmtf.org/standards/redfish\" class=\"btn btn-primary btn-block\" style=\"max-width: 150px;\">redfish</a></li>\n",
    "    </ul>\n",
    "</div>\n"
   ]
  },
  {
   "cell_type": "code",
   "execution_count": null,
   "id": "cff3ead6",
   "metadata": {},
   "outputs": [],
   "source": [
    "import sys\n",
    "import json\n",
    "from six.moves import urllib\n",
    "from redfish import RedfishClient\n",
    "from redfish.rest.v1 import ServerDownOrUnreachableError\n"
   ]
  },
  {
   "cell_type": "markdown",
   "id": "b41f56eb",
   "metadata": {},
   "source": [
    "<div class = \"alert alert-block alert-success\" style=\"border-radius: 20px;\">\n",
    "    <h3> 2. This is about sessions function</h3>\n",
    "        \n",
    "1. This function creates a new session with an iLO server using provided login credentials..<br>\n",
    "<br>\n",
    "    \n",
    "2. The function sends a POST request to the /redfish/v1/Sessions endpoint to create the session..<br>\n",
    "    <br>\n",
    "\n",
    "3. If the session is created successfully (response code 201), the function prints the session URI and X-Auth Token key..<br>\n",
    "    <br>\n",
    "\n",
    "4. The function also sends a DELETE request to the session URI to terminate the session.<br>\n",
    "    <br>\n",
    "5. If the session creation fails, the function prints an error message and tries to access the iLO Extended Message Info for more details..<br>\n",
    "    \n",
    "\n",
    "\n",
    "\n",
    " </div>"
   ]
  },
  {
   "cell_type": "code",
   "execution_count": 1,
   "id": "b99181a4",
   "metadata": {},
   "outputs": [],
   "source": [
    "def sessions(_redfishobj, login_account, login_password):\n",
    "\n",
    "    new_session = {\"UserName\": login_account, \"Password\": login_password}\n",
    "    response = _redfishobj.post('/redfish/v1/Sessions', new_session)\n",
    "\n",
    "    if response.status == 201:\n",
    "        print(\"Success!\\n\")\n",
    "        session_uri = response.getheader(\"location\")\n",
    "        session_uri = urllib.parse.urlparse(session_uri)\n",
    "        sys.stdout.write(\"\\tSession \" + session_uri.path + \" created.\\n\")\n",
    "        x_auth_token = response.getheader(\"x-auth-token\")\n",
    "        sys.stdout.write(\"\\tThis is the session X-Auth Token key \" + x_auth_token + \".\\n\")\n",
    "        print(json.dumps(response.dict, indent=4, sort_keys=True))\n",
    "\n",
    "        # Delete the created session\n",
    "        sys.stdout.write(\"\\tTerminating this session.\\n\")\n",
    "        sessresp = _redfishobj.delete(session_uri.path)\n",
    "        print(json.dumps(sessresp.dict, indent=4, sort_keys=True))\n",
    "    else:\n",
    "        sys.stderr.write(\"ERROR: failed to create a session.\\n\")\n",
    "        try:\n",
    "            print(json.dumps(sessresp.obj['error']['@Message.ExtendedInfo'], indent=4, \\\n",
    "                                                                            sort_keys=True))\n",
    "        except Exception as excp:\n",
    "            sys.stderr.write(\"A response error occurred, unable to access iLO Extended\"\n",
    "                             \" Message Info...\")\n"
   ]
  },
  {
   "cell_type": "markdown",
   "id": "031a5cbe",
   "metadata": {},
   "source": [
    "<div class=\"alert alert-block alert-success\"><h2 style=\"font-size:40px\">3.</h2>\n",
    "<b>The Main function: </b> PLEASE ENTER YOU LOGIN CREDENTIALS HERE TO PROCEED FURTHER<br>\n",
    "    <ul>\n",
    "        <li>Once your credentials that are enter everything a redfish obejct is created with the help of RedfishClient class and a session is created and now you will be logged in to the server.</li>\n",
    "        <li>If server is down or Unreachable we get server not reachable message!</li>\n",
    "        <li>If not then we make a call to <b>mount_virtual_media_iso</b> to obtain virtual media related info of system.</li>\n",
    "        <li>After getting required information <i><b>Redfish.logout()</b></i> closses the particular session and logs us out of the system.</li>\n",
    "    </ul>\n",
    "</div>"
   ]
  },
  {
   "cell_type": "markdown",
   "id": "c8cd2ffd",
   "metadata": {},
   "source": [
    "<div class = \"alert alert-block alert-warning\"><h2 style=\"font-size:40px\">4.</h2>\n",
    "    <b>When running on the server locally use the following commented values</b><br>\n",
    " SYSTEM_URL = None<br>\n",
    " LOGIN_ACCOUNT = None<br>\n",
    " LOGIN_PASSWORD = None<br>\n",
    "\n",
    "   <b>When running remotely</b> connect using the secured (https://) address,\n",
    "     account name, and password to send https requests\n",
    "    <br>\n",
    "     SYSTEM_URL acceptable examples:<br>\n",
    "     https://10.0.0.100<br>\n",
    "     https://ilo.hostname\n",
    "</div>"
   ]
  },
  {
   "cell_type": "markdown",
   "id": "77edbde3",
   "metadata": {},
   "source": [
    "<div class=\"alert alert-block alert-warning\" style=\"border-radius: 20px;\">\n",
    "    <h5>Instructions</h5>\n",
    "    <ul>\n",
    "        <li>When prompted for <i>ACCOUNT_LOGIN_NAME</i>, enter redfish standard username here  as iLO GUI actually considers this to be 'UserName'</li>\n",
    "        <li>When prompted for <i>ACCOUNT_USER_NAME</i>, enter redfish login here iLO GUI actually considers this to be 'LoginName'</li>\n",
    "        <li>Role_ID: It is a predefined role for the user which can take \"Administrator\" or \"ReadOnly\" or \"Operator\" as input. For more informaion on roles and privilages refere the table in the next cell.</li>\n",
    "        <li>For more clarification on the above points please visit <i><a href=\"https://hewlettpackard.github.io/ilo-rest-api-docs/ilo6/#managing-ilo-6-users\">iLO Users Documentation</a></i></li>\n",
    "    </ul>\n",
    "</div>"
   ]
  },
  {
   "cell_type": "code",
   "execution_count": 2,
   "id": "0b490052",
   "metadata": {},
   "outputs": [
    {
     "ename": "NameError",
     "evalue": "name 'ServerDownOrUnreachableError' is not defined",
     "output_type": "error",
     "traceback": [
      "\u001b[0;31m---------------------------------------------------------------------------\u001b[0m",
      "\u001b[0;31mNameError\u001b[0m                                 Traceback (most recent call last)",
      "Cell \u001b[0;32mIn[2], line 22\u001b[0m\n\u001b[1;32m     20\u001b[0m \u001b[38;5;28;01mtry\u001b[39;00m:\n\u001b[1;32m     21\u001b[0m     \u001b[38;5;66;03m# Create a Redfish client object\u001b[39;00m\n\u001b[0;32m---> 22\u001b[0m     REDFISHOBJ \u001b[38;5;241m=\u001b[39m \u001b[43mRedfishClient\u001b[49m(base_url\u001b[38;5;241m=\u001b[39mSYSTEM_URL, username\u001b[38;5;241m=\u001b[39mLOGIN_ACCOUNT, \\\n\u001b[1;32m     23\u001b[0m                                                                         password\u001b[38;5;241m=\u001b[39mLOGIN_PASSWORD)\n\u001b[1;32m     24\u001b[0m     \u001b[38;5;66;03m# Login with the Redfish client\u001b[39;00m\n",
      "\u001b[0;31mNameError\u001b[0m: name 'RedfishClient' is not defined",
      "\nDuring handling of the above exception, another exception occurred:\n",
      "\u001b[0;31mNameError\u001b[0m                                 Traceback (most recent call last)",
      "Cell \u001b[0;32mIn[2], line 26\u001b[0m\n\u001b[1;32m     24\u001b[0m     \u001b[38;5;66;03m# Login with the Redfish client\u001b[39;00m\n\u001b[1;32m     25\u001b[0m     REDFISHOBJ\u001b[38;5;241m.\u001b[39mlogin()\n\u001b[0;32m---> 26\u001b[0m \u001b[38;5;28;01mexcept\u001b[39;00m \u001b[43mServerDownOrUnreachableError\u001b[49m \u001b[38;5;28;01mas\u001b[39;00m excp:\n\u001b[1;32m     27\u001b[0m     sys\u001b[38;5;241m.\u001b[39mstderr\u001b[38;5;241m.\u001b[39mwrite(\u001b[38;5;124m\"\u001b[39m\u001b[38;5;124mERROR: server not reachable or does not support RedFish.\u001b[39m\u001b[38;5;130;01m\\n\u001b[39;00m\u001b[38;5;124m\"\u001b[39m)\n\u001b[1;32m     28\u001b[0m     sys\u001b[38;5;241m.\u001b[39mexit()\n",
      "\u001b[0;31mNameError\u001b[0m: name 'ServerDownOrUnreachableError' is not defined"
     ]
    }
   ],
   "source": [
    "if __name__ == \"__main__\":\n",
    "   \n",
    "    SYSTEM_URL = \"https://10.0.0.100\"\n",
    "    LOGIN_ACCOUNT = \"admin\"\n",
    "    LOGIN_PASSWORD = \"password\"\n",
    "\n",
    "    try:\n",
    "        # Create a Redfish client object\n",
    "        REDFISHOBJ = RedfishClient(base_url=SYSTEM_URL, username=LOGIN_ACCOUNT, \\\n",
    "                                                                            password=LOGIN_PASSWORD)\n",
    "    except ServerDownOrUnreachableError as excp:\n",
    "        sys.stderr.write(\"ERROR: server not reachable or does not support RedFish.\\n\")\n",
    "        sys.exit()\n",
    "\n",
    "    sessions(REDFISHOBJ, LOGIN_ACCOUNT, LOGIN_PASSWORD)#calling sessions function"
   ]
  },
  {
   "cell_type": "markdown",
   "id": "316c3f0e",
   "metadata": {},
   "source": [
    "<div class = \"alert alert-block alert-success\"><h2 style=\"font-size:40px\">5.</h2>In case you need help 🔗 links to relevant resources :\n",
    "    <ul>\n",
    "        <li><a href=\"https://github.com/HewlettPackard/python-ilorest-library\"target=\"_blank\" class=\"btn btn-primary btn-block\" style=\"max-width: 150px;\">1)Python-ilorest-library</a></li>\n",
    "        <li><a href=\"https://ilorestfulapiexplorer.ext.hpe.com/\" class=\"btn btn-primary btn-block\" style=\"max-width: 150px;\">2)Hpe ilorest-api explorer</a></li>\n",
    "        <li><a href=\"https://restfulapi.net/\" class=\"btn btn-primary btn-block\" style=\"max-width: 150px;\">3)Rest api</a></li>\n",
    "    </ul>\n",
    "</div>\n"
   ]
  },
  {
   "cell_type": "markdown",
   "id": "acc45fbf",
   "metadata": {},
   "source": []
  }
 ],
 "metadata": {
  "kernelspec": {
   "display_name": "Python 3 (ipykernel)",
   "language": "python",
   "name": "python3"
  },
  "language_info": {
   "codemirror_mode": {
    "name": "ipython",
    "version": 3
   },
   "file_extension": ".py",
   "mimetype": "text/x-python",
   "name": "python",
   "nbconvert_exporter": "python",
   "pygments_lexer": "ipython3",
   "version": "3.10.6"
  }
 },
 "nbformat": 4,
 "nbformat_minor": 5
}
