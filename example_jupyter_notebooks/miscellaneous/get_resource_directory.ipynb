{
 "cells": [
  {
   "cell_type": "markdown",
   "id": "a38bafdc",
   "metadata": {
    "tags": []
   },
   "source": [
    "# Get_Resource_directory"
   ]
  },
  {
   "cell_type": "markdown",
   "id": "cfe2e2b6",
   "metadata": {},
   "source": [
    "<div class=\"alert alert-block alert-info\" style=\"border-radius: 20px;\">\n",
    "<i>Hello there.!<br></i> Welcome to <b>python-iLOrest-library</b> <br> Here is an example to <b>get_resource_directory</b> <br> As you are here let's get it done easily.<br>\n",
    "    To perform this u need to have <a href = \"https://libraries.io/pypi/python-ilorest-library#id3\" style = \"none\">python-ilorest-library</a> installed in your machine.<br>\n",
    "    And please keep your username and password handy!\n",
    "    <br>\n",
    "    <b>Also do execute each successive cell once to avoid any errors!</b>\n",
    "    \n",
    "</div>"
   ]
  },
  {
   "cell_type": "markdown",
   "id": "b3fec1a9",
   "metadata": {},
   "source": [
    "<div class=\"alert alert-block alert-success\" style=\"border-radius: 20px;\">\n",
    "    <h1> 1.</h1>\n",
    "Below we are importing all the necessary modules from the ilorest library!.<br>\n",
    "    <li><a href = \"https://www.tutorialspoint.com/what-is-python-s-sys-module#:~:text=%20What%20is%20Python%27s%20Sys%20Module%20%201,%5B0%5D%20prints%20the...%205%20Output.%20%20More%20\">sys </a>\n",
    "    </li>\n",
    "    <li> redfish </li>\n",
    "    <li>get_resource_directory</li>\n",
    "</div>"
   ]
  },
  {
   "cell_type": "code",
   "execution_count": 1,
   "id": "ab7125e9",
   "metadata": {},
   "outputs": [],
   "source": [
    "import sys\n",
    "\n",
    "from redfish import RedfishClient\n",
    "from redfish.rest.v1 import ServerDownOrUnreachableError\n",
    "\n",
    "#from get_resource_directory import get_resource_directory"
   ]
  },
  {
   "cell_type": "markdown",
   "id": "8d23d990",
   "metadata": {},
   "source": [
    "<div class = \"alert alert-block alert-success\" style=\"border-radius: 20px;\">\n",
    "    <h1> 2. </h1>\n",
    "     A redfishobj parameter is required for the function get_resource_directory. The resource directory can be retrieved using this function from a Redfish API.<br>\n",
    "    <i>Let me give you a walk through of it!</i>\n",
    "    <br>\n",
    " There is a hierarchy involved in iLO Rest Api. So we are simply following the hierarchy present to change the settings.<br>\n",
    "\n",
    "1. It tries to use the redfishobj object to access the resource directory URI. The server's resources are gathered in the resource directory.The server is not an HPE server and an error message is displayed to stderr if the resource directory URI cannot be discovered (KeyError is thrown). Then, the function returns null.\n",
    "<br>\n",
    "    \n",
    "2. If the resource directory URI is located, the code uses the redfishobj.get method to send an <b>HTTP GET</b> request to retrieve the resource directory.\n",
    "    <br>\n",
    "\n",
    "3. A response status of 200 (OK) indicates a successful retrieval of the resource directory. The function assigns the list of resource instances to the resources variable and sends a message to stdout showing the location of the resource directory.\n",
    "    <br>\n",
    "\n",
    "4. If the response status isn't 200, the resource directory is either unavailable or missing. The resources variable is empty and an error is reported to stderr.\n",
    "    \n",
    " <br>  \n",
    "    \n",
    "5. Finally the function get_resource_directory return the  <b>resources</b>.\n",
    "    <br>\n",
    "\n",
    " </div>"
   ]
  },
  {
   "cell_type": "code",
   "execution_count": 1,
   "id": "1b4d0494",
   "metadata": {},
   "outputs": [],
   "source": [
    "def get_resource_directory(redfishobj):\n",
    "\n",
    "    try:\n",
    "        resource_uri = redfishobj.root.obj.Oem.Hpe.Links.ResourceDirectory['@odata.id']\n",
    "    except KeyError:\n",
    "        sys.stderr.write(\"Resource directory is only available on HPE servers.\\n\")\n",
    "        return None\n",
    "\n",
    "    response = redfishobj.get(resource_uri)\n",
    "    resources = []\n",
    "\n",
    "    if response.status == 200:\n",
    "        sys.stdout.write(\"\\tFound resource directory at /redfish/v1/resourcedirectory\" + \"\\n\\n\")\n",
    "        resources = response.dict[\"Instances\"]\n",
    "    else:\n",
    "        sys.stderr.write(\"\\tResource directory missing at /redfish/v1/resourcedirectory\" + \"\\n\")\n",
    "\n",
    "    return resources\n"
   ]
  },
  {
   "cell_type": "markdown",
   "id": "e0de7de8",
   "metadata": {},
   "source": [
    "<div class = \"alert alert-block alert-success\" style=\"border-radius: 20px;\">\n",
    "    <h1> 3. </h1>This is get_gen function overview.<br>\n",
    "    <i>Let me give you a walk through of it!</i>\n",
    "    <br>\n",
    "\n",
    "\n",
    "1. The _redfishobj object, which is presumed to be a Redfish response object, is used to retrieve the root response.\n",
    "The server generation's default setting is set to 5 (iLO 5).<br>\n",
    "<br>\n",
    "    \n",
    "2. By looking at the keys beneath the \"Oem\" key in the root response, it determines whether the OEM (Original Equipment Manufacturer) of the server is either \"Hpe\" or \"Hp.\" Gencompany is set to True if one of these keys is discovered; otherwise, it is set to False..<br>\n",
    "    <br>\n",
    "\n",
    "3. If gencompany is True, the variable comp is changed to Hp otherwise, it stays None.\n",
    "Comp is changed to Hpe if comp is not None and the <b>Oem</b> key contains the subkey Hpe in the root response.<br>\n",
    "    <br>\n",
    "\n",
    "4. The function then accesses nested dictionaries in the root response to see if the server's manager type is present.It fetches the manager type and firmware version if the manager type is present.\n",
    "It thinks the server is an iLO 4 type on a Moonshot system if the manager type ends with CM (probably \"Chassis Manager\") in which case it sets ilogen to 4 and iloversion to None.<br>\n",
    "    <br>\n",
    "5. In the absence of that, it takes the management type's generation number and the firmware version number. These values are combined to create a decimal version number, which is then assigned to iloversion. Ilogen is given the extracted generation number.\n",
    "<br>\n",
    "    \n",
    "\n",
    "6. A tuple including the server generation (ilogen) and version (iloversion) is the function's final output.\n",
    "\n",
    " </div>"
   ]
  },
  {
   "cell_type": "code",
   "execution_count": null,
   "id": "3f538059",
   "metadata": {},
   "outputs": [],
   "source": [
    "def get_gen(_redfishobj):\n",
    "\trootresp = _redfishobj.root.obj\n",
    "\t#Default iLO 5\n",
    "\tilogen = 5\n",
    "\tgencompany = next(iter(rootresp.get(\"Oem\", {}).keys()), None) in ('Hpe', 'Hp')\n",
    "\tcomp = 'Hp' if gencompany else None\n",
    "\tcomp = 'Hpe' if rootresp.get(\"Oem\", {}).get('Hpe', None) else comp\n",
    "\tif comp and next(iter(rootresp.get(\"Oem\", {}).get(comp, {}).get(\"Manager\", {}))).\\\n",
    "\t\t\t\t\t\t\t\t\t\t\t\t\t\t\t\tget('ManagerType', None):\n",
    "\t\tilogen = next(iter(rootresp.get(\"Oem\", {}).get(comp, {}).get(\"Manager\", {})))\\\n",
    "\t\t\t\t\t\t\t\t\t\t\t\t\t\t\t\t\t\t.get(\"ManagerType\")\n",
    "\t\tilover = next(iter(rootresp.get(\"Oem\", {}).get(comp, {}).get(\"Manager\", {}))).\\\n",
    "\t\t\t\t\t\t\t\t\t\t\t\t\t\t\t  get(\"ManagerFirmwareVersion\")\n",
    "\t\tif ilogen.split(' ')[-1] == \"CM\":\n",
    "\t\t\t# Assume iLO 4 types in Moonshot\n",
    "\t\t\tilogen = 4\n",
    "\t\t\tiloversion = None\n",
    "\t\telse:\n",
    "\t\t\tilogen = ilogen.split(' ')[1]\n",
    "\t\t\tiloversion = float(ilogen.split(' ')[-1] + '.' + \\\n",
    "\t\t\t\t\t\t\t\t\t\t\t''.join(ilover.split('.')))\n",
    "\treturn (ilogen, iloversion)\n"
   ]
  },
  {
   "cell_type": "markdown",
   "id": "bd337e8f",
   "metadata": {},
   "source": [
    "<div class=\"alert alert-block alert-warning\" style=\"border-radius: 20px;\">\n",
    "<b> When running on the server locally : </b>  use the following values <br>\n",
    "    SYSTEM_URL = None <br>\n",
    "    LOGIN_ACCOUNT = None <br>\n",
    "    LOGIN_PASSWORD = None <br>\n",
    "    <b> When running remotely </b> connect using the secured (https://) address,account name, and password to send https requests <br>\n",
    "    SYSTEM_URL acceptable examples: <br>\n",
    "    \"https://10.0.0.100\" <br>\n",
    "    \"https://ilo.hostname\"\n",
    "</div>"
   ]
  },
  {
   "cell_type": "markdown",
   "id": "f7fd2c36",
   "metadata": {},
   "source": [
    "<div class = \"alert alert-block alert-success\" style=\"border-radius: 20px;\">In case you need help 🔗 links to relevant resources :\n",
    "    <br>\n",
    "    1.Python-ilorest-library:<a href = \"https://github.com/HewlettPackard/python-ilorest-library\">LINK</a><br>\n",
    "    2.Hpe ilorest-api explorer:<a href = \"https://ilorestfulapiexplorer.ext.hpe.com/\">LINK</a><br>\n",
    "    3.Rest api: <a href = \"https://restfulapi.net/\">LINK</a><br>\n",
    "    \n",
    "</div>"
   ]
  }
 ],
 "metadata": {
  "kernelspec": {
   "display_name": "Python 3 (ipykernel)",
   "language": "python",
   "name": "python3"
  },
  "language_info": {
   "codemirror_mode": {
    "name": "ipython",
    "version": 3
   },
   "file_extension": ".py",
   "mimetype": "text/x-python",
   "name": "python",
   "nbconvert_exporter": "python",
   "pygments_lexer": "ipython3",
   "version": "3.10.6"
  }
 },
 "nbformat": 4,
 "nbformat_minor": 5
}
