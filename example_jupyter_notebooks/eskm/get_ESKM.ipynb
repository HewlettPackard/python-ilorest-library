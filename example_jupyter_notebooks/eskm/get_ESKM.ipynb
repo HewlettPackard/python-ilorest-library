{
 "cells": [
  {
   "cell_type": "markdown",
   "id": "ad50a3f3",
   "metadata": {},
   "source": [
    "<h1 style=\"text-align:center;\">Gathering ESKM Data for HPE iLO Systems</h1>"
   ]
  },
  {
   "cell_type": "markdown",
   "id": "095bee7c",
   "metadata": {},
   "source": [
    "<div class=\"alert  alert-block  alert-info\" style=\"border-radius: 20px;\">    \n",
    "    <ul>\n",
    "        <li><p>This Jupyter Notebook demonstrates an example of collecting ESKM (Enterprise Secure Key Manager) data for HPE iLO (Integrated Lights-Out) systems. It utilizes the HPE iLOrest library to interact with the iLO API and retrieve the necessary information.</p></li>\n",
    "        <li>As you are here let's get it done easily.</li>\n",
    "        <li>To perform this you need to have <a href = \"https://libraries.io/pypi/python-ilorest-library#id3\" style=\"none\">python-ilorest-library</a> installed in your machine.</li>\n",
    "        <li>Please keep your username and password handy</li>\n",
    "        <li>Do execute each successive cell once to avoid any errors!</li>\n",
    "    </ul>    \n",
    "</div>"
   ]
  },
  {
   "cell_type": "markdown",
   "id": "b052d673",
   "metadata": {},
   "source": [
    "<div class=\"alert alert-block alert-success\"  style=\"border-radius: 20px;\">\n",
    "    <h3> 1. Below we are importing all the necessary python libraries</h3>\n",
    "    <ul>\n",
    "        <li><a href = \"https://www.tutorialspoint.com/what-is-python-s-sys-module#:~:text=%20What%20is%20Python%27s%20Sys%20Module%20%201,%5B0%5D%20prints%20the...%205%20Output.%20%20More%20\">sys</a></li>\n",
    "        <li>json</li>\n",
    "        <li>redfish</li> \n",
    "    </ul>\n",
    "</div>"
   ]
  },
  {
   "cell_type": "code",
   "execution_count": null,
   "id": "f95f3667",
   "metadata": {},
   "outputs": [],
   "source": [
    "import sys\n",
    "import json\n",
    "from redfish import RedfishClient\n",
    "from redfish.rest.v1 import ServerDownOrUnreachableError\n",
    "\n",
    "from get_resource_directory import get_resource_directory\n",
    "\n",
    "#This is to take passwords as input securely\n",
    "import getpass"
   ]
  },
  {
   "cell_type": "markdown",
   "id": "ed3ca1cf",
   "metadata": {},
   "source": [
    "<div class = \"alert alert-block alert-success\" style=\"border-radius: 20px;\">\n",
    "    <h3> 2. The purpose of the get_ESKM function is to retrieve Enterprise Secure Key Manager (ESKM) data from an HPE iLO (Integrated Lights-Out) system. It requires a connection to the iLO system through the Redfish API.</h3><br>\n",
    "  Here's a step-by-step breakdown of what the function does:\n",
    "<br><ul>\n",
    "<li>It starts by initializing a variable called security_service_eskm_uri, which will store the URI (Uniform Resource Identifier) for the ESKM service.\n",
    "</li><br><li>\n",
    "Next, the function uses the get_resource_directory function to obtain the list of available resource instances from the Redfish service. This helps in discovering the necessary URIs.\n",
    "</li><br><li>\n",
    "If the DISABLE_RESOURCE_DIR flag is set or there are no resource instances available, an alternative approach is taken to find the relevant URI. The function navigates through the Redfish resource hierarchy to locate the URI for the security service associated with the iLO system.\n",
    "</li><br><li>\n",
    "Once the security service URI is obtained, the function retrieves the ESKM URI from the response. This URI points to the specific ESKM resource within the HPE server.\n",
    "</li><br><li>\n",
    "If the resource directory is available, the function iterates through the resource instances to find the URI with the identifier '#HpeESKM.' This identifier indicates the presence of the ESKM resource.\n",
    "</li><br><li>\n",
    "If a valid ESKM URI is found, the function makes a GET request to retrieve the ESKM data using the Redfish client object (_redfishobj).\n",
    "</li></ul><br>\n",
    "Finally, the fetched ESKM data is printed in a nicely formatted JSON representation, providing the necessary information about the ESKM configuration.\n",
    " </div>\n"
   ]
  },
  {
   "cell_type": "code",
   "execution_count": null,
   "id": "902eb516",
   "metadata": {},
   "outputs": [],
   "source": [
    "def get_ESKM(_redfishobj):\n",
    "\n",
    "    security_service_eskm_uri = None\n",
    "\n",
    "    resource_instances = get_resource_directory(_redfishobj)\n",
    "    if DISABLE_RESOURCE_DIR or not resource_instances:\n",
    "        #if we do not have a resource directory or want to force it's non use to find the\n",
    "        #relevant URI\n",
    "        managers_uri = _redfishobj.root.obj['Managers']['@odata.id']\n",
    "        managers_response = _redfishobj.get(managers_uri)\n",
    "        managers_members_uri = next(iter(managers_response.obj['Members']))['@odata.id']\n",
    "        managers_members_response = _redfishobj.get(managers_members_uri)\n",
    "        security_service_uri = managers_members_response.obj.Oem.Hpe.Links\\\n",
    "                                                                ['SecurityService']['@odata.id']\n",
    "        security_service_response = _redfishobj.get(security_service_uri)\n",
    "        security_service_eskm_uri = security_service_response.obj.Links['ESKM']['@odata.id']\n",
    "    else:\n",
    "        for instance in resource_instances:\n",
    "            #Use Resource directory to find the relevant URI\n",
    "            if '#HpeESKM.' in instance['@odata.type']:\n",
    "                security_service_eskm_uri = instance['@odata.id']\n",
    "                break\n",
    "\n",
    "    if security_service_eskm_uri:\n",
    "        security_service_eskm_resp = _redfishobj.get(security_service_eskm_uri)\n",
    "        print(json.dumps(security_service_eskm_resp.dict, indent=4, sort_keys=True))"
   ]
  },
  {
   "cell_type": "markdown",
   "id": "f840454b",
   "metadata": {},
   "source": [
    "<div class = \"alert alert-block alert-success\" style=\"border-radius: 20px;\">\n",
    "    <h3> 3. This is the Main function overview.</h3>\n",
    "    <br>\n",
    " <ul><li>It sets up the connection parameters, including the server URL, login credentials, and a flag for enabling the resource directory feature.\n",
    "</li><br><li>It creates a RedfishClient object using the connection parameters and logs in to the server.\n",
    "</li><br><li>If the server is unreachable or does not support the Redfish protocol, it displays an error message and exits the script.\n",
    "</li><br><li>It calls the get_ESKM function to retrieve and print the ESKM data from the HPE iLO system.\n",
    "</li><br><li>Finally, it logs out from the server, ending the session.\n",
    "</li></ul><br>In summary, the main function establishes a connection with the HPE server, retrieves ESKM data, and ensures a clean logout from the server.\n",
    "\n",
    " </div>"
   ]
  },
  {
   "cell_type": "markdown",
   "id": "f2e371fe",
   "metadata": {},
   "source": [
    "<div class=\"alert alert-block alert-warning\" style=\"border-radius: 20px;\">\n",
    "<b> When running on the server locally,</b> use the following values:<br>\n",
    "    SYSTEM_URL = None <br>\n",
    "    LOGIN_ACCOUNT = None <br>\n",
    "    LOGIN_PASSWORD = None <br><br>\n",
    "    <b> When running remotely </b> connect using the secured (https://) address, account name and password to send https requests<br>\n",
    "    SYSTEM_URL acceptable examples: <br>\n",
    "    \"https://10.0.0.100\" <br>\n",
    "    \"https://ilo.hostname\"\n",
    "</div>"
   ]
  },
  {
   "cell_type": "code",
   "execution_count": null,
   "id": "e37b7ca5",
   "metadata": {},
   "outputs": [],
   "source": [
    "if __name__ == \"__main__\":\n",
    "    \n",
    "    SYSTEM_URL = input(\"Enter System URL: \")\n",
    "    LOGIN_ACCOUNT = input(\"Enter Login account: \")\n",
    "    LOGIN_PASSWORD = getpass.getpass(\"Enter your password: \")\n",
    "\n",
    "    # flag to force disable resource directory. Resource directory and associated operations are\n",
    "    # intended for HPE servers.\n",
    "    DISABLE_RESOURCE_DIR = False\n",
    "\n",
    "    try:\n",
    "        # Create a Redfish client object\n",
    "        REDFISHOBJ = RedfishClient(base_url=SYSTEM_URL, username=LOGIN_ACCOUNT, \\\n",
    "                                                                            password=LOGIN_PASSWORD)\n",
    "        # Login with the Redfish client\n",
    "        REDFISHOBJ.login()\n",
    "    except ServerDownOrUnreachableError as excp:\n",
    "        sys.stderr.write(\"ERROR: server not reachable or does not support RedFish.\\n\")\n",
    "        sys.exit()\n",
    "\n",
    "    get_ESKM(REDFISHOBJ)\n",
    "    REDFISHOBJ.logout()"
   ]
  },
  {
   "cell_type": "markdown",
   "id": "90b4cb56",
   "metadata": {},
   "source": [
    "<div class = \"alert alert-block alert-success\" style=\"border-radius: 20px;\">\n",
    "    In case you need help 🔗 links to relevant resources :\n",
    "    <br>\n",
    "    1.Python-ilorest-library: <a href = \"https://github.com/HewlettPackard/python-ilorest-library\">LINK</a><br>\n",
    "    2.HPE ilorest-api explorer: <a href = \"https://ilorestfulapiexplorer.ext.hpe.com/\">LINK</a><br>\n",
    "    3.REST API: <a href = \"https://restfulapi.net/\">LINK</a><br>\n",
    "    4.Changing Boot Setting Documentation: <a href = \"https://hewlettpackard.github.io/ilo-rest-api-docs/ilo6/?python#changing-boot-settings\">LINK</a><br>\n",
    "    \n",
    "</div>"
   ]
  }
 ],
 "metadata": {
  "kernelspec": {
   "display_name": "Python 3 (ipykernel)",
   "language": "python",
   "name": "python3"
  },
  "language_info": {
   "codemirror_mode": {
    "name": "ipython",
    "version": 3
   },
   "file_extension": ".py",
   "mimetype": "text/x-python",
   "name": "python",
   "nbconvert_exporter": "python",
   "pygments_lexer": "ipython3",
   "version": "3.10.6"
  }
 },
 "nbformat": 4,
 "nbformat_minor": 5
}
