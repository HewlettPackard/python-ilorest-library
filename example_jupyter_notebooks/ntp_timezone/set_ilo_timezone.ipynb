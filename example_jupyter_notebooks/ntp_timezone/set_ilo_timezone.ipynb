{
 "cells": [
  {
   "cell_type": "markdown",
   "id": "e9c3d898",
   "metadata": {
    "tags": []
   },
   "source": [
    "# Setting the timezone for HPE iLO systems"
   ]
  },
  {
   "cell_type": "markdown",
   "id": "929300c6",
   "metadata": {},
   "source": [
    "<div class=\"alert  alert-block  alert-info\" style=\"border-radius: 20px;\">    \n",
    "    <ul>\n",
    "        <li><p>This Jupyter Notebook demonstrates an example of setting the timezone for HPE iLO (Integrated Lights-Out) systems. It utilizes the HPE iLOrest library to interact with the iLO API and retrieve the necessary information.</p></li>\n",
    "        <li>As you are here let's get it done easily.</li>\n",
    "        <li>To perform this you need to have <a href = \"https://libraries.io/pypi/python-ilorest-library#id3\" style=\"none\">python-ilorest-library</a> installed in your machine.</li>\n",
    "        <li>Please keep your username and password handy</li>\n",
    "        <li>Do execute each successive cell once to avoid any errors!</li>\n",
    "    </ul>    \n",
    "</div>"
   ]
  },
  {
   "cell_type": "markdown",
   "id": "2ef56c73",
   "metadata": {
    "tags": []
   },
   "source": [
    "<div class=\"alert alert-block alert-success\" style=\"border: 1px solid #ccc; border-radius: 10px; padding: 10px;\">\n",
    "    <div style = \"color:green; font-size:40px;\">1.</div><br>\n",
    "Below we are importing all the necessary modules from the ilorest library tp set up the ilo NTP server!<br>\n",
    "  \n",
    "</div>"
   ]
  },
  {
   "cell_type": "code",
   "execution_count": 1,
   "id": "c329cde9",
   "metadata": {},
   "outputs": [],
   "source": [
    "import sys\n",
    "import json\n",
    "from redfish import RedfishClient\n",
    "from redfish.rest.v1 import ServerDownOrUnreachableError\n",
    "\n",
    "from get_resource_directory import get_resource_directory"
   ]
  },
  {
   "cell_type": "markdown",
   "id": "6a1ae9ce",
   "metadata": {
    "tags": []
   },
   "source": [
    "<div class = \"alert alert-block alert-success\" style=\"border: 1px solid #ccc; border-radius: 10px; padding: 10px;\">\n",
    "    <div style = \"color:green; font-size:40px;\">2.</div><br>\n",
    "    <p>The function set_timezone is defined below. It provides a convenient way to set the timezone for an HPE iLO system using the Redfish API, utilizing the resource directory or direct URI retrieval methods to locate the relevant DateTime service and perform the timezone update.</p>\n",
    "<br> Here's a summary of the function:<br>\n",
    "\n",
    "1. <b>Resource Directory Retrieval</b>: The function retrieves the resource directory information using the _redfishobj Redfish client object. If the resource directory is not available or the DISABLE_RESOURCE_DIR flag is set, it retrieves the URI for the DateTime service from the server's Managers and Members resources.\n",
    "\n",
    "2. <b>Finding the Relevant URI</b>: If the resource directory is available, the function searches for the relevant URI for the DateTime service within the resource instances. It looks for an instance with the '#HpeiLODateTime.' substring in its @odata.type.\n",
    "\n",
    "3. <b>Updating the Timezone</b>: After obtaining the DateTime service URI, the function sends a GET request to retrieve the current data for the service. If the retrieved data contains the 'TimeZone' property, it constructs a JSON payload to update the timezone to the specified value. A PATCH request is then sent to the DateTime service URI with the timezone payload to modify the timezone.\n",
    "\n",
    "4. <b>Handling Responses</b>: The function handles different response scenarios. If the response status code is 400, indicating a client-side error, it attempts to print the extended error information and the available timezone list. For response status codes other than 200 or 201, indicating an HTTP error, an appropriate error message is printed. If the response status is 200, indicating a successful update, the function prints a success message along with the updated timezone information.\n",
    "</div>"
   ]
  },
  {
   "cell_type": "code",
   "execution_count": 1,
   "id": "f3786dd7",
   "metadata": {},
   "outputs": [],
   "source": [
    "def set_timezone(_redfishobj, timezone):\n",
    "\n",
    "    date_time_uri = None\n",
    "\n",
    "    resource_instances = get_resource_directory(_redfishobj)\n",
    "    if DISABLE_RESOURCE_DIR or not resource_instances:\n",
    "        #if we do not have a resource directory or want to force it's non use to find the\n",
    "        #relevant URI\n",
    "        managers_uri = _redfishobj.root.obj['Managers']['@odata.id']\n",
    "        managers_response = _redfishobj.get(managers_uri)\n",
    "        managers_members_uri = next(iter(managers_response.obj['Members']))['@odata.id']\n",
    "        managers_members_response = _redfishobj.get(managers_members_uri)\n",
    "        date_time_uri = managers_members_response.obj.Oem.Hpe.Links['DateTimeService']['@odata.id']\n",
    "    else:\n",
    "        #Use Resource directory to find the relevant URI\n",
    "        for instance in resource_instances:\n",
    "            if '#HpeiLODateTime.' in instance['@odata.type']:\n",
    "                date_time_uri = instance['@odata.id']\n",
    "\n",
    "    if date_time_uri:\n",
    "        data = _redfishobj.get(date_time_uri)\n",
    "        if data.dict.get('TimeZone'):\n",
    "            _data = {'TimeZone': {\"Name\": timezone}}\n",
    "            resp = _redfishobj.patch(date_time_uri, _data)\n",
    "        else:\n",
    "            raise Exception(\"\\'TimeZone\\' property is not available/modifyable.\\n\")\n",
    "        #If iLO responds with soemthing outside of 200 or 201 then lets check the iLO extended info\n",
    "        #error message to see what went wrong\n",
    "        if resp.status == 400:\n",
    "            try:\n",
    "                print(json.dumps(resp.obj['error']['@Message.ExtendedInfo'], indent=4, \\\n",
    "                                                                                sort_keys=True))\n",
    "                print(json.dumps(data.obj.get('TimeZoneList'), indent=4, sort_keys=True))\n",
    "                sys.stderr.write(\"Check the TimeZone value...\\n\")\n",
    "            except Exception as excp:\n",
    "                sys.stderr.write(\"A response error occurred, unable to access iLO Extended \" \\\n",
    "                                 \"Message Info...\")\n",
    "        elif resp.status != 200:\n",
    "            sys.stderr.write(\"An http response of \\'%s\\' was returned.\\n\" % resp.status)\n",
    "        else:\n",
    "            print(\"Success!\\n\")\n",
    "            print(json.dumps(resp.dict, indent=4, sort_keys=True))\n",
    "            ntp_data = _redfishobj.get(date_time_uri).dict.get('TimeZone')\n",
    "            print(\"Printing updated NTP Servers:\\n\")\n",
    "            print(json.dumps(ntp_data, indent=4, sort_keys=True))"
   ]
  },
  {
   "cell_type": "markdown",
   "id": "5b943b2e",
   "metadata": {
    "tags": []
   },
   "source": [
    "<div class = \"alert alert-block alert-success\" style=\"border: 1px solid #ccc; border-radius: 10px; padding: 10px;\">\n",
    "<div style = \"color:green; font-size:40px;\">3.</div><br>\n",
    "    This is Main function overview.<br>\n",
    "    <i>Let me give you a walk through of it!</i>\n",
    "    <br><br>\n",
    "    The main section of the script proceeds to create a Redfish client object using the specified system URL, login account, and password. This client object allows communication with the remote system via Redfish APIs. After successfully creating the client object, it logs in to the system to establish an authenticated session.\n",
    "<br><br>\n",
    "If any server connectivity issues occur or the server does not support RedFish, an error message is displayed, and the script exits. Otherwise, the set_timezone function is called, passing the Redfish client object and the desired timezone value as parameters. This function handles the task of setting the timezone on the system using the Redfish API.\n",
    "<br>\n",
    "Upon completion, the script logs out from the system, terminating the authenticated session.\n",
    "\n",
    " </div>"
   ]
  },
  {
   "cell_type": "markdown",
   "id": "0cb9dca1",
   "metadata": {},
   "source": [
    "<div class=\"alert alert-block alert-warning\">\n",
    "<b> When running on the server locally : </b>  use the following values <br>\n",
    "    SYSTEM_URL = None <br>\n",
    "    LOGIN_ACCOUNT = None <br>\n",
    "    LOGIN_PASSWORD = None <br>\n",
    "    LOGFILE = data.ahs<br>\n",
    "    <b> When running remotely </b> connect using the secured (https://) address,account name, and password to send https requests <br>\n",
    "    SYSTEM_URL acceptable examples: <br>\n",
    "    \"https://10.0.0.100\" <br>\n",
    "    \"https://ilo.hostname\"\n",
    "</div>"
   ]
  },
  {
   "cell_type": "code",
   "execution_count": null,
   "id": "e3f7743a",
   "metadata": {},
   "outputs": [],
   "source": [
    "if __name__ == \"__main__\":\n",
    "    \n",
    "    SYSTEM_URL = \"https://10.0.0.100\"\n",
    "    LOGIN_ACCOUNT = \"admin\"\n",
    "    LOGIN_PASSWORD = \"password\"\n",
    "\n",
    "    #timezone property (review the list of timezones ('TimeZoneList') within the DateTime URI.\n",
    "    TIMEZONE = \"US/Central\"\n",
    "    # flag to force disable resource directory. Resource directory and associated operations are\n",
    "    # intended for HPE servers.\n",
    "    DISABLE_RESOURCE_DIR = True\n",
    "\n",
    "    try:\n",
    "        # Create a Redfish client object\n",
    "        REDFISHOBJ = RedfishClient(base_url=SYSTEM_URL, username=LOGIN_ACCOUNT, \\\n",
    "                                                                            password=LOGIN_PASSWORD)\n",
    "        # Login with the Redfish client\n",
    "        REDFISHOBJ.login()\n",
    "    except ServerDownOrUnreachableError as excp:\n",
    "        sys.stderr.write(\"ERROR: server not reachable or does not support RedFish.\\n\")\n",
    "        sys.exit()\n",
    "\n",
    "    set_timezone(REDFISHOBJ, TIMEZONE)\n",
    "    REDFISHOBJ.logout()"
   ]
  },
  {
   "cell_type": "markdown",
   "id": "0e4573cc",
   "metadata": {},
   "source": [
    "<div class = \"alert alert-block alert-success\" style=\"border: 1px solid #ccc; border-radius: 10px; padding: 10px;\">In case you need help 🔗 links to relevant resources :\n",
    "    <br>\n",
    "    1.Python-ilorest-library:<a href = \"https://github.com/HewlettPackard/python-ilorest-library\">LINK</a><br>\n",
    "    2.Hpe ilorest-api explorer:<a href = \"https://ilorestfulapiexplorer.ext.hpe.com/\">LINK</a><br>\n",
    "    3.Rest api: <a href = \"https://restfulapi.net/\">LINK</a><br>\n",
    "    \n",
    "</div>"
   ]
  }
 ],
 "metadata": {
  "kernelspec": {
   "display_name": "Python 3 (ipykernel)",
   "language": "python",
   "name": "python3"
  },
  "language_info": {
   "codemirror_mode": {
    "name": "ipython",
    "version": 3
   },
   "file_extension": ".py",
   "mimetype": "text/x-python",
   "name": "python",
   "nbconvert_exporter": "python",
   "pygments_lexer": "ipython3",
   "version": "3.10.6"
  }
 },
 "nbformat": 4,
 "nbformat_minor": 5
}
