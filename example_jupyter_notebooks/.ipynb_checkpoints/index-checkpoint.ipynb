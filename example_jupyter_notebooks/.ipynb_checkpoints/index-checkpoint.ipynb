{
 "cells": [
  {
   "cell_type": "markdown",
   "id": "18ad6013",
   "metadata": {},
   "source": [
    "<img id=\"my-image\" src=\"https://upload.wikimedia.org/wikipedia/commons/thumb/4/46/Hewlett_Packard_Enterprise_logo.svg/1200px-Hewlett_Packard_Enterprise_logo.svg.png\" alt=\"HPE Logo\" srcset=\"\" style=\"width: 32rem; border-radius: 5px; transition: all 0.2s ease-out; padding: 10px;\">"
   ]
  },
  {
   "cell_type": "markdown",
   "id": "f9465e40",
   "metadata": {},
   "source": [
    "<h1 style=\"text-align:center; padding-top:5px; padding-bottom:5px;\">INDEX</h1>"
   ]
  },
  {
   "cell_type": "markdown",
   "id": "20da06d1",
   "metadata": {},
   "source": [
    "<h1 style=\"text-align:center; border-bottom: 1px solid black; padding-top:5px; padding-bottom:5px;\">Scripts related to BIOS</h1>"
   ]
  },
  {
   "cell_type": "markdown",
   "id": "7eaa85e8",
   "metadata": {},
   "source": [
    "<table style=\"border-radius: 10px; background-color: #f9f9f9; border-collapse: collapse; width: 100%; max-width: 800px; margin: 0 auto; box-shadow: 4px 4px 8px rgba(0, 0, 0, 0.2), -4px -4px 8px rgba(255, 255, 255, 0.5); \">\n",
    "  <thead>\n",
    "    <tr style=\"background-color: #333; color: #fff;\">\n",
    "      <th style=\"padding: 12px; text-align: left;\">OPERATION</th>\n",
    "      <th style=\"padding: 12px; text-align: left;\">DESCRIPTION</th>\n",
    "      <th style=\"padding: 12px; text-align: left;\">METHOD</th>\n",
    "      <th style=\"padding: 12px; text-align: left;\">LOCATION</th>\n",
    "    </tr>\n",
    "  </thead>\n",
    "  <tbody>\n",
    "    <tr onmouseover=\"this.style.boxShadow='0px 10px 20px rgba(0, 0, 0, 0.4)';\" onmouseout=\"this.style.boxShadow='0px 5px 10px rgba(0, 0, 0, 0.4)';\" style=\"padding: 10px;background-color: #fff;\">\n",
    "      <td style=\"padding: 12px; text-align: left; color: black;\">Change BIOS Settings</td>\n",
    "      <td style=\"padding: 12px; text-align: left;\">Update BIOS Settings for iLO server</td>\n",
    "      <td style=\"padding: 12px; text-align: left;\">PATCH</td>\n",
    "      <td style=\"padding: 12px; text-align: left;\"><a href=\"./bios/BIOS_changeSettings.ipynb\">BIOS_changeSettings</a></td>\n",
    "    </tr>\n",
    "    <tr style=\"background-color: #f2f2f2;\">\n",
    "      <td style=\"padding: 12px; text-align: left;\">BIOS Default</td>\n",
    "      <td style=\"padding: 12px; text-align: left;\">Update BIOS to default setting</td>\n",
    "      <td style=\"padding: 12px; text-align: left;\">POST</td>\n",
    "      <td style=\"padding: 12px; text-align: left;\"><a href=\"./bios/BIOS_revertToDefault.ipynb\">BIOS_revertToDefault</a></td>\n",
    "    </tr>\n",
    "      <tr onmouseover=\"this.style.boxShadow='0px 10px 20px rgba(0, 0, 0, 0.4)';\" onmouseout=\"this.style.boxShadow='0px 5px 10px rgba(0, 0, 0, 0.4)';\" style=\"padding: 10px;background-color: #fff;\">\n",
    "      <td style=\"padding: 12px; text-align: left; color: black;\">Set bios password</td>\n",
    "      <td style=\"padding: 12px; text-align: left;\">Change bios password for HPE iLO system</td>\n",
    "      <td style=\"padding: 12px; text-align: left;\">PATCH</td>\n",
    "      <td style=\"padding: 12px; text-align: left;\"><a href=\"./bios/set_bios_password.ipynb\">set_bios_password</a></td>\n",
    "    </tr>\n",
    "      <tr onmouseover=\"this.style.boxShadow='0px 10px 20px rgba(0, 0, 0, 0.4)';\" onmouseout=\"this.style.boxShadow='0px 5px 10px rgba(0, 0, 0, 0.4)';\" style=\"padding: 10px;background-color: #f2f2f2;\">\n",
    "      <td style=\"padding: 12px; text-align: left; color: black;\">Set bios ISCSI</td>\n",
    "      <td style=\"padding: 12px; text-align: left;\">Setting an ISCSI boot instance for HPE iLO systems</td>\n",
    "      <td style=\"padding: 12px; text-align: left;\">PATCH</td>\n",
    "      <td style=\"padding: 12px; text-align: left;\"><a href=\"./bios/set_bios_iscsi.ipynb\">set_bios_iscsi</a></td>\n",
    "    </tr>\n",
    "    <tr onmouseover=\"this.style.boxShadow='0px 10px 20px rgba(0, 0, 0, 0.4)';\" onmouseout=\"this.style.boxShadow='0px 5px 10px rgba(0, 0, 0, 0.4)';\" style=\"padding: 10px;background-color: #fff;\">\n",
    "      <td style=\"padding: 12px; text-align: left; color: black;\">Get base registry</td>\n",
    "      <td style=\"padding: 12px; text-align: left;\">Gathering base registry Data for HPE iLO Systems</td>\n",
    "      <td style=\"padding: 12px; text-align: left;\">GET</td>\n",
    "      <td style=\"padding: 12px; text-align: left;\"><a href=\"./bios/get_base_registry.ipynb\">get_base_registry</a></td>\n",
    "    </tr>\n",
    "    <tr onmouseover=\"this.style.boxShadow='0px 10px 20px rgba(0, 0, 0, 0.4)';\" onmouseout=\"this.style.boxShadow='0px 5px 10px rgba(0, 0, 0, 0.4)';\" style=\"padding: 10px;background-color: #f2f2f2;\">\n",
    "      <td style=\"padding: 12px; text-align: left;\">Get BIOS Settings</td>\n",
    "      <td style=\"padding: 12px; text-align: left;\">Retrieving bios settings from iLO servers</td>\n",
    "      <td style=\"padding: 12px; text-align: left;\">GET</td>\n",
    "      <td style=\"padding: 12px; text-align: left;\"><a href=\"./bios/get_bios_settings.ipynb\">get_bios_settings</a></td>\n",
    "    </tr>\n",
    "  </tbody>\n",
    "</table>\n"
   ]
  },
  {
   "cell_type": "markdown",
   "id": "b01ddc4e",
   "metadata": {},
   "source": [
    "<div></div>"
   ]
  },
  {
   "cell_type": "markdown",
   "id": "81721043",
   "metadata": {},
   "source": [
    "<h1 style=\"text-align:center; border-bottom: 1px solid black; padding-top:5px; padding-bottom:5px;\">Scripts related to Users and Sessions</h1>"
   ]
  },
  {
   "cell_type": "markdown",
   "id": "1f075a76",
   "metadata": {},
   "source": [
    "<table style=\"border-radius: 10px; background-color: #f9f9f9; border-collapse: collapse; width: 100%; max-width: 800px; margin: 0 auto; box-shadow: 4px 4px 8px rgba(0, 0, 0, 0.2), -4px -4px 8px rgba(255, 255, 255, 0.5); \">\n",
    "  <thead>\n",
    "    <tr style=\"background-color: #333; color: #fff;\">\n",
    "      <th style=\"padding: 12px; text-align: left;\">OPERATION</th>\n",
    "      <th style=\"padding: 12px; text-align: left;\">DESCRIPTION</th>\n",
    "      <th style=\"padding: 12px; text-align: left;\">METHOD</th>\n",
    "      <th style=\"padding: 12px; text-align: left;\">LOCATION</th>\n",
    "    </tr>\n",
    "  </thead>\n",
    "  <tbody>\n",
    "    <tr onmouseover=\"this.style.boxShadow='0px 10px 20px rgba(0, 0, 0, 0.4)';\" onmouseout=\"this.style.boxShadow='0px 5px 10px rgba(0, 0, 0, 0.4)';\" style=\"padding: 10px;background-color: #fff;\">\n",
    "      <td style=\"padding: 12px; text-align: left; color: black;\">Add User Account</td>\n",
    "      <td style=\"padding: 12px; text-align: left;\">Add new user account</td>\n",
    "      <td style=\"padding: 12px; text-align: left;\">POST</td>\n",
    "      <td style=\"padding: 12px; text-align: left;\"><a href=\"./users_and_sessions/add_user_account.ipynb\">add_user_account</a></td>\n",
    "    </tr>\n",
    "      <tr onmouseover=\"this.style.boxShadow='0px 10px 20px rgba(0, 0, 0, 0.4)';\" onmouseout=\"this.style.boxShadow='0px 5px 10px rgba(0, 0, 0, 0.4)';\" style=\"padding: 10px;background-color: #f2f2f2;\">\n",
    "      <td style=\"padding: 12px; text-align: left; color: black;\">Manually Managing Sessions With Redfish</td>\n",
    "      <td style=\"padding: 12px; text-align: left;\">creates a new session with an iLO server</td>\n",
    "      <td style=\"padding: 12px; text-align: left;\">POST</td>\n",
    "      <td style=\"padding: 12px; text-align: left;\"><a href=\"./users_and_sessions/sessions.ipynb\">sessions</a></td>\n",
    "    </tr>\n",
    "      <tr onmouseover=\"this.style.boxShadow='0px 10px 20px rgba(0, 0, 0, 0.4)';\" onmouseout=\"this.style.boxShadow='0px 5px 10px rgba(0, 0, 0, 0.4)';\" style=\"padding: 10px;background-color: #fff;\">\n",
    "      <td style=\"padding: 12px; text-align: left; color: black;\">Delete User Account</td>\n",
    "      <td style=\"padding: 12px; text-align: left;\">delete user account</td>\n",
    "      <td style=\"padding: 12px; text-align: left;\">DELETE</td>\n",
    "      <td style=\"padding: 12px; text-align: left;\"><a href=\"https://github.com/BhuvanSuresh/python-ilorest-library/blob/master/example_jupyter_notebooks/users_and_sessions/account_remove.ipynb\">delete_user_account</a></td>\n",
    "    </tr>\n",
    "      <tr style=\"background-color: #f2f2f2;\">\n",
    "      <td style=\"padding: 12px; text-align: left; color: black;\">Modify User Account</td>\n",
    "      <td style=\"padding: 12px; text-align: left;\">Modify an iLO user account on the server</td>\n",
    "      <td style=\"padding: 12px; text-align: left;\">GET,PATCH</td>\n",
    "      <td style=\"padding: 12px; text-align: left;\"><a href=\"https://github.com/BhuvanSuresh/python-ilorest-library/blob/master/example_jupyter_notebooks/users_and_sessions/modify_user_account.ipynb\">modify_user_account</a></td>\n",
    "    </tr>\n",
    "      \n",
    "  </tbody>\n",
    "</table>\n"
   ]
  },
  {
   "cell_type": "markdown",
   "id": "9f91683a",
   "metadata": {},
   "source": [
    "<div></div>"
   ]
  },
  {
   "cell_type": "markdown",
   "id": "5e16cdec",
   "metadata": {},
   "source": [
    "<h1 style=\"text-align:center; border-bottom: 1px solid black; padding-top:5px; padding-bottom:5px;\">Scripts related to Booting</h1>"
   ]
  },
  {
   "cell_type": "markdown",
   "id": "616fef86",
   "metadata": {},
   "source": [
    "<table style=\"border-radius: 10px; background-color: #f9f9f9; border-collapse: collapse; width: 100%; max-width: 800px; margin: 0 auto; box-shadow: 4px 4px 8px rgba(0, 0, 0, 0.2), -4px -4px 8px rgba(255, 255, 255, 0.5); \">\n",
    "  <thead>\n",
    "    <tr style=\"background-color: #333; color: #fff;\">\n",
    "      <th style=\"padding: 12px; text-align: left;\">OPERATION</th>\n",
    "      <th style=\"padding: 12px; text-align: left;\">DESCRIPTION</th>\n",
    "      <th style=\"padding: 12px; text-align: left;\">METHOD</th>\n",
    "      <th style=\"padding: 12px; text-align: left;\">LOCATION</th>\n",
    "    </tr>\n",
    "  </thead>\n",
    "  <tbody>\n",
    "    <tr onmouseover=\"this.style.boxShadow='0px 10px 20px rgba(0, 0, 0, 0.4)';\" onmouseout=\"this.style.boxShadow='0px 5px 10px rgba(0, 0, 0, 0.4)';\" style=\"padding: 10px;background-color: #fff;\">\n",
    "      <td style=\"padding: 12px; text-align: left; color: black;\">Change Boot Order</td>\n",
    "      <td style=\"padding: 12px; text-align: left;\">Change iLOs boot ordert</td>\n",
    "      <td style=\"padding: 12px; text-align: left;\">PATCH</td>\n",
    "      <td style=\"padding: 12px; text-align: left;\"><a href=\"./boot/change_boot_order.ipynb\">change_boot_order</a></td>\n",
    "    </tr>\n",
    "      <tr style=\"background-color: #f2f2f2;\">\n",
    "      <td style=\"padding: 12px; text-align: left; color: black;\">Change Temporary Boot Order</td>\n",
    "      <td style=\"padding: 12px; text-align: left;\">Change iLOs temporary boot ordert</td>\n",
    "      <td style=\"padding: 12px; text-align: left;\">PATCH</td>\n",
    "      <td style=\"padding: 12px; text-align: left;\"><a href=\"./boot/change_temp_boot_order.ipynb\">change_temp_boot_order</a></td>\n",
    "    </tr>\n",
    "       \n",
    "  </tbody>\n",
    "</table>\n"
   ]
  },
  {
   "cell_type": "markdown",
   "id": "317bbec4",
   "metadata": {},
   "source": [
    "<div></div>"
   ]
  },
  {
   "cell_type": "markdown",
   "id": "387dc1d0",
   "metadata": {},
   "source": [
    "<h1 style=\"text-align:center; border-bottom: 1px solid black; padding-top:5px; padding-bottom:5px;\">Scripts related to Enterprise Secure Key Manager (ESKM)</h1>"
   ]
  },
  {
   "cell_type": "markdown",
   "id": "5f1b24c1",
   "metadata": {},
   "source": [
    "<table style=\"border-radius: 10px; background-color: #f9f9f9; border-collapse: collapse; width: 100%; max-width: 800px; margin: 0 auto; box-shadow: 4px 4px 8px rgba(0, 0, 0, 0.2), -4px -4px 8px rgba(255, 255, 255, 0.5); \">\n",
    "  <thead>\n",
    "    <tr style=\"background-color: #333; color: #fff;\">\n",
    "      <th style=\"padding: 12px; text-align: left;\">OPERATION</th>\n",
    "      <th style=\"padding: 12px; text-align: left;\">DESCRIPTION</th>\n",
    "      <th style=\"padding: 12px; text-align: left;\">METHOD</th>\n",
    "      <th style=\"padding: 12px; text-align: left;\">LOCATION</th>\n",
    "    </tr>\n",
    "  </thead>\n",
    "  <tbody>\n",
    "    <tr onmouseover=\"this.style.boxShadow='0px 10px 20px rgba(0, 0, 0, 0.4)';\" onmouseout=\"this.style.boxShadow='0px 5px 10px rgba(0, 0, 0, 0.4)';\" style=\"padding: 10px;background-color: #fff;\">\n",
    "      <td style=\"padding: 12px; text-align: left; color: black;\">Test ESKM Connection</td>\n",
    "      <td style=\"padding: 12px; text-align: left;\">Script for testing connection to the ESKM system for HPE iLO systems</td>\n",
    "      <td style=\"padding: 12px; text-align: left;\">POST</td>\n",
    "      <td style=\"padding: 12px; text-align: left;\"><a href=\"./eskm/test_ESKM_connection.ipynb\">test_ESKM_connection</a></td>\n",
    "    </tr>\n",
    "    <tr onmouseover=\"this.style.boxShadow='0px 10px 20px rgba(0, 0, 0, 0.4)';\" onmouseout=\"this.style.boxShadow='0px 5px 10px rgba(0, 0, 0, 0.4)';\" style=\"padding: 10px;background-color: #f2f2f2;\">\n",
    "      <td style=\"padding: 12px; text-align: left; color: black;\">Gathering ESKM Data</td>\n",
    "      <td style=\"padding: 12px; text-align: left;\">Collecting ESKM (Enterprise Secure Key Manager) data for HPE iLO</td>\n",
    "      <td style=\"padding: 12px; text-align: left;\">GET</td>\n",
    "      <td style=\"padding: 12px; text-align: left;\"><a href=\"./eskm/get_ESKM.ipynb\">get_ESKM</a></td>\n",
    "    </tr>\n",
    "    <tr onmouseover=\"this.style.boxShadow='0px 10px 20px rgba(0, 0, 0, 0.4)';\" onmouseout=\"this.style.boxShadow='0px 5px 10px rgba(0, 0, 0, 0.4)';\" style=\"padding: 10px;background-color: #fff;\">\n",
    "      <td style=\"padding: 12px; text-align: left; color: black;\">Set ESKM Primary Key</td>\n",
    "      <td style=\"padding: 12px; text-align: left;\">Configure the ESKM key server for HPE iLO systems</td>\n",
    "      <td style=\"padding: 12px; text-align: left;\">POST</td>\n",
    "      <td style=\"padding: 12px; text-align: left;\"><a href=\"./eskm/set_ESKM_PrimaryKeyServer.ipynb\">set_ESKM_PrimaryKeyServer</a></td>\n",
    "    </tr>\n",
    "    <tr onmouseover=\"this.style.boxShadow='0px 10px 20px rgba(0, 0, 0, 0.4)';\" onmouseout=\"this.style.boxShadow='0px 5px 10px rgba(0, 0, 0, 0.4)';\" style=\"padding: 10px;background-color: #f2f2f2;\">\n",
    "      <td style=\"padding: 12px; text-align: left; color: black;\">Set ESKM Username and Password</td>\n",
    "      <td style=\"padding: 12px; text-align: left;\">Set the ESKM (Enterprise Secure Key Manager) username, password, and other configurations for HPE iLO systems</td>\n",
    "      <td style=\"padding: 12px; text-align: left;\">PATCH</td>\n",
    "      <td style=\"padding: 12px; text-align: left;\"><a href=\"./eskm/set_ESKM_username_pass.ipynb\">set_ESKM_username_pass</a></td>\n",
    "    </tr>\n",
    "      <tr onmouseover=\"this.style.boxShadow='0px 10px 20px rgba(0, 0, 0, 0.4)';\" onmouseout=\"this.style.boxShadow='0px 5px 10px rgba(0, 0, 0, 0.4)';\" style=\"padding: 10px;background-color: #fff;\">\n",
    "      <td style=\"padding: 12px; text-align: left; color: black;\">reset ESKM eventlog</td>\n",
    "      <td style=\"padding: 12px; text-align: left;\">reset the ESKM (Enterprise Secure Key Manager) event log using the iLO API</td>\n",
    "      <td style=\"padding: 12px; text-align: left;\">POST</td>\n",
    "      <td style=\"padding: 12px; text-align: left;\"><a href=\"https://github.com/BhuvanSuresh/python-ilorest-library/blob/master/example_jupyter_notebooks/eskm/reset_ESKM_eventlog.ipynb\">ESKM_eventlog</a></td>\n",
    "    </tr>\n",
    "  </tbody>\n",
    "</table>\n"
   ]
  },
  {
   "cell_type": "markdown",
   "id": "c53f260c",
   "metadata": {},
   "source": [
    "<div></div>"
   ]
  },
  {
   "cell_type": "markdown",
   "id": "acef9e30",
   "metadata": {},
   "source": [
    "<h1 style=\"text-align:center; border-bottom: 1px solid black; padding-top:5px; padding-bottom:5px;\">Scripts related to Firmware and Flashing</h1>"
   ]
  },
  {
   "cell_type": "markdown",
   "id": "bfe4eeac",
   "metadata": {},
   "source": [
    "<table style=\"border-radius: 10px; background-color: #f9f9f9; border-collapse: collapse; width: 100%; max-width: 800px; margin: 0 auto; box-shadow: 4px 4px 8px rgba(0, 0, 0, 0.2), -4px -4px 8px rgba(255, 255, 255, 0.5); \">\n",
    "  <thead>\n",
    "    <tr style=\"background-color: #333; color: #fff;\">\n",
    "      <th style=\"padding: 12px; text-align: left;\">OPERATION</th>\n",
    "      <th style=\"padding: 12px; text-align: left;\">DESCRIPTION</th>\n",
    "      <th style=\"padding: 12px; text-align: left;\">METHOD</th>\n",
    "      <th style=\"padding: 12px; text-align: left;\">LOCATION</th>\n",
    "    </tr>\n",
    "  </thead>\n",
    "  <tbody>\n",
    "    <tr onmouseover=\"this.style.boxShadow='0px 10px 20px rgba(0, 0, 0, 0.4)';\" onmouseout=\"this.style.boxShadow='0px 5px 10px rgba(0, 0, 0, 0.4)';\" style=\"padding: 10px;background-color: #fff;\">\n",
    "      <td style=\"padding: 12px; text-align: left; color: black;\">Upload Firmware to iLO repository</td>\n",
    "      <td style=\"padding: 12px; text-align: left;\">Script for uploading firmware to the iLO Repository for flashing</td>\n",
    "      <td style=\"padding: 12px; text-align: left;\">POST</td>\n",
    "      <td style=\"padding: 12px; text-align: left;\"><a href=\"./fw_info_and_flash/upload_firmware_to_iLO_repository.ipynb\">upload_firmware_to_iLO_repo</a></td>\n",
    "    </tr>\n",
    "      <tr style=\"background-color: #f2f2f2;\">\n",
    "      <td style=\"padding: 12px; text-align: left; color: black;\">Upload Firmware with associated COMPSIG file to iLO repository</td>\n",
    "      <td style=\"padding: 12px; text-align: left;\">Script for uploading a firmware component with a size less than\n",
    "32 GB, and associated Component Signature (compsig) signature file to the iLO Repository</td>\n",
    "      <td style=\"padding: 12px; text-align: left;\">POST</td>\n",
    "      <td style=\"padding: 12px; text-align: left;\"><a href=\"./fw_info_and_flash/upload_firmware_iLO_repository_with_COMPSIG.ipynb\">Upload_fw_iLO_Repo_COMPSIG</a></td>\n",
    "    </tr>\n",
    "      <tr onmouseover=\"this.style.boxShadow='0px 10px 20px rgba(0, 0, 0, 0.4)';\" onmouseout=\"this.style.boxShadow='0px 5px 10px rgba(0, 0, 0, 0.4)';\" style=\"padding: 10px;background-color: #fff;\">\n",
    "      <td style=\"padding: 12px; text-align: left; color: black;\">Update Firmware</td>\n",
    "      <td style=\"padding: 12px; text-align: left;\">Script for updating Firmware via HTTP URL</td>\n",
    "      <td style=\"padding: 12px; text-align: left;\">POST</td>\n",
    "      <td style=\"padding: 12px; text-align: left;\"><a href=\"./fw_info_and_flash/update_iLO_firmware.ipynb\">update_iLO_firmware</a></td>\n",
    "    </tr>\n",
    "      <tr style=\"background-color: #f2f2f2;\">\n",
    "      <td style=\"padding: 12px; text-align: left; color: black;\">View Firmware Inventory</td>\n",
    "      <td style=\"padding: 12px; text-align: left;\">Script for viewing the firmware inventory on HPE iLO systems</td>\n",
    "      <td style=\"padding: 12px; text-align: left;\">GET</td>\n",
    "      <td style=\"padding: 12px; text-align: left;\"><a href=\"./fw_info_and_flash/software_firmware_inventory.ipynb\">software_firmware_inventory</a></td>\n",
    "    </tr>\n",
    "       <tr style=\"background-color: #fff;\">\n",
    "      <td style=\"padding: 12px; text-align: left; color: black;\">Uploading Firmware to the iLO Repository For Flashing</td>\n",
    "      <td style=\"padding: 12px; text-align: left;\">uploads firmware to a specified location using the Redfish API and HTTP POST request</td>\n",
    "      <td style=\"padding: 12px; text-align: left;\">GET</td>\n",
    "      <td style=\"padding: 12px; text-align: left;\"><a href=\"./fw_info_and_flash/flash_firmware_by_uefi.ipynb\">software_firmware_inventory</a></td>\n",
    "    </tr>\n",
    "  </tbody>\n",
    "</table>\n"
   ]
  },
  {
   "cell_type": "markdown",
   "id": "7f3245b7",
   "metadata": {},
   "source": [
    "<div></div>"
   ]
  },
  {
   "cell_type": "markdown",
   "id": "774d4dc2",
   "metadata": {},
   "source": [
    "<h1 style=\"text-align:center; border-bottom: 1px solid black; padding-top:5px; padding-bottom:5px;\">Scripts related to iLO License</h1>"
   ]
  },
  {
   "cell_type": "markdown",
   "id": "6d7cc2f5",
   "metadata": {},
   "source": [
    "<table style=\"border-radius: 10px; background-color: #f9f9f9; border-collapse: collapse; width: 100%; max-width: 800px; margin: 0 auto; box-shadow: 4px 4px 8px rgba(0, 0, 0, 0.2), -4px -4px 8px rgba(255, 255, 255, 0.5); \">\n",
    "  <thead>\n",
    "    <tr style=\"background-color: #333; color: #fff;\">\n",
    "      <th style=\"padding: 12px; text-align: left;\">OPERATION</th>\n",
    "      <th style=\"padding: 12px; text-align: left;\">DESCRIPTION</th>\n",
    "      <th style=\"padding: 12px; text-align: left;\">METHOD</th>\n",
    "      <th style=\"padding: 12px; text-align: left;\">LOCATION</th>\n",
    "    </tr>\n",
    "  </thead>\n",
    "  <tbody>\n",
    "      <tr onmouseover=\"this.style.boxShadow='0px 10px 20px rgba(0, 0, 0, 0.4)';\" onmouseout=\"this.style.boxShadow='0px 5px 10px rgba(0, 0, 0, 0.4)';\" style=\"padding: 10px;background-color: #fff;\">\n",
    "      <td style=\"padding: 12px; text-align: left; color: black;\">Set License Key\t</td>\n",
    "      <td style=\"padding: 12px; text-align: left;\">Setting License Key</td>\n",
    "      <td style=\"padding: 12px; text-align: left;\">PATCH</td>\n",
    "      <td style=\"padding: 12px; text-align: left;\"><a href=\"./ilo_license/set_license_key.ipynb\">set_license_key</a></td>\n",
    "    </tr>\n",
    "     <tr onmouseover=\"this.style.boxShadow='0px 10px 20px rgba(0, 0, 0, 0.4)';\" onmouseout=\"this.style.boxShadow='0px 5px 10px rgba(0, 0, 0, 0.4)';\" style=\"padding: 10px;background-color: #f2f2f2;\">\n",
    "      <td style=\"padding: 12px; text-align: left; color: black;\">Get License Key</td>\n",
    "      <td style=\"padding: 12px; text-align: left;\">Retrieve iLO License Key for HPE iLO Systems</td>\n",
    "      <td style=\"padding: 12px; text-align: left;\">GET</td>\n",
    "      <td style=\"padding: 12px; text-align: left;\"><a href=\"./ilo_license/get_license_key.ipynb\">get_license_key</a></td>\n",
    "    </tr>\n",
    "      \n",
    "  </tbody>\n",
    "</table>\n"
   ]
  },
  {
   "cell_type": "markdown",
   "id": "87a754d8",
   "metadata": {},
   "source": [
    "<h1 style=\"text-align:center; border-bottom: 1px solid black; padding-top:5px; padding-bottom:5px;\">Scripts related to reset iLO</h1>"
   ]
  },
  {
   "cell_type": "markdown",
   "id": "7b37a713",
   "metadata": {},
   "source": [
    "<table style=\"border-radius: 10px; background-color: #f9f9f9; border-collapse: collapse; width: 100%; max-width: 800px; margin: 0 auto; box-shadow: 4px 4px 8px rgba(0, 0, 0, 0.2), -4px -4px 8px rgba(255, 255, 255, 0.5); \">\n",
    "  <thead>\n",
    "    <tr style=\"background-color: #333; color: #fff;\">\n",
    "      <th style=\"padding: 12px; text-align: left;\">OPERATION</th>\n",
    "      <th style=\"padding: 12px; text-align: left;\">DESCRIPTION</th>\n",
    "      <th style=\"padding: 12px; text-align: left;\">METHOD</th>\n",
    "      <th style=\"padding: 12px; text-align: left;\">LOCATION</th>\n",
    "    </tr>\n",
    "  </thead>\n",
    "  <tbody>\n",
    "      <tr onmouseover=\"this.style.boxShadow='0px 10px 20px rgba(0, 0, 0, 0.4)';\" onmouseout=\"this.style.boxShadow='0px 5px 10px rgba(0, 0, 0, 0.4)';\" style=\"padding: 10px;background-color: #fff;\">\n",
    "      <td style=\"padding: 12px; text-align: left; color: black;\">reset ilo</td>\n",
    "      <td style=\"padding: 12px; text-align: left;\">reset the ilo using the iLO API</td>\n",
    "      <td style=\"padding: 12px; text-align: left;\">POST</td>\n",
    "      <td style=\"padding: 12px; text-align: left;\"><a href=\"https://github.com/BhuvanSuresh/python-ilorest-library/blob/master/example_jupyter_notebooks/Reset%20Ilo/reset_ilo.ipynb\">reset_ilo</a></td>\n",
    "    </tr>\n",
    "     \n",
    "      \n",
    "  </tbody>\n",
    "</table>"
   ]
  },
  {
   "cell_type": "markdown",
   "id": "5d4473c5",
   "metadata": {},
   "source": [
    "<div></div>"
   ]
  },
  {
   "cell_type": "markdown",
   "id": "473638bc",
   "metadata": {},
   "source": [
    "<h1 style=\"text-align:center; border-bottom: 1px solid black; padding-top:5px; padding-bottom:5px;\">Scripts related to Virtual Media</h1>"
   ]
  },
  {
   "cell_type": "markdown",
   "id": "39e6d1c2",
   "metadata": {},
   "source": [
    "<table style=\"border-radius: 10px; background-color: #f9f9f9; border-collapse: collapse; width: 100%; max-width: 800px; margin: 0 auto; box-shadow: 4px 4px 8px rgba(0, 0, 0, 0.2), -4px -4px 8px rgba(255, 255, 255, 0.5); \">\n",
    "  <thead>\n",
    "    <tr style=\"background-color: #333; color: #fff;\">\n",
    "      <th style=\"padding: 12px; text-align: left;\">OPERATION</th>\n",
    "      <th style=\"padding: 12px; text-align: left;\">DESCRIPTION</th>\n",
    "      <th style=\"padding: 12px; text-align: left;\">METHOD</th>\n",
    "      <th style=\"padding: 12px; text-align: left;\">LOCATION</th>\n",
    "    </tr>\n",
    "  </thead>\n",
    "  <tbody>\n",
    "      <tr onmouseover=\"this.style.boxShadow='0px 10px 20px rgba(0, 0, 0, 0.4)';\" onmouseout=\"this.style.boxShadow='0px 5px 10px rgba(0, 0, 0, 0.4)';\" style=\"padding: 10px;background-color: #fff;\">\n",
    "      <td style=\"padding: 12px; text-align: left; color: black;\">Mount Virtual Media Iso\t</td>\n",
    "      <td style=\"padding: 12px; text-align: left;\">obtain the virtual media information. </td>\n",
    "      <td style=\"padding: 12px; text-align: left;\">PATCH</td>\n",
    "      <td style=\"padding: 12px; text-align: left;\"><a href=\"./virtual_media/mount_virtual_media_iso.ipynb\">mount_virtual_media_iso</a></td>\n",
    "    </tr>\n",
    "      \n",
    "  </tbody>\n",
    "</table>"
   ]
  },
  {
   "cell_type": "markdown",
   "id": "0299c78c",
   "metadata": {},
   "source": [
    "<div></div>"
   ]
  },
  {
   "cell_type": "markdown",
   "id": "4f1fc753",
   "metadata": {},
   "source": [
    "<h1 style=\"text-align:center; border-bottom: 1px solid black; padding-top:5px; padding-bottom:5px;\">Scripts related to SNMP</h1>"
   ]
  },
  {
   "cell_type": "markdown",
   "id": "2ff18cb9",
   "metadata": {},
   "source": [
    "<table style=\"border-radius: 10px; background-color: #f9f9f9; border-collapse: collapse; width: 100%; max-width: 800px; margin: 0 auto; box-shadow: 4px 4px 8px rgba(0, 0, 0, 0.2), -4px -4px 8px rgba(255, 255, 255, 0.5); \">\n",
    "  <thead>\n",
    "    <tr style=\"background-color: #333; color: #fff;\">\n",
    "      <th style=\"padding: 12px; text-align: left;\">OPERATION</th>\n",
    "      <th style=\"padding: 12px; text-align: left;\">DESCRIPTION</th>\n",
    "      <th style=\"padding: 12px; text-align: left;\">METHOD</th>\n",
    "      <th style=\"padding: 12px; text-align: left;\">LOCATION</th>\n",
    "    </tr>\n",
    "  </thead>\n",
    "  <tbody>\n",
    "    <tr onmouseover=\"this.style.boxShadow='0px 10px 20px rgba(0, 0, 0, 0.4)';\" onmouseout=\"this.style.boxShadow='0px 5px 10px rgba(0, 0, 0, 0.4)';\" style=\"padding: 10px;background-color: #fff;\">\n",
    "      <td style=\"padding: 12px; text-align: left; color: black;\">Configure SNMP</td>\n",
    "      <td style=\"padding: 12px; text-align: left;\">Configuring SNMP for HPE iLO systems</td>\n",
    "      <td style=\"padding: 12px; text-align: left;\">PATCH</td>\n",
    "      <td style=\"padding: 12px; text-align: left;\"><a href=\"./snmp/configure_snmp.ipynb\">configure_snmp</a></td>\n",
    "    </tr>\n",
    "    <tr onmouseover=\"this.style.boxShadow='0px 10px 20px rgba(0, 0, 0, 0.4)';\" onmouseout=\"this.style.boxShadow='0px 5px 10px rgba(0, 0, 0, 0.4)';\" style=\"padding: 10px;background-color: #f2f2f2;\">\n",
    "      <td style=\"padding: 12px; text-align: left; color: black;\">Configure SNMP trap source</td>\n",
    "      <td style=\"padding: 12px; text-align: left;\">Configuring SNMP trap source for HPE iLO systems</td>\n",
    "      <td style=\"padding: 12px; text-align: left;\">PATCH</td>\n",
    "      <td style=\"padding: 12px; text-align: left;\"><a href=\"./snmp/configure_snmp_trap_source.ipynb\">configure_snmp_trap_source</a></td>\n",
    "    </tr>\n",
    "      <tr onmouseover=\"this.style.boxShadow='0px 10px 20px rgba(0, 0, 0, 0.4)';\" onmouseout=\"this.style.boxShadow='0px 5px 10px rgba(0, 0, 0, 0.4)';\" style=\"padding: 10px;background-color: #fff;\">\n",
    "      <td style=\"padding: 12px; text-align: left; color: black;\">Set SNMP alert destination</td>\n",
    "      <td style=\"padding: 12px; text-align: left;\">Setting SNMP alert destination for HPE iLO systems</td>\n",
    "      <td style=\"padding: 12px; text-align: left;\">PATCH</td>\n",
    "      <td style=\"padding: 12px; text-align: left;\"><a href=\"./snmp/set_snmp_alert.ipynb\">set_snmp_alert</a></td>\n",
    "    </tr>\n",
    "  </tbody>\n",
    "</table>\n"
   ]
  },
  {
   "cell_type": "markdown",
   "id": "a184d9af",
   "metadata": {},
   "source": [
    "<div></div>"
   ]
  },
  {
   "cell_type": "markdown",
   "id": "e43c3e0c",
   "metadata": {},
   "source": [
    "<h1 style=\"text-align:center; border-bottom: 1px solid black; padding-top:5px; padding-bottom:5px;\">Scripts related to Smart Array Storage</h1>"
   ]
  },
  {
   "cell_type": "markdown",
   "id": "519adbf2",
   "metadata": {},
   "source": [
    "<table style=\"border-radius: 10px; background-color: #f9f9f9; border-collapse: collapse; width: 100%; max-width: 800px; margin: 0 auto; box-shadow: 4px 4px 8px rgba(0, 0, 0, 0.2), -4px -4px 8px rgba(255, 255, 255, 0.5); \">\n",
    "  <thead>\n",
    "    <tr style=\"background-color: #333; color: #fff;\">\n",
    "      <th style=\"padding: 12px; text-align: left;\">OPERATION</th>\n",
    "      <th style=\"padding: 12px; text-align: left;\">DESCRIPTION</th>\n",
    "      <th style=\"padding: 12px; text-align: left;\">METHOD</th>\n",
    "      <th style=\"padding: 12px; text-align: left;\">LOCATION</th>\n",
    "    </tr>\n",
    "  </thead>\n",
    "  <tbody>\n",
    "      <tr onmouseover=\"this.style.boxShadow='0px 10px 20px rgba(0, 0, 0, 0.4)';\" onmouseout=\"this.style.boxShadow='0px 5px 10px rgba(0, 0, 0, 0.4)';\" style=\"padding: 10px;background-color: #fff;\">\n",
    "      <td style=\"padding: 12px; text-align: left; color: black;\">Smart Array Encryption Settings On HPE ILO Systems\t</td>\n",
    "      <td style=\"padding: 12px; text-align: left;\">retrieves encryption settings for Smart Storage Array Controllers from a Redfish service.</td>\n",
    "      <td style=\"padding: 12px; text-align: left;\">PATCH</td>\n",
    "      <td style=\"padding: 12px; text-align: left;\"><a href=\"./smartarray_storage/get_SmartArray_EncryptionSettings.ipynb\">SmartArray_Encryption</a></td>\n",
    "    </tr>\n",
    "       <tr onmouseover=\"this.style.boxShadow='0px 10px 20px rgba(0, 0, 0, 0.4)';\" onmouseout=\"this.style.boxShadow='0px 5px 10px rgba(0, 0, 0, 0.4)';\" style=\"padding: 10px;background-color: #f2f2f2;\">\n",
    "      <td style=\"padding: 12px; text-align: left; color: black;\">Logic drive </td>\n",
    "      <td style=\"padding: 12px; text-align: left;\">Retrieves information about the smart array logical drive</td>\n",
    "      <td style=\"padding: 12px; text-align: left;\">GET</td>\n",
    "      <td style=\"padding: 12px; text-align: left;\"><a href=\"https://github.com/BhuvanSuresh/python-ilorest-library/blob/master/example_jupyter_notebooks/smartarray_storage/get_logical_drives.ipynb\">get_logical_drive</a></td>\n",
    "    </tr>\n",
    "      \n",
    "  </tbody>\n",
    "</table>"
   ]
  },
  {
   "cell_type": "markdown",
   "id": "33d2d8b7",
   "metadata": {},
   "source": [
    "<div></div>"
   ]
  },
  {
   "cell_type": "markdown",
   "id": "77acbc7f",
   "metadata": {},
   "source": [
    "<h1 style=\"text-align:center;  border-bottom: 1px solid black; padding-top:5px; padding-bottom:5px;\">Scripts related to Managing Server</h1>"
   ]
  },
  {
   "cell_type": "markdown",
   "id": "7dd28f1e",
   "metadata": {},
   "source": [
    "<table style=\"border-radius: 10px; background-color: #f9f9f9; border-collapse: collapse; width: 100%; max-width: 800px; margin: 0 auto; box-shadow: 4px 4px 8px rgba(0, 0, 0, 0.2), -4px -4px 8px rgba(255, 255, 255, 0.5); \">\n",
    "  <thead>\n",
    "    <tr style=\"background-color: #333; color: #fff;\">\n",
    "      <th style=\"padding: 12px; text-align: left;\">OPERATION</th>\n",
    "      <th style=\"padding: 12px; text-align: left;\">DESCRIPTION</th>\n",
    "      <th style=\"padding: 12px; text-align: left;\">METHOD</th>\n",
    "      <th style=\"padding: 12px; text-align: left;\">LOCATION</th>\n",
    "    </tr>\n",
    "  </thead>\n",
    "  <tbody>\n",
    "    <tr onmouseover=\"this.style.boxShadow='0px 10px 20px rgba(0, 0, 0, 0.4)';\" onmouseout=\"this.style.boxShadow='0px 5px 10px rgba(0, 0, 0, 0.4)';\" style=\"padding: 10px;background-color: #fff;\">\n",
    "      <td style=\"padding: 12px; text-align: left; color: black;\">Computer Details</td>\n",
    "      <td style=\"padding: 12px; text-align: left;\">Get all the available computer/hosts details in iLO\t</td>\n",
    "      <td style=\"padding: 12px; text-align: left;\">GET</td>\n",
    "      <td style=\"padding: 12px; text-align: left;\"><a href=\"./server_manager/computer_details.ipynb\">computer_details</a></td>\n",
    "    </tr>\n",
    "       <tr onmouseover=\"this.style.boxShadow='0px 10px 20px rgba(0, 0, 0, 0.4)';\" onmouseout=\"this.style.boxShadow='0px 5px 10px rgba(0, 0, 0, 0.4)';\" style=\"padding: 10px;background-color: #f2f2f2;\">\n",
    "      <td style=\"padding: 12px; text-align: left; color: black;\">Set Server Asset Tag</td>\n",
    "      <td style=\"padding: 12px; text-align: left;\">Setting server asset tag\t</td>\n",
    "      <td style=\"padding: 12px; text-align: left;\">PATCH</td>\n",
    "      <td style=\"padding: 12px; text-align: left;\"><a href=\"./server_manager/set_server_asset_tag.ipynb\">set_server_asset_tag</a></td>\n",
    "    </tr>\n",
    "       <tr onmouseover=\"this.style.boxShadow='0px 10px 20px rgba(0, 0, 0, 0.4)';\" onmouseout=\"this.style.boxShadow='0px 5px 10px rgba(0, 0, 0, 0.4)';\" style=\"padding: 10px;background-color: #fff;\">\n",
    "      <td style=\"padding: 12px; text-align: left; color: black;\">Set UID Light</td>\n",
    "      <td style=\"padding: 12px; text-align: left;\">Setting UID Light</td>\n",
    "      <td style=\"padding: 12px; text-align: left;\">PATCH</td>\n",
    "      <td style=\"padding: 12px; text-align: left;\"><a href=\"./server_manager/set_uid_light.ipynb\">set_uid_light</a></td>\n",
    "    </tr>\n",
    "       <tr onmouseover=\"this.style.boxShadow='0px 10px 20px rgba(0, 0, 0, 0.4)';\" onmouseout=\"this.style.boxShadow='0px 5px 10px rgba(0, 0, 0, 0.4)';\" style=\"padding: 10px;background-color: #f2f2f2;\">\n",
    "      <td style=\"padding: 12px; text-align: left; color: black;\">reset the server</td>\n",
    "      <td style=\"padding: 12px; text-align: left;\">reset the server using the ilo API</td>\n",
    "      <td style=\"padding: 12px; text-align: left;\">GET,POST</td>\n",
    "      <td style=\"padding: 12px; text-align: left;\"><a href=\"https://github.com/BhuvanSuresh/python-ilorest-library/blob/master/example_jupyter_notebooks/server_manager/reset_server.ipynb\">reset_server</a></td>\n",
    "    </tr>\n",
    "       <tr onmouseover=\"this.style.boxShadow='0px 10px 20px rgba(0, 0, 0, 0.4)';\" onmouseout=\"this.style.boxShadow='0px 5px 10px rgba(0, 0, 0, 0.4)';\" style=\"padding: 10px;background-color: #fff;\">\n",
    "      <td style=\"padding: 12px; text-align: left; color: black;\">Reboot the server</td>\n",
    "      <td style=\"padding: 12px; text-align: left;\">reboot the server using the iLO API</td>\n",
    "      <td style=\"padding: 12px; text-align: left;\">GET,POST</td>\n",
    "      <td style=\"padding: 12px; text-align: left;\"><a href=\"https://github.com/BhuvanSuresh/python-ilorest-library/blob/master/example_jupyter_notebooks/server_manager/reboot_server.ipynb\">reboot_server</a></td>\n",
    "    </tr>\n",
    "  </tbody>\n",
    "</table>\n"
   ]
  },
  {
   "cell_type": "markdown",
   "id": "0528100d",
   "metadata": {},
   "source": [
    "<div></div>"
   ]
  },
  {
   "cell_type": "markdown",
   "id": "60ecf170",
   "metadata": {},
   "source": [
    "<h1 style=\"text-align:center; border-bottom: 1px solid black; padding-top:5px; padding-bottom:5px;\">Scripts related to Security Certificate</h1>"
   ]
  },
  {
   "cell_type": "markdown",
   "id": "df148ae0",
   "metadata": {},
   "source": [
    "<table style=\"border-radius: 10px; background-color: #f9f9f9; border-collapse: collapse; width: 100%; max-width: 800px; margin: 0 auto; box-shadow: 4px 4px 8px rgba(0, 0, 0, 0.2), -4px -4px 8px rgba(255, 255, 255, 0.5); \">\n",
    "  <thead>\n",
    "    <tr style=\"background-color: #333; color: #fff;\">\n",
    "      <th style=\"padding: 12px; text-align: left;\">OPERATION</th>\n",
    "      <th style=\"padding: 12px; text-align: left;\">DESCRIPTION</th>\n",
    "      <th style=\"padding: 12px; text-align: left;\">METHOD</th>\n",
    "      <th style=\"padding: 12px; text-align: left;\">LOCATION</th>\n",
    "    </tr>\n",
    "  </thead>\n",
    "  <tbody>\n",
    "      <tr onmouseover=\"this.style.boxShadow='0px 10px 20px rgba(0, 0, 0, 0.4)';\" onmouseout=\"this.style.boxShadow='0px 5px 10px rgba(0, 0, 0, 0.4)';\" style=\"padding: 10px;background-color: #fff;\">\n",
    "      <td style=\"padding: 12px; text-align: left; color: black;\">Enable_Secure_Boot\t</td>\n",
    "      <td style=\"padding: 12px; text-align: left;\">obtain the secure boot information</td>\n",
    "      <td style=\"padding: 12px; text-align: left;\">PATCH</td>\n",
    "      <td style=\"padding: 12px; text-align: left;\"><a href=\"./security_certificate/enable_secure_boot.ipynb\">set_license_key</a></td>\n",
    "    </tr>\n",
    "      <tr onmouseover=\"this.style.boxShadow='0px 10px 20px rgba(0, 0, 0, 0.4)';\" onmouseout=\"this.style.boxShadow='0px 5px 10px rgba(0, 0, 0, 0.4)';\" style=\"padding: 10px;background-color: #f2f2f2;\">\n",
    "      <td style=\"padding: 12px; text-align: left; color: black;\">Generating a certificate signing request for HPE iLO systems¶</td>\n",
    "      <td style=\"padding: 12px; text-align: left;\">using resource_instances variable to obtain information about the resource directory by using get_resource_directory module.</td>\n",
    "      <td style=\"padding: 12px; text-align: left;\">PATCH</td>\n",
    "      <td style=\"padding: 12px; text-align: left;\"><a href=\"./security_certificate/generate_csr.ipynb\">set_license_key</a></td>\n",
    "    </tr>\n",
    "      <tr onmouseover=\"this.style.boxShadow='0px 10px 20px rgba(0, 0, 0, 0.4)';\" onmouseout=\"this.style.boxShadow='0px 5px 10px rgba(0, 0, 0, 0.4)';\" style=\"padding: 10px;background-color: #fff;\">\n",
    "      <td style=\"padding: 12px; text-align: left; color: black;\">Issusing the certificate </td>\n",
    "      <td style=\"padding: 12px; text-align: left;\">import an SSL certificate to the iLO</td>\n",
    "      <td style=\"padding: 12px; text-align: left;\">Post</td>\n",
    "      <td style=\"padding: 12px; text-align: left;\"><a href=\"https://github.com/BhuvanSuresh/python-ilorest-library/blob/master/example_jupyter_notebooks/security_certificate/import_ssl.ipynb\">import_ssl</a></td>\n",
    "    </tr>\n",
    "     \n",
    "  </tbody>\n",
    "</table>\n"
   ]
  },
  {
   "cell_type": "markdown",
   "id": "3a961c65",
   "metadata": {},
   "source": [
    "<div></div>"
   ]
  },
  {
   "cell_type": "markdown",
   "id": "d6e78323",
   "metadata": {},
   "source": [
    "<h1 style=\"text-align:center; border-bottom: 1px solid black; padding-top:5px; padding-bottom:5px;\">Scripts related to NTP and Timezone</h1>"
   ]
  },
  {
   "cell_type": "markdown",
   "id": "cf265e66",
   "metadata": {},
   "source": [
    "<table style=\"border-radius: 10px; background-color: #f9f9f9; border-collapse: collapse; width: 100%; max-width: 800px; margin: 0 auto; box-shadow: 4px 4px 8px rgba(0, 0, 0, 0.2), -4px -4px 8px rgba(255, 255, 255, 0.5); \">\n",
    "  <thead>\n",
    "    <tr style=\"background-color: #333; color: #fff;\">\n",
    "      <th style=\"padding: 12px; text-align: left;\">OPERATION</th>\n",
    "      <th style=\"padding: 12px; text-align: left;\">DESCRIPTION</th>\n",
    "      <th style=\"padding: 12px; text-align: left;\">METHOD</th>\n",
    "      <th style=\"padding: 12px; text-align: left;\">LOCATION</th>\n",
    "    </tr>\n",
    "  </thead>\n",
    "  <tbody>\n",
    "    <tr onmouseover=\"this.style.boxShadow='0px 10px 20px rgba(0, 0, 0, 0.4)';\" onmouseout=\"this.style.boxShadow='0px 5px 10px rgba(0, 0, 0, 0.4)';\" style=\"padding: 10px;background-color: #fff;\">\n",
    "      <td style=\"padding: 12px; text-align: left; color: black;\">Set iLO NTP Server</td>\n",
    "      <td style=\"padding: 12px; text-align: left;\">Setting NTP Servers for HPE iLO Systems</td>\n",
    "      <td style=\"padding: 12px; text-align: left;\">PATCH</td>\n",
    "      <td style=\"padding: 12px; text-align: left;\"><a href=\"./ntp_timezone/set_ilo_ntp_servers.ipynb\">set_ilo_ntp_servers</a></td>\n",
    "    </tr>\n",
    "    <tr onmouseover=\"this.style.boxShadow='0px 10px 20px rgba(0, 0, 0, 0.4)';\" onmouseout=\"this.style.boxShadow='0px 5px 10px rgba(0, 0, 0, 0.4)';\" style=\"padding: 10px;background-color: #f2f2f2;\">\n",
    "      <td style=\"padding: 12px; text-align: left; color: black;\">Set iLO Timezone</td>\n",
    "      <td style=\"padding: 12px; text-align: left;\">Setting the timezone for HPE iLO systems</td>\n",
    "      <td style=\"padding: 12px; text-align: left;\">PATCH</td>\n",
    "      <td style=\"padding: 12px; text-align: left;\"><a href=\"./ntp_timezone/set_ilo_ntp_timezone.ipynb\">set_ilo_ntp_timezone</a></td>\n",
    "    </tr>\n",
    "      <tr onmouseover=\"this.style.boxShadow='0px 10px 20px rgba(0, 0, 0, 0.4)';\" onmouseout=\"this.style.boxShadow='0px 5px 10px rgba(0, 0, 0, 0.4)';\" style=\"padding: 10px;background-color: #fff;\">\n",
    "      <td style=\"padding: 12px; text-align: left; color: black;\">Enable Ntp Servers </td>\n",
    "      <td style=\"padding: 12px; text-align: left;\">enable NTP servers for HPE ilo systems</td>\n",
    "      <td style=\"padding: 12px; text-align: left;\">PATCH</td>\n",
    "      <td style=\"padding: 12px; text-align: left;\"><a href=\"./ntp_timezone/enabling_ntp_server.ipynb\">enabling_ntp_server</a></td>\n",
    "    </tr>\n",
    "    </tbody>\n",
    "    </table>"
   ]
  },
  {
   "cell_type": "markdown",
   "id": "d3afe833",
   "metadata": {},
   "source": [
    "<div></div>"
   ]
  },
  {
   "cell_type": "markdown",
   "id": "57663508",
   "metadata": {},
   "source": [
    "<h1 style=\"text-align:center; border-bottom: 1px solid black; padding-top:5px; padding-bottom:5px;\">Scripts related to Network and NIC</h1>"
   ]
  },
  {
   "cell_type": "markdown",
   "id": "fb76ce7b",
   "metadata": {},
   "source": [
    "<table style=\"border-radius: 10px; background-color: #f9f9f9; border-collapse: collapse; width: 100%; max-width: 800px; margin: 0 auto; box-shadow: 4px 4px 8px rgba(0, 0, 0, 0.2), -4px -4px 8px rgba(255, 255, 255, 0.5); \">\n",
    "  <thead>\n",
    "    <tr style=\"background-color: #333; color: #fff;\">\n",
    "      <th style=\"padding: 12px; text-align: left;\">OPERATION</th>\n",
    "      <th style=\"padding: 12px; text-align: left;\">DESCRIPTION</th>\n",
    "      <th style=\"padding: 12px; text-align: left;\">METHOD</th>\n",
    "      <th style=\"padding: 12px; text-align: left;\">LOCATION</th>\n",
    "    </tr>\n",
    "  </thead>\n",
    "  <tbody>\n",
    "    <tr onmouseover=\"this.style.boxShadow='0px 10px 20px rgba(0, 0, 0, 0.4)';\" onmouseout=\"this.style.boxShadow='0px 5px 10px rgba(0, 0, 0, 0.4)';\" style=\"padding: 10px;background-color: #fff;\">\n",
    "      <td style=\"padding: 12px; text-align: left; color: black;\">Get iLO IP</td>\n",
    "      <td style=\"padding: 12px; text-align: left;\">Retrieve the IP address of an HPE iLO server </td>\n",
    "      <td style=\"padding: 12px; text-align: left;\">GET</td>\n",
    "      <td style=\"padding: 12px; text-align: left;\"><a href=\"./nic_network/get_ilo_ip.ipynb\">get_ilo_ip</a></td>\n",
    "    </tr>\n",
    "      <tr onmouseover=\"this.style.boxShadow='0px 10px 20px rgba(0, 0, 0, 0.4)';\" onmouseout=\"this.style.boxShadow='0px 5px 10px rgba(0, 0, 0, 0.4)';\" style=\"padding: 10px;background-color: #f2f2f2;\">\n",
    "      <td style=\"padding: 12px; text-align: left; color: black;\">Get iLO nic</td>\n",
    "      <td style=\"padding: 12px; text-align: left;\">Retrieve the network interface card (NIC) configuration of the iLO server.</td>\n",
    "      <td style=\"padding: 12px; text-align: left;\">PATCH</td>\n",
    "      <td style=\"padding: 12px; text-align: left;\"><a href=\"./nic_network/get_ilo_nic.ipynb\">get_ilo_nic</a></td>\n",
    "    </tr>\n",
    "    <tr onmouseover=\"this.style.boxShadow='0px 10px 20px rgba(0, 0, 0, 0.4)';\" onmouseout=\"this.style.boxShadow='0px 5px 10px rgba(0, 0, 0, 0.4)';\" style=\"padding: 10px;background-color: #fff;\">\n",
    "      <td style=\"padding: 12px; text-align: left; color: black;\">Set Ethernet Management</td>\n",
    "      <td style=\"padding: 12px; text-align: left;\">Set the static IP configuration for the Manager ethernet interface of an HPE iLO system</td>\n",
    "      <td style=\"padding: 12px; text-align: left;\">GET</td>\n",
    "      <td style=\"padding: 12px; text-align: left;\"><a href=\"./nic_network/set_ethernet_management.ipynb\">set_ethernet_management</a></td>\n",
    "    </tr>\n",
    "      <tr onmouseover=\"this.style.boxShadow='0px 10px 20px rgba(0, 0, 0, 0.4)';\" onmouseout=\"this.style.boxShadow='0px 5px 10px rgba(0, 0, 0, 0.4)';\" style=\"padding: 10px;background-color: #f2f2f2;\">\n",
    "      <td style=\"padding: 12px; text-align: left; color: black;\">Find ilo Mac Address</td>\n",
    "      <td style=\"padding: 12px; text-align: left;\">finding ilo mac address related information</td>\n",
    "      <td style=\"padding: 12px; text-align: left;\">GET</td>\n",
    "      <td style=\"padding: 12px; text-align: left;\"><a href=\"./nic_network/find_ilo_mac_address.ipynb\">find_ilo_mac_address</a></td>\n",
    "    </tr>\n",
    "      <tr onmouseover=\"this.style.boxShadow='0px 10px 20px rgba(0, 0, 0, 0.4)';\" onmouseout=\"this.style.boxShadow='0px 5px 10px rgba(0, 0, 0, 0.4)';\" style=\"padding: 10px;background-color: #fff;\">\n",
    "      <td style=\"padding: 12px; text-align: left; color: black;\">Setting the active Manager NIC</td>\n",
    "      <td style=\"padding: 12px; text-align: left;\">used to enable/disable Ethernet interfaces on an iLO</td>\n",
    "      <td style=\"padding: 12px; text-align: left;\">GET</td>\n",
    "      <td style=\"padding: 12px; text-align: left;\"><a href=\"./nic_network/set_active_ilo_nic.ipynb\">get_license_key</a></td>\n",
    "    </tr>\n",
    "</tbody>"
   ]
  },
  {
   "cell_type": "markdown",
   "id": "7cea8664",
   "metadata": {},
   "source": [
    "<div></div>"
   ]
  },
  {
   "cell_type": "markdown",
   "id": "456e00fb",
   "metadata": {},
   "source": [
    "<h1 style=\"text-align:center; border-bottom: 1px solid black; padding-top:5px; padding-bottom:5px;\">Scripts related to AHS, Syslog and IML</h1>"
   ]
  },
  {
   "cell_type": "markdown",
   "id": "c073eebe",
   "metadata": {},
   "source": [
    "<table style=\"border-radius: 10px; background-color: #f9f9f9; border-collapse: collapse; width: 100%; max-width: 800px; margin: 0 auto; box-shadow: 4px 4px 8px rgba(0, 0, 0, 0.2), -4px -4px 8px rgba(255, 255, 255, 0.5); \">\n",
    "  <thead>\n",
    "    <tr style=\"background-color: #333; color: #fff;\">\n",
    "      <th style=\"padding: 12px; text-align: left;\">OPERATION</th>\n",
    "      <th style=\"padding: 12px; text-align: left;\">DESCRIPTION</th>\n",
    "      <th style=\"padding: 12px; text-align: left;\">METHOD</th>\n",
    "      <th style=\"padding: 12px; text-align: left;\">LOCATION</th>\n",
    "    </tr>\n",
    "  </thead>\n",
    "  <tbody>\n",
    "    <tr onmouseover=\"this.style.boxShadow='0px 10px 20px rgba(0, 0, 0, 0.4)';\" onmouseout=\"this.style.boxShadow='0px 5px 10px rgba(0, 0, 0, 0.4)';\" style=\"padding: 10px;background-color: #fff;\">\n",
    "      <td style=\"padding: 12px; text-align: left; color: black;\">Clear AHS data</td>\n",
    "      <td style=\"padding: 12px; text-align: left;\">Clear active health state data of iLO server</td>\n",
    "      <td style=\"padding: 12px; text-align: left;\">DELETE</td>\n",
    "      <td style=\"padding: 12px; text-align: left;\"><a href=\"./ahs_syslog_iml/clear_ahs_data.ipynb\">clear_ahs_data</a></td>\n",
    "    </tr>\n",
    "      <tr onmouseover=\"this.style.boxShadow='0px 10px 20px rgba(0, 0, 0, 0.4)';\" onmouseout=\"this.style.boxShadow='0px 5px 10px rgba(0, 0, 0, 0.4)';\" style=\"padding: 10px;background-color: #f2f2f2;\">\n",
    "      <td style=\"padding: 12px; text-align: left; color: black;\">Set remote syslog server\t</td>\n",
    "      <td style=\"padding: 12px; text-align: left;\">Setting Remote syslog Server for an HPE iLO management processor.</td>\n",
    "      <td style=\"padding: 12px; text-align: left;\">PATCH</td>\n",
    "      <td style=\"padding: 12px; text-align: left;\"><a href=\"./ahs_syslog_iml/set_syslogserver.ipynb\">set_syslogserver</a></td>\n",
    "    </tr>\n",
    "      <tr onmouseover=\"this.style.boxShadow='0px 10px 20px rgba(0, 0, 0, 0.4)';\" onmouseout=\"this.style.boxShadow='0px 5px 10px rgba(0, 0, 0, 0.4)';\" style=\"padding: 10px;background-color: #fff;\">\n",
    "      <td style=\"padding: 12px; text-align: left; color: black;\">Clear iLO IEL IML log\t</td>\n",
    "      <td style=\"padding: 12px; text-align: left;\">Clearing out the iLO event log and management log at server side</td>\n",
    "      <td style=\"padding: 12px; text-align: left;\">DELETE</td>\n",
    "      <td style=\"padding: 12px; text-align: left;\"><a href=\"./ahs_syslog_iml/clear_ilo_iel_iml_log.ipynb\">clear_ilo_iel_iml_log</a></td>\n",
    "    </tr>\n",
    "    <tr onmouseover=\"this.style.boxShadow='0px 10px 20px rgba(0, 0, 0, 0.4)';\" onmouseout=\"this.style.boxShadow='0px 5px 10px rgba(0, 0, 0, 0.4)';\" style=\"padding: 10px;background-color: #f2f2f2;\">\n",
    "      <td style=\"padding: 12px; text-align: left; color: black;\">Get AHS Data</td>\n",
    "      <td style=\"padding: 12px; text-align: left;\">Collecting Active Health System data of iLO systems.</td>\n",
    "      <td style=\"padding: 12px; text-align: left;\">GET</td>\n",
    "      <td style=\"padding: 12px; text-align: left;\"><a href=\"./ahs_syslog_iml/get_ahs_data.ipynb\">get_ahs_data</a></td>\n",
    "    </tr>\n",
    "  </tbody>\n",
    "</table>"
   ]
  },
  {
   "cell_type": "markdown",
   "id": "594b46a2",
   "metadata": {},
   "source": [
    "<div></div>"
   ]
  },
  {
   "cell_type": "markdown",
   "id": "7d88adab",
   "metadata": {},
   "source": [
    "<h1 style=\"text-align:center; border-bottom: 1px solid black; padding-top:5px; padding-bottom:5px;\">Scripts related to Redfish operation and utility</h1>"
   ]
  },
  {
   "cell_type": "markdown",
   "id": "71299947",
   "metadata": {},
   "source": [
    "<table style=\"border-radius: 10px; background-color: #f9f9f9; border-collapse: collapse; width: 100%; max-width: 800px; margin: 0 auto; box-shadow: 4px 4px 8px rgba(0, 0, 0, 0.2), -4px -4px 8px rgba(255, 255, 255, 0.5); \">\n",
    "  <thead>\n",
    "    <tr style=\"background-color: #333; color: #fff;\">\n",
    "      <th style=\"padding: 12px; text-align: left;\">OPERATION</th>\n",
    "      <th style=\"padding: 12px; text-align: left;\">DESCRIPTION</th>\n",
    "      <th style=\"padding: 12px; text-align: left;\">METHOD</th>\n",
    "      <th style=\"padding: 12px; text-align: left;\">LOCATION</th>\n",
    "    </tr>\n",
    "  </thead>\n",
    "  <tbody>\n",
    "      <tr onmouseover=\"this.style.boxShadow='0px 10px 20px rgba(0, 0, 0, 0.4)';\" onmouseout=\"this.style.boxShadow='0px 5px 10px rgba(0, 0, 0, 0.4)';\" style=\"padding: 10px;background-color: #fff;\">\n",
    "      <td style=\"padding: 12px; text-align: left; color: black;\">Quickstart Redfish</td>\n",
    "      <td style=\"padding: 12px; text-align: left;\">Interact with iLO using REDFISH for system information </td>\n",
    "      <td style=\"padding: 12px; text-align: left;\">GET</td>\n",
    "      <td style=\"padding: 12px; text-align: left;\"><a href=\"https://github.com/BhuvanSuresh/python-ilorest-library/blob/master/example_jupyter_notebooks/redfish%20operation%20and%20utility/quickstart_redfish.ipynb\">quickstart_redfish</a></td>\n",
    "      </tr>\n",
    "      <tr onmouseover=\"this.style.boxShadow='0px 10px 20px rgba(0, 0, 0, 0.4)';\" onmouseout=\"this.style.boxShadow='0px 5px 10px rgba(0, 0, 0, 0.4)';\" style=\"padding: 10px;background-color: #f2f2f2;\">\n",
    "      <td style=\"padding: 12px; text-align: left; color: black;\">ilorest_util</td>\n",
    "      <td style=\"padding: 12px; text-align: left;\">Retrieves the resource directory from the server and Determines the generation and version of the iLO</td>\n",
    "      <td style=\"padding: 12px; text-align: left;\">GET</td>\n",
    "      <td style=\"padding: 12px; text-align: left;\"><a href=\"https://github.com/BhuvanSuresh/python-ilorest-library/blob/master/example_jupyter_notebooks/redfish%20operation%20and%20utility/ilorest_util.ipynb\">ilorest_util</a></td>\n",
    "    </tr>\n",
    "      \n",
    "  </tbody>\n",
    "</table>"
   ]
  },
  {
   "cell_type": "markdown",
   "id": "9dec363f",
   "metadata": {},
   "source": [
    "<h1 style=\"text-align:center; border-bottom: 1px solid black; padding-top:5px; padding-bottom:5px;\">Scripts related to Power</h1>"
   ]
  },
  {
   "cell_type": "markdown",
   "id": "b5fa53d4",
   "metadata": {},
   "source": [
    "<table style=\"border-radius: 10px; background-color: #f9f9f9; border-collapse: collapse; width: 100%; max-width: 800px; margin: 0 auto; box-shadow: 4px 4px 8px rgba(0, 0, 0, 0.2), -4px -4px 8px rgba(255, 255, 255, 0.5); \">\n",
    "  <thead>\n",
    "    <tr style=\"background-color: #333; color: #fff;\">\n",
    "      <th style=\"padding: 12px; text-align: left;\">OPERATION</th>\n",
    "      <th style=\"padding: 12px; text-align: left;\">DESCRIPTION</th>\n",
    "      <th style=\"padding: 12px; text-align: left;\">METHOD</th>\n",
    "      <th style=\"padding: 12px; text-align: left;\">LOCATION</th>\n",
    "    </tr>\n",
    "  </thead>\n",
    "  <tbody>\n",
    "    <tr onmouseover=\"this.style.boxShadow='0px 10px 20px rgba(0, 0, 0, 0.4)';\" onmouseout=\"this.style.boxShadow='0px 5px 10px rgba(0, 0, 0, 0.4)';\" style=\"padding: 10px;background-color: #fff;\">\n",
    "      <td style=\"padding: 12px; text-align: left; color: black;\">Get Power Metrics Average</td>\n",
    "      <td style=\"padding: 12px; text-align: left;\">Script for gathering the power metrics average on HPE iLO systems</td>\n",
    "      <td style=\"padding: 12px; text-align: left;\">GET</td>\n",
    "      <td style=\"padding: 12px; text-align: left;\"><a href=\"./power/get_powermetrics_average.ipynb\">get_powermetrics_average</a></td>\n",
    "    </tr>\n",
    "  </tbody>\n",
    "</table>\n"
   ]
  },
  {
   "cell_type": "markdown",
   "id": "8d49853c",
   "metadata": {},
   "source": [
    "<div></div>"
   ]
  },
  {
   "cell_type": "markdown",
   "id": "5b445d67",
   "metadata": {},
   "source": [
    "<div></div>"
   ]
  },
  {
   "cell_type": "markdown",
   "id": "ecd072de",
   "metadata": {},
   "source": [
    "<h1 style=\"text-align:center; border-bottom: 1px solid black; padding-top:5px; padding-bottom:5px;\">Miscellaneous Scripts</h1>"
   ]
  },
  {
   "cell_type": "markdown",
   "id": "87b872fd",
   "metadata": {},
   "source": [
    "<table style=\"border-radius: 10px; background-color: #f9f9f9; border-collapse: collapse; width: 100%; max-width: 800px; margin: 0 auto; box-shadow: 4px 4px 8px rgba(0, 0, 0, 0.2), -4px -4px 8px rgba(255, 255, 255, 0.5); \">\n",
    "  <thead>\n",
    "    <tr style=\"background-color: #333; color: #fff;\">\n",
    "      <th style=\"padding: 12px; text-align: left;\">OPERATION</th>\n",
    "      <th style=\"padding: 12px; text-align: left;\">DESCRIPTION</th>\n",
    "      <th style=\"padding: 12px; text-align: left;\">METHOD</th>\n",
    "      <th style=\"padding: 12px; text-align: left;\">LOCATION</th>\n",
    "    </tr>\n",
    "  </thead>\n",
    "  <tbody>\n",
    "    <tr onmouseover=\"this.style.boxShadow='0px 10px 20px rgba(0, 0, 0, 0.4)';\" onmouseout=\"this.style.boxShadow='0px 5px 10px rgba(0, 0, 0, 0.4)';\" style=\"padding: 10px;background-color: #fff;\">\n",
    "      <td style=\"padding: 12px; text-align: left; color: black;\">Example Data Resopnses</td>\n",
    "      <td style=\"padding: 12px; text-align: left;\">Example Script for expanding data responses</td>\n",
    "      <td style=\"padding: 12px; text-align: left;\">GET</td>\n",
    "      <td style=\"padding: 12px; text-align: left;\"><a href=\"./miscellaneous/expand_data.ipynb\">expand_data</a></td>\n",
    "    </tr>\n",
    "      <tr onmouseover=\"this.style.boxShadow='0px 10px 20px rgba(0, 0, 0, 0.4)';\" onmouseout=\"this.style.boxShadow='0px 5px 10px rgba(0, 0, 0, 0.4)';\" style=\"padding: 10px;background-color: #f2f2f2;\">\n",
    "      <td style=\"padding: 12px; text-align: left; color: black;\">System Schema Data</td>\n",
    "      <td style=\"padding: 12px; text-align: left;\">retrieves the URI for the root JSON schema from the Redfish service object (</td>\n",
    "      <td style=\"padding: 12px; text-align: left;\">GET</td>\n",
    "      <td style=\"padding: 12px; text-align: left;\"><a href=\"./miscellaneous/get_schema.ipynb\">get_schema.ipynb</a></td>\n",
    "    </tr>\n",
    "       <tr onmouseover=\"this.style.boxShadow='0px 10px 20px rgba(0, 0, 0, 0.4)';\" onmouseout=\"this.style.boxShadow='0px 5px 10px rgba(0, 0, 0, 0.4)';\" style=\"padding: 10px;background-color: #fff;\">\n",
    "      <td style=\"padding: 12px; text-align: left; color: black;\">Resource directory</td>\n",
    "      <td style=\"padding: 12px; text-align: left;\">Retrieves the resource directory from an HPE server and also determines the generation and version of an iLO system</td>\n",
    "      <td style=\"padding: 12px; text-align: left;\">GET</td>\n",
    "      <td style=\"padding: 12px; text-align: left;\"><a href=\"https://github.com/BhuvanSuresh/python-ilorest-library/blob/master/example_jupyter_notebooks/miscellaneous/get_resource_directory.ipynb\">resource_directory</a></td>\n",
    "    </tr>\n",
    "  </tbody>\n",
    "</table>"
   ]
  },
  {
   "cell_type": "markdown",
   "id": "da54fe5d",
   "metadata": {},
   "source": [
    "<div></div>"
   ]
  }
 ],
 "metadata": {
  "kernelspec": {
   "display_name": "Python 3 (ipykernel)",
   "language": "python",
   "name": "python3"
  },
  "language_info": {
   "codemirror_mode": {
    "name": "ipython",
    "version": 3
   },
   "file_extension": ".py",
   "mimetype": "text/x-python",
   "name": "python",
   "nbconvert_exporter": "python",
   "pygments_lexer": "ipython3",
   "version": "3.9.7"
  }
 },
 "nbformat": 4,
 "nbformat_minor": 5
}
