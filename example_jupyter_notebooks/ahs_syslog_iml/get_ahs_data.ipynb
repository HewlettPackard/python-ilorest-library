{
 "cells": [
  {
   "cell_type": "markdown",
   "id": "b765efae",
   "metadata": {
    "tags": []
   },
   "source": [
    "<h1 style=\"text-align:center;\">Gathering AHS Data for HPE iLO Systems</h1>"
   ]
  },
  {
   "cell_type": "markdown",
   "id": "63436786",
   "metadata": {},
   "source": [
    "<div class=\"alert  alert-block  alert-info\" style=\"border-radius: 20px;\">    \n",
    "    <ul>\n",
    "        <li><p>This Jupyter Notebook demonstrates an example of collecting AHS (Active Health System) data for HPE iLO (Integrated Lights-Out) systems. It utilizes the HPE iLOrest library to interact with the iLO API and retrieve the necessary information.</p></li>\n",
    "        <li>As you are here let's get it done easily.</li>\n",
    "        <li>To perform this you need to have <a href = \"https://libraries.io/pypi/python-ilorest-library#id3\" style=\"none\">python-ilorest-library</a> installed in your machine.</li>\n",
    "        <li>Please keep your username and password handy</li>\n",
    "        <li>Do execute each successive cell once to avoid any errors!</li>\n",
    "    </ul>    \n",
    "</div>"
   ]
  },
  {
   "cell_type": "markdown",
   "id": "97ddcec7",
   "metadata": {
    "tags": []
   },
   "source": [
    "<div class=\"alert alert-block alert-success\"  style=\"border-radius: 20px;\">\n",
    "    <h3> 1. Below we are importing all the necessary python libraries</h3>\n",
    "    <ul>\n",
    "        <li><a href = \"https://www.tutorialspoint.com/what-is-python-s-sys-module#:~:text=%20What%20is%20Python%27s%20Sys%20Module%20%201,%5B0%5D%20prints%20the...%205%20Output.%20%20More%20\">sys</a></li>\n",
    "        <li>json</li>\n",
    "        <li>redfish</li> \n",
    "    </ul>\n",
    "</div>"
   ]
  },
  {
   "cell_type": "code",
   "execution_count": null,
   "id": "61eea7c2",
   "metadata": {},
   "outputs": [],
   "source": [
    "import sys\n",
    "import json\n",
    "from redfish import RedfishClient\n",
    "from redfish.rest.v1 import ServerDownOrUnreachableError\n",
    "\n",
    "from get_resource_directory import get_resource_directory\n",
    "\n",
    "#This is to take passwords as input securely\n",
    "import getpass\n"
   ]
  },
  {
   "cell_type": "markdown",
   "id": "dd7bf36c",
   "metadata": {
    "tags": []
   },
   "source": [
    "<div class = \"alert alert-block alert-success\" style=\"border-radius: 20px;\">\n",
    "    <h3> 2. This is our ahs gathering data function overview, in the end we will get the Active Health System data.<br></h3>\n",
    "    <i>Let me give you a walk through of it!</i>\n",
    "    <br>\n",
    " There is a hierarchy involved in iLO Rest Api. So we are simply following the hierarchy present to change the settings.<br>\n",
    "\n",
    "1. In the <b>get_ahs_data</b> function we are first using <b>resource_instances</b> variable to obtain information about the resource directory by using get_resource_directory module.\n",
    "<br>\n",
    "    \n",
    "2. In the ILO rest api the information about the Active Health System is stored inside the <b>managers json object</b>.\n",
    "    And now through system_response variable,        we are making a http <a href = \"https://developer.mozilla.org/en-US/docs/Web/HTTP/Methods\" style=\"background-color:powderblue;\">GET operation</a> to and trying to obtain the ahs data of iLO system.\n",
    "    <br>\n",
    "\n",
    "3. In the managers response object with different <b>odata_id</b> we get the managers members uri .\n",
    "    Then again an http GET request is made and response is stored in <b>managers_response_response</b>.\n",
    "    Then we set the <b>active_health_system_uri</b>.\n",
    "    <br>\n",
    "\n",
    "4. Else i.e; resource directory is enabled then we will simply iterate through all instances inside resources \n",
    "    and if HpeiLOActiveHealthSystem attribute is present in <b>@odata.type</b> attribute then we'll set  active_health_system_uri and <i> get </i> <b>active_health_system_log_resp</b> through redfish object.\n",
    "    <br>\n",
    "\n",
    "5. If this is successful, then we will open a <b>logfile</b> and write <b>active_health_system_log_resp.ori</b> which is the get_ahs_data to that logfile.\n",
    "\n",
    " </div>"
   ]
  },
  {
   "cell_type": "code",
   "execution_count": 1,
   "id": "f3786dd7",
   "metadata": {},
   "outputs": [],
   "source": [
    "def get_ahs_data(_redfishobj, logfile=\"data.ahs\"):\n",
    "\n",
    "    active_health_system_uri = None\n",
    "\n",
    "    resource_instances = _redfishobj.get_resource_directory()\n",
    "    if DISABLE_RESOURCE_DIR or not resource_instances:\n",
    "        #if we do not have a resource directory or want to force it's non use to find the\n",
    "        #relevant URI\n",
    "        managers_uri = _redfishobj.root.obj['Managers']['@odata.id']\n",
    "        managers_response = _redfishobj.get(managers_uri)\n",
    "        managers_members_uri = next(iter(managers_response.obj['Members']))['@odata.id']\n",
    "        managers_members_response = _redfishobj.get(managers_members_uri)\n",
    "        active_health_system_uri = managers_members_response.obj.Oem.Hpe.Links\\\n",
    "                                    ['ActiveHealthSystem']['@odata.id']\n",
    "    else:\n",
    "        #Use Resource directory to find the relevant URI\n",
    "        for instance in resource_instances:\n",
    "            if '#HpeiLOActiveHealthSystem.' in instance['@odata.type']:\n",
    "                active_health_system_uri = instance['@odata.id']\n",
    "\n",
    "    if active_health_system_uri:\n",
    "        active_health_system_response = _redfishobj.get(active_health_system_uri)\n",
    "        active_health_system_log_uri = active_health_system_response.obj.Links['AHSLocation']\\\n",
    "                                                                                        ['extref']\n",
    "        active_health_system_log_resp = _redfishobj.get(active_health_system_log_uri)\n",
    "        if active_health_system_log_resp.status == 400:\n",
    "            try:\n",
    "                print(json.dumps(active_health_system_log_resp.obj['error']\\\n",
    "                                 ['@Message.ExtendedInfo'], indent=4, sort_keys=True))\n",
    "            except Exception:\n",
    "                sys.stderr.write(\"A response error occurred, unable to access iLO Extended \"\\\n",
    "                                 \"Message Info...\")\n",
    "        elif active_health_system_log_resp.status != 200:\n",
    "            sys.stderr.write(\"An http response of \\'%s\\' was returned.\\n\" % active_health_system_log_resp.status)\n",
    "        else:\n",
    "            print(\"Success!\\n\")\n",
    "            with open(logfile, 'wb') as ahsoutput:\n",
    "                ahsoutput.write(active_health_system_log_resp.ori)\n",
    "                ahsoutput.close()\n",
    "                sys.stdout.write(\"AHS Data saved successfully as: \\'%s\\'\" % logfile)\n"
   ]
  },
  {
   "cell_type": "markdown",
   "id": "ec57c0d8",
   "metadata": {
    "tags": []
   },
   "source": [
    "<div class = \"alert alert-block alert-success\" style=\"border-radius: 20px;\">\n",
    "    <h3> 3. This is Main function overview.</h3><br>\n",
    "    <i>Let me give you a walk through of it!</i>\n",
    "    <br>\n",
    "    Enter ilo url,username,password, and the path of log file<br>\n",
    " \n",
    "\n",
    "1. The rest opertions are handled by redfish object which is created by RedfishClient<br>\n",
    "<br>\n",
    "    \n",
    "2. <b>RedfishClient</b> class takes 3 parameters<i> iLO url, Username,Password</i> and returns a redfish object.<br>\n",
    "    <br>\n",
    "\n",
    "3. Once you enter everything a redfish obejct is created with the help of RedfishClient class.<br>\n",
    "    <br>\n",
    "\n",
    "4. ow we try to Login with the help of <i> REDFISHOBJ</i>, if it is successful a session is created and you are logged in, But if           Server       is not avaialbe we get an error saying \"server unreachable\"<br>\n",
    "    <br>\n",
    "5. Then we call <b>get_ahs_data</b> with our redfish object and logfile.<br>\n",
    "    \n",
    "\n",
    "6. REDFISHOBJ.logout() will take care of logging you out of the ilo.\n",
    "\n",
    " </div>"
   ]
  },
  {
   "cell_type": "markdown",
   "id": "3cd9f29b",
   "metadata": {},
   "source": [
    "<div class=\"alert alert-block alert-warning\" style=\"border-radius:20px\">\n",
    "<b> When running on the server locally : </b>  use the following values <br>\n",
    "    SYSTEM_URL = None <br>\n",
    "    LOGIN_ACCOUNT = None <br>\n",
    "    LOGIN_PASSWORD = None <br>\n",
    "    LOGFILE = data.ahs<br><br>\n",
    "    <b> When running remotely </b> connect using the secured (https://) address,account name, and password to send https requests <br>\n",
    "    SYSTEM_URL acceptable examples: <br>\n",
    "    \"https://10.0.0.100\" <br>\n",
    "    \"https://ilo.hostname\"\n",
    "</div>"
   ]
  },
  {
   "cell_type": "code",
   "execution_count": null,
   "id": "e3f7743a",
   "metadata": {},
   "outputs": [],
   "source": [
    "if __name__ == \"__main__\":\n",
    "    SYSTEM_URL = input(\"Enter System URL: \")\n",
    "    LOGIN_ACCOUNT = input(\"Enter Login account: \")\n",
    "    LOGIN_PASSWORD = getpass.getpass(\"Enter your password: \")\n",
    "\n",
    "    # logfile path and filename\n",
    "    LOGFILE = input(\"Enter log file path and file name: \")\n",
    "    # flag to force disable resource directory. Resource directory and associated operations are\n",
    "    # intended for HPE servers.\n",
    "    DISABLE_RESOURCE_DIR = False\n",
    "\n",
    "    try:\n",
    "        # Create a Redfish client object\n",
    "        REDFISHOBJ = RedfishClient(base_url=SYSTEM_URL, username=LOGIN_ACCOUNT, \\\n",
    "                                                                            password=LOGIN_PASSWORD)\n",
    "        # Login with the Redfish client\n",
    "        REDFISHOBJ.login()\n",
    "    except ServerDownOrUnreachableError as excp:\n",
    "        sys.stderr.write(\"ERROR: server not reachable or does not support RedFish.\\n\")\n",
    "        sys.exit()\n",
    "\n",
    "    get_ahs_data(REDFISHOBJ, LOGFILE)\n",
    "    REDFISHOBJ.logout()"
   ]
  },
  {
   "cell_type": "markdown",
   "id": "df024e0c",
   "metadata": {},
   "source": [
    "<div class = \"alert alert-block alert-success\" style=\"border-radius:20px\">In case you need help 🔗 links to relevant resources :\n",
    "    <br>\n",
    "    1.Python-ilorest-library:<a href = \"https://github.com/HewlettPackard/python-ilorest-library\">LINK</a><br>\n",
    "    2.Hpe ilorest-api explorer:<a href = \"https://ilorestfulapiexplorer.ext.hpe.com/\">LINK</a><br>\n",
    "    3.Rest api: <a href = \"https://restfulapi.net/\">LINK</a><br>\n",
    "    \n",
    "</div>"
   ]
  }
 ],
 "metadata": {
  "kernelspec": {
   "display_name": "Python 3 (ipykernel)",
   "language": "python",
   "name": "python3"
  },
  "language_info": {
   "codemirror_mode": {
    "name": "ipython",
    "version": 3
   },
   "file_extension": ".py",
   "mimetype": "text/x-python",
   "name": "python",
   "nbconvert_exporter": "python",
   "pygments_lexer": "ipython3",
   "version": "3.10.6"
  }
 },
 "nbformat": 4,
 "nbformat_minor": 5
}
