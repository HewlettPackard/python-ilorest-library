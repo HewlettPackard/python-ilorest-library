{
 "cells": [
  {
   "cell_type": "markdown",
   "id": "b92b79fb",
   "metadata": {},
   "source": [
    "<h1 style=\"text-align:center;\">Setting  remote syslog server</h1>"
   ]
  },
  {
   "cell_type": "markdown",
   "id": "2ed959e3",
   "metadata": {},
   "source": [
    "<div class=\"alert alert-block alert-info\" style=\"border-radius: 20px;\">\n",
    "Welcome to <b>python-iLOrest-library</b> <br> Here is an example to <b>Setting remote syslog server</b><br>\n",
    "    This Jupyter Notebook will contains a example code to demonstrate how to set remote syslog server. This code is written in Python and uses the redfish library to perform the required operations.</b><br> As you are here let's get it done easily.<br>\n",
    "    To perform this you need to have <a href = \"https://libraries.io/pypi/python-ilorest-library#id3\" style = \"none\">python-ilorest-library</a> installed in your machine.<br>\n",
    "    Please keep your username and password handy!\n",
    "    <br>\n",
    "    <b>Also do execute each successive cell once to avoid any errors!</b>\n",
    "    \n",
    "</div>"
   ]
  },
  {
   "cell_type": "markdown",
   "id": "3a91bf91",
   "metadata": {},
   "source": [
    "<div class=\"alert alert-block alert-success\" style=\"border-radius: 20px;\">\n",
    "    <h3> 1. Below we are importing all the necessary modules from the ilorest library.</h3><br>\n",
    "    <li><a href = \"https://www.tutorialspoint.com/what-is-python-s-sys-module#:~:text=%20What%20is%20Python%27s%20Sys%20Module%20%201,%5B0%5D%20prints%20the...%205%20Output.%20%20More%20\">sys </a>\n",
    "    </li>\n",
    "    <li>json </li>\n",
    "    <li> redfish </li>\n",
    "    <li> ilorest_util</li>\n",
    "    <li> argparse </li> \n",
    "</div>"
   ]
  },
  {
   "cell_type": "code",
   "execution_count": null,
   "id": "b6eed1f2",
   "metadata": {},
   "outputs": [],
   "source": [
    "import sys\n",
    "import json\n",
    "import argparse\n",
    "from redfish import RedfishClient\n",
    "from redfish.rest.v1 import ServerDownOrUnreachableError\n",
    "global DISABLE_RESOURCE_DIR\n",
    "from ilorest_util import get_resource_directory\n",
    "from ilorest_util import get_gen"
   ]
  },
  {
   "cell_type": "markdown",
   "id": "6393e74d",
   "metadata": {},
   "source": [
    "<div class = \"alert alert-block alert-success\" style=\"border-radius: 20px;\">\n",
    "    <h3> 2. This is our set_syslog function overview</h3><br>\n",
    "    This function sets the remote syslog server and enables remote syslog on an iLO system. <br><br>\n",
    "1. It takes two parameters:\n",
    "<ul>\n",
    "    <li><b>_redfishobj:</b> an object representing the connection to the iLO device through the Redfish API.</li>\n",
    "    <li><b>syslog_server:</b> a string representing the IP address or hostname of the remote syslog server.</li></ul><br>\n",
    "2. The function first retrieves the model information of the system, which is used to determine the Oem (Original equipment manufacturer) name, as the endpoint structure and payload might differ based on the manufacturer. It determines the model of the server by sending a GET request to the <b>/redfish/v1/Systems/1/</b> URI and extracting the <b>Model</b> attribute from the response.<br><br>\n",
    "3. It checks if the model contains \"Gen9\" or \"Gen8\". If either of them is present, it sets the \"hp\" variable to \"Hp\". Otherwise, it sets it to \"Hpe\".<br><br>\n",
    "4. It then constructs the URI for the syslog configuration resource and sends a PATCH request with the request body to set the remote syslog server and enable remote syslog. <br><br>\n",
    "    5. Finally, it calls the <b>ilo_response</b>, passing the <b>_redfishobj</b> and <b>resp</b> (response) as arguments. This function handles response from the server.<br><br>\n",
    "</div>"
   ]
  },
  {
   "cell_type": "code",
   "execution_count": null,
   "id": "2971240e",
   "metadata": {},
   "outputs": [],
   "source": [
    "def set_syslog(_redfishobj, syslog_server):\n",
    "\n",
    "    model_uri = \"/redfish/v1/Systems/1/\"\n",
    "    model = _redfishobj.get(model_uri).obj['Model']\n",
    "    print (model)\n",
    "    if \"Gen9\" in model or 'Gen8' in model:\n",
    "        hp = \"Hp\"\n",
    "    else:\n",
    "        hp = \"Hpe\"\n",
    "\n",
    "    syslog_uri = \"/redfish/v1/Managers/1/NetworkService/\"\n",
    "\n",
    "    body = {\"Oem\": {hp: {\"RemoteSyslogServer\": syslog_server, \"RemoteSyslogEnabled\": True}}}\n",
    "    resp = _redfishobj.patch(syslog_uri, body)\n",
    "    ilo_response(_redfishobj, resp)"
   ]
  },
  {
   "cell_type": "markdown",
   "id": "1fdc6d56",
   "metadata": {},
   "source": [
    "<div class = \"alert alert-block alert-success\" style=\"border-radius: 20px;\">\n",
    "    <h3> 3. This is ilo_response function overview</h3><br>\n",
    "    The ilo_response function is responsible for handling the response from the iLO server.<br><br>\n",
    "1. It takes two parameters: <b>_redfishobj</b> (Redfish client object) and <b>resp</b> (response object).<br><br>\n",
    "2. It checks the status code of the response. If it is equal to 400, it indicates a client error.<br><br>\n",
    "3. It tries to extract and print the extended error information from the response using the key error <b>['@Message.ExtendedInfo']</b>.\n",
    "If there is an exception while accessing the extended error information, it writes an error message to the standard error stream.<br><br>\n",
    "4. If the status code is not 400 but is not equal to 200 either, it indicates an HTTP response error.\n",
    "It writes an error message to the standard error stream, indicating the HTTP response status.<br><br>\n",
    "5. If the status code is 200, it indicates a successful response.\n",
    "It prints the message \"Success\" to indicate the operation was successful.<br>\n",
    "    </div>"
   ]
  },
  {
   "cell_type": "code",
   "execution_count": null,
   "id": "b2db998f",
   "metadata": {},
   "outputs": [],
   "source": [
    "def ilo_response(_redfishobj, resp):\n",
    "\n",
    "    if resp.status == 400:\n",
    "        try:\n",
    "            print(json.dumps(resp.obj['error']['@Message.ExtendedInfo'], indent=4, \\\n",
    "                                                                         sort_keys=True))\n",
    "        except Exception as excp:\n",
    "            sys.stderr.write(\"A response error occurred, unable to access iLO Extended \"\\\n",
    "                             \"Message Info...\")\n",
    "    elif resp.status != 200:\n",
    "        sys.stderr.write(\"An http response of \\'%s\\' was returned.\\n\" % resp.status)\n",
    "    else:\n",
    "        print(\"Success\")"
   ]
  },
  {
   "cell_type": "markdown",
   "id": "d95a2d40",
   "metadata": {},
   "source": [
    "<div class = \"alert alert-block alert-success\" style=\"border-radius: 20px;\">\n",
    "    <h3> 4. This is Main function overview.<br></h3>\n",
    "1. An argument parser is initialized to parse the command-line arguments passed to the script. The parser expects arguments such as iLO url, username, password, and syslog server IP.<br><br>\n",
    "2.The rest opertions are handled by Redfish object which is created by Redfish Client<br><br>\n",
    "3. <b>Redfish Client</b> class takes 3 parameters<i> iLO url, Username, Password</i> and returns a redfish object. Once you enter everything a redfish object is created with the help of Redfish Client class.<br><br>\n",
    "4. Now we try to Login with the help of <i> REDFISHOBJ</i>, if it is successful a session is created and you are logged in, But if Server is not avaialbe we get an error saying \"server unreachable\"<br><br>\n",
    "5. The <b>get_gen</b> function is called to retrieve the iLO generation number of the server.\n",
    "    Depending on the iLO generation number, the <b>set_syslog</b> function is called with the Redfish client object and the syslog server IP address.<br><br>\n",
    "6. <b>REDFISHOBJ.logout()</b> will take care of logging you out of the iLO.\n",
    "\n",
    " </div>"
   ]
  },
  {
   "cell_type": "markdown",
   "id": "750b6ae8",
   "metadata": {},
   "source": [
    "<div class=\"alert alert-block alert-warning\" style=\"border-radius: 20px;\">\n",
    "<b> When running on the server locally : </b>  use the following values <br>\n",
    "    SYSTEM_URL = None <br>\n",
    "    LOGIN_ACCOUNT = None <br>\n",
    "    LOGIN_PASSWORD = None <br>\n",
    "    <b> When running remotely </b> connect using the secured (https://) address,account name, and password to send https requests <br>\n",
    "    SYSTEM_URL acceptable examples: <br>\n",
    "    \"https://10.0.0.100\" <br>\n",
    "    \"https://ilo.hostname\"\n",
    "</div>"
   ]
  },
  {
   "cell_type": "code",
   "execution_count": null,
   "id": "3681c0d2",
   "metadata": {},
   "outputs": [],
   "source": [
    "if __name__ == \"__main__\":\n",
    "    # Initialize parser\n",
    "    parser = argparse.ArgumentParser(description = \"Script to upload and flash NVMe FW\")\n",
    "\n",
    "    parser.add_argument(\n",
    "        '-i',\n",
    "        '--ilo',\n",
    "        dest='ilo_ip',\n",
    "        action=\"store\",\n",
    "        help=\"iLO IP of the server\",\n",
    "        default=None)\n",
    "    parser.add_argument(\n",
    "        '-u',\n",
    "        '--user',\n",
    "        dest='ilo_user',\n",
    "        action=\"store\",\n",
    "        help=\"iLO username to login\",\n",
    "        default=None)\n",
    "    parser.add_argument(\n",
    "        '-p',\n",
    "        '--password',\n",
    "        dest='ilo_pass',\n",
    "        action=\"store\",\n",
    "        help=\"iLO password to log in.\",\n",
    "        default=None)\n",
    "    parser.add_argument(\n",
    "        '-s',\n",
    "        '--syslog_server',\n",
    "        dest='syslog_server',\n",
    "        action=\"store\",\n",
    "        required=True,\n",
    "        help=\"iLO password to log in.\",\n",
    "        default=None)\n",
    "\n",
    "    options = parser.parse_args()\n",
    "\n",
    "    system_url = \"https://\" + options.ilo_ip\n",
    "    print (system_url)\n",
    "\n",
    "    # flag to force disable resource directory. Resource directory and associated operations are\n",
    "    # intended for HPE servers.\n",
    "    DISABLE_RESOURCE_DIR = True\n",
    "\n",
    "    try:\n",
    "        # Create a Redfish client object\n",
    "        redfish_obj = RedfishClient(base_url=system_url, username=options.ilo_user, password=options.ilo_pass)\n",
    "        # Login with the Redfish client\n",
    "        redfish_obj.login()\n",
    "    except ServerDownOrUnreachableError as excp:\n",
    "        sys.stderr.write(\"ERROR: server not reachable or does not support RedFish.\\n\")\n",
    "        sys.exit()\n",
    "\n",
    "    (ilogen,_) = get_gen(redfish_obj)\n",
    "    print (\"Generation is \", ilogen)\n",
    "    if int(ilogen) == 5:\n",
    "        set_syslog(redfish_obj, options.syslog_server)\n",
    "    else:\n",
    "        set_syslog(redfish_obj, options.syslog_server)\n",
    "    redfish_obj.logout()\n"
   ]
  },
  {
   "cell_type": "markdown",
   "id": "f91c6419",
   "metadata": {},
   "source": [
    "<div class = \"alert alert-block alert-success\" style=\"border-radius: 20px;\">In case you need help 🔗 links to relevant resources :\n",
    "    <br>\n",
    "    1.Python-ilorest-library:<a href = \"https://github.com/HewlettPackard/python-ilorest-library\">LINK</a><br>\n",
    "    2.Hpe ilorest-api explorer:<a href = \"https://ilorestfulapiexplorer.ext.hpe.com/\">LINK</a><br>\n",
    "    3.Rest api: <a href = \"https://restfulapi.net/\">LINK</a><br>\n",
    "    \n",
    "</div>"
   ]
  }
 ],
 "metadata": {
  "kernelspec": {
   "display_name": "Python 3 (ipykernel)",
   "language": "python",
   "name": "python3"
  },
  "language_info": {
   "codemirror_mode": {
    "name": "ipython",
    "version": 3
   },
   "file_extension": ".py",
   "mimetype": "text/x-python",
   "name": "python",
   "nbconvert_exporter": "python",
   "pygments_lexer": "ipython3",
   "version": "3.9.7"
  }
 },
 "nbformat": 4,
 "nbformat_minor": 5
}
