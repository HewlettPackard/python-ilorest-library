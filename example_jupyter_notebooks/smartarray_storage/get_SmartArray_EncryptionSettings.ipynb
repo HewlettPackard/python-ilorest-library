{
 "cells": [
  {
   "cell_type": "markdown",
   "id": "24f88e8b",
   "metadata": {},
   "source": [
    "<h1 style=\"text-align:center;\">Smart Array Encryption Settings On HPE ILO Systems</h1>"
   ]
  },
  {
   "cell_type": "markdown",
   "id": "91296f4e",
   "metadata": {},
   "source": [
    "<div class=\"alert  alert-block  alert-info\" style=\"border-radius: 20px;\">    \n",
    "    <ul>\n",
    "        <li><p>This Jupyter Notebook will contains a example code to demonstrate of Smart Array Encryption Settings On HPE ILO Systems. This code is written in Python and uses the redfish library to perform the required operations.</p></li>\n",
    "        <li>As you are here let's get it done easily.</li>\n",
    "        <li>To perform this u need to have <a href = \"https://libraries.io/pypi/python-ilorest-library#id3\" style=\"none\">python-ilorest-library</a> installed in your machine.</li>\n",
    "        <li>Please keep your username and password handy</li>\n",
    "        <li>Do execute each successive cell once to avoid any errors!</li>\n",
    "    </ul>    \n",
    "</div>"
   ]
  },
  {
   "cell_type": "markdown",
   "id": "98f640a8",
   "metadata": {},
   "source": [
    "<div class=\"alert alert-block alert-success\"  style=\"border-radius: 20px;\">\n",
    "    <h3> 1. Below we are importing all the necessary python libraries</h3>\n",
    "    <ul>\n",
    "        <li><a href = \"https://www.tutorialspoint.com/what-is-python-s-sys-module#:~:text=%20What%20is%20Python%27s%20Sys%20Module%20%201,%5B0%5D%20prints%20the...%205%20Output.%20%20More%20\">sys</a></li>\n",
    "        <li>json</li>\n",
    "        <li>redfish</li> \n",
    "    </ul>\n",
    "</div>"
   ]
  },
  {
   "cell_type": "code",
   "execution_count": null,
   "id": "c954abda",
   "metadata": {},
   "outputs": [],
   "source": [
    "import sys\n",
    "from redfish import RedfishClient\n",
    "from redfish.rest.v1 import ServerDownOrUnreachableError\n",
    "\n",
    "from get_resource_directory import get_resource_directory\n",
    "#This is to take passwords as input securely\n",
    "import getpass"
   ]
  },
  {
   "cell_type": "markdown",
   "id": "e8336308",
   "metadata": {},
   "source": [
    "<div class = \"alert alert-block alert-success\" style=\"border-radius: 20px;\">\n",
    "    <h3> 2. This is about  gathering the smart array encryption settings on HPE iLO systems </h3>\n",
    "        \n",
    "1. The function get_SmartArray_EncryptionSettings retrieves encryption settings for Smart Storage Array Controllers from a Redfish service.<br>\n",
    "<br>\n",
    "    \n",
    "2.It first checks if the resource directory is disabled or empty, and if so, it navigates through the Redfish service object to obtain the necessary URIs for Smart Storage Array Controllers <br>\n",
    "    <br>\n",
    "\n",
    "3. If the resource directory is enabled and not empty, the function uses the resource directory to find the relevant URI for Smart Storage Array Controllers.<br>\n",
    "    <br>\n",
    "\n",
    "4. It retrieves detailed information about each Smart Storage Array Controller and stores it in the smartarraycontrollers dictionary using the controller's @odata.id as the key.<br>\n",
    "    <br>\n",
    "5.  The function prints the encryption properties for each Smart Storage Array Controller, specifically the properties listed in the desired_properties list.\n",
    "<br>\n",
    "    \n",
    "\n",
    "\n",
    "\n",
    " </div>"
   ]
  },
  {
   "cell_type": "code",
   "execution_count": null,
   "id": "e85045dc",
   "metadata": {},
   "outputs": [],
   "source": [
    "def get_SmartArray_EncryptionSettings(_redfishobj, desired_properties):\n",
    "\n",
    "    smartstorage_response = []\n",
    "    smartarraycontrollers = dict()\n",
    "\n",
    "    resource_instances = get_resource_directory(_redfishobj)\n",
    "    if DISABLE_RESOURCE_DIR or not resource_instances:\n",
    "        #if we do not have a resource directory or want to force it's non use to find the\n",
    "        #relevant URI\n",
    "        systems_uri = _redfishobj.root.obj['Systems']['@odata.id']\n",
    "        systems_response = _redfishobj.get(systems_uri)\n",
    "        systems_members_uri = next(iter(systems_response.obj['Members']))['@odata.id']\n",
    "        systems_members_response = _redfishobj.get(systems_members_uri)\n",
    "        smart_storage_uri = systems_members_response.obj.Oem.Hpe.Links['SmartStorage']['@odata.id']\n",
    "        smart_storage_arraycontrollers_uri = _redfishobj.get(smart_storage_uri).obj.Links['ArrayControllers']['@odata.id']\n",
    "        smartstorage_response = _redfishobj.get(smart_storage_arraycontrollers_uri).obj['Members']\n",
    "    else:\n",
    "        for instance in resource_instances:\n",
    "            #Use Resource directory to find the relevant URI\n",
    "            if '#HpeSmartStorageArrayControllerCollection.' in instance['@odata.type']:\n",
    "                smartstorage_uri = instance['@odata.id']\n",
    "                smartstorage_response = _redfishobj.get(smartstorage_uri).obj['Members']\n",
    "                break\n",
    "\n",
    "    for controller in smartstorage_response:\n",
    "        smartarraycontrollers[controller['@odata.id']] = _redfishobj.get(controller['@odata.id']).obj\n",
    "        sys.stdout.write(\"Encryption Properties for Smart Storage Array Controller \\'%s\\' : \\n% smartarraycontrollers[controller['@odata.id']].get('Id'))\n",
    "        for data in smartarraycontrollers[controller['@odata.id']]:\n",
    "            if data in desired_properties:\n",
    "                sys.stdout.write(\"\\t %s : %s\\n\" % (data, smartarraycontrollers[controller]['@odata.id']].get(data)))"
   ]
  },
  {
   "cell_type": "markdown",
   "id": "c776e47a",
   "metadata": {},
   "source": [
    "<div class = \"alert alert-block alert-success\" style=\"border-radius: 20px;\">\n",
    "    <h3> 3. This is Main function overview.</h3>\n",
    "<b>The Main function: </b> PLEASE ENTER YOU LOGIN CREDENTIALS HERE TO PROCEED FURTHER<br>\n",
    "    <ul>\n",
    "        <li>Once your credentials that are enter everything a redfish obejct is created with the help of RedfishClient class and a session is created and now you will be logged in to the server.</li>\n",
    "        <li>If server is down or Unreachable we get server not reachable message!</li>\n",
    "        <li>If not then we make a call to <b>mount_virtual_media_iso</b> to obtain virtual media related info of system.</li>\n",
    "        <li>After getting required information <i><b>Redfish.logout()</b></i> closses the particular session and logs us out of the system.</li>\n",
    "    </ul>\n",
    "</div>"
   ]
  },
  {
   "cell_type": "markdown",
   "id": "2e71e12a",
   "metadata": {},
   "source": [
    "<div class=\"alert alert-block alert-warning\" style=\"border-radius: 20px;\">\n",
    "<b> When running on the server locally,</b>use the following values:<br>\n",
    "    SYSTEM_URL = None <br>\n",
    "    LOGIN_ACCOUNT = None <br>\n",
    "    LOGIN_PASSWORD = None <br>\n",
    "    <b> When running remotely </b> connect using the secured (https://) address, account name and password to send https requests<br>\n",
    "    SYSTEM_URL acceptable examples: <br>\n",
    "    \"https://10.0.0.100\" <br>\n",
    "    \"https://ilo.hostname\"\n",
    "</div>"
   ]
  },
  {
   "cell_type": "code",
   "execution_count": null,
   "id": "05fc8da8",
   "metadata": {},
   "outputs": [],
   "source": [
    "if __name__ == \"__main__\":\n",
    "    \n",
    "    SYSTEM_URL = input(\"Enter System URL: \")\n",
    "    LOGIN_ACCOUNT = input(\"Enter Login account: \")\n",
    "    LOGIN_PASSWORD = getpass.getpass(\"Enter your password: \")\n",
    "    #list of desired properties related to Smart Array controller encryption\n",
    "    DESIRED_PROPERTIES = [\"Name\", \"Model\", \"SerialNumber\", \"EncryptionBootPasswordSet\",\"EncryptionCryptoOfficerPasswordSet\",\"EncryptionLocalKeyCacheEnabled\", \"EncryptionMixedVolumesEnabled\",\"EncryptionPhysicalDriveCount\", \"EncryptionRecoveryParamsSet\",\"EncryptionStandaloneModeEnabled\", \"EncryptionUserPasswordSet\"]\n",
    "    # flag to force disable resource directory. Resource directory and associated operations are\n",
    "    # intended for HPE servers.\n",
    "    DISABLE_RESOURCE_DIR = False\n",
    "\n",
    "    try:\n",
    "        # Create a Redfish client object\n",
    "        REDFISHOBJ = RedfishClient(base_url=SYSTEM_URL, username=LOGIN_ACCOUNT,password=LOGIN_PASSWORD)\n",
    "                                                                            \n",
    "        # Login with the Redfish client\n",
    "        REDFISHOBJ.login()\n",
    "    except ServerDownOrUnreachableError as excp:\n",
    "        sys.stderr.write(\"ERROR: server not reachable or does not support RedFish.\\n\")\n",
    "        sys.exit()\n",
    "\n",
    "    get_SmartArray_EncryptionSettings(REDFISHOBJ, DESIRED_PROPERTIES)\n",
    "    REDFISHOBJ.logout()"
   ]
  },
  {
   "cell_type": "markdown",
   "id": "123c6927",
   "metadata": {},
   "source": [
    "<div class = \"alert alert-block alert-success\" style=\"border-radius: 20px;\">\n",
    "    In case you need help 🔗 links to relevant resources :\n",
    "    <br>\n",
    "    1.Python-ilorest-library: <a href = \"https://github.com/HewlettPackard/python-ilorest-library\">LINK</a><br>\n",
    "    2.HPE ilorest-api explorer: <a href = \"https://ilorestfulapiexplorer.ext.hpe.com/\">LINK</a><br>\n",
    "    3.REST API: <a href = \"https://restfulapi.net/\">LINK</a><br>\n",
    "    \n",
    "    \n",
    "</div>"
   ]
  }
 ],
 "metadata": {
  "kernelspec": {
   "display_name": "Python 3 (ipykernel)",
   "language": "python",
   "name": "python3"
  },
  "language_info": {
   "codemirror_mode": {
    "name": "ipython",
    "version": 3
   },
   "file_extension": ".py",
   "mimetype": "text/x-python",
   "name": "python",
   "nbconvert_exporter": "python",
   "pygments_lexer": "ipython3",
   "version": "3.10.6"
  }
 },
 "nbformat": 4,
 "nbformat_minor": 5
}
