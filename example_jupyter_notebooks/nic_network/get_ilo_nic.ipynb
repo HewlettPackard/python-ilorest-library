{
 "cells": [
  {
   "cell_type": "markdown",
   "id": "a9af3f38",
   "metadata": {},
   "source": [
    "<h1 style=\"text-align:center;\">Retrieving the NIC configuration of HPE iLO server</h1>"
   ]
  },
  {
   "cell_type": "markdown",
   "id": "d7a1d48e",
   "metadata": {},
   "source": [
    "<div class=\"alert  alert-block  alert-info\" style=\"border-radius: 20px;\">    \n",
    "    <ul>\n",
    "        <li><p>This script provides an example implementation that allows you to <b>retrieve the network interface card (NIC) configuration</b> of your HPE iLO server. It utilizes the HPE iLOrest library to interact with the iLO API and retrieve the necessary information.</p></li>\n",
    "        <li>As you are here let's get it done easily.</li>\n",
    "        <li>To perform this you need to have <a href = \"https://libraries.io/pypi/python-ilorest-library#id3\" style=\"none\">python-ilorest-library</a> installed in your machine.</li>\n",
    "        <li>Please keep your username and password handy</li>\n",
    "        <li>Do execute each successive cell once to avoid any errors!</li>\n",
    "    </ul>    \n",
    "</div>"
   ]
  },
  {
   "cell_type": "markdown",
   "id": "a18ac193",
   "metadata": {},
   "source": [
    "<div class=\"alert alert-block alert-success\"  style=\"border-radius: 20px;\">\n",
    "    <h3> 1. Below we are importing all the necessary python libraries</h3>\n",
    "    <ul>\n",
    "        <li><a href = \"https://www.tutorialspoint.com/what-is-python-s-sys-module#:~:text=%20What%20is%20Python%27s%20Sys%20Module%20%201,%5B0%5D%20prints%20the...%205%20Output.%20%20More%20\">sys</a></li>\n",
    "        <li>json</li>\n",
    "        <li>redfish</li> \n",
    "    </ul>\n",
    "</div>"
   ]
  },
  {
   "cell_type": "code",
   "execution_count": null,
   "id": "c3c3347f",
   "metadata": {},
   "outputs": [],
   "source": [
    "import sys\n",
    "import json\n",
    "from redfish import LegacyRestClient\n",
    "from get_resource_directory import get_resource_directory\n",
    "\n",
    "#This is to take passwords as input securely\n",
    "import getpass"
   ]
  },
  {
   "cell_type": "markdown",
   "id": "106fb981",
   "metadata": {},
   "source": [
    "<div class = \"alert alert-block alert-success\" style=\"border-radius: 20px;\">\n",
    "    <div style = \"color:green; font-size:40px;\"></div><br>\n",
    "    <h3>2. Below is the get_ilo_nic function. The get_ilo_nic function is responsible for retrieving the network interface card (NIC) configuration of an HPE iLO server.</h3><br> It takes a REST object and a parameter indicating whether to retrieve active or inactive NICs as input. Here's a brief overview of the function's steps:<br>\n",
    "<ol>The function first obtains the resource directory of the iLO server using the provided REST object. This directory contains information about the server's available resources, including the NICs.</ol>\n",
    "<ol>It then searches for the NIC-related information within the resource directory by iterating through the instances and identifying the ones related to the server's manager.\n",
    "Using the obtained NIC information, the function retrieves the NIC configuration data from the server.</ol>\n",
    "<ol>Depending on the value of the get_active parameter, the function filters the retrieved NICs to either active or inactive ones.</ol>\n",
    "<ol>Finally, the function outputs the relevant NIC information, including the NIC's self URL and its JSON representation.</ol>\n",
    "<p>In summary, the get_ilo_nic function allows you to fetch and categorize the NIC configuration of an HPE iLO server based on its active or inactive status. This information can be useful for monitoring and managing your server's network settings.</p>\n",
    "</div>"
   ]
  },
  {
   "cell_type": "code",
   "execution_count": null,
   "id": "5dff7bad",
   "metadata": {},
   "outputs": [],
   "source": [
    "def get_ilo_nic(restobj, get_active):\n",
    "    resource_instances = get_resource_directory(restobj)\n",
    "    if resource_instances:\n",
    "        #Get URI from resource directory\n",
    "        for instance in resource_instances:\n",
    "            if \"Manager.\" in instance.Type:\n",
    "                manager_path = instance.href\n",
    "                break\n",
    "\n",
    "    tmp = restobj.get(manager_path)\n",
    "    response = restobj.get(tmp.dict[\"links\"][\"EthernetNICs\"][\"href\"])\n",
    "\n",
    "    for nic in response.dict[\"Items\"]:\n",
    "        if get_active and nic[\"Status\"][\"State\"] == \"Enabled\":\n",
    "            sys.stdout.write(\"Active\\t\" + nic[\"links\"][\"self\"][\"href\"] + \\\n",
    "                                            \": \" + json.dumps(nic) + \"\\n\")\n",
    "        elif get_active == False and nic[\"Status\"][\"State\"] == \"Disabled\":\n",
    "            sys.stdout.write(\"InActive\\t\" + nic[\"links\"][\"self\"][\"href\"] + \\\n",
    "                                            \": \" + json.dumps(nic) + \"\\n\")"
   ]
  },
  {
   "cell_type": "markdown",
   "id": "83ddff83",
   "metadata": {},
   "source": [
    "<div class = \"alert alert-block alert-success\" style=\"border-radius:20px;\">\n",
    "    <div style = \"color:green; font-size:40px;\"></div><br>\n",
    "   <h3>3. The overview of main function.</h3> \n",
    "This script establishes a connection to an HPE iLO server using the provided URL, login account, and password. It then logs in to the server and retrieves the NIC configuration. The script specifically fetches active NICs and displays their information. Finally, it logs out from the server.\n",
    "</div>"
   ]
  },
  {
   "cell_type": "markdown",
   "id": "40b40d9f",
   "metadata": {},
   "source": [
    "<div class = \"alert alert-block alert-warning\" style=\"border-radius: 20px;\">\n",
    "    <b>When running on the server locally</b> use the following values<br>\n",
    " SYSTEM_URL = None<br>\n",
    " LOGIN_ACCOUNT = None<br>\n",
    " LOGIN_PASSWORD = None<br>\n",
    "\n",
    "   <b>When running remotely</b> connect using the secured (https://) address,\n",
    "     account name, and password to send https requests\n",
    "    <br>\n",
    "     SYSTEM_URL acceptable examples:<br>\n",
    "     https://10.0.0.100<br>\n",
    "     https://ilo.hostname\n",
    "</div>"
   ]
  },
  {
   "cell_type": "code",
   "execution_count": null,
   "id": "e2cbc2d2",
   "metadata": {},
   "outputs": [],
   "source": [
    "if __name__ == \"__main__\":\n",
    "    \n",
    "    SYSTEM_URL = input(\"Enter System URL: \")\n",
    "    LOGIN_ACCOUNT = input(\"Enter Login account: \")\n",
    "    LOGIN_PASSWORD = getpass.getpass(\"Enter your password: \")\n",
    "\n",
    "    #Create a REST object\n",
    "    REST_OBJ = LegacyRestClient(base_url=SYSTEM_URL, username=LOGIN_ACCOUNT, password=LOGIN_PASSWORD)\n",
    "    REST_OBJ.login()\n",
    "    sys.stdout.write(\"\\nEXAMPLE 20: Get iLO's NIC configuration\\n\")\n",
    "    get_ilo_nic(REST_OBJ, True)\n",
    "    REST_OBJ.logout()"
   ]
  },
  {
   "cell_type": "markdown",
   "id": "90b4cb56",
   "metadata": {},
   "source": [
    "<div class = \"alert alert-block alert-success\" style=\"border-radius: 20px;\">\n",
    "    In case you need help 🔗 links to relevant resources :\n",
    "    <br>\n",
    "    1.Python-ilorest-library: <a href = \"https://github.com/HewlettPackard/python-ilorest-library\">LINK</a><br>\n",
    "    2.HPE ilorest-api explorer: <a href = \"https://ilorestfulapiexplorer.ext.hpe.com/\">LINK</a><br>\n",
    "    3.REST API: <a href = \"https://restfulapi.net/\">LINK</a><br>\n",
    "    4.Changing Boot Setting Documentation: <a href = \"https://hewlettpackard.github.io/ilo-rest-api-docs/ilo6/?python#changing-boot-settings\">LINK</a><br>\n",
    "    \n",
    "</div>"
   ]
  }
 ],
 "metadata": {
  "kernelspec": {
   "display_name": "Python 3 (ipykernel)",
   "language": "python",
   "name": "python3"
  },
  "language_info": {
   "codemirror_mode": {
    "name": "ipython",
    "version": 3
   },
   "file_extension": ".py",
   "mimetype": "text/x-python",
   "name": "python",
   "nbconvert_exporter": "python",
   "pygments_lexer": "ipython3",
   "version": "3.10.6"
  }
 },
 "nbformat": 4,
 "nbformat_minor": 5
}
