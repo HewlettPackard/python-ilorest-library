{
 "cells": [
  {
   "cell_type": "markdown",
   "id": "ded55c6b",
   "metadata": {},
   "source": [
    "<h1 style=\"text-align:center;\">Retrieving the IP address of an HPE iLO server</h1>"
   ]
  },
  {
   "cell_type": "markdown",
   "id": "331abcaf",
   "metadata": {},
   "source": [
    "<div class=\"alert  alert-block  alert-info\" style=\"border-radius: 20px;\">    \n",
    "    <ul>\n",
    "        <li><p>This script demonstrates how to retrieve the IP address of an HPE iLO (Integrated Lights-Out) server locally.</p></li>\n",
    "        <li>As you are here let's get it done easily.</li>\n",
    "        <li>To perform this you need to have <a href = \"https://libraries.io/pypi/python-ilorest-library#id3\" style=\"none\">python-ilorest-library</a> installed in your machine.</li>\n",
    "        <li>Please keep your username and password handy</li>\n",
    "        <li>Do execute each successive cell once to avoid any errors!</li>\n",
    "    </ul>    \n",
    "</div>"
   ]
  },
  {
   "cell_type": "markdown",
   "id": "8fd7760b",
   "metadata": {},
   "source": [
    "<div class = \"alert alert-block alert-success\" style=\"border-radius:20px\">\n",
    "    <div style = \"color:green; font-size:40px;\"></div>\n",
    "    <h3> 1. Below we are importing all the necessary python libraries</h3>\n",
    "    <br><ul>\n",
    "        <li><a href = \"https://www.tutorialspoint.com/what-is-python-s-sys-module#:~:text=%20What%20is%20Python%27s%20Sys%20Module%20%201,%5B0%5D%20prints%20the...%205%20Output.%20%20More%20\">sys</a></li>\n",
    "        <li>json</li>\n",
    "        <li>redfish</li> \n",
    "    </ul>\n",
    "    </div>"
   ]
  },
  {
   "cell_type": "code",
   "execution_count": null,
   "id": "c3c3347f",
   "metadata": {},
   "outputs": [],
   "source": [
    "import sys\n",
    "from redfish import LegacyRestClient\n",
    "from get_resource_directory import get_resource_directory\n",
    "\n",
    "#This is to take passwords as input securely\n",
    "import getpass"
   ]
  },
  {
   "cell_type": "markdown",
   "id": "8fa0fe24",
   "metadata": {},
   "source": [
    "<div class = \"alert alert-block alert-success\" style=\"border-radius: 20px;\">\n",
    "    <div style = \"color:green; font-size:40px;\"></div><br>\n",
    "    <h3>2. Below is the get_ilo_ip function. </h3>\n",
    "The get_ilo_ip function retrieves the IP address of an HPE iLO (Integrated Lights-Out) server. <br>Here's a breakdown of its functionality:<br>\n",
    "\n",
    "The function starts by obtaining the resource directory from the provided restobj, which represents the REST object.<br><br>\n",
    "It then iterates over the resource instances in the directory to find the manager path that corresponds to the iLO server.<br><br>\n",
    "Once the manager path is obtained, a GET request is made to retrieve the manager information.\n",
    "The function then retrieves the Ethernet NIC information by following the link provided in the manager response.<br><br>\n",
    "It iterates over the Ethernet NIC items and checks if the IPv4 address is not \"0.0.0.0\". If a valid IPv4 address is found, it is written to the standard output.<br><br>\n",
    "In summary, the get_ilo_ip function utilizes the HPE iLO REST API to locate and retrieve the IP address of an iLO server. It provides a convenient way to programmatically obtain the server's network information.\n",
    "</div>"
   ]
  },
  {
   "cell_type": "code",
   "execution_count": null,
   "id": "5dff7bad",
   "metadata": {},
   "outputs": [],
   "source": [
    "def get_ilo_ip(restobj):\n",
    "    resource_instances = get_resource_directory(restobj)\n",
    "    if resource_instances:\n",
    "        #Get URI from resource directory\n",
    "        for instance in resource_instances:\n",
    "            if \"Manager.\" in instance.Type:\n",
    "                manager_path = instance.href\n",
    "                break\n",
    "\n",
    "    response = restobj.get(manager_path)\n",
    "    ethernet_rsp =  restobj.get(response.dict[\"links\"][\"EthernetNICs\"][\"href\"])\n",
    "    for item in ethernet_rsp.dict[\"Items\"]:\n",
    "        if not item[\"IPv4Addresses\"][0][\"Address\"] == \"0.0.0.0\":\n",
    "            sys.stdout.write(\"\\t\" + item[\"IPv4Addresses\"][0][\"Address\"] + \"\\n\")\n",
    "    sys.stdout.write(\"%s\" % response)"
   ]
  },
  {
   "cell_type": "markdown",
   "id": "31a0442e",
   "metadata": {},
   "source": [
    "<div class = \"alert alert-block alert-success\" style=\"border-radius: 20px;\">\n",
    "    <div style = \"color:green; font-size:40px;\"></div><br>\n",
    "<h3>3.The following code establishes a connection to an HPE iLO server using the HPE iLO REST API.</h3><br> It sets up the necessary parameters for either local or remote server connection, creates a REST client object, logs into the iLO server, executes an example function to retrieve registry information, and logs out from the server. <br><br>\n",
    "This code demonstrates a simple implementation to retrieve the IP address of an HPE iLO server locally. It initializes the necessary variables, creates a REST client object, logs in to the server, retrieves and prints the IP address, and finally logs out. This example showcases the usage of the HPE iLO REST API for basic server interaction."
   ]
  },
  {
   "cell_type": "markdown",
   "id": "3635fca2",
   "metadata": {},
   "source": [
    "<div class = \"alert alert-block alert-warning\" style=\"border-radius: 20px;\">\n",
    "    <b>When running on the server locally</b> use the following values<br>\n",
    " SYSTEM_URL = None<br>\n",
    " LOGIN_ACCOUNT = None<br>\n",
    " LOGIN_PASSWORD = None<br>\n",
    "\n",
    "   <b>When running remotely</b> connect using the secured (https://) address,\n",
    "     account name, and password to send https requests\n",
    "    <br>\n",
    "     SYSTEM_URL acceptable examples:<br>\n",
    "     https://10.0.0.100<br>\n",
    "     https://ilo.hostname\n",
    "</div>"
   ]
  },
  {
   "cell_type": "code",
   "execution_count": null,
   "id": "e2cbc2d2",
   "metadata": {},
   "outputs": [],
   "source": [
    "if __name__ == \"__main__\":\n",
    "\n",
    "    SYSTEM_URL = None\n",
    "    LOGIN_ACCOUNT = None\n",
    "    LOGIN_PASSWORD = None\n",
    "\n",
    "    #Create a REST object\n",
    "    REST_OBJ = LegacyRestClient(base_url=SYSTEM_URL, username=LOGIN_ACCOUNT, password=LOGIN_PASSWORD)\n",
    "    REST_OBJ.login()\n",
    "    sys.stdout.write(\"\\nEXAMPLE 52: Get iLO IP locally\\n\")\n",
    "    get_ilo_ip(REST_OBJ)\n",
    "    REST_OBJ.logout()"
   ]
  },
  {
   "cell_type": "markdown",
   "id": "90b4cb56",
   "metadata": {},
   "source": [
    "<div class = \"alert alert-block alert-success\" style=\"border-radius: 20px;\">\n",
    "    In case you need help 🔗 links to relevant resources :\n",
    "    <br>\n",
    "    1.Python-ilorest-library: <a href = \"https://github.com/HewlettPackard/python-ilorest-library\">LINK</a><br>\n",
    "    2.HPE ilorest-api explorer: <a href = \"https://ilorestfulapiexplorer.ext.hpe.com/\">LINK</a><br>\n",
    "    3.REST API: <a href = \"https://restfulapi.net/\">LINK</a><br>\n",
    "    4.Changing Boot Setting Documentation: <a href = \"https://hewlettpackard.github.io/ilo-rest-api-docs/ilo6/?python#changing-boot-settings\">LINK</a><br>\n",
    "    \n",
    "</div>"
   ]
  }
 ],
 "metadata": {
  "kernelspec": {
   "display_name": "Python 3 (ipykernel)",
   "language": "python",
   "name": "python3"
  },
  "language_info": {
   "codemirror_mode": {
    "name": "ipython",
    "version": 3
   },
   "file_extension": ".py",
   "mimetype": "text/x-python",
   "name": "python",
   "nbconvert_exporter": "python",
   "pygments_lexer": "ipython3",
   "version": "3.10.6"
  }
 },
 "nbformat": 4,
 "nbformat_minor": 5
}
