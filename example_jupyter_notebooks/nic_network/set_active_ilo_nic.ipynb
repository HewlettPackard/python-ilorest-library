{
 "cells": [
  {
   "cell_type": "markdown",
   "id": "f815c9a7",
   "metadata": {},
   "source": [
    "<div class=\"alert alert-block alert-success\"  style=\"border-radius: 20px;\"><h1 style=\"text-align:center;\">Setting the active Manager NIC</h1></div>"
   ]
  },
  {
   "cell_type": "markdown",
   "id": "2a3a9755",
   "metadata": {},
   "source": [
    "<div class=\"alert alert-block alert-info\" style=\"background-color:\">\n",
    "<i>Hello User.!<br></i> Welcome to <b>python-iLOrest-library</b> <br> This is an example of <b>setting the active Manager NIC </b> <br> As you are here let's get it done easily.<br>\n",
    "    To perform this u need to have <a href = \"https://github.com/HewlettPackard/python-ilorest-library\" style = \"background-color:white\">python-ilorest-library</a> installed in your machine.<br>\n",
    "    And please keep your username and password handy!\n",
    "    <br>\n",
    "    <b>Also do execute each successive cell once to avoid any errors!</b>\n",
    "    \n",
    "</div>"
   ]
  },
  {
   "cell_type": "markdown",
   "id": "cc555954",
   "metadata": {},
   "source": [
    "<div class=\"alert alert-block alert-success\">\n",
    "    <h1>1.</h1>\n",
    "    Below we are importing all the necessary modules from the ilorest library! To know more about the modules click below\n",
    "    <ul>\n",
    "        <li><a href=\"https://www.tutorialspoint.com/what-is-python-s-sys-module#:~:text=%20What%20is%20Python%27s%20Sys%20Module%20%201,%5B0%5D%20prints%20the...%205%20Output.%20%20More%20\" target=\"_blank\" class=\"btn btn-primary btn-block\" style=\"max-width: 150px;\">sys</a></li>\n",
    "        <li><a href=\"https://www.json.org/json-en.html\" class=\"btn btn-primary btn-block\" style=\"max-width: 150px;\">json</a></li>\n",
    "        <li><a href=\"https://www.dmtf.org/standards/redfish\" class=\"btn btn-primary btn-block\" style=\"max-width: 150px;\">redfish</a></li>\n",
    "    </ul>\n",
    "</div>\n"
   ]
  },
  {
   "cell_type": "code",
   "execution_count": null,
   "id": "cff3ead6",
   "metadata": {},
   "outputs": [],
   "source": [
    "import sys\n",
    "import json\n",
    "from redfish import RedfishClient\n",
    "from redfish.rest.v1 import ServerDownOrUnreachableError\n",
    "\n",
    "from get_resource_directory import get_resource_directory"
   ]
  },
  {
   "cell_type": "markdown",
   "id": "b41f56eb",
   "metadata": {},
   "source": [
    "<div class = \"alert alert-block alert-success\" style=\"border-radius: 20px;\">\n",
    "    <h3> 2. This is about set_active_ilo_nic function</h3>\n",
    "    \n",
    "\n",
    "1. This function is used to enable/disable Ethernet interfaces on an iLO (Integrated Lights Out) management interface.<br>\n",
    "<br>\n",
    "    \n",
    "2. The function first gets a list of available Ethernet interfaces using the Redfish API, which is a standard RESTful interface for managing servers.<br>\n",
    "    <br>\n",
    "\n",
    "3. The function first gets a list of available Ethernet interfaces using the Redfish API, which is a standard RESTful interface for managing servers.<br>\n",
    "    <br>\n",
    "\n",
    "4. If the PATCH request is successful (HTTP status 200), the function prints a success message and the response body, which contains information about the updated Ethernet interface.<br>\n",
    "    <br>\n",
    "5. Finally, the function reminds the user that they need to reset iLO for the change to take effect.<br>\n",
    "    \n",
    "\n",
    "\n",
    "\n",
    " </div>"
   ]
  },
  {
   "cell_type": "code",
   "execution_count": 1,
   "id": "b99181a4",
   "metadata": {},
   "outputs": [],
   "source": [
    "def set_active_ilo_nic(_redfishobj):\n",
    "\n",
    "    ethernet_data = {}\n",
    "\n",
    "    resource_instances = get_resource_directory(_redfishobj)\n",
    "    if DISABLE_RESOURCE_DIR or not resource_instances:\n",
    "        #if we do not have a resource directory or want to force it's non use to find the\n",
    "        #relevant URI\n",
    "        managers_uri = _redfishobj.root.obj['Managers']['@odata.id']\n",
    "        managers_response = _redfishobj.get(managers_uri)\n",
    "        managers_members_uri = next(iter(managers_response.obj['Members']))['@odata.id']\n",
    "        managers_members_response = _redfishobj.get(managers_members_uri)\n",
    "        manager_ethernet_interfaces = managers_members_response.obj['EthernetInterfaces']\\\n",
    "                                                                                    ['@odata.id']\n",
    "        manager_ethernet_interfaces_response = _redfishobj.get(manager_ethernet_interfaces)\n",
    "        manager_ethernet_interfaces_members = manager_ethernet_interfaces_response.\\\n",
    "                                                            obj['Members']\n",
    "        for _member in manager_ethernet_interfaces_members:\n",
    "            _tmp = _redfishobj.get(_member['@odata.id']).obj\n",
    "            ethernet_data[_member['@odata.id']] = _tmp\n",
    "    else:\n",
    "        #Use Resource directory to find the relevant URI\n",
    "        for instance in resource_instances:\n",
    "            if '#EthernetInterfaceCollection.' in instance['@odata.type'] and 'Managers' in \\\n",
    "                                                                        instance['@odata.id']:\n",
    "                ethernet_uri = instance['@odata.id']\n",
    "                ethernet_interfaces = _redfishobj.get(ethernet_uri).obj['Members']\n",
    "                for _ethernet_interface in ethernet_interfaces:\n",
    "                    ethernet_data[_ethernet_interface['@odata.id']] = _redfishobj.\\\n",
    "                                                        get(_ethernet_interface['@odata.id']).dict\n",
    "                break\n",
    "\n",
    "    if ethernet_data:\n",
    "        print(\"\\n\\nShowing all available ethernet management interfaces before changes:\\n\\n\")\n",
    "        for interface in ethernet_data:\n",
    "            sys.stdout.write(\"Ethernet Management Inteface \\'%s\\'\\n\" % ethernet_data\\\n",
    "                                                                            [interface].get('Id'))\n",
    "            sys.stdout.write(\"\\t\\'Interface Enabled\\': %s\\n\" % ethernet_data[interface].\\\n",
    "                                                                        get('InterfaceEnabled'))\n",
    "\n",
    "    for ethernet in ethernet_data:\n",
    "        sys.stdout.write(\"Ethernet Interface: %s\\n\" % ethernet)\n",
    "        ans = input(\"Would you like to enable/disable this interface? (enable/disable)\\n\")\n",
    "        if \"en\" in ans:\n",
    "            body = {\"InterfaceEnabled\": True}\n",
    "        else:\n",
    "            body = {\"InterfaceEnabled\": False}\n",
    "        resp = _redfishobj.patch(ethernet, body)\n",
    "        if resp.status == 400:\n",
    "            try:\n",
    "                print(json.dumps(resp.obj['error']['@Message.ExtendedInfo'], indent=4, \\\n",
    "                                                                                sort_keys=True))\n",
    "            except Exception as excp:\n",
    "                sys.stderr.write(\"A response error occurred, unable to access iLO Extended \"\\\n",
    "                                 \"Message Info...\")\n",
    "        elif resp.status != 200:\n",
    "            sys.stderr.write(\"An http response of \\'%s\\' was returned.\\n\" % resp.status)\n",
    "        else:\n",
    "            print(\"Success! You will need to reset iLO for this change to take effect.\\n\")\n",
    "            print(json.dumps(resp.dict, indent=4, sort_keys=True))\n",
    "        break\n"
   ]
  },
  {
   "cell_type": "markdown",
   "id": "031a5cbe",
   "metadata": {},
   "source": [
    "<div class=\"alert alert-block alert-success\"><h2 style=\"font-size:40px\">3.</h2>\n",
    "<b>The Main function: </b> PLEASE ENTER YOU LOGIN CREDENTIALS HERE TO PROCEED FURTHER<br>\n",
    "    <ul>\n",
    "        <li>Once your credentials that are enter everything a redfish obejct is created with the help of RedfishClient class and a session is created and now you will be logged in to the server.</li>\n",
    "        <li>If server is down or Unreachable we get server not reachable message!</li>\n",
    "        <li>If not then we make a call to <b>mount_virtual_media_iso</b> to obtain virtual media related info of system.</li>\n",
    "        <li>After getting required information <i><b>Redfish.logout()</b></i> closses the particular session and logs us out of the system.</li>\n",
    "    </ul>\n",
    "</div>"
   ]
  },
  {
   "cell_type": "markdown",
   "id": "c8cd2ffd",
   "metadata": {},
   "source": [
    "<div class = \"alert alert-block alert-warning\"><h2 style=\"font-size:40px\">4.</h2>\n",
    "    <b>When running on the server locally use the following commented values</b><br>\n",
    " SYSTEM_URL = None<br>\n",
    " LOGIN_ACCOUNT = None<br>\n",
    " LOGIN_PASSWORD = None<br>\n",
    "\n",
    "   <b>When running remotely</b> connect using the secured (https://) address,\n",
    "     account name, and password to send https requests\n",
    "    <br>\n",
    "     SYSTEM_URL acceptable examples:<br>\n",
    "     https://10.0.0.100<br>\n",
    "     https://ilo.hostname\n",
    "</div>"
   ]
  },
  {
   "cell_type": "markdown",
   "id": "77edbde3",
   "metadata": {},
   "source": [
    "<div class=\"alert alert-block alert-warning\" style=\"border-radius: 20px;\">\n",
    "    <h5>Instructions</h5>\n",
    "    <ul>\n",
    "        <li>When prompted for <i>ACCOUNT_LOGIN_NAME</i>, enter redfish standard username here  as iLO GUI actually considers this to be 'UserName'</li>\n",
    "        <li>When prompted for <i>ACCOUNT_USER_NAME</i>, enter redfish login here iLO GUI actually considers this to be 'LoginName'</li>\n",
    "        <li>Role_ID: It is a predefined role for the user which can take \"Administrator\" or \"ReadOnly\" or \"Operator\" as input. For more informaion on roles and privilages refere the table in the next cell.</li>\n",
    "        <li>For more clarification on the above points please visit <i><a href=\"https://hewlettpackard.github.io/ilo-rest-api-docs/ilo6/#managing-ilo-6-users\">iLO Users Documentation</a></i></li>\n",
    "    </ul>\n",
    "</div>"
   ]
  },
  {
   "cell_type": "code",
   "execution_count": 2,
   "id": "0b490052",
   "metadata": {},
   "outputs": [
    {
     "ename": "NameError",
     "evalue": "name 'ServerDownOrUnreachableError' is not defined",
     "output_type": "error",
     "traceback": [
      "\u001b[0;31m---------------------------------------------------------------------------\u001b[0m",
      "\u001b[0;31mNameError\u001b[0m                                 Traceback (most recent call last)",
      "Cell \u001b[0;32mIn[2], line 22\u001b[0m\n\u001b[1;32m     20\u001b[0m \u001b[38;5;28;01mtry\u001b[39;00m:\n\u001b[1;32m     21\u001b[0m     \u001b[38;5;66;03m# Create a Redfish client object\u001b[39;00m\n\u001b[0;32m---> 22\u001b[0m     REDFISHOBJ \u001b[38;5;241m=\u001b[39m \u001b[43mRedfishClient\u001b[49m(base_url\u001b[38;5;241m=\u001b[39mSYSTEM_URL, username\u001b[38;5;241m=\u001b[39mLOGIN_ACCOUNT, \\\n\u001b[1;32m     23\u001b[0m                                                                         password\u001b[38;5;241m=\u001b[39mLOGIN_PASSWORD)\n\u001b[1;32m     24\u001b[0m     \u001b[38;5;66;03m# Login with the Redfish client\u001b[39;00m\n",
      "\u001b[0;31mNameError\u001b[0m: name 'RedfishClient' is not defined",
      "\nDuring handling of the above exception, another exception occurred:\n",
      "\u001b[0;31mNameError\u001b[0m                                 Traceback (most recent call last)",
      "Cell \u001b[0;32mIn[2], line 26\u001b[0m\n\u001b[1;32m     24\u001b[0m     \u001b[38;5;66;03m# Login with the Redfish client\u001b[39;00m\n\u001b[1;32m     25\u001b[0m     REDFISHOBJ\u001b[38;5;241m.\u001b[39mlogin()\n\u001b[0;32m---> 26\u001b[0m \u001b[38;5;28;01mexcept\u001b[39;00m \u001b[43mServerDownOrUnreachableError\u001b[49m \u001b[38;5;28;01mas\u001b[39;00m excp:\n\u001b[1;32m     27\u001b[0m     sys\u001b[38;5;241m.\u001b[39mstderr\u001b[38;5;241m.\u001b[39mwrite(\u001b[38;5;124m\"\u001b[39m\u001b[38;5;124mERROR: server not reachable or does not support RedFish.\u001b[39m\u001b[38;5;130;01m\\n\u001b[39;00m\u001b[38;5;124m\"\u001b[39m)\n\u001b[1;32m     28\u001b[0m     sys\u001b[38;5;241m.\u001b[39mexit()\n",
      "\u001b[0;31mNameError\u001b[0m: name 'ServerDownOrUnreachableError' is not defined"
     ]
    }
   ],
   "source": [
    "if __name__ == \"__main__\":\n",
    "    \n",
    "    SYSTEM_URL = \"https://10.0.0.100\"\n",
    "    LOGIN_ACCOUNT = \"admin\"\n",
    "    LOGIN_PASSWORD = \"password\"\n",
    "\n",
    "    # flag to force disable resource directory. Resource directory and associated operations are\n",
    "    # intended for HPE servers.\n",
    "    DISABLE_RESOURCE_DIR = False\n",
    "\n",
    "    try:\n",
    "        # Create a Redfish client object\n",
    "        REDFISHOBJ = RedfishClient(base_url=SYSTEM_URL, username=LOGIN_ACCOUNT, \\password=LOGIN_PASSWORD)\n",
    "        # Login with the Redfish client\n",
    "        REDFISHOBJ.login()\n",
    "    except ServerDownOrUnreachableError as excp:\n",
    "        sys.stderr.write(\"ERROR: server not reachable or does not support RedFish.\\n\")\n",
    "        sys.exit()\n",
    "\n",
    "    set_active_ilo_nic(REDFISHOBJ)\n",
    "    REDFISHOBJ.logout()"
   ]
  },
  {
   "cell_type": "markdown",
   "id": "316c3f0e",
   "metadata": {},
   "source": [
    "<div class = \"alert alert-block alert-success\"><h2 style=\"font-size:40px\">5.</h2>In case you need help 🔗 links to relevant resources :\n",
    "    <ul>\n",
    "        <li><a href=\"https://github.com/HewlettPackard/python-ilorest-library\"target=\"_blank\" class=\"btn btn-primary btn-block\" style=\"max-width: 150px;\">1)Python-ilorest-library</a></li>\n",
    "        <li><a href=\"https://ilorestfulapiexplorer.ext.hpe.com/\" class=\"btn btn-primary btn-block\" style=\"max-width: 150px;\">2)Hpe ilorest-api explorer</a></li>\n",
    "        <li><a href=\"https://restfulapi.net/\" class=\"btn btn-primary btn-block\" style=\"max-width: 150px;\">3)Rest api</a></li>\n",
    "    </ul>\n",
    "</div>\n"
   ]
  },
  {
   "cell_type": "markdown",
   "id": "acc45fbf",
   "metadata": {},
   "source": []
  }
 ],
 "metadata": {
  "kernelspec": {
   "display_name": "Python 3 (ipykernel)",
   "language": "python",
   "name": "python3"
  },
  "language_info": {
   "codemirror_mode": {
    "name": "ipython",
    "version": 3
   },
   "file_extension": ".py",
   "mimetype": "text/x-python",
   "name": "python",
   "nbconvert_exporter": "python",
   "pygments_lexer": "ipython3",
   "version": "3.10.6"
  }
 },
 "nbformat": 4,
 "nbformat_minor": 5
}
